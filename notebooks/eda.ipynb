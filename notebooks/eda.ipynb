{
 "cells": [
  {
   "cell_type": "code",
   "execution_count": 3,
   "metadata": {},
   "outputs": [],
   "source": [
    "import pyforest\n",
    "from sklearn.impute import SimpleImputer\n",
    "from sklearn.preprocessing import OneHotEncoder\n",
    "from sklearn.model_selection import train_test_split\n",
    "from sklearn.linear_model import LinearRegression\n",
    "from sklearn.metrics import mean_absolute_error,mean_squared_error\n",
    "from xgboost import XGBRegressor\n",
    "from lightgbm import LGBMRegressor\n",
    "import flaml\n",
    "from catboost import CatBoostRegressor\n",
    "import mlflow"
   ]
  },
  {
   "cell_type": "code",
   "execution_count": 26,
   "metadata": {},
   "outputs": [
    {
     "data": {
      "application/javascript": [
       "\n",
       "        if (window._pyforest_update_imports_cell) { window._pyforest_update_imports_cell('import pandas as pd\\nimport plotly.express as px\\nimport sklearn'); }\n",
       "    "
      ],
      "text/plain": [
       "<IPython.core.display.Javascript object>"
      ]
     },
     "metadata": {},
     "output_type": "display_data"
    },
    {
     "name": "stdout",
     "output_type": "stream",
     "text": [
      "shape of the dataframe (1460, 81)\n",
      "data frame head\n"
     ]
    },
    {
     "data": {
      "text/html": [
       "<div>\n",
       "<style scoped>\n",
       "    .dataframe tbody tr th:only-of-type {\n",
       "        vertical-align: middle;\n",
       "    }\n",
       "\n",
       "    .dataframe tbody tr th {\n",
       "        vertical-align: top;\n",
       "    }\n",
       "\n",
       "    .dataframe thead th {\n",
       "        text-align: right;\n",
       "    }\n",
       "</style>\n",
       "<table border=\"1\" class=\"dataframe\">\n",
       "  <thead>\n",
       "    <tr style=\"text-align: right;\">\n",
       "      <th></th>\n",
       "      <th>Id</th>\n",
       "      <th>MSSubClass</th>\n",
       "      <th>MSZoning</th>\n",
       "      <th>LotFrontage</th>\n",
       "      <th>LotArea</th>\n",
       "      <th>Street</th>\n",
       "      <th>Alley</th>\n",
       "      <th>LotShape</th>\n",
       "      <th>LandContour</th>\n",
       "      <th>Utilities</th>\n",
       "      <th>...</th>\n",
       "      <th>PoolArea</th>\n",
       "      <th>PoolQC</th>\n",
       "      <th>Fence</th>\n",
       "      <th>MiscFeature</th>\n",
       "      <th>MiscVal</th>\n",
       "      <th>MoSold</th>\n",
       "      <th>YrSold</th>\n",
       "      <th>SaleType</th>\n",
       "      <th>SaleCondition</th>\n",
       "      <th>SalePrice</th>\n",
       "    </tr>\n",
       "  </thead>\n",
       "  <tbody>\n",
       "    <tr>\n",
       "      <th>0</th>\n",
       "      <td>1</td>\n",
       "      <td>60</td>\n",
       "      <td>RL</td>\n",
       "      <td>65.0</td>\n",
       "      <td>8450</td>\n",
       "      <td>Pave</td>\n",
       "      <td>NaN</td>\n",
       "      <td>Reg</td>\n",
       "      <td>Lvl</td>\n",
       "      <td>AllPub</td>\n",
       "      <td>...</td>\n",
       "      <td>0</td>\n",
       "      <td>NaN</td>\n",
       "      <td>NaN</td>\n",
       "      <td>NaN</td>\n",
       "      <td>0</td>\n",
       "      <td>2</td>\n",
       "      <td>2008</td>\n",
       "      <td>WD</td>\n",
       "      <td>Normal</td>\n",
       "      <td>208500</td>\n",
       "    </tr>\n",
       "    <tr>\n",
       "      <th>1</th>\n",
       "      <td>2</td>\n",
       "      <td>20</td>\n",
       "      <td>RL</td>\n",
       "      <td>80.0</td>\n",
       "      <td>9600</td>\n",
       "      <td>Pave</td>\n",
       "      <td>NaN</td>\n",
       "      <td>Reg</td>\n",
       "      <td>Lvl</td>\n",
       "      <td>AllPub</td>\n",
       "      <td>...</td>\n",
       "      <td>0</td>\n",
       "      <td>NaN</td>\n",
       "      <td>NaN</td>\n",
       "      <td>NaN</td>\n",
       "      <td>0</td>\n",
       "      <td>5</td>\n",
       "      <td>2007</td>\n",
       "      <td>WD</td>\n",
       "      <td>Normal</td>\n",
       "      <td>181500</td>\n",
       "    </tr>\n",
       "    <tr>\n",
       "      <th>2</th>\n",
       "      <td>3</td>\n",
       "      <td>60</td>\n",
       "      <td>RL</td>\n",
       "      <td>68.0</td>\n",
       "      <td>11250</td>\n",
       "      <td>Pave</td>\n",
       "      <td>NaN</td>\n",
       "      <td>IR1</td>\n",
       "      <td>Lvl</td>\n",
       "      <td>AllPub</td>\n",
       "      <td>...</td>\n",
       "      <td>0</td>\n",
       "      <td>NaN</td>\n",
       "      <td>NaN</td>\n",
       "      <td>NaN</td>\n",
       "      <td>0</td>\n",
       "      <td>9</td>\n",
       "      <td>2008</td>\n",
       "      <td>WD</td>\n",
       "      <td>Normal</td>\n",
       "      <td>223500</td>\n",
       "    </tr>\n",
       "    <tr>\n",
       "      <th>3</th>\n",
       "      <td>4</td>\n",
       "      <td>70</td>\n",
       "      <td>RL</td>\n",
       "      <td>60.0</td>\n",
       "      <td>9550</td>\n",
       "      <td>Pave</td>\n",
       "      <td>NaN</td>\n",
       "      <td>IR1</td>\n",
       "      <td>Lvl</td>\n",
       "      <td>AllPub</td>\n",
       "      <td>...</td>\n",
       "      <td>0</td>\n",
       "      <td>NaN</td>\n",
       "      <td>NaN</td>\n",
       "      <td>NaN</td>\n",
       "      <td>0</td>\n",
       "      <td>2</td>\n",
       "      <td>2006</td>\n",
       "      <td>WD</td>\n",
       "      <td>Abnorml</td>\n",
       "      <td>140000</td>\n",
       "    </tr>\n",
       "    <tr>\n",
       "      <th>4</th>\n",
       "      <td>5</td>\n",
       "      <td>60</td>\n",
       "      <td>RL</td>\n",
       "      <td>84.0</td>\n",
       "      <td>14260</td>\n",
       "      <td>Pave</td>\n",
       "      <td>NaN</td>\n",
       "      <td>IR1</td>\n",
       "      <td>Lvl</td>\n",
       "      <td>AllPub</td>\n",
       "      <td>...</td>\n",
       "      <td>0</td>\n",
       "      <td>NaN</td>\n",
       "      <td>NaN</td>\n",
       "      <td>NaN</td>\n",
       "      <td>0</td>\n",
       "      <td>12</td>\n",
       "      <td>2008</td>\n",
       "      <td>WD</td>\n",
       "      <td>Normal</td>\n",
       "      <td>250000</td>\n",
       "    </tr>\n",
       "  </tbody>\n",
       "</table>\n",
       "<p>5 rows × 81 columns</p>\n",
       "</div>"
      ],
      "text/plain": [
       "   Id MSSubClass MSZoning  LotFrontage  LotArea Street Alley LotShape  \\\n",
       "0   1         60       RL         65.0     8450   Pave   NaN      Reg   \n",
       "1   2         20       RL         80.0     9600   Pave   NaN      Reg   \n",
       "2   3         60       RL         68.0    11250   Pave   NaN      IR1   \n",
       "3   4         70       RL         60.0     9550   Pave   NaN      IR1   \n",
       "4   5         60       RL         84.0    14260   Pave   NaN      IR1   \n",
       "\n",
       "  LandContour Utilities  ... PoolArea PoolQC Fence MiscFeature MiscVal MoSold  \\\n",
       "0         Lvl    AllPub  ...        0    NaN   NaN         NaN       0      2   \n",
       "1         Lvl    AllPub  ...        0    NaN   NaN         NaN       0      5   \n",
       "2         Lvl    AllPub  ...        0    NaN   NaN         NaN       0      9   \n",
       "3         Lvl    AllPub  ...        0    NaN   NaN         NaN       0      2   \n",
       "4         Lvl    AllPub  ...        0    NaN   NaN         NaN       0     12   \n",
       "\n",
       "  YrSold  SaleType  SaleCondition  SalePrice  \n",
       "0   2008        WD         Normal     208500  \n",
       "1   2007        WD         Normal     181500  \n",
       "2   2008        WD         Normal     223500  \n",
       "3   2006        WD        Abnorml     140000  \n",
       "4   2008        WD         Normal     250000  \n",
       "\n",
       "[5 rows x 81 columns]"
      ]
     },
     "execution_count": 26,
     "metadata": {},
     "output_type": "execute_result"
    }
   ],
   "source": [
    "df  = pd.read_csv('/Users/karanam.rama/Downloads/house_price_pred_repo/datas/raw/house_pred_raw_data.csv')\n",
    "df['MSSubClass'] =df['MSSubClass'].astype('str')\n",
    "# df['price_per_sqft'] = df['SalePrice']/df['LotArea']\n",
    "print('shape of the dataframe',df.shape)\n",
    "print('data frame head')\n",
    "df.head()"
   ]
  },
  {
   "cell_type": "code",
   "execution_count": 27,
   "metadata": {},
   "outputs": [
    {
     "data": {
      "application/javascript": [
       "\n",
       "        if (window._pyforest_update_imports_cell) { window._pyforest_update_imports_cell('import pandas as pd\\nimport plotly.express as px\\nimport sklearn'); }\n",
       "    "
      ],
      "text/plain": [
       "<IPython.core.display.Javascript object>"
      ]
     },
     "metadata": {},
     "output_type": "display_data"
    },
    {
     "data": {
      "application/javascript": [
       "\n",
       "        if (window._pyforest_update_imports_cell) { window._pyforest_update_imports_cell('import pandas as pd\\nimport plotly.express as px\\nimport sklearn'); }\n",
       "    "
      ],
      "text/plain": [
       "<IPython.core.display.Javascript object>"
      ]
     },
     "metadata": {},
     "output_type": "display_data"
    }
   ],
   "source": [
    "df['Fence']=df['Fence'].fillna('NA')\n",
    "df['PoolQC'] = df['PoolQC'].fillna('NA')\n",
    "df['MiscFeature'] = df['MiscFeature'].fillna('NA')\n",
    "df['Alley'] = df['Alley'].fillna('NA')\n",
    "df['Fence'] = df['Fence'].fillna('NA')\n",
    "df['FireplaceQu'] = df['FireplaceQu'].fillna('NA')\n",
    "df['LotFrontage'] = df['LotFrontage'].fillna(0)\n",
    "\n",
    "ndf = pd.DataFrame(df.isnull().mean())\n",
    "ndf.columns = ['null_mean']\n",
    "ndf = ndf[ndf['null_mean']>0]\n",
    "ndf['column_name'] = ndf.index\n",
    "\n",
    "\n",
    "num_list = df[ndf['column_name']].select_dtypes(include=['number']).columns\n",
    "obj_list = df[ndf['column_name']].select_dtypes(exclude=['number']).columns\n",
    "\n",
    "# replacing null of int type columns with their mean values\n",
    "df[num_list] = SimpleImputer(strategy='mean').fit_transform(df[num_list])\n",
    "\n",
    "# replacing null of object type columns with the most frequent category\n",
    "df[obj_list] = SimpleImputer(strategy='most_frequent').fit_transform(df[obj_list])\n",
    "\n",
    "df.set_index(['Id'],inplace = True)\n",
    "\n",
    "x = df.drop('SalePrice',axis = 1)\n",
    "y = df['SalePrice']\n",
    "all_columns = x.columns\n",
    "cat_columns = x.select_dtypes(include=['object']).columns\n",
    "num_columns = x.select_dtypes(exclude=['object']).columns\n",
    "\n",
    "# creating a new data frame with numerical columns only\n",
    "num_x = x[num_columns]\n",
    "\n",
    "# creating a new data frame with categorical columns only\n",
    "ohe = OneHotEncoder()\n",
    "data = ohe.fit_transform(x[cat_columns])\n",
    "cat_x =  pd.DataFrame(data.todense(),columns =ohe.get_feature_names(cat_columns),index = x.index )\n",
    "\n",
    "\n",
    "# joining the both dataframes \n",
    "\n",
    "final_x = num_x.join(cat_x,how='inner')"
   ]
  },
  {
   "cell_type": "code",
   "execution_count": 25,
   "metadata": {},
   "outputs": [
    {
     "data": {
      "application/vnd.jupyter.widget-view+json": {
       "model_id": "8f3948f1ec9a43668a7f1ce63f8b2c13",
       "version_major": 2,
       "version_minor": 0
      },
      "text/plain": [
       "Summarize dataset:   0%|          | 0/94 [00:00<?, ?it/s]"
      ]
     },
     "metadata": {},
     "output_type": "display_data"
    },
    {
     "name": "stderr",
     "output_type": "stream",
     "text": [
      "/Users/karanam.rama/opt/anaconda3/lib/python3.8/site-packages/pandas_profiling/model/correlations.py:146: UserWarning:\n",
      "\n",
      "There was an attempt to calculate the cramers correlation, but this failed.\n",
      "To hide this warning, disable the calculation\n",
      "(using `df.profile_report(correlations={\"cramers\": {\"calculate\": False}})`\n",
      "If this is problematic for your use case, please report this as an issue:\n",
      "https://github.com/pandas-profiling/pandas-profiling/issues\n",
      "(include the error message: 'No data; `observed` has size 0.')\n",
      "\n"
     ]
    },
    {
     "data": {
      "application/vnd.jupyter.widget-view+json": {
       "model_id": "86206c992d1f4ea5b575b0a7faf5390e",
       "version_major": 2,
       "version_minor": 0
      },
      "text/plain": [
       "Generate report structure:   0%|          | 0/1 [00:00<?, ?it/s]"
      ]
     },
     "metadata": {},
     "output_type": "display_data"
    },
    {
     "data": {
      "application/vnd.jupyter.widget-view+json": {
       "model_id": "5bd54aeba53b47c5b8129049d46806f0",
       "version_major": 2,
       "version_minor": 0
      },
      "text/plain": [
       "Render HTML:   0%|          | 0/1 [00:00<?, ?it/s]"
      ]
     },
     "metadata": {},
     "output_type": "display_data"
    },
    {
     "data": {
      "application/vnd.jupyter.widget-view+json": {
       "model_id": "e047bb48f74e4b27becaabc2ac531089",
       "version_major": 2,
       "version_minor": 0
      },
      "text/plain": [
       "Export report to file:   0%|          | 0/1 [00:00<?, ?it/s]"
      ]
     },
     "metadata": {},
     "output_type": "display_data"
    }
   ],
   "source": [
    "# from pandas_profiling import ProfileReport\n",
    "# rep = ProfileReport(df,title = 'house price prediction data profile report')\n",
    "# rep.to_file('house_price_report.html')"
   ]
  },
  {
   "cell_type": "code",
   "execution_count": 28,
   "metadata": {},
   "outputs": [],
   "source": [
    "x_train,x_test,y_train,y_test = train_test_split(final_x,y,random_state=42)"
   ]
  },
  {
   "cell_type": "code",
   "execution_count": 48,
   "metadata": {},
   "outputs": [
    {
     "data": {
      "application/javascript": [
       "\n",
       "        if (window._pyforest_update_imports_cell) { window._pyforest_update_imports_cell('import pandas as pd\\nimport plotly.express as px\\nimport sklearn'); }\n",
       "    "
      ],
      "text/plain": [
       "<IPython.core.display.Javascript object>"
      ]
     },
     "metadata": {},
     "output_type": "display_data"
    },
    {
     "data": {
      "application/javascript": [
       "\n",
       "        if (window._pyforest_update_imports_cell) { window._pyforest_update_imports_cell('import pandas as pd\\nimport plotly.express as px\\nimport sklearn'); }\n",
       "    "
      ],
      "text/plain": [
       "<IPython.core.display.Javascript object>"
      ]
     },
     "metadata": {},
     "output_type": "display_data"
    },
    {
     "name": "stdout",
     "output_type": "stream",
     "text": [
      "rmse  64650.33211389758\n",
      "mse  4179665442.4372573\n",
      "mae  20715.610938675498\n",
      "explained_variance_score 0.40598525324761103\n",
      "r2_score 0.40335745201112594\n"
     ]
    }
   ],
   "source": [
    "lr = LinearRegression()\n",
    "lr.fit(x_train,y_train)\n",
    "y_pred = lr.predict(x_test)\n",
    "rmse = mean_squared_error(y_test,y_pred,squared=False)\n",
    "mse = mean_squared_error(y_test,y_pred,squared=True)\n",
    "mae = mean_absolute_error(y_test,y_pred)\n",
    "explained_variance_score = sklearn.metrics.explained_variance_score(y_test,y_pred)\n",
    "r2_score = sklearn.metrics.r2_score(y_test,y_pred)\n",
    "print('rmse ', rmse)\n",
    "print('mse ', mse)\n",
    "print('mae ', mae)\n",
    "print('explained_variance_score',explained_variance_score)\n",
    "print('r2_score',r2_score)"
   ]
  },
  {
   "cell_type": "code",
   "execution_count": 33,
   "metadata": {},
   "outputs": [
    {
     "data": {
      "application/javascript": [
       "\n",
       "        if (window._pyforest_update_imports_cell) { window._pyforest_update_imports_cell('import pandas as pd\\nimport plotly.express as px\\nimport sklearn'); }\n",
       "    "
      ],
      "text/plain": [
       "<IPython.core.display.Javascript object>"
      ]
     },
     "metadata": {},
     "output_type": "display_data"
    },
    {
     "data": {
      "application/javascript": [
       "\n",
       "        if (window._pyforest_update_imports_cell) { window._pyforest_update_imports_cell('import pandas as pd\\nimport plotly.express as px\\nimport sklearn'); }\n",
       "    "
      ],
      "text/plain": [
       "<IPython.core.display.Javascript object>"
      ]
     },
     "metadata": {},
     "output_type": "display_data"
    },
    {
     "name": "stdout",
     "output_type": "stream",
     "text": [
      "rmse  28749.9264034368\n",
      "mse  826558268.2030324\n",
      "mae  17307.70959974315\n",
      "explained_variance_score 0.8826173703717831\n",
      "r2 0.8820097354695557\n"
     ]
    }
   ],
   "source": [
    "xgbr = XGBRegressor()\n",
    "xgbr.fit(x_train,y_train)\n",
    "y_pred = xgbr.predict(x_test)\n",
    "rmse = mean_squared_error(y_test,y_pred,squared=False)\n",
    "mse = mean_squared_error(y_test,y_pred,squared=True)\n",
    "mae = mean_absolute_error(y_test,y_pred)\n",
    "explained_variance_score = sklearn.metrics.explained_variance_score(y_test,y_pred)\n",
    "r2 = sklearn.metrics.r2_score(y_test,y_pred)\n",
    "print('rmse ', rmse)\n",
    "print('mse ', mse)\n",
    "print('mae ', mae)\n",
    "print('explained_variance_score',explained_variance_score)\n",
    "print('r2',r2)"
   ]
  },
  {
   "cell_type": "code",
   "execution_count": 34,
   "metadata": {},
   "outputs": [
    {
     "data": {
      "application/javascript": [
       "\n",
       "        if (window._pyforest_update_imports_cell) { window._pyforest_update_imports_cell('import pandas as pd\\nimport plotly.express as px\\nimport sklearn'); }\n",
       "    "
      ],
      "text/plain": [
       "<IPython.core.display.Javascript object>"
      ]
     },
     "metadata": {},
     "output_type": "display_data"
    },
    {
     "data": {
      "application/javascript": [
       "\n",
       "        if (window._pyforest_update_imports_cell) { window._pyforest_update_imports_cell('import pandas as pd\\nimport plotly.express as px\\nimport sklearn'); }\n",
       "    "
      ],
      "text/plain": [
       "<IPython.core.display.Javascript object>"
      ]
     },
     "metadata": {},
     "output_type": "display_data"
    },
    {
     "name": "stdout",
     "output_type": "stream",
     "text": [
      "rmse  27186.065196255946\n",
      "mse  739082140.8550789\n",
      "mae  16585.49614741556\n",
      "explained_variance_score 0.8947592556636934\n",
      "r2 0.8944968544095463\n"
     ]
    }
   ],
   "source": [
    "lgbmr = LGBMRegressor()\n",
    "lgbmr.fit(x_train,y_train)\n",
    "y_pred = lgbmr.predict(x_test)\n",
    "rmse = mean_squared_error(y_test,y_pred,squared=False)\n",
    "mse = mean_squared_error(y_test,y_pred,squared=True)\n",
    "mae = mean_absolute_error(y_test,y_pred)\n",
    "explained_variance_score = sklearn.metrics.explained_variance_score(y_test,y_pred)\n",
    "r2 = sklearn.metrics.r2_score(y_test,y_pred)\n",
    "print('rmse ', rmse)\n",
    "print('mse ', mse)\n",
    "print('mae ', mae)\n",
    "print('explained_variance_score',explained_variance_score)\n",
    "print('r2',r2)"
   ]
  },
  {
   "cell_type": "code",
   "execution_count": 35,
   "metadata": {},
   "outputs": [
    {
     "name": "stdout",
     "output_type": "stream",
     "text": [
      "Learning rate set to 0.039666\n",
      "0:\tlearn: 75982.9358961\ttotal: 3.89ms\tremaining: 3.89s\n",
      "1:\tlearn: 74131.3019023\ttotal: 7.28ms\tremaining: 3.63s\n",
      "2:\tlearn: 72313.4477312\ttotal: 10.9ms\tremaining: 3.63s\n",
      "3:\tlearn: 70678.8894654\ttotal: 14ms\tremaining: 3.47s\n",
      "4:\tlearn: 69036.1173217\ttotal: 17.2ms\tremaining: 3.41s\n",
      "5:\tlearn: 67465.1978709\ttotal: 20.5ms\tremaining: 3.4s\n",
      "6:\tlearn: 65871.2024988\ttotal: 23.3ms\tremaining: 3.31s\n",
      "7:\tlearn: 64387.6124979\ttotal: 26.3ms\tremaining: 3.26s\n",
      "8:\tlearn: 62891.3902830\ttotal: 29.7ms\tremaining: 3.27s\n",
      "9:\tlearn: 61643.3476881\ttotal: 32.4ms\tremaining: 3.21s\n",
      "10:\tlearn: 60256.3256465\ttotal: 35.4ms\tremaining: 3.18s\n",
      "11:\tlearn: 58935.1359883\ttotal: 38.2ms\tremaining: 3.14s\n",
      "12:\tlearn: 57656.5061213\ttotal: 40.9ms\tremaining: 3.1s\n",
      "13:\tlearn: 56526.6004755\ttotal: 43.5ms\tremaining: 3.06s\n",
      "14:\tlearn: 55468.4195893\ttotal: 46ms\tremaining: 3.02s\n",
      "15:\tlearn: 54490.9916602\ttotal: 48.8ms\tremaining: 3s\n",
      "16:\tlearn: 53450.7464291\ttotal: 51.4ms\tremaining: 2.97s\n",
      "17:\tlearn: 52480.6338954\ttotal: 54.1ms\tremaining: 2.95s\n",
      "18:\tlearn: 51564.9519278\ttotal: 56.6ms\tremaining: 2.92s\n",
      "19:\tlearn: 50581.8935046\ttotal: 59.4ms\tremaining: 2.91s\n",
      "20:\tlearn: 49633.7488745\ttotal: 62.3ms\tremaining: 2.9s\n",
      "21:\tlearn: 48664.2214515\ttotal: 65.2ms\tremaining: 2.9s\n",
      "22:\tlearn: 47788.5449747\ttotal: 67.9ms\tremaining: 2.88s\n",
      "23:\tlearn: 46965.1488213\ttotal: 70.4ms\tremaining: 2.86s\n",
      "24:\tlearn: 46176.6860804\ttotal: 73.2ms\tremaining: 2.86s\n",
      "25:\tlearn: 45362.4123652\ttotal: 75.9ms\tremaining: 2.84s\n",
      "26:\tlearn: 44618.1516323\ttotal: 78.8ms\tremaining: 2.84s\n",
      "27:\tlearn: 43929.3772151\ttotal: 81.6ms\tremaining: 2.83s\n",
      "28:\tlearn: 43149.3536524\ttotal: 84.6ms\tremaining: 2.83s\n",
      "29:\tlearn: 42437.1503314\ttotal: 87.4ms\tremaining: 2.83s\n",
      "30:\tlearn: 41766.9757126\ttotal: 90ms\tremaining: 2.81s\n",
      "31:\tlearn: 41154.9690272\ttotal: 92.8ms\tremaining: 2.81s\n",
      "32:\tlearn: 40537.4345728\ttotal: 95.6ms\tremaining: 2.8s\n",
      "33:\tlearn: 39916.8291129\ttotal: 98.4ms\tremaining: 2.79s\n",
      "34:\tlearn: 39310.9666234\ttotal: 101ms\tremaining: 2.78s\n",
      "35:\tlearn: 38701.8259914\ttotal: 104ms\tremaining: 2.77s\n",
      "36:\tlearn: 38090.5795238\ttotal: 106ms\tremaining: 2.77s\n",
      "37:\tlearn: 37585.4822623\ttotal: 109ms\tremaining: 2.77s\n",
      "38:\tlearn: 37007.2468914\ttotal: 112ms\tremaining: 2.76s\n",
      "39:\tlearn: 36522.9498030\ttotal: 115ms\tremaining: 2.76s\n",
      "40:\tlearn: 36088.7396960\ttotal: 118ms\tremaining: 2.75s\n",
      "41:\tlearn: 35640.9351264\ttotal: 120ms\tremaining: 2.74s\n",
      "42:\tlearn: 35208.3418222\ttotal: 123ms\tremaining: 2.74s\n",
      "43:\tlearn: 34792.7853667\ttotal: 126ms\tremaining: 2.73s\n",
      "44:\tlearn: 34314.1772965\ttotal: 128ms\tremaining: 2.72s\n",
      "45:\tlearn: 33865.4460501\ttotal: 131ms\tremaining: 2.72s\n",
      "46:\tlearn: 33427.4299218\ttotal: 134ms\tremaining: 2.71s\n",
      "47:\tlearn: 33052.2045207\ttotal: 136ms\tremaining: 2.71s\n",
      "48:\tlearn: 32603.8615544\ttotal: 139ms\tremaining: 2.7s\n",
      "49:\tlearn: 32266.8227715\ttotal: 142ms\tremaining: 2.7s\n",
      "50:\tlearn: 31912.4492513\ttotal: 145ms\tremaining: 2.7s\n",
      "51:\tlearn: 31623.9894487\ttotal: 148ms\tremaining: 2.69s\n",
      "52:\tlearn: 31314.1258856\ttotal: 150ms\tremaining: 2.68s\n",
      "53:\tlearn: 30971.3833550\ttotal: 153ms\tremaining: 2.68s\n",
      "54:\tlearn: 30623.9973985\ttotal: 155ms\tremaining: 2.67s\n",
      "55:\tlearn: 30341.2742588\ttotal: 158ms\tremaining: 2.66s\n",
      "56:\tlearn: 30083.1776621\ttotal: 161ms\tremaining: 2.66s\n",
      "57:\tlearn: 29816.2340549\ttotal: 163ms\tremaining: 2.65s\n",
      "58:\tlearn: 29497.1653476\ttotal: 166ms\tremaining: 2.65s\n",
      "59:\tlearn: 29237.5784157\ttotal: 169ms\tremaining: 2.64s\n",
      "60:\tlearn: 28964.1098118\ttotal: 171ms\tremaining: 2.64s\n",
      "61:\tlearn: 28724.1165515\ttotal: 174ms\tremaining: 2.64s\n",
      "62:\tlearn: 28502.8400284\ttotal: 177ms\tremaining: 2.63s\n",
      "63:\tlearn: 28273.1629590\ttotal: 180ms\tremaining: 2.63s\n",
      "64:\tlearn: 28064.6794265\ttotal: 182ms\tremaining: 2.62s\n",
      "65:\tlearn: 27878.9781714\ttotal: 185ms\tremaining: 2.62s\n",
      "66:\tlearn: 27659.5399965\ttotal: 188ms\tremaining: 2.62s\n",
      "67:\tlearn: 27432.8913151\ttotal: 191ms\tremaining: 2.62s\n",
      "68:\tlearn: 27229.8394997\ttotal: 194ms\tremaining: 2.61s\n",
      "69:\tlearn: 27062.3553706\ttotal: 197ms\tremaining: 2.61s\n",
      "70:\tlearn: 26917.2668830\ttotal: 199ms\tremaining: 2.6s\n",
      "71:\tlearn: 26747.6826323\ttotal: 202ms\tremaining: 2.6s\n",
      "72:\tlearn: 26578.6741967\ttotal: 204ms\tremaining: 2.6s\n",
      "73:\tlearn: 26428.1913888\ttotal: 207ms\tremaining: 2.59s\n",
      "74:\tlearn: 26251.2520492\ttotal: 210ms\tremaining: 2.59s\n",
      "75:\tlearn: 26076.8836176\ttotal: 213ms\tremaining: 2.59s\n",
      "76:\tlearn: 25902.7414490\ttotal: 216ms\tremaining: 2.59s\n",
      "77:\tlearn: 25732.6286034\ttotal: 219ms\tremaining: 2.59s\n",
      "78:\tlearn: 25562.5488697\ttotal: 223ms\tremaining: 2.59s\n",
      "79:\tlearn: 25408.2571913\ttotal: 225ms\tremaining: 2.59s\n",
      "80:\tlearn: 25250.5591789\ttotal: 228ms\tremaining: 2.59s\n",
      "81:\tlearn: 25081.1911015\ttotal: 231ms\tremaining: 2.59s\n",
      "82:\tlearn: 24917.6683367\ttotal: 234ms\tremaining: 2.59s\n",
      "83:\tlearn: 24776.3841829\ttotal: 237ms\tremaining: 2.59s\n",
      "84:\tlearn: 24665.3473703\ttotal: 240ms\tremaining: 2.58s\n",
      "85:\tlearn: 24537.6863469\ttotal: 243ms\tremaining: 2.58s\n",
      "86:\tlearn: 24436.7642514\ttotal: 246ms\tremaining: 2.58s\n",
      "87:\tlearn: 24286.6324447\ttotal: 248ms\tremaining: 2.57s\n",
      "88:\tlearn: 24159.7294806\ttotal: 251ms\tremaining: 2.57s\n",
      "89:\tlearn: 24023.9812278\ttotal: 254ms\tremaining: 2.57s\n",
      "90:\tlearn: 23901.9899715\ttotal: 257ms\tremaining: 2.56s\n",
      "91:\tlearn: 23779.6141405\ttotal: 259ms\tremaining: 2.56s\n",
      "92:\tlearn: 23653.3835200\ttotal: 262ms\tremaining: 2.56s\n",
      "93:\tlearn: 23512.8667759\ttotal: 265ms\tremaining: 2.55s\n",
      "94:\tlearn: 23375.0713665\ttotal: 268ms\tremaining: 2.55s\n",
      "95:\tlearn: 23223.3785155\ttotal: 271ms\tremaining: 2.55s\n",
      "96:\tlearn: 23090.4757798\ttotal: 274ms\tremaining: 2.55s\n",
      "97:\tlearn: 22990.9255818\ttotal: 277ms\tremaining: 2.54s\n",
      "98:\tlearn: 22879.5325277\ttotal: 279ms\tremaining: 2.54s\n",
      "99:\tlearn: 22774.9315012\ttotal: 282ms\tremaining: 2.54s\n",
      "100:\tlearn: 22683.4065607\ttotal: 285ms\tremaining: 2.53s\n",
      "101:\tlearn: 22601.9965143\ttotal: 287ms\tremaining: 2.53s\n",
      "102:\tlearn: 22523.1427271\ttotal: 290ms\tremaining: 2.53s\n",
      "103:\tlearn: 22439.4058222\ttotal: 293ms\tremaining: 2.52s\n",
      "104:\tlearn: 22306.0325038\ttotal: 295ms\tremaining: 2.52s\n",
      "105:\tlearn: 22233.2403187\ttotal: 298ms\tremaining: 2.51s\n",
      "106:\tlearn: 22204.9312560\ttotal: 300ms\tremaining: 2.51s\n",
      "107:\tlearn: 22121.7183072\ttotal: 303ms\tremaining: 2.5s\n",
      "108:\tlearn: 22007.3064780\ttotal: 306ms\tremaining: 2.5s\n",
      "109:\tlearn: 21918.7209263\ttotal: 309ms\tremaining: 2.5s\n",
      "110:\tlearn: 21851.9663896\ttotal: 311ms\tremaining: 2.49s\n",
      "111:\tlearn: 21788.6094615\ttotal: 314ms\tremaining: 2.49s\n",
      "112:\tlearn: 21708.9700646\ttotal: 317ms\tremaining: 2.49s\n",
      "113:\tlearn: 21637.2064131\ttotal: 320ms\tremaining: 2.48s\n",
      "114:\tlearn: 21523.0372067\ttotal: 322ms\tremaining: 2.48s\n",
      "115:\tlearn: 21452.5939215\ttotal: 325ms\tremaining: 2.48s\n",
      "116:\tlearn: 21348.3851619\ttotal: 328ms\tremaining: 2.47s\n",
      "117:\tlearn: 21272.5199901\ttotal: 330ms\tremaining: 2.47s\n",
      "118:\tlearn: 21215.8068646\ttotal: 333ms\tremaining: 2.46s\n",
      "119:\tlearn: 21128.9385864\ttotal: 335ms\tremaining: 2.46s\n",
      "120:\tlearn: 21061.7703857\ttotal: 338ms\tremaining: 2.46s\n",
      "121:\tlearn: 21017.7896533\ttotal: 340ms\tremaining: 2.45s\n",
      "122:\tlearn: 20965.9144986\ttotal: 343ms\tremaining: 2.45s\n",
      "123:\tlearn: 20891.9873323\ttotal: 346ms\tremaining: 2.44s\n",
      "124:\tlearn: 20847.5907007\ttotal: 348ms\tremaining: 2.44s\n",
      "125:\tlearn: 20787.0719108\ttotal: 351ms\tremaining: 2.43s\n",
      "126:\tlearn: 20723.3215174\ttotal: 353ms\tremaining: 2.43s\n",
      "127:\tlearn: 20656.8256957\ttotal: 356ms\tremaining: 2.42s\n",
      "128:\tlearn: 20602.3597854\ttotal: 358ms\tremaining: 2.42s\n",
      "129:\tlearn: 20550.3367099\ttotal: 361ms\tremaining: 2.42s\n",
      "130:\tlearn: 20484.4460659\ttotal: 363ms\tremaining: 2.41s\n",
      "131:\tlearn: 20428.6425215\ttotal: 366ms\tremaining: 2.41s\n",
      "132:\tlearn: 20334.9332225\ttotal: 369ms\tremaining: 2.4s\n",
      "133:\tlearn: 20271.2184067\ttotal: 371ms\tremaining: 2.4s\n",
      "134:\tlearn: 20224.5532470\ttotal: 374ms\tremaining: 2.39s\n",
      "135:\tlearn: 20183.1238869\ttotal: 376ms\tremaining: 2.39s\n",
      "136:\tlearn: 20132.7757131\ttotal: 379ms\tremaining: 2.39s\n",
      "137:\tlearn: 20057.9422709\ttotal: 382ms\tremaining: 2.38s\n",
      "138:\tlearn: 20012.2528057\ttotal: 384ms\tremaining: 2.38s\n",
      "139:\tlearn: 19958.4659125\ttotal: 387ms\tremaining: 2.38s\n",
      "140:\tlearn: 19875.5815611\ttotal: 389ms\tremaining: 2.37s\n",
      "141:\tlearn: 19850.7553448\ttotal: 392ms\tremaining: 2.37s\n",
      "142:\tlearn: 19785.1910572\ttotal: 395ms\tremaining: 2.37s\n",
      "143:\tlearn: 19738.4554397\ttotal: 398ms\tremaining: 2.36s\n",
      "144:\tlearn: 19693.4511623\ttotal: 400ms\tremaining: 2.36s\n",
      "145:\tlearn: 19639.4427931\ttotal: 403ms\tremaining: 2.36s\n",
      "146:\tlearn: 19552.7980299\ttotal: 407ms\tremaining: 2.36s\n",
      "147:\tlearn: 19528.6143189\ttotal: 411ms\tremaining: 2.36s\n",
      "148:\tlearn: 19475.4798067\ttotal: 414ms\tremaining: 2.36s\n",
      "149:\tlearn: 19422.0961978\ttotal: 416ms\tremaining: 2.36s\n",
      "150:\tlearn: 19404.8016772\ttotal: 419ms\tremaining: 2.36s\n",
      "151:\tlearn: 19384.0063511\ttotal: 422ms\tremaining: 2.35s\n",
      "152:\tlearn: 19345.5607913\ttotal: 425ms\tremaining: 2.35s\n",
      "153:\tlearn: 19277.6482144\ttotal: 428ms\tremaining: 2.35s\n",
      "154:\tlearn: 19266.5575695\ttotal: 431ms\tremaining: 2.35s\n",
      "155:\tlearn: 19239.2965069\ttotal: 433ms\tremaining: 2.35s\n",
      "156:\tlearn: 19163.3614712\ttotal: 436ms\tremaining: 2.34s\n",
      "157:\tlearn: 19140.8294631\ttotal: 439ms\tremaining: 2.34s\n",
      "158:\tlearn: 19081.9337199\ttotal: 442ms\tremaining: 2.34s\n",
      "159:\tlearn: 19008.5786788\ttotal: 445ms\tremaining: 2.33s\n",
      "160:\tlearn: 18936.3970140\ttotal: 447ms\tremaining: 2.33s\n",
      "161:\tlearn: 18873.3200059\ttotal: 450ms\tremaining: 2.33s\n",
      "162:\tlearn: 18832.5877334\ttotal: 453ms\tremaining: 2.33s\n",
      "163:\tlearn: 18788.7312884\ttotal: 456ms\tremaining: 2.32s\n",
      "164:\tlearn: 18740.7922555\ttotal: 459ms\tremaining: 2.32s\n",
      "165:\tlearn: 18690.3545839\ttotal: 462ms\tremaining: 2.32s\n",
      "166:\tlearn: 18680.4349683\ttotal: 463ms\tremaining: 2.31s\n",
      "167:\tlearn: 18646.9693404\ttotal: 466ms\tremaining: 2.31s\n",
      "168:\tlearn: 18584.8072854\ttotal: 470ms\tremaining: 2.31s\n",
      "169:\tlearn: 18539.2016109\ttotal: 473ms\tremaining: 2.31s\n",
      "170:\tlearn: 18491.0575308\ttotal: 477ms\tremaining: 2.31s\n",
      "171:\tlearn: 18434.6981683\ttotal: 481ms\tremaining: 2.31s\n",
      "172:\tlearn: 18405.4909411\ttotal: 485ms\tremaining: 2.32s\n",
      "173:\tlearn: 18388.3140746\ttotal: 488ms\tremaining: 2.32s\n",
      "174:\tlearn: 18371.5163132\ttotal: 491ms\tremaining: 2.31s\n",
      "175:\tlearn: 18350.7491248\ttotal: 495ms\tremaining: 2.32s\n",
      "176:\tlearn: 18328.3749012\ttotal: 499ms\tremaining: 2.32s\n",
      "177:\tlearn: 18276.2245935\ttotal: 502ms\tremaining: 2.32s\n",
      "178:\tlearn: 18212.2983647\ttotal: 504ms\tremaining: 2.31s\n",
      "179:\tlearn: 18197.9633576\ttotal: 507ms\tremaining: 2.31s\n",
      "180:\tlearn: 18151.2366192\ttotal: 509ms\tremaining: 2.31s\n",
      "181:\tlearn: 18086.5765893\ttotal: 512ms\tremaining: 2.3s\n",
      "182:\tlearn: 18024.7561902\ttotal: 515ms\tremaining: 2.3s\n",
      "183:\tlearn: 17966.4905426\ttotal: 518ms\tremaining: 2.3s\n",
      "184:\tlearn: 17959.3139275\ttotal: 521ms\tremaining: 2.3s\n",
      "185:\tlearn: 17913.8078530\ttotal: 524ms\tremaining: 2.29s\n",
      "186:\tlearn: 17876.6608510\ttotal: 528ms\tremaining: 2.29s\n",
      "187:\tlearn: 17830.0467943\ttotal: 532ms\tremaining: 2.3s\n",
      "188:\tlearn: 17800.6787111\ttotal: 536ms\tremaining: 2.3s\n",
      "189:\tlearn: 17754.4923114\ttotal: 539ms\tremaining: 2.3s\n",
      "190:\tlearn: 17712.9825973\ttotal: 543ms\tremaining: 2.3s\n",
      "191:\tlearn: 17664.6735054\ttotal: 547ms\tremaining: 2.3s\n",
      "192:\tlearn: 17645.9774691\ttotal: 550ms\tremaining: 2.3s\n",
      "193:\tlearn: 17582.0762926\ttotal: 553ms\tremaining: 2.3s\n",
      "194:\tlearn: 17562.1726400\ttotal: 557ms\tremaining: 2.3s\n",
      "195:\tlearn: 17542.0221200\ttotal: 560ms\tremaining: 2.29s\n",
      "196:\tlearn: 17529.0623737\ttotal: 562ms\tremaining: 2.29s\n",
      "197:\tlearn: 17484.4681455\ttotal: 565ms\tremaining: 2.29s\n"
     ]
    },
    {
     "name": "stdout",
     "output_type": "stream",
     "text": [
      "198:\tlearn: 17436.4600731\ttotal: 568ms\tremaining: 2.29s\n",
      "199:\tlearn: 17421.0500870\ttotal: 571ms\tremaining: 2.28s\n",
      "200:\tlearn: 17388.4499425\ttotal: 573ms\tremaining: 2.28s\n",
      "201:\tlearn: 17365.9756513\ttotal: 576ms\tremaining: 2.28s\n",
      "202:\tlearn: 17323.0698156\ttotal: 579ms\tremaining: 2.27s\n",
      "203:\tlearn: 17278.8507392\ttotal: 582ms\tremaining: 2.27s\n",
      "204:\tlearn: 17214.7039195\ttotal: 584ms\tremaining: 2.27s\n",
      "205:\tlearn: 17168.2898504\ttotal: 588ms\tremaining: 2.26s\n",
      "206:\tlearn: 17135.9952703\ttotal: 591ms\tremaining: 2.27s\n",
      "207:\tlearn: 17095.1280907\ttotal: 594ms\tremaining: 2.26s\n",
      "208:\tlearn: 17043.3958104\ttotal: 597ms\tremaining: 2.26s\n",
      "209:\tlearn: 17020.4757918\ttotal: 599ms\tremaining: 2.25s\n",
      "210:\tlearn: 16974.0416944\ttotal: 602ms\tremaining: 2.25s\n",
      "211:\tlearn: 16942.2981024\ttotal: 604ms\tremaining: 2.25s\n",
      "212:\tlearn: 16924.0175830\ttotal: 607ms\tremaining: 2.24s\n",
      "213:\tlearn: 16897.5587232\ttotal: 611ms\tremaining: 2.24s\n",
      "214:\tlearn: 16881.1418957\ttotal: 613ms\tremaining: 2.24s\n",
      "215:\tlearn: 16841.6854889\ttotal: 616ms\tremaining: 2.23s\n",
      "216:\tlearn: 16827.7208884\ttotal: 618ms\tremaining: 2.23s\n",
      "217:\tlearn: 16776.8804825\ttotal: 621ms\tremaining: 2.23s\n",
      "218:\tlearn: 16726.8927463\ttotal: 624ms\tremaining: 2.22s\n",
      "219:\tlearn: 16692.0420411\ttotal: 626ms\tremaining: 2.22s\n",
      "220:\tlearn: 16651.3330552\ttotal: 629ms\tremaining: 2.21s\n",
      "221:\tlearn: 16596.1485981\ttotal: 631ms\tremaining: 2.21s\n",
      "222:\tlearn: 16583.7263052\ttotal: 634ms\tremaining: 2.21s\n",
      "223:\tlearn: 16542.8857150\ttotal: 636ms\tremaining: 2.2s\n",
      "224:\tlearn: 16510.6786181\ttotal: 639ms\tremaining: 2.2s\n",
      "225:\tlearn: 16461.4325662\ttotal: 642ms\tremaining: 2.2s\n",
      "226:\tlearn: 16426.6958550\ttotal: 645ms\tremaining: 2.19s\n",
      "227:\tlearn: 16375.6847895\ttotal: 647ms\tremaining: 2.19s\n",
      "228:\tlearn: 16338.7541896\ttotal: 650ms\tremaining: 2.19s\n",
      "229:\tlearn: 16327.2872629\ttotal: 652ms\tremaining: 2.18s\n",
      "230:\tlearn: 16286.8174332\ttotal: 655ms\tremaining: 2.18s\n",
      "231:\tlearn: 16261.8650730\ttotal: 657ms\tremaining: 2.18s\n",
      "232:\tlearn: 16226.0295697\ttotal: 660ms\tremaining: 2.17s\n",
      "233:\tlearn: 16215.5596085\ttotal: 662ms\tremaining: 2.17s\n",
      "234:\tlearn: 16201.0788847\ttotal: 664ms\tremaining: 2.16s\n",
      "235:\tlearn: 16191.1798295\ttotal: 665ms\tremaining: 2.15s\n",
      "236:\tlearn: 16158.0633659\ttotal: 668ms\tremaining: 2.15s\n",
      "237:\tlearn: 16148.7321796\ttotal: 670ms\tremaining: 2.14s\n",
      "238:\tlearn: 16128.9010747\ttotal: 672ms\tremaining: 2.14s\n",
      "239:\tlearn: 16086.2917136\ttotal: 675ms\tremaining: 2.14s\n",
      "240:\tlearn: 16053.8016488\ttotal: 677ms\tremaining: 2.13s\n",
      "241:\tlearn: 16016.2394569\ttotal: 680ms\tremaining: 2.13s\n",
      "242:\tlearn: 15977.7474708\ttotal: 683ms\tremaining: 2.13s\n",
      "243:\tlearn: 15932.3405487\ttotal: 685ms\tremaining: 2.12s\n",
      "244:\tlearn: 15922.7245748\ttotal: 687ms\tremaining: 2.12s\n",
      "245:\tlearn: 15868.6512272\ttotal: 690ms\tremaining: 2.11s\n",
      "246:\tlearn: 15831.6029001\ttotal: 692ms\tremaining: 2.11s\n",
      "247:\tlearn: 15794.0606505\ttotal: 695ms\tremaining: 2.11s\n",
      "248:\tlearn: 15785.0920880\ttotal: 697ms\tremaining: 2.1s\n",
      "249:\tlearn: 15750.2329116\ttotal: 699ms\tremaining: 2.1s\n",
      "250:\tlearn: 15724.6863431\ttotal: 702ms\tremaining: 2.09s\n",
      "251:\tlearn: 15698.2583494\ttotal: 704ms\tremaining: 2.09s\n",
      "252:\tlearn: 15668.0991097\ttotal: 707ms\tremaining: 2.09s\n",
      "253:\tlearn: 15634.3875151\ttotal: 710ms\tremaining: 2.08s\n",
      "254:\tlearn: 15597.4613576\ttotal: 712ms\tremaining: 2.08s\n",
      "255:\tlearn: 15588.0862629\ttotal: 715ms\tremaining: 2.08s\n",
      "256:\tlearn: 15547.0431942\ttotal: 718ms\tremaining: 2.07s\n",
      "257:\tlearn: 15525.7202953\ttotal: 720ms\tremaining: 2.07s\n",
      "258:\tlearn: 15505.0571132\ttotal: 723ms\tremaining: 2.07s\n",
      "259:\tlearn: 15495.9186531\ttotal: 725ms\tremaining: 2.06s\n",
      "260:\tlearn: 15475.3585174\ttotal: 728ms\tremaining: 2.06s\n",
      "261:\tlearn: 15466.2243486\ttotal: 730ms\tremaining: 2.06s\n",
      "262:\tlearn: 15457.9922586\ttotal: 733ms\tremaining: 2.05s\n",
      "263:\tlearn: 15435.2123152\ttotal: 736ms\tremaining: 2.05s\n",
      "264:\tlearn: 15409.9321344\ttotal: 738ms\tremaining: 2.05s\n",
      "265:\tlearn: 15368.1743185\ttotal: 741ms\tremaining: 2.04s\n",
      "266:\tlearn: 15335.6849215\ttotal: 743ms\tremaining: 2.04s\n",
      "267:\tlearn: 15318.8887813\ttotal: 746ms\tremaining: 2.04s\n",
      "268:\tlearn: 15273.8077562\ttotal: 748ms\tremaining: 2.03s\n",
      "269:\tlearn: 15245.1854801\ttotal: 751ms\tremaining: 2.03s\n",
      "270:\tlearn: 15220.3732756\ttotal: 753ms\tremaining: 2.03s\n",
      "271:\tlearn: 15199.5478386\ttotal: 756ms\tremaining: 2.02s\n",
      "272:\tlearn: 15192.0962999\ttotal: 759ms\tremaining: 2.02s\n",
      "273:\tlearn: 15165.1770778\ttotal: 761ms\tremaining: 2.02s\n",
      "274:\tlearn: 15157.9585979\ttotal: 765ms\tremaining: 2.02s\n",
      "275:\tlearn: 15126.2895068\ttotal: 768ms\tremaining: 2.01s\n",
      "276:\tlearn: 15082.1427471\ttotal: 770ms\tremaining: 2.01s\n",
      "277:\tlearn: 15052.7357379\ttotal: 773ms\tremaining: 2.01s\n",
      "278:\tlearn: 15010.1552035\ttotal: 776ms\tremaining: 2s\n",
      "279:\tlearn: 14966.4404936\ttotal: 779ms\tremaining: 2s\n",
      "280:\tlearn: 14950.9786369\ttotal: 782ms\tremaining: 2s\n",
      "281:\tlearn: 14913.3814639\ttotal: 784ms\tremaining: 2s\n",
      "282:\tlearn: 14907.1701177\ttotal: 787ms\tremaining: 1.99s\n",
      "283:\tlearn: 14869.1272236\ttotal: 790ms\tremaining: 1.99s\n",
      "284:\tlearn: 14855.1516538\ttotal: 792ms\tremaining: 1.99s\n",
      "285:\tlearn: 14819.6194265\ttotal: 795ms\tremaining: 1.99s\n",
      "286:\tlearn: 14783.7040399\ttotal: 798ms\tremaining: 1.98s\n",
      "287:\tlearn: 14752.4476949\ttotal: 800ms\tremaining: 1.98s\n",
      "288:\tlearn: 14714.7401768\ttotal: 803ms\tremaining: 1.97s\n",
      "289:\tlearn: 14680.4532713\ttotal: 805ms\tremaining: 1.97s\n",
      "290:\tlearn: 14657.6903755\ttotal: 808ms\tremaining: 1.97s\n",
      "291:\tlearn: 14631.2965674\ttotal: 810ms\tremaining: 1.97s\n",
      "292:\tlearn: 14610.0929991\ttotal: 813ms\tremaining: 1.96s\n",
      "293:\tlearn: 14571.3673754\ttotal: 816ms\tremaining: 1.96s\n",
      "294:\tlearn: 14543.3099811\ttotal: 818ms\tremaining: 1.96s\n",
      "295:\tlearn: 14514.7716624\ttotal: 821ms\tremaining: 1.95s\n",
      "296:\tlearn: 14487.6026477\ttotal: 823ms\tremaining: 1.95s\n",
      "297:\tlearn: 14454.1730901\ttotal: 825ms\tremaining: 1.94s\n",
      "298:\tlearn: 14449.0843051\ttotal: 828ms\tremaining: 1.94s\n",
      "299:\tlearn: 14410.4925364\ttotal: 830ms\tremaining: 1.94s\n",
      "300:\tlearn: 14390.7778727\ttotal: 833ms\tremaining: 1.93s\n",
      "301:\tlearn: 14385.8859586\ttotal: 835ms\tremaining: 1.93s\n",
      "302:\tlearn: 14349.7937185\ttotal: 838ms\tremaining: 1.93s\n",
      "303:\tlearn: 14329.8790371\ttotal: 840ms\tremaining: 1.92s\n",
      "304:\tlearn: 14308.5935947\ttotal: 842ms\tremaining: 1.92s\n",
      "305:\tlearn: 14272.6322457\ttotal: 845ms\tremaining: 1.92s\n",
      "306:\tlearn: 14253.2539673\ttotal: 847ms\tremaining: 1.91s\n",
      "307:\tlearn: 14212.6597968\ttotal: 850ms\tremaining: 1.91s\n",
      "308:\tlearn: 14193.6161437\ttotal: 852ms\tremaining: 1.91s\n",
      "309:\tlearn: 14160.3892692\ttotal: 855ms\tremaining: 1.9s\n",
      "310:\tlearn: 14124.8889158\ttotal: 857ms\tremaining: 1.9s\n",
      "311:\tlearn: 14093.3043400\ttotal: 860ms\tremaining: 1.9s\n",
      "312:\tlearn: 14068.8384792\ttotal: 862ms\tremaining: 1.89s\n",
      "313:\tlearn: 14040.9851801\ttotal: 865ms\tremaining: 1.89s\n",
      "314:\tlearn: 14011.1006143\ttotal: 867ms\tremaining: 1.89s\n",
      "315:\tlearn: 13981.7863726\ttotal: 870ms\tremaining: 1.88s\n",
      "316:\tlearn: 13957.2557066\ttotal: 872ms\tremaining: 1.88s\n",
      "317:\tlearn: 13915.8168744\ttotal: 875ms\tremaining: 1.88s\n",
      "318:\tlearn: 13885.4766118\ttotal: 878ms\tremaining: 1.87s\n",
      "319:\tlearn: 13869.3091112\ttotal: 881ms\tremaining: 1.87s\n",
      "320:\tlearn: 13845.6961436\ttotal: 884ms\tremaining: 1.87s\n",
      "321:\tlearn: 13808.7805669\ttotal: 886ms\tremaining: 1.87s\n",
      "322:\tlearn: 13804.4386578\ttotal: 889ms\tremaining: 1.86s\n",
      "323:\tlearn: 13779.0579476\ttotal: 891ms\tremaining: 1.86s\n",
      "324:\tlearn: 13762.7346880\ttotal: 894ms\tremaining: 1.85s\n",
      "325:\tlearn: 13738.0056959\ttotal: 896ms\tremaining: 1.85s\n",
      "326:\tlearn: 13716.2044378\ttotal: 899ms\tremaining: 1.85s\n",
      "327:\tlearn: 13689.9236030\ttotal: 901ms\tremaining: 1.85s\n",
      "328:\tlearn: 13645.8041586\ttotal: 904ms\tremaining: 1.84s\n",
      "329:\tlearn: 13615.4988242\ttotal: 906ms\tremaining: 1.84s\n",
      "330:\tlearn: 13602.9387947\ttotal: 908ms\tremaining: 1.84s\n",
      "331:\tlearn: 13569.7028186\ttotal: 911ms\tremaining: 1.83s\n",
      "332:\tlearn: 13550.2780139\ttotal: 913ms\tremaining: 1.83s\n",
      "333:\tlearn: 13534.1743095\ttotal: 916ms\tremaining: 1.82s\n",
      "334:\tlearn: 13507.7629781\ttotal: 918ms\tremaining: 1.82s\n",
      "335:\tlearn: 13482.7814221\ttotal: 921ms\tremaining: 1.82s\n",
      "336:\tlearn: 13451.9300758\ttotal: 923ms\tremaining: 1.82s\n",
      "337:\tlearn: 13440.6209854\ttotal: 926ms\tremaining: 1.81s\n",
      "338:\tlearn: 13418.6053594\ttotal: 928ms\tremaining: 1.81s\n",
      "339:\tlearn: 13407.5708979\ttotal: 931ms\tremaining: 1.81s\n",
      "340:\tlearn: 13391.2688950\ttotal: 933ms\tremaining: 1.8s\n",
      "341:\tlearn: 13360.6892613\ttotal: 936ms\tremaining: 1.8s\n",
      "342:\tlearn: 13327.5451148\ttotal: 938ms\tremaining: 1.8s\n",
      "343:\tlearn: 13304.3297805\ttotal: 941ms\tremaining: 1.79s\n",
      "344:\tlearn: 13300.4318488\ttotal: 944ms\tremaining: 1.79s\n",
      "345:\tlearn: 13267.7346442\ttotal: 947ms\tremaining: 1.79s\n"
     ]
    },
    {
     "name": "stdout",
     "output_type": "stream",
     "text": [
      "346:\tlearn: 13237.8082910\ttotal: 950ms\tremaining: 1.79s\n",
      "347:\tlearn: 13214.9790797\ttotal: 952ms\tremaining: 1.78s\n",
      "348:\tlearn: 13199.3368070\ttotal: 955ms\tremaining: 1.78s\n",
      "349:\tlearn: 13164.9820839\ttotal: 958ms\tremaining: 1.78s\n",
      "350:\tlearn: 13155.7354156\ttotal: 960ms\tremaining: 1.77s\n",
      "351:\tlearn: 13132.6511481\ttotal: 963ms\tremaining: 1.77s\n",
      "352:\tlearn: 13129.0393280\ttotal: 966ms\tremaining: 1.77s\n",
      "353:\tlearn: 13105.0990392\ttotal: 969ms\tremaining: 1.77s\n",
      "354:\tlearn: 13084.5102826\ttotal: 971ms\tremaining: 1.76s\n",
      "355:\tlearn: 13067.2103167\ttotal: 974ms\tremaining: 1.76s\n",
      "356:\tlearn: 13046.9754912\ttotal: 977ms\tremaining: 1.76s\n",
      "357:\tlearn: 13020.1133342\ttotal: 980ms\tremaining: 1.76s\n",
      "358:\tlearn: 12988.4003832\ttotal: 983ms\tremaining: 1.75s\n",
      "359:\tlearn: 12975.5991277\ttotal: 986ms\tremaining: 1.75s\n",
      "360:\tlearn: 12955.5378779\ttotal: 989ms\tremaining: 1.75s\n",
      "361:\tlearn: 12944.6440600\ttotal: 991ms\tremaining: 1.75s\n",
      "362:\tlearn: 12925.8598696\ttotal: 994ms\tremaining: 1.74s\n",
      "363:\tlearn: 12897.3650151\ttotal: 997ms\tremaining: 1.74s\n",
      "364:\tlearn: 12884.6557103\ttotal: 1000ms\tremaining: 1.74s\n",
      "365:\tlearn: 12859.8376585\ttotal: 1s\tremaining: 1.74s\n",
      "366:\tlearn: 12844.3179252\ttotal: 1s\tremaining: 1.73s\n",
      "367:\tlearn: 12834.0865324\ttotal: 1.01s\tremaining: 1.73s\n",
      "368:\tlearn: 12827.6600871\ttotal: 1.01s\tremaining: 1.73s\n",
      "369:\tlearn: 12811.1774782\ttotal: 1.01s\tremaining: 1.73s\n",
      "370:\tlearn: 12799.5185129\ttotal: 1.02s\tremaining: 1.72s\n",
      "371:\tlearn: 12774.9188989\ttotal: 1.02s\tremaining: 1.72s\n",
      "372:\tlearn: 12745.0062924\ttotal: 1.02s\tremaining: 1.72s\n",
      "373:\tlearn: 12723.5917381\ttotal: 1.02s\tremaining: 1.71s\n",
      "374:\tlearn: 12694.1663563\ttotal: 1.03s\tremaining: 1.71s\n",
      "375:\tlearn: 12676.4175244\ttotal: 1.03s\tremaining: 1.71s\n",
      "376:\tlearn: 12656.9562790\ttotal: 1.03s\tremaining: 1.71s\n",
      "377:\tlearn: 12635.8469778\ttotal: 1.03s\tremaining: 1.7s\n",
      "378:\tlearn: 12627.5855911\ttotal: 1.04s\tremaining: 1.7s\n",
      "379:\tlearn: 12605.0385048\ttotal: 1.04s\tremaining: 1.7s\n",
      "380:\tlearn: 12589.0236819\ttotal: 1.04s\tremaining: 1.69s\n",
      "381:\tlearn: 12564.8763037\ttotal: 1.04s\tremaining: 1.69s\n",
      "382:\tlearn: 12545.8765632\ttotal: 1.05s\tremaining: 1.69s\n",
      "383:\tlearn: 12518.5966754\ttotal: 1.05s\tremaining: 1.69s\n",
      "384:\tlearn: 12497.0163002\ttotal: 1.05s\tremaining: 1.68s\n",
      "385:\tlearn: 12473.3843984\ttotal: 1.06s\tremaining: 1.68s\n",
      "386:\tlearn: 12440.2707211\ttotal: 1.06s\tremaining: 1.68s\n",
      "387:\tlearn: 12424.9757230\ttotal: 1.06s\tremaining: 1.67s\n",
      "388:\tlearn: 12402.6835655\ttotal: 1.06s\tremaining: 1.67s\n",
      "389:\tlearn: 12376.9807315\ttotal: 1.07s\tremaining: 1.67s\n",
      "390:\tlearn: 12366.3766908\ttotal: 1.07s\tremaining: 1.67s\n",
      "391:\tlearn: 12345.7871580\ttotal: 1.07s\tremaining: 1.66s\n",
      "392:\tlearn: 12329.1725326\ttotal: 1.07s\tremaining: 1.66s\n",
      "393:\tlearn: 12306.8915179\ttotal: 1.08s\tremaining: 1.66s\n",
      "394:\tlearn: 12284.5357091\ttotal: 1.08s\tremaining: 1.65s\n",
      "395:\tlearn: 12270.5222112\ttotal: 1.08s\tremaining: 1.65s\n",
      "396:\tlearn: 12238.5040854\ttotal: 1.08s\tremaining: 1.65s\n",
      "397:\tlearn: 12225.0904519\ttotal: 1.09s\tremaining: 1.65s\n",
      "398:\tlearn: 12198.9102342\ttotal: 1.09s\tremaining: 1.64s\n",
      "399:\tlearn: 12180.1907061\ttotal: 1.09s\tremaining: 1.64s\n",
      "400:\tlearn: 12175.3389471\ttotal: 1.1s\tremaining: 1.64s\n",
      "401:\tlearn: 12166.4186055\ttotal: 1.1s\tremaining: 1.64s\n",
      "402:\tlearn: 12142.9476411\ttotal: 1.1s\tremaining: 1.63s\n",
      "403:\tlearn: 12129.9478831\ttotal: 1.1s\tremaining: 1.63s\n",
      "404:\tlearn: 12116.6945326\ttotal: 1.11s\tremaining: 1.63s\n",
      "405:\tlearn: 12112.5206956\ttotal: 1.11s\tremaining: 1.62s\n",
      "406:\tlearn: 12089.8034784\ttotal: 1.11s\tremaining: 1.62s\n",
      "407:\tlearn: 12077.9081393\ttotal: 1.11s\tremaining: 1.62s\n",
      "408:\tlearn: 12059.0624122\ttotal: 1.12s\tremaining: 1.62s\n",
      "409:\tlearn: 12036.5501093\ttotal: 1.12s\tremaining: 1.61s\n",
      "410:\tlearn: 12016.1596798\ttotal: 1.12s\tremaining: 1.61s\n",
      "411:\tlearn: 11990.7121886\ttotal: 1.13s\tremaining: 1.61s\n",
      "412:\tlearn: 11974.9234636\ttotal: 1.13s\tremaining: 1.61s\n",
      "413:\tlearn: 11960.2883727\ttotal: 1.13s\tremaining: 1.6s\n",
      "414:\tlearn: 11940.0550543\ttotal: 1.14s\tremaining: 1.6s\n",
      "415:\tlearn: 11929.3106063\ttotal: 1.14s\tremaining: 1.6s\n",
      "416:\tlearn: 11920.2844253\ttotal: 1.14s\tremaining: 1.6s\n",
      "417:\tlearn: 11908.1038709\ttotal: 1.14s\tremaining: 1.59s\n",
      "418:\tlearn: 11896.7738418\ttotal: 1.15s\tremaining: 1.59s\n",
      "419:\tlearn: 11870.5169421\ttotal: 1.15s\tremaining: 1.59s\n",
      "420:\tlearn: 11848.0224632\ttotal: 1.15s\tremaining: 1.59s\n",
      "421:\tlearn: 11839.8578116\ttotal: 1.16s\tremaining: 1.58s\n",
      "422:\tlearn: 11815.8168560\ttotal: 1.16s\tremaining: 1.58s\n",
      "423:\tlearn: 11805.9276168\ttotal: 1.16s\tremaining: 1.58s\n",
      "424:\tlearn: 11776.1465423\ttotal: 1.16s\tremaining: 1.57s\n",
      "425:\tlearn: 11749.5406589\ttotal: 1.17s\tremaining: 1.57s\n",
      "426:\tlearn: 11731.4269321\ttotal: 1.17s\tremaining: 1.57s\n",
      "427:\tlearn: 11706.0401422\ttotal: 1.17s\tremaining: 1.57s\n",
      "428:\tlearn: 11685.8562802\ttotal: 1.18s\tremaining: 1.56s\n",
      "429:\tlearn: 11679.1708342\ttotal: 1.18s\tremaining: 1.56s\n",
      "430:\tlearn: 11662.0787108\ttotal: 1.18s\tremaining: 1.56s\n",
      "431:\tlearn: 11643.8132143\ttotal: 1.18s\tremaining: 1.56s\n",
      "432:\tlearn: 11641.2110881\ttotal: 1.19s\tremaining: 1.55s\n",
      "433:\tlearn: 11616.6285999\ttotal: 1.19s\tremaining: 1.55s\n",
      "434:\tlearn: 11614.8439723\ttotal: 1.19s\tremaining: 1.55s\n",
      "435:\tlearn: 11593.1861875\ttotal: 1.2s\tremaining: 1.55s\n",
      "436:\tlearn: 11570.3902520\ttotal: 1.2s\tremaining: 1.54s\n",
      "437:\tlearn: 11565.1110553\ttotal: 1.2s\tremaining: 1.54s\n",
      "438:\tlearn: 11544.9967082\ttotal: 1.2s\tremaining: 1.54s\n",
      "439:\tlearn: 11527.3804630\ttotal: 1.21s\tremaining: 1.53s\n",
      "440:\tlearn: 11513.5576150\ttotal: 1.21s\tremaining: 1.53s\n",
      "441:\tlearn: 11503.6684510\ttotal: 1.21s\tremaining: 1.53s\n",
      "442:\tlearn: 11483.3077087\ttotal: 1.21s\tremaining: 1.53s\n",
      "443:\tlearn: 11473.6095078\ttotal: 1.22s\tremaining: 1.52s\n",
      "444:\tlearn: 11445.3648299\ttotal: 1.22s\tremaining: 1.52s\n",
      "445:\tlearn: 11436.9882488\ttotal: 1.22s\tremaining: 1.52s\n",
      "446:\tlearn: 11410.4436752\ttotal: 1.23s\tremaining: 1.52s\n",
      "447:\tlearn: 11388.3736144\ttotal: 1.23s\tremaining: 1.51s\n",
      "448:\tlearn: 11369.1072754\ttotal: 1.23s\tremaining: 1.51s\n",
      "449:\tlearn: 11349.2224077\ttotal: 1.23s\tremaining: 1.51s\n",
      "450:\tlearn: 11334.0174249\ttotal: 1.24s\tremaining: 1.5s\n",
      "451:\tlearn: 11312.8143844\ttotal: 1.24s\tremaining: 1.5s\n",
      "452:\tlearn: 11295.4877502\ttotal: 1.24s\tremaining: 1.5s\n",
      "453:\tlearn: 11286.2266925\ttotal: 1.24s\tremaining: 1.5s\n",
      "454:\tlearn: 11284.3521329\ttotal: 1.25s\tremaining: 1.49s\n",
      "455:\tlearn: 11268.5590789\ttotal: 1.25s\tremaining: 1.49s\n",
      "456:\tlearn: 11252.0844398\ttotal: 1.25s\tremaining: 1.49s\n",
      "457:\tlearn: 11225.6852947\ttotal: 1.25s\tremaining: 1.49s\n",
      "458:\tlearn: 11207.9762905\ttotal: 1.26s\tremaining: 1.48s\n",
      "459:\tlearn: 11199.8885612\ttotal: 1.26s\tremaining: 1.48s\n",
      "460:\tlearn: 11175.7466411\ttotal: 1.26s\tremaining: 1.48s\n",
      "461:\tlearn: 11155.0933364\ttotal: 1.26s\tremaining: 1.47s\n",
      "462:\tlearn: 11140.4681641\ttotal: 1.27s\tremaining: 1.47s\n",
      "463:\tlearn: 11121.6875138\ttotal: 1.27s\tremaining: 1.47s\n",
      "464:\tlearn: 11107.9687165\ttotal: 1.27s\tremaining: 1.46s\n",
      "465:\tlearn: 11101.1663342\ttotal: 1.27s\tremaining: 1.46s\n",
      "466:\tlearn: 11080.7565491\ttotal: 1.28s\tremaining: 1.46s\n",
      "467:\tlearn: 11061.2179496\ttotal: 1.28s\tremaining: 1.46s\n",
      "468:\tlearn: 11035.9751878\ttotal: 1.28s\tremaining: 1.45s\n",
      "469:\tlearn: 11022.4514426\ttotal: 1.28s\tremaining: 1.45s\n",
      "470:\tlearn: 11020.8978720\ttotal: 1.29s\tremaining: 1.45s\n",
      "471:\tlearn: 11006.9212732\ttotal: 1.29s\tremaining: 1.44s\n",
      "472:\tlearn: 10986.1619869\ttotal: 1.29s\tremaining: 1.44s\n",
      "473:\tlearn: 10974.7090039\ttotal: 1.3s\tremaining: 1.44s\n",
      "474:\tlearn: 10954.9913000\ttotal: 1.3s\tremaining: 1.44s\n",
      "475:\tlearn: 10936.4172531\ttotal: 1.3s\tremaining: 1.43s\n",
      "476:\tlearn: 10910.6349280\ttotal: 1.3s\tremaining: 1.43s\n",
      "477:\tlearn: 10903.6589828\ttotal: 1.31s\tremaining: 1.43s\n",
      "478:\tlearn: 10881.0736422\ttotal: 1.31s\tremaining: 1.43s\n",
      "479:\tlearn: 10871.8062516\ttotal: 1.31s\tremaining: 1.42s\n",
      "480:\tlearn: 10863.2395628\ttotal: 1.31s\tremaining: 1.42s\n",
      "481:\tlearn: 10843.4626625\ttotal: 1.32s\tremaining: 1.42s\n",
      "482:\tlearn: 10819.9755845\ttotal: 1.32s\tremaining: 1.41s\n",
      "483:\tlearn: 10810.2210026\ttotal: 1.32s\tremaining: 1.41s\n",
      "484:\tlearn: 10792.3334194\ttotal: 1.33s\tremaining: 1.41s\n",
      "485:\tlearn: 10780.4073909\ttotal: 1.33s\tremaining: 1.41s\n",
      "486:\tlearn: 10759.3847158\ttotal: 1.33s\tremaining: 1.4s\n",
      "487:\tlearn: 10727.5641768\ttotal: 1.33s\tremaining: 1.4s\n",
      "488:\tlearn: 10697.8028173\ttotal: 1.34s\tremaining: 1.4s\n",
      "489:\tlearn: 10681.5384721\ttotal: 1.34s\tremaining: 1.4s\n",
      "490:\tlearn: 10664.8032569\ttotal: 1.34s\tremaining: 1.39s\n",
      "491:\tlearn: 10648.1572366\ttotal: 1.35s\tremaining: 1.39s\n",
      "492:\tlearn: 10642.8709156\ttotal: 1.35s\tremaining: 1.39s\n",
      "493:\tlearn: 10623.0784015\ttotal: 1.35s\tremaining: 1.38s\n",
      "494:\tlearn: 10594.5392476\ttotal: 1.35s\tremaining: 1.38s\n",
      "495:\tlearn: 10587.2336145\ttotal: 1.36s\tremaining: 1.38s\n",
      "496:\tlearn: 10565.6641876\ttotal: 1.36s\tremaining: 1.38s\n",
      "497:\tlearn: 10553.4698686\ttotal: 1.36s\tremaining: 1.37s\n",
      "498:\tlearn: 10541.7539701\ttotal: 1.36s\tremaining: 1.37s\n",
      "499:\tlearn: 10524.3215554\ttotal: 1.37s\tremaining: 1.37s\n",
      "500:\tlearn: 10515.3982867\ttotal: 1.37s\tremaining: 1.36s\n",
      "501:\tlearn: 10498.9175673\ttotal: 1.37s\tremaining: 1.36s\n",
      "502:\tlearn: 10482.7398661\ttotal: 1.37s\tremaining: 1.36s\n",
      "503:\tlearn: 10467.7464800\ttotal: 1.38s\tremaining: 1.35s\n",
      "504:\tlearn: 10450.2489237\ttotal: 1.38s\tremaining: 1.35s\n",
      "505:\tlearn: 10434.9887734\ttotal: 1.38s\tremaining: 1.35s\n",
      "506:\tlearn: 10414.7362364\ttotal: 1.39s\tremaining: 1.35s\n",
      "507:\tlearn: 10404.9439180\ttotal: 1.39s\tremaining: 1.34s\n",
      "508:\tlearn: 10384.5810717\ttotal: 1.39s\tremaining: 1.34s\n",
      "509:\tlearn: 10379.5229670\ttotal: 1.39s\tremaining: 1.34s\n",
      "510:\tlearn: 10358.8159342\ttotal: 1.4s\tremaining: 1.33s\n",
      "511:\tlearn: 10357.4620024\ttotal: 1.4s\tremaining: 1.33s\n",
      "512:\tlearn: 10352.5428762\ttotal: 1.4s\tremaining: 1.33s\n",
      "513:\tlearn: 10334.8356182\ttotal: 1.4s\tremaining: 1.33s\n",
      "514:\tlearn: 10320.1737066\ttotal: 1.41s\tremaining: 1.32s\n",
      "515:\tlearn: 10308.2930278\ttotal: 1.41s\tremaining: 1.32s\n",
      "516:\tlearn: 10292.0953228\ttotal: 1.41s\tremaining: 1.32s\n",
      "517:\tlearn: 10261.8734894\ttotal: 1.41s\tremaining: 1.31s\n",
      "518:\tlearn: 10257.0831372\ttotal: 1.42s\tremaining: 1.31s\n",
      "519:\tlearn: 10236.9454212\ttotal: 1.42s\tremaining: 1.31s\n",
      "520:\tlearn: 10230.2402598\ttotal: 1.42s\tremaining: 1.31s\n",
      "521:\tlearn: 10214.0616944\ttotal: 1.42s\tremaining: 1.3s\n",
      "522:\tlearn: 10198.0322808\ttotal: 1.43s\tremaining: 1.3s\n",
      "523:\tlearn: 10176.1565160\ttotal: 1.43s\tremaining: 1.3s\n",
      "524:\tlearn: 10161.0219708\ttotal: 1.43s\tremaining: 1.3s\n",
      "525:\tlearn: 10140.4815602\ttotal: 1.44s\tremaining: 1.29s\n",
      "526:\tlearn: 10120.6436131\ttotal: 1.44s\tremaining: 1.29s\n",
      "527:\tlearn: 10105.3772595\ttotal: 1.44s\tremaining: 1.29s\n",
      "528:\tlearn: 10094.2083180\ttotal: 1.44s\tremaining: 1.29s\n",
      "529:\tlearn: 10089.0069032\ttotal: 1.45s\tremaining: 1.28s\n",
      "530:\tlearn: 10071.5606255\ttotal: 1.45s\tremaining: 1.28s\n",
      "531:\tlearn: 10054.4201245\ttotal: 1.45s\tremaining: 1.28s\n",
      "532:\tlearn: 10028.3079128\ttotal: 1.46s\tremaining: 1.27s\n",
      "533:\tlearn: 10005.0460029\ttotal: 1.46s\tremaining: 1.27s\n",
      "534:\tlearn: 9989.9182650\ttotal: 1.46s\tremaining: 1.27s\n",
      "535:\tlearn: 9983.2883629\ttotal: 1.46s\tremaining: 1.27s\n",
      "536:\tlearn: 9971.8863764\ttotal: 1.47s\tremaining: 1.26s\n",
      "537:\tlearn: 9950.5545418\ttotal: 1.47s\tremaining: 1.26s\n",
      "538:\tlearn: 9936.3951102\ttotal: 1.47s\tremaining: 1.26s\n",
      "539:\tlearn: 9923.9745435\ttotal: 1.47s\tremaining: 1.26s\n",
      "540:\tlearn: 9912.0810342\ttotal: 1.48s\tremaining: 1.25s\n",
      "541:\tlearn: 9896.8109318\ttotal: 1.48s\tremaining: 1.25s\n",
      "542:\tlearn: 9878.1531250\ttotal: 1.48s\tremaining: 1.25s\n",
      "543:\tlearn: 9868.7517756\ttotal: 1.49s\tremaining: 1.25s\n",
      "544:\tlearn: 9857.2635875\ttotal: 1.49s\tremaining: 1.24s\n"
     ]
    },
    {
     "name": "stdout",
     "output_type": "stream",
     "text": [
      "545:\tlearn: 9842.4093451\ttotal: 1.49s\tremaining: 1.24s\n",
      "546:\tlearn: 9829.7626126\ttotal: 1.49s\tremaining: 1.24s\n",
      "547:\tlearn: 9817.5379999\ttotal: 1.5s\tremaining: 1.24s\n",
      "548:\tlearn: 9813.2589114\ttotal: 1.5s\tremaining: 1.23s\n",
      "549:\tlearn: 9800.4626631\ttotal: 1.5s\tremaining: 1.23s\n",
      "550:\tlearn: 9780.4746940\ttotal: 1.5s\tremaining: 1.23s\n",
      "551:\tlearn: 9770.4900226\ttotal: 1.51s\tremaining: 1.22s\n",
      "552:\tlearn: 9756.3275774\ttotal: 1.51s\tremaining: 1.22s\n",
      "553:\tlearn: 9745.0378381\ttotal: 1.51s\tremaining: 1.22s\n",
      "554:\tlearn: 9732.0278732\ttotal: 1.52s\tremaining: 1.22s\n",
      "555:\tlearn: 9719.9574672\ttotal: 1.52s\tremaining: 1.21s\n",
      "556:\tlearn: 9715.6852150\ttotal: 1.52s\tremaining: 1.21s\n",
      "557:\tlearn: 9702.6273885\ttotal: 1.53s\tremaining: 1.21s\n",
      "558:\tlearn: 9693.0221869\ttotal: 1.53s\tremaining: 1.21s\n",
      "559:\tlearn: 9668.1257457\ttotal: 1.53s\tremaining: 1.2s\n",
      "560:\tlearn: 9655.1111150\ttotal: 1.53s\tremaining: 1.2s\n",
      "561:\tlearn: 9649.8439119\ttotal: 1.54s\tremaining: 1.2s\n",
      "562:\tlearn: 9638.4180511\ttotal: 1.54s\tremaining: 1.2s\n",
      "563:\tlearn: 9619.4806262\ttotal: 1.54s\tremaining: 1.19s\n",
      "564:\tlearn: 9615.1257152\ttotal: 1.54s\tremaining: 1.19s\n",
      "565:\tlearn: 9597.6080831\ttotal: 1.55s\tremaining: 1.19s\n",
      "566:\tlearn: 9583.1644957\ttotal: 1.55s\tremaining: 1.18s\n",
      "567:\tlearn: 9565.5976253\ttotal: 1.55s\tremaining: 1.18s\n",
      "568:\tlearn: 9549.5199040\ttotal: 1.56s\tremaining: 1.18s\n",
      "569:\tlearn: 9536.7432748\ttotal: 1.56s\tremaining: 1.18s\n",
      "570:\tlearn: 9523.7160842\ttotal: 1.56s\tremaining: 1.17s\n",
      "571:\tlearn: 9501.2753106\ttotal: 1.56s\tremaining: 1.17s\n",
      "572:\tlearn: 9488.3473004\ttotal: 1.57s\tremaining: 1.17s\n",
      "573:\tlearn: 9482.0185713\ttotal: 1.57s\tremaining: 1.17s\n",
      "574:\tlearn: 9468.0106382\ttotal: 1.57s\tremaining: 1.16s\n",
      "575:\tlearn: 9451.9626379\ttotal: 1.57s\tremaining: 1.16s\n",
      "576:\tlearn: 9440.8212857\ttotal: 1.58s\tremaining: 1.16s\n",
      "577:\tlearn: 9424.2390308\ttotal: 1.58s\tremaining: 1.15s\n",
      "578:\tlearn: 9408.8236075\ttotal: 1.58s\tremaining: 1.15s\n",
      "579:\tlearn: 9398.9221850\ttotal: 1.59s\tremaining: 1.15s\n",
      "580:\tlearn: 9385.8003280\ttotal: 1.59s\tremaining: 1.15s\n",
      "581:\tlearn: 9369.4320160\ttotal: 1.59s\tremaining: 1.14s\n",
      "582:\tlearn: 9352.9366938\ttotal: 1.59s\tremaining: 1.14s\n",
      "583:\tlearn: 9336.2130298\ttotal: 1.6s\tremaining: 1.14s\n",
      "584:\tlearn: 9322.0249586\ttotal: 1.6s\tremaining: 1.13s\n",
      "585:\tlearn: 9312.2817262\ttotal: 1.6s\tremaining: 1.13s\n",
      "586:\tlearn: 9299.8039286\ttotal: 1.6s\tremaining: 1.13s\n",
      "587:\tlearn: 9290.8255682\ttotal: 1.61s\tremaining: 1.13s\n",
      "588:\tlearn: 9271.7259227\ttotal: 1.61s\tremaining: 1.12s\n",
      "589:\tlearn: 9258.8052582\ttotal: 1.61s\tremaining: 1.12s\n",
      "590:\tlearn: 9246.9290691\ttotal: 1.61s\tremaining: 1.12s\n",
      "591:\tlearn: 9232.2900601\ttotal: 1.62s\tremaining: 1.11s\n",
      "592:\tlearn: 9218.8508841\ttotal: 1.62s\tremaining: 1.11s\n",
      "593:\tlearn: 9209.3876774\ttotal: 1.62s\tremaining: 1.11s\n",
      "594:\tlearn: 9194.9706036\ttotal: 1.63s\tremaining: 1.11s\n",
      "595:\tlearn: 9180.4335950\ttotal: 1.63s\tremaining: 1.1s\n",
      "596:\tlearn: 9162.7387769\ttotal: 1.63s\tremaining: 1.1s\n",
      "597:\tlearn: 9153.7315240\ttotal: 1.63s\tremaining: 1.1s\n",
      "598:\tlearn: 9143.4227054\ttotal: 1.64s\tremaining: 1.09s\n",
      "599:\tlearn: 9126.7390145\ttotal: 1.64s\tremaining: 1.09s\n",
      "600:\tlearn: 9112.2909940\ttotal: 1.64s\tremaining: 1.09s\n",
      "601:\tlearn: 9104.0185021\ttotal: 1.64s\tremaining: 1.09s\n",
      "602:\tlearn: 9085.8340911\ttotal: 1.65s\tremaining: 1.08s\n",
      "603:\tlearn: 9077.8238509\ttotal: 1.65s\tremaining: 1.08s\n",
      "604:\tlearn: 9060.9756928\ttotal: 1.65s\tremaining: 1.08s\n",
      "605:\tlearn: 9049.5267737\ttotal: 1.65s\tremaining: 1.07s\n",
      "606:\tlearn: 9036.9567631\ttotal: 1.66s\tremaining: 1.07s\n",
      "607:\tlearn: 9026.5794746\ttotal: 1.66s\tremaining: 1.07s\n",
      "608:\tlearn: 9005.6062706\ttotal: 1.66s\tremaining: 1.07s\n",
      "609:\tlearn: 8989.5174337\ttotal: 1.66s\tremaining: 1.06s\n",
      "610:\tlearn: 8976.3670450\ttotal: 1.67s\tremaining: 1.06s\n",
      "611:\tlearn: 8958.4119828\ttotal: 1.67s\tremaining: 1.06s\n",
      "612:\tlearn: 8945.8832747\ttotal: 1.67s\tremaining: 1.05s\n",
      "613:\tlearn: 8933.1648525\ttotal: 1.67s\tremaining: 1.05s\n",
      "614:\tlearn: 8916.1258556\ttotal: 1.68s\tremaining: 1.05s\n",
      "615:\tlearn: 8901.8664429\ttotal: 1.68s\tremaining: 1.05s\n",
      "616:\tlearn: 8891.4033223\ttotal: 1.68s\tremaining: 1.04s\n",
      "617:\tlearn: 8878.0286772\ttotal: 1.69s\tremaining: 1.04s\n",
      "618:\tlearn: 8851.2471164\ttotal: 1.69s\tremaining: 1.04s\n",
      "619:\tlearn: 8839.4001200\ttotal: 1.69s\tremaining: 1.04s\n",
      "620:\tlearn: 8824.9029757\ttotal: 1.69s\tremaining: 1.03s\n",
      "621:\tlearn: 8817.2414572\ttotal: 1.7s\tremaining: 1.03s\n",
      "622:\tlearn: 8804.2456892\ttotal: 1.7s\tremaining: 1.03s\n",
      "623:\tlearn: 8791.6640389\ttotal: 1.7s\tremaining: 1.02s\n",
      "624:\tlearn: 8779.0208369\ttotal: 1.7s\tremaining: 1.02s\n",
      "625:\tlearn: 8769.2827386\ttotal: 1.71s\tremaining: 1.02s\n",
      "626:\tlearn: 8753.7201958\ttotal: 1.71s\tremaining: 1.02s\n",
      "627:\tlearn: 8742.4304362\ttotal: 1.71s\tremaining: 1.01s\n",
      "628:\tlearn: 8733.1241982\ttotal: 1.72s\tremaining: 1.01s\n",
      "629:\tlearn: 8717.6305991\ttotal: 1.72s\tremaining: 1.01s\n",
      "630:\tlearn: 8705.8739213\ttotal: 1.72s\tremaining: 1.01s\n",
      "631:\tlearn: 8686.1418967\ttotal: 1.72s\tremaining: 1s\n",
      "632:\tlearn: 8677.3148974\ttotal: 1.73s\tremaining: 1s\n",
      "633:\tlearn: 8663.4506702\ttotal: 1.73s\tremaining: 998ms\n",
      "634:\tlearn: 8653.9995693\ttotal: 1.73s\tremaining: 995ms\n",
      "635:\tlearn: 8646.3887510\ttotal: 1.73s\tremaining: 993ms\n",
      "636:\tlearn: 8629.8431668\ttotal: 1.74s\tremaining: 990ms\n",
      "637:\tlearn: 8613.8022581\ttotal: 1.74s\tremaining: 987ms\n",
      "638:\tlearn: 8608.7320026\ttotal: 1.74s\tremaining: 985ms\n",
      "639:\tlearn: 8597.3835432\ttotal: 1.75s\tremaining: 982ms\n",
      "640:\tlearn: 8581.0976457\ttotal: 1.75s\tremaining: 980ms\n",
      "641:\tlearn: 8573.9368090\ttotal: 1.75s\tremaining: 977ms\n",
      "642:\tlearn: 8558.5269158\ttotal: 1.75s\tremaining: 975ms\n",
      "643:\tlearn: 8550.9819243\ttotal: 1.76s\tremaining: 972ms\n",
      "644:\tlearn: 8537.1307708\ttotal: 1.76s\tremaining: 970ms\n",
      "645:\tlearn: 8524.1198528\ttotal: 1.76s\tremaining: 967ms\n",
      "646:\tlearn: 8513.1424539\ttotal: 1.77s\tremaining: 965ms\n",
      "647:\tlearn: 8498.7439853\ttotal: 1.77s\tremaining: 963ms\n",
      "648:\tlearn: 8486.8256328\ttotal: 1.77s\tremaining: 960ms\n",
      "649:\tlearn: 8476.6331899\ttotal: 1.78s\tremaining: 957ms\n",
      "650:\tlearn: 8467.2792109\ttotal: 1.78s\tremaining: 955ms\n",
      "651:\tlearn: 8454.4970103\ttotal: 1.78s\tremaining: 952ms\n",
      "652:\tlearn: 8452.3938985\ttotal: 1.79s\tremaining: 950ms\n",
      "653:\tlearn: 8448.0890251\ttotal: 1.79s\tremaining: 948ms\n",
      "654:\tlearn: 8436.7243227\ttotal: 1.79s\tremaining: 945ms\n",
      "655:\tlearn: 8423.2325440\ttotal: 1.8s\tremaining: 943ms\n",
      "656:\tlearn: 8411.1216820\ttotal: 1.8s\tremaining: 940ms\n",
      "657:\tlearn: 8400.0990923\ttotal: 1.8s\tremaining: 938ms\n",
      "658:\tlearn: 8380.9914109\ttotal: 1.81s\tremaining: 935ms\n",
      "659:\tlearn: 8370.6422471\ttotal: 1.81s\tremaining: 933ms\n",
      "660:\tlearn: 8358.6542735\ttotal: 1.81s\tremaining: 930ms\n",
      "661:\tlearn: 8348.2172964\ttotal: 1.82s\tremaining: 928ms\n",
      "662:\tlearn: 8325.8459428\ttotal: 1.82s\tremaining: 925ms\n",
      "663:\tlearn: 8312.5275384\ttotal: 1.82s\tremaining: 922ms\n",
      "664:\tlearn: 8300.0280774\ttotal: 1.82s\tremaining: 920ms\n",
      "665:\tlearn: 8295.5681850\ttotal: 1.83s\tremaining: 917ms\n",
      "666:\tlearn: 8288.2585383\ttotal: 1.83s\tremaining: 915ms\n",
      "667:\tlearn: 8272.2508654\ttotal: 1.83s\tremaining: 912ms\n",
      "668:\tlearn: 8257.0901832\ttotal: 1.84s\tremaining: 909ms\n",
      "669:\tlearn: 8247.4232593\ttotal: 1.84s\tremaining: 907ms\n",
      "670:\tlearn: 8235.7499496\ttotal: 1.84s\tremaining: 904ms\n",
      "671:\tlearn: 8228.5527314\ttotal: 1.85s\tremaining: 901ms\n",
      "672:\tlearn: 8216.7849785\ttotal: 1.85s\tremaining: 899ms\n",
      "673:\tlearn: 8205.8405167\ttotal: 1.85s\tremaining: 896ms\n",
      "674:\tlearn: 8191.8551433\ttotal: 1.85s\tremaining: 893ms\n",
      "675:\tlearn: 8187.1131073\ttotal: 1.86s\tremaining: 891ms\n",
      "676:\tlearn: 8181.4107228\ttotal: 1.86s\tremaining: 888ms\n",
      "677:\tlearn: 8164.3876507\ttotal: 1.86s\tremaining: 885ms\n",
      "678:\tlearn: 8151.1648310\ttotal: 1.87s\tremaining: 883ms\n",
      "679:\tlearn: 8141.4521917\ttotal: 1.87s\tremaining: 880ms\n",
      "680:\tlearn: 8123.6205740\ttotal: 1.87s\tremaining: 877ms\n",
      "681:\tlearn: 8109.7682166\ttotal: 1.88s\tremaining: 874ms\n",
      "682:\tlearn: 8101.0950371\ttotal: 1.88s\tremaining: 872ms\n",
      "683:\tlearn: 8088.9859949\ttotal: 1.88s\tremaining: 869ms\n",
      "684:\tlearn: 8078.8287800\ttotal: 1.88s\tremaining: 866ms\n",
      "685:\tlearn: 8071.2339208\ttotal: 1.89s\tremaining: 863ms\n",
      "686:\tlearn: 8062.0480039\ttotal: 1.89s\tremaining: 861ms\n",
      "687:\tlearn: 8049.5877479\ttotal: 1.89s\tremaining: 858ms\n",
      "688:\tlearn: 8033.6825442\ttotal: 1.89s\tremaining: 855ms\n",
      "689:\tlearn: 8024.6466249\ttotal: 1.9s\tremaining: 853ms\n",
      "690:\tlearn: 8020.1499090\ttotal: 1.9s\tremaining: 850ms\n",
      "691:\tlearn: 8013.6650774\ttotal: 1.9s\tremaining: 847ms\n",
      "692:\tlearn: 8008.2946624\ttotal: 1.91s\tremaining: 844ms\n",
      "693:\tlearn: 8001.0238070\ttotal: 1.91s\tremaining: 842ms\n",
      "694:\tlearn: 7992.2716230\ttotal: 1.91s\tremaining: 839ms\n",
      "695:\tlearn: 7976.4999947\ttotal: 1.91s\tremaining: 836ms\n",
      "696:\tlearn: 7972.9047363\ttotal: 1.92s\tremaining: 833ms\n",
      "697:\tlearn: 7961.3113141\ttotal: 1.92s\tremaining: 830ms\n",
      "698:\tlearn: 7957.6810647\ttotal: 1.92s\tremaining: 828ms\n",
      "699:\tlearn: 7944.1214963\ttotal: 1.92s\tremaining: 825ms\n",
      "700:\tlearn: 7930.8970778\ttotal: 1.93s\tremaining: 822ms\n",
      "701:\tlearn: 7923.8941433\ttotal: 1.93s\tremaining: 819ms\n",
      "702:\tlearn: 7910.5863788\ttotal: 1.93s\tremaining: 816ms\n",
      "703:\tlearn: 7897.6128392\ttotal: 1.94s\tremaining: 814ms\n",
      "704:\tlearn: 7886.6497901\ttotal: 1.94s\tremaining: 811ms\n",
      "705:\tlearn: 7875.7617552\ttotal: 1.94s\tremaining: 808ms\n",
      "706:\tlearn: 7860.3317275\ttotal: 1.94s\tremaining: 805ms\n",
      "707:\tlearn: 7852.9150022\ttotal: 1.95s\tremaining: 802ms\n",
      "708:\tlearn: 7847.0031431\ttotal: 1.95s\tremaining: 799ms\n",
      "709:\tlearn: 7834.4439437\ttotal: 1.95s\tremaining: 797ms\n",
      "710:\tlearn: 7824.0626468\ttotal: 1.95s\tremaining: 794ms\n",
      "711:\tlearn: 7821.4937974\ttotal: 1.96s\tremaining: 791ms\n",
      "712:\tlearn: 7812.2961745\ttotal: 1.96s\tremaining: 788ms\n",
      "713:\tlearn: 7803.4026008\ttotal: 1.96s\tremaining: 785ms\n",
      "714:\tlearn: 7794.2609334\ttotal: 1.96s\tremaining: 783ms\n",
      "715:\tlearn: 7783.2210100\ttotal: 1.97s\tremaining: 780ms\n",
      "716:\tlearn: 7770.6588376\ttotal: 1.97s\tremaining: 777ms\n",
      "717:\tlearn: 7763.5210428\ttotal: 1.97s\tremaining: 774ms\n",
      "718:\tlearn: 7754.1948567\ttotal: 1.97s\tremaining: 771ms\n",
      "719:\tlearn: 7741.4530706\ttotal: 1.98s\tremaining: 768ms\n",
      "720:\tlearn: 7733.7586315\ttotal: 1.98s\tremaining: 766ms\n",
      "721:\tlearn: 7724.9639285\ttotal: 1.98s\tremaining: 763ms\n",
      "722:\tlearn: 7713.3112469\ttotal: 1.98s\tremaining: 760ms\n",
      "723:\tlearn: 7707.0827562\ttotal: 1.99s\tremaining: 757ms\n",
      "724:\tlearn: 7693.0140551\ttotal: 1.99s\tremaining: 755ms\n",
      "725:\tlearn: 7683.7158949\ttotal: 1.99s\tremaining: 752ms\n",
      "726:\tlearn: 7671.7884326\ttotal: 1.99s\tremaining: 749ms\n",
      "727:\tlearn: 7655.4768541\ttotal: 2s\tremaining: 746ms\n",
      "728:\tlearn: 7643.1766370\ttotal: 2s\tremaining: 743ms\n",
      "729:\tlearn: 7636.6220686\ttotal: 2s\tremaining: 741ms\n",
      "730:\tlearn: 7628.4117195\ttotal: 2s\tremaining: 738ms\n",
      "731:\tlearn: 7622.7583531\ttotal: 2.01s\tremaining: 735ms\n",
      "732:\tlearn: 7616.5504524\ttotal: 2.01s\tremaining: 732ms\n",
      "733:\tlearn: 7608.0813669\ttotal: 2.01s\tremaining: 730ms\n",
      "734:\tlearn: 7598.4329438\ttotal: 2.02s\tremaining: 727ms\n",
      "735:\tlearn: 7579.7533285\ttotal: 2.02s\tremaining: 724ms\n",
      "736:\tlearn: 7573.2894190\ttotal: 2.02s\tremaining: 721ms\n",
      "737:\tlearn: 7567.6611015\ttotal: 2.02s\tremaining: 718ms\n",
      "738:\tlearn: 7557.5168742\ttotal: 2.02s\tremaining: 715ms\n",
      "739:\tlearn: 7545.0946102\ttotal: 2.03s\tremaining: 713ms\n",
      "740:\tlearn: 7534.8480757\ttotal: 2.03s\tremaining: 710ms\n",
      "741:\tlearn: 7526.2658545\ttotal: 2.03s\tremaining: 707ms\n",
      "742:\tlearn: 7517.7184446\ttotal: 2.04s\tremaining: 704ms\n",
      "743:\tlearn: 7511.1883127\ttotal: 2.04s\tremaining: 702ms\n",
      "744:\tlearn: 7500.1958332\ttotal: 2.04s\tremaining: 699ms\n",
      "745:\tlearn: 7489.4413224\ttotal: 2.04s\tremaining: 696ms\n",
      "746:\tlearn: 7481.2967812\ttotal: 2.05s\tremaining: 693ms\n",
      "747:\tlearn: 7471.1238894\ttotal: 2.05s\tremaining: 691ms\n",
      "748:\tlearn: 7463.8837789\ttotal: 2.05s\tremaining: 688ms\n",
      "749:\tlearn: 7453.4325831\ttotal: 2.05s\tremaining: 685ms\n",
      "750:\tlearn: 7439.4614052\ttotal: 2.06s\tremaining: 682ms\n",
      "751:\tlearn: 7435.9368584\ttotal: 2.06s\tremaining: 679ms\n"
     ]
    },
    {
     "name": "stdout",
     "output_type": "stream",
     "text": [
      "752:\tlearn: 7423.5847564\ttotal: 2.06s\tremaining: 677ms\n",
      "753:\tlearn: 7411.1284649\ttotal: 2.06s\tremaining: 674ms\n",
      "754:\tlearn: 7404.4240064\ttotal: 2.07s\tremaining: 671ms\n",
      "755:\tlearn: 7388.7888288\ttotal: 2.07s\tremaining: 668ms\n",
      "756:\tlearn: 7379.5353368\ttotal: 2.07s\tremaining: 666ms\n",
      "757:\tlearn: 7367.8048973\ttotal: 2.08s\tremaining: 663ms\n",
      "758:\tlearn: 7356.5402120\ttotal: 2.08s\tremaining: 660ms\n",
      "759:\tlearn: 7340.7131271\ttotal: 2.08s\tremaining: 657ms\n",
      "760:\tlearn: 7330.0133373\ttotal: 2.08s\tremaining: 655ms\n",
      "761:\tlearn: 7316.0786617\ttotal: 2.09s\tremaining: 652ms\n",
      "762:\tlearn: 7311.3613097\ttotal: 2.09s\tremaining: 649ms\n",
      "763:\tlearn: 7301.3715798\ttotal: 2.09s\tremaining: 646ms\n",
      "764:\tlearn: 7289.7920616\ttotal: 2.1s\tremaining: 644ms\n",
      "765:\tlearn: 7280.5967825\ttotal: 2.1s\tremaining: 641ms\n",
      "766:\tlearn: 7269.6610722\ttotal: 2.1s\tremaining: 638ms\n",
      "767:\tlearn: 7266.0838920\ttotal: 2.1s\tremaining: 636ms\n",
      "768:\tlearn: 7253.6217646\ttotal: 2.11s\tremaining: 633ms\n",
      "769:\tlearn: 7244.8624672\ttotal: 2.11s\tremaining: 630ms\n",
      "770:\tlearn: 7234.7864576\ttotal: 2.11s\tremaining: 627ms\n",
      "771:\tlearn: 7229.0395140\ttotal: 2.11s\tremaining: 625ms\n",
      "772:\tlearn: 7223.7113978\ttotal: 2.12s\tremaining: 622ms\n",
      "773:\tlearn: 7211.7892874\ttotal: 2.12s\tremaining: 619ms\n",
      "774:\tlearn: 7206.4549560\ttotal: 2.12s\tremaining: 616ms\n",
      "775:\tlearn: 7201.8508444\ttotal: 2.13s\tremaining: 614ms\n",
      "776:\tlearn: 7195.5334449\ttotal: 2.13s\tremaining: 611ms\n",
      "777:\tlearn: 7185.7580577\ttotal: 2.13s\tremaining: 608ms\n",
      "778:\tlearn: 7182.0606664\ttotal: 2.13s\tremaining: 605ms\n",
      "779:\tlearn: 7178.1181101\ttotal: 2.13s\tremaining: 602ms\n",
      "780:\tlearn: 7169.8180684\ttotal: 2.14s\tremaining: 600ms\n",
      "781:\tlearn: 7157.9123562\ttotal: 2.14s\tremaining: 597ms\n",
      "782:\tlearn: 7148.3105417\ttotal: 2.14s\tremaining: 594ms\n",
      "783:\tlearn: 7135.7028378\ttotal: 2.15s\tremaining: 591ms\n",
      "784:\tlearn: 7129.9740204\ttotal: 2.15s\tremaining: 588ms\n",
      "785:\tlearn: 7112.1747747\ttotal: 2.15s\tremaining: 586ms\n",
      "786:\tlearn: 7107.0824820\ttotal: 2.15s\tremaining: 583ms\n",
      "787:\tlearn: 7096.9279872\ttotal: 2.16s\tremaining: 580ms\n",
      "788:\tlearn: 7086.2514275\ttotal: 2.16s\tremaining: 577ms\n",
      "789:\tlearn: 7074.9201874\ttotal: 2.16s\tremaining: 575ms\n",
      "790:\tlearn: 7068.9340388\ttotal: 2.16s\tremaining: 572ms\n",
      "791:\tlearn: 7056.9744673\ttotal: 2.17s\tremaining: 569ms\n",
      "792:\tlearn: 7047.2130133\ttotal: 2.17s\tremaining: 566ms\n",
      "793:\tlearn: 7030.8960541\ttotal: 2.17s\tremaining: 563ms\n",
      "794:\tlearn: 7020.7678708\ttotal: 2.17s\tremaining: 561ms\n",
      "795:\tlearn: 7011.5169739\ttotal: 2.18s\tremaining: 558ms\n",
      "796:\tlearn: 7002.2482007\ttotal: 2.18s\tremaining: 555ms\n",
      "797:\tlearn: 6996.9734559\ttotal: 2.18s\tremaining: 552ms\n",
      "798:\tlearn: 6981.7851511\ttotal: 2.18s\tremaining: 550ms\n",
      "799:\tlearn: 6960.4424406\ttotal: 2.19s\tremaining: 547ms\n",
      "800:\tlearn: 6954.6926025\ttotal: 2.19s\tremaining: 544ms\n",
      "801:\tlearn: 6953.0875907\ttotal: 2.19s\tremaining: 541ms\n",
      "802:\tlearn: 6941.6894463\ttotal: 2.19s\tremaining: 538ms\n",
      "803:\tlearn: 6933.9301147\ttotal: 2.2s\tremaining: 536ms\n",
      "804:\tlearn: 6925.5305881\ttotal: 2.2s\tremaining: 533ms\n",
      "805:\tlearn: 6921.1486944\ttotal: 2.2s\tremaining: 530ms\n",
      "806:\tlearn: 6913.2864884\ttotal: 2.2s\tremaining: 527ms\n",
      "807:\tlearn: 6901.6792296\ttotal: 2.21s\tremaining: 525ms\n",
      "808:\tlearn: 6891.0026470\ttotal: 2.21s\tremaining: 522ms\n",
      "809:\tlearn: 6883.0671115\ttotal: 2.21s\tremaining: 519ms\n",
      "810:\tlearn: 6870.1885196\ttotal: 2.21s\tremaining: 516ms\n",
      "811:\tlearn: 6863.5757439\ttotal: 2.22s\tremaining: 513ms\n",
      "812:\tlearn: 6852.0331719\ttotal: 2.22s\tremaining: 511ms\n",
      "813:\tlearn: 6840.6579005\ttotal: 2.22s\tremaining: 508ms\n",
      "814:\tlearn: 6830.4223438\ttotal: 2.23s\tremaining: 505ms\n",
      "815:\tlearn: 6822.4512272\ttotal: 2.23s\tremaining: 502ms\n",
      "816:\tlearn: 6810.7565399\ttotal: 2.23s\tremaining: 500ms\n",
      "817:\tlearn: 6807.4545507\ttotal: 2.23s\tremaining: 497ms\n",
      "818:\tlearn: 6799.8497345\ttotal: 2.23s\tremaining: 494ms\n",
      "819:\tlearn: 6786.9645367\ttotal: 2.24s\tremaining: 491ms\n",
      "820:\tlearn: 6784.4955992\ttotal: 2.24s\tremaining: 488ms\n",
      "821:\tlearn: 6776.6191193\ttotal: 2.24s\tremaining: 486ms\n",
      "822:\tlearn: 6771.8498568\ttotal: 2.25s\tremaining: 483ms\n",
      "823:\tlearn: 6760.2647379\ttotal: 2.25s\tremaining: 480ms\n",
      "824:\tlearn: 6756.0830826\ttotal: 2.25s\tremaining: 477ms\n",
      "825:\tlearn: 6751.6312415\ttotal: 2.25s\tremaining: 475ms\n",
      "826:\tlearn: 6742.2075817\ttotal: 2.26s\tremaining: 472ms\n",
      "827:\tlearn: 6735.5206653\ttotal: 2.26s\tremaining: 469ms\n",
      "828:\tlearn: 6731.2135411\ttotal: 2.26s\tremaining: 466ms\n",
      "829:\tlearn: 6719.8034209\ttotal: 2.26s\tremaining: 464ms\n",
      "830:\tlearn: 6714.0806210\ttotal: 2.27s\tremaining: 461ms\n",
      "831:\tlearn: 6700.2623103\ttotal: 2.27s\tremaining: 458ms\n",
      "832:\tlearn: 6695.3403453\ttotal: 2.27s\tremaining: 456ms\n",
      "833:\tlearn: 6689.3624030\ttotal: 2.27s\tremaining: 453ms\n",
      "834:\tlearn: 6678.1673420\ttotal: 2.28s\tremaining: 450ms\n",
      "835:\tlearn: 6669.5257271\ttotal: 2.28s\tremaining: 447ms\n",
      "836:\tlearn: 6668.4719284\ttotal: 2.28s\tremaining: 445ms\n",
      "837:\tlearn: 6659.3430121\ttotal: 2.29s\tremaining: 442ms\n",
      "838:\tlearn: 6652.0649603\ttotal: 2.29s\tremaining: 439ms\n",
      "839:\tlearn: 6648.9745163\ttotal: 2.29s\tremaining: 436ms\n",
      "840:\tlearn: 6635.6483548\ttotal: 2.29s\tremaining: 434ms\n",
      "841:\tlearn: 6629.6804902\ttotal: 2.3s\tremaining: 431ms\n",
      "842:\tlearn: 6618.3229413\ttotal: 2.3s\tremaining: 428ms\n",
      "843:\tlearn: 6614.5437636\ttotal: 2.3s\tremaining: 425ms\n",
      "844:\tlearn: 6607.3189140\ttotal: 2.3s\tremaining: 423ms\n",
      "845:\tlearn: 6599.9674413\ttotal: 2.31s\tremaining: 420ms\n",
      "846:\tlearn: 6595.4991682\ttotal: 2.31s\tremaining: 417ms\n",
      "847:\tlearn: 6585.6250481\ttotal: 2.31s\tremaining: 415ms\n",
      "848:\tlearn: 6578.5903199\ttotal: 2.31s\tremaining: 412ms\n",
      "849:\tlearn: 6570.1783658\ttotal: 2.32s\tremaining: 409ms\n",
      "850:\tlearn: 6562.2846452\ttotal: 2.32s\tremaining: 406ms\n",
      "851:\tlearn: 6555.7798083\ttotal: 2.32s\tremaining: 403ms\n",
      "852:\tlearn: 6544.7723901\ttotal: 2.33s\tremaining: 401ms\n",
      "853:\tlearn: 6532.3934875\ttotal: 2.33s\tremaining: 398ms\n",
      "854:\tlearn: 6528.4703820\ttotal: 2.33s\tremaining: 395ms\n",
      "855:\tlearn: 6521.2381297\ttotal: 2.33s\tremaining: 392ms\n",
      "856:\tlearn: 6518.3016501\ttotal: 2.33s\tremaining: 390ms\n",
      "857:\tlearn: 6508.8325731\ttotal: 2.34s\tremaining: 387ms\n",
      "858:\tlearn: 6498.8443376\ttotal: 2.34s\tremaining: 384ms\n",
      "859:\tlearn: 6498.2127028\ttotal: 2.34s\tremaining: 381ms\n",
      "860:\tlearn: 6497.2950814\ttotal: 2.35s\tremaining: 379ms\n",
      "861:\tlearn: 6486.9136219\ttotal: 2.35s\tremaining: 376ms\n",
      "862:\tlearn: 6479.2155136\ttotal: 2.35s\tremaining: 373ms\n",
      "863:\tlearn: 6469.9045350\ttotal: 2.35s\tremaining: 370ms\n",
      "864:\tlearn: 6456.8506266\ttotal: 2.35s\tremaining: 368ms\n",
      "865:\tlearn: 6455.4918120\ttotal: 2.36s\tremaining: 365ms\n",
      "866:\tlearn: 6450.4550921\ttotal: 2.36s\tremaining: 362ms\n",
      "867:\tlearn: 6447.5251500\ttotal: 2.36s\tremaining: 360ms\n",
      "868:\tlearn: 6439.9872847\ttotal: 2.37s\tremaining: 357ms\n",
      "869:\tlearn: 6432.5241488\ttotal: 2.37s\tremaining: 354ms\n",
      "870:\tlearn: 6424.0446666\ttotal: 2.37s\tremaining: 351ms\n",
      "871:\tlearn: 6416.0971783\ttotal: 2.37s\tremaining: 349ms\n",
      "872:\tlearn: 6411.1258050\ttotal: 2.38s\tremaining: 346ms\n",
      "873:\tlearn: 6402.9130419\ttotal: 2.38s\tremaining: 343ms\n",
      "874:\tlearn: 6397.7396944\ttotal: 2.38s\tremaining: 340ms\n",
      "875:\tlearn: 6385.4574167\ttotal: 2.38s\tremaining: 337ms\n",
      "876:\tlearn: 6373.7816402\ttotal: 2.39s\tremaining: 335ms\n",
      "877:\tlearn: 6363.3060224\ttotal: 2.39s\tremaining: 332ms\n",
      "878:\tlearn: 6356.6538824\ttotal: 2.39s\tremaining: 329ms\n",
      "879:\tlearn: 6351.6546938\ttotal: 2.39s\tremaining: 326ms\n",
      "880:\tlearn: 6346.4994884\ttotal: 2.4s\tremaining: 324ms\n",
      "881:\tlearn: 6345.7159683\ttotal: 2.4s\tremaining: 321ms\n",
      "882:\tlearn: 6338.7596766\ttotal: 2.4s\tremaining: 318ms\n",
      "883:\tlearn: 6333.1835352\ttotal: 2.4s\tremaining: 315ms\n",
      "884:\tlearn: 6325.7501971\ttotal: 2.41s\tremaining: 313ms\n",
      "885:\tlearn: 6314.7788608\ttotal: 2.41s\tremaining: 310ms\n",
      "886:\tlearn: 6309.3455273\ttotal: 2.41s\tremaining: 307ms\n",
      "887:\tlearn: 6298.0466790\ttotal: 2.41s\tremaining: 304ms\n",
      "888:\tlearn: 6294.3113480\ttotal: 2.42s\tremaining: 302ms\n",
      "889:\tlearn: 6291.7676469\ttotal: 2.42s\tremaining: 299ms\n",
      "890:\tlearn: 6283.5402066\ttotal: 2.42s\tremaining: 296ms\n",
      "891:\tlearn: 6279.2255064\ttotal: 2.42s\tremaining: 294ms\n",
      "892:\tlearn: 6272.9048047\ttotal: 2.43s\tremaining: 291ms\n",
      "893:\tlearn: 6268.4579855\ttotal: 2.43s\tremaining: 288ms\n",
      "894:\tlearn: 6263.5203009\ttotal: 2.43s\tremaining: 285ms\n",
      "895:\tlearn: 6248.6793720\ttotal: 2.43s\tremaining: 283ms\n",
      "896:\tlearn: 6247.3311945\ttotal: 2.44s\tremaining: 280ms\n",
      "897:\tlearn: 6237.5185280\ttotal: 2.44s\tremaining: 277ms\n",
      "898:\tlearn: 6230.2852359\ttotal: 2.44s\tremaining: 274ms\n",
      "899:\tlearn: 6221.0800011\ttotal: 2.44s\tremaining: 272ms\n",
      "900:\tlearn: 6211.4805191\ttotal: 2.45s\tremaining: 269ms\n",
      "901:\tlearn: 6203.1969824\ttotal: 2.45s\tremaining: 266ms\n",
      "902:\tlearn: 6195.7292107\ttotal: 2.45s\tremaining: 264ms\n",
      "903:\tlearn: 6189.1312613\ttotal: 2.46s\tremaining: 261ms\n",
      "904:\tlearn: 6181.1597401\ttotal: 2.46s\tremaining: 258ms\n",
      "905:\tlearn: 6178.8902697\ttotal: 2.46s\tremaining: 255ms\n",
      "906:\tlearn: 6174.2356900\ttotal: 2.46s\tremaining: 253ms\n",
      "907:\tlearn: 6165.6321183\ttotal: 2.47s\tremaining: 250ms\n",
      "908:\tlearn: 6160.6493477\ttotal: 2.47s\tremaining: 247ms\n",
      "909:\tlearn: 6155.4248727\ttotal: 2.47s\tremaining: 245ms\n",
      "910:\tlearn: 6145.9823773\ttotal: 2.48s\tremaining: 242ms\n",
      "911:\tlearn: 6140.8879502\ttotal: 2.48s\tremaining: 239ms\n",
      "912:\tlearn: 6134.9079252\ttotal: 2.48s\tremaining: 236ms\n",
      "913:\tlearn: 6124.6382906\ttotal: 2.48s\tremaining: 234ms\n",
      "914:\tlearn: 6116.3866574\ttotal: 2.48s\tremaining: 231ms\n",
      "915:\tlearn: 6110.2300055\ttotal: 2.49s\tremaining: 228ms\n",
      "916:\tlearn: 6105.0126578\ttotal: 2.49s\tremaining: 225ms\n",
      "917:\tlearn: 6100.6919144\ttotal: 2.49s\tremaining: 223ms\n",
      "918:\tlearn: 6094.3388442\ttotal: 2.5s\tremaining: 220ms\n",
      "919:\tlearn: 6086.1230499\ttotal: 2.5s\tremaining: 217ms\n",
      "920:\tlearn: 6077.5109403\ttotal: 2.5s\tremaining: 215ms\n",
      "921:\tlearn: 6070.7715570\ttotal: 2.5s\tremaining: 212ms\n",
      "922:\tlearn: 6066.8004159\ttotal: 2.51s\tremaining: 209ms\n",
      "923:\tlearn: 6058.3428105\ttotal: 2.51s\tremaining: 206ms\n",
      "924:\tlearn: 6051.3864028\ttotal: 2.51s\tremaining: 204ms\n",
      "925:\tlearn: 6047.9716783\ttotal: 2.51s\tremaining: 201ms\n",
      "926:\tlearn: 6044.9538856\ttotal: 2.52s\tremaining: 198ms\n",
      "927:\tlearn: 6034.4084483\ttotal: 2.52s\tremaining: 195ms\n",
      "928:\tlearn: 6027.4148523\ttotal: 2.52s\tremaining: 193ms\n",
      "929:\tlearn: 6018.6286104\ttotal: 2.52s\tremaining: 190ms\n",
      "930:\tlearn: 6009.2706499\ttotal: 2.53s\tremaining: 187ms\n",
      "931:\tlearn: 6006.7958894\ttotal: 2.53s\tremaining: 185ms\n",
      "932:\tlearn: 5994.8037775\ttotal: 2.53s\tremaining: 182ms\n",
      "933:\tlearn: 5986.5631694\ttotal: 2.54s\tremaining: 179ms\n",
      "934:\tlearn: 5980.8167367\ttotal: 2.54s\tremaining: 176ms\n",
      "935:\tlearn: 5970.8021676\ttotal: 2.54s\tremaining: 174ms\n",
      "936:\tlearn: 5967.8372570\ttotal: 2.54s\tremaining: 171ms\n",
      "937:\tlearn: 5962.0420648\ttotal: 2.54s\tremaining: 168ms\n",
      "938:\tlearn: 5955.2614711\ttotal: 2.55s\tremaining: 166ms\n",
      "939:\tlearn: 5948.4092930\ttotal: 2.55s\tremaining: 163ms\n",
      "940:\tlearn: 5946.9005363\ttotal: 2.55s\tremaining: 160ms\n",
      "941:\tlearn: 5943.3701686\ttotal: 2.56s\tremaining: 157ms\n",
      "942:\tlearn: 5935.2616257\ttotal: 2.56s\tremaining: 155ms\n",
      "943:\tlearn: 5927.4350687\ttotal: 2.56s\tremaining: 152ms\n",
      "944:\tlearn: 5915.2253051\ttotal: 2.56s\tremaining: 149ms\n",
      "945:\tlearn: 5912.3337426\ttotal: 2.56s\tremaining: 146ms\n",
      "946:\tlearn: 5909.3774149\ttotal: 2.57s\tremaining: 144ms\n",
      "947:\tlearn: 5902.7241849\ttotal: 2.57s\tremaining: 141ms\n",
      "948:\tlearn: 5897.2232849\ttotal: 2.57s\tremaining: 138ms\n",
      "949:\tlearn: 5888.2702878\ttotal: 2.58s\tremaining: 136ms\n",
      "950:\tlearn: 5881.9031375\ttotal: 2.58s\tremaining: 133ms\n",
      "951:\tlearn: 5871.3424980\ttotal: 2.58s\tremaining: 130ms\n",
      "952:\tlearn: 5869.2888482\ttotal: 2.58s\tremaining: 127ms\n",
      "953:\tlearn: 5863.1625111\ttotal: 2.58s\tremaining: 125ms\n",
      "954:\tlearn: 5858.2888470\ttotal: 2.59s\tremaining: 122ms\n",
      "955:\tlearn: 5857.5474569\ttotal: 2.59s\tremaining: 119ms\n",
      "956:\tlearn: 5854.0962255\ttotal: 2.59s\tremaining: 117ms\n",
      "957:\tlearn: 5846.4021098\ttotal: 2.6s\tremaining: 114ms\n",
      "958:\tlearn: 5841.3759703\ttotal: 2.6s\tremaining: 111ms\n",
      "959:\tlearn: 5839.6867658\ttotal: 2.6s\tremaining: 108ms\n",
      "960:\tlearn: 5831.9182468\ttotal: 2.6s\tremaining: 106ms\n",
      "961:\tlearn: 5823.4639509\ttotal: 2.6s\tremaining: 103ms\n",
      "962:\tlearn: 5819.0016434\ttotal: 2.61s\tremaining: 100ms\n",
      "963:\tlearn: 5814.5761896\ttotal: 2.61s\tremaining: 97.5ms\n",
      "964:\tlearn: 5806.5985582\ttotal: 2.61s\tremaining: 94.8ms\n",
      "965:\tlearn: 5800.8424109\ttotal: 2.62s\tremaining: 92.1ms\n",
      "966:\tlearn: 5795.2782556\ttotal: 2.62s\tremaining: 89.4ms\n",
      "967:\tlearn: 5793.2206579\ttotal: 2.62s\tremaining: 86.6ms\n",
      "968:\tlearn: 5791.1679998\ttotal: 2.62s\tremaining: 83.9ms\n",
      "969:\tlearn: 5785.4473709\ttotal: 2.63s\tremaining: 81.2ms\n",
      "970:\tlearn: 5777.3108379\ttotal: 2.63s\tremaining: 78.5ms\n",
      "971:\tlearn: 5773.5971444\ttotal: 2.63s\tremaining: 75.8ms\n",
      "972:\tlearn: 5767.7069043\ttotal: 2.63s\tremaining: 73.1ms\n"
     ]
    },
    {
     "name": "stdout",
     "output_type": "stream",
     "text": [
      "973:\tlearn: 5758.7622999\ttotal: 2.64s\tremaining: 70.4ms\n",
      "974:\tlearn: 5753.9790250\ttotal: 2.64s\tremaining: 67.7ms\n",
      "975:\tlearn: 5747.9576666\ttotal: 2.64s\tremaining: 65ms\n",
      "976:\tlearn: 5744.2126501\ttotal: 2.64s\tremaining: 62.2ms\n",
      "977:\tlearn: 5741.0518518\ttotal: 2.65s\tremaining: 59.5ms\n",
      "978:\tlearn: 5737.2155678\ttotal: 2.65s\tremaining: 56.8ms\n",
      "979:\tlearn: 5731.5344002\ttotal: 2.65s\tremaining: 54.1ms\n",
      "980:\tlearn: 5716.9984842\ttotal: 2.65s\tremaining: 51.4ms\n",
      "981:\tlearn: 5712.9525229\ttotal: 2.66s\tremaining: 48.7ms\n",
      "982:\tlearn: 5707.8037274\ttotal: 2.66s\tremaining: 46ms\n",
      "983:\tlearn: 5705.9472571\ttotal: 2.66s\tremaining: 43.3ms\n",
      "984:\tlearn: 5702.2143996\ttotal: 2.67s\tremaining: 40.6ms\n",
      "985:\tlearn: 5698.1063300\ttotal: 2.67s\tremaining: 37.9ms\n",
      "986:\tlearn: 5686.5782755\ttotal: 2.67s\tremaining: 35.2ms\n",
      "987:\tlearn: 5678.6847576\ttotal: 2.67s\tremaining: 32.5ms\n",
      "988:\tlearn: 5676.5385990\ttotal: 2.68s\tremaining: 29.8ms\n",
      "989:\tlearn: 5670.0938496\ttotal: 2.68s\tremaining: 27.1ms\n",
      "990:\tlearn: 5664.9261863\ttotal: 2.68s\tremaining: 24.4ms\n",
      "991:\tlearn: 5658.6397070\ttotal: 2.69s\tremaining: 21.7ms\n",
      "992:\tlearn: 5648.9373776\ttotal: 2.69s\tremaining: 18.9ms\n",
      "993:\tlearn: 5639.9487549\ttotal: 2.69s\tremaining: 16.2ms\n",
      "994:\tlearn: 5639.5477316\ttotal: 2.69s\tremaining: 13.5ms\n",
      "995:\tlearn: 5633.0456256\ttotal: 2.7s\tremaining: 10.8ms\n",
      "996:\tlearn: 5628.9059071\ttotal: 2.7s\tremaining: 8.12ms\n",
      "997:\tlearn: 5622.3316906\ttotal: 2.7s\tremaining: 5.41ms\n",
      "998:\tlearn: 5617.3915811\ttotal: 2.7s\tremaining: 2.71ms\n",
      "999:\tlearn: 5616.1850026\ttotal: 2.71s\tremaining: 0us\n"
     ]
    }
   ],
   "source": [
    "cbr = CatBoostRegressor()\n",
    "cbr.fit(x_train,y_train)\n",
    "y_pred = lgbmr.predict(x_test)"
   ]
  },
  {
   "cell_type": "code",
   "execution_count": 36,
   "metadata": {},
   "outputs": [
    {
     "data": {
      "application/javascript": [
       "\n",
       "        if (window._pyforest_update_imports_cell) { window._pyforest_update_imports_cell('import pandas as pd\\nimport plotly.express as px\\nimport sklearn'); }\n",
       "    "
      ],
      "text/plain": [
       "<IPython.core.display.Javascript object>"
      ]
     },
     "metadata": {},
     "output_type": "display_data"
    },
    {
     "data": {
      "application/javascript": [
       "\n",
       "        if (window._pyforest_update_imports_cell) { window._pyforest_update_imports_cell('import pandas as pd\\nimport plotly.express as px\\nimport sklearn'); }\n",
       "    "
      ],
      "text/plain": [
       "<IPython.core.display.Javascript object>"
      ]
     },
     "metadata": {},
     "output_type": "display_data"
    },
    {
     "name": "stdout",
     "output_type": "stream",
     "text": [
      "rmse  27186.065196255946\n",
      "mse  739082140.8550789\n",
      "mae  16585.49614741556\n",
      "explained_variance_score 0.8947592556636934\n",
      "r2 0.8944968544095463\n"
     ]
    }
   ],
   "source": [
    "rmse = mean_squared_error(y_test,y_pred,squared=False)\n",
    "mse = mean_squared_error(y_test,y_pred,squared=True)\n",
    "mae = mean_absolute_error(y_test,y_pred)\n",
    "explained_variance_score = sklearn.metrics.explained_variance_score(y_test,y_pred)\n",
    "r2 = sklearn.metrics.r2_score(y_test,y_pred)\n",
    "print('rmse ', rmse)\n",
    "print('mse ', mse)\n",
    "print('mae ', mae)\n",
    "print('explained_variance_score',explained_variance_score)\n",
    "print('r2',r2)"
   ]
  },
  {
   "cell_type": "code",
   "execution_count": 37,
   "metadata": {},
   "outputs": [
    {
     "name": "stderr",
     "output_type": "stream",
     "text": [
      "[flaml.automl: 08-10 12:23:52] {1102} INFO - Evaluation method: cv\n",
      "[flaml.automl: 08-10 12:23:52] {630} INFO - Using RepeatedKFold\n",
      "[flaml.automl: 08-10 12:23:52] {1123} INFO - Minimizing error metric: 1-r2\n",
      "[flaml.automl: 08-10 12:23:52] {1143} INFO - List of ML learners in AutoML Run: ['lgbm', 'rf', 'catboost', 'xgboost', 'extra_tree']\n",
      "[flaml.automl: 08-10 12:23:52] {1210} INFO - iteration 0, current learner lgbm\n",
      "[flaml.automl: 08-10 12:23:52] {1361} INFO -  at 0.4s,\tbest lgbm's error=0.6541,\tbest lgbm's error=0.6541\n",
      "[flaml.automl: 08-10 12:23:52] {1210} INFO - iteration 1, current learner lgbm\n",
      "[flaml.automl: 08-10 12:23:52] {1361} INFO -  at 0.6s,\tbest lgbm's error=0.6541,\tbest lgbm's error=0.6541\n",
      "[flaml.automl: 08-10 12:23:52] {1210} INFO - iteration 2, current learner lgbm\n"
     ]
    },
    {
     "name": "stdout",
     "output_type": "stream",
     "text": [
      "Finished loading model, total used 4 iterations\n",
      "Finished loading model, total used 4 iterations\n"
     ]
    },
    {
     "name": "stderr",
     "output_type": "stream",
     "text": [
      "[flaml.automl: 08-10 12:23:52] {1361} INFO -  at 0.8s,\tbest lgbm's error=0.3973,\tbest lgbm's error=0.3973\n",
      "[flaml.automl: 08-10 12:23:52] {1210} INFO - iteration 3, current learner lgbm\n",
      "[flaml.automl: 08-10 12:23:52] {1361} INFO -  at 1.0s,\tbest lgbm's error=0.3090,\tbest lgbm's error=0.3090\n",
      "[flaml.automl: 08-10 12:23:52] {1210} INFO - iteration 4, current learner lgbm\n"
     ]
    },
    {
     "name": "stdout",
     "output_type": "stream",
     "text": [
      "Finished loading model, total used 4 iterations\n",
      "Finished loading model, total used 4 iterations\n"
     ]
    },
    {
     "name": "stderr",
     "output_type": "stream",
     "text": [
      "[flaml.automl: 08-10 12:23:53] {1361} INFO -  at 1.1s,\tbest lgbm's error=0.3090,\tbest lgbm's error=0.3090\n",
      "[flaml.automl: 08-10 12:23:53] {1210} INFO - iteration 5, current learner lgbm\n"
     ]
    },
    {
     "name": "stdout",
     "output_type": "stream",
     "text": [
      "Finished loading model, total used 4 iterations\n"
     ]
    },
    {
     "name": "stderr",
     "output_type": "stream",
     "text": [
      "[flaml.automl: 08-10 12:23:53] {1361} INFO -  at 1.4s,\tbest lgbm's error=0.2715,\tbest lgbm's error=0.2715\n",
      "[flaml.automl: 08-10 12:23:53] {1210} INFO - iteration 6, current learner xgboost\n",
      "[flaml.automl: 08-10 12:23:53] {1361} INFO -  at 1.6s,\tbest xgboost's error=3.0668,\tbest lgbm's error=0.2715\n",
      "[flaml.automl: 08-10 12:23:53] {1210} INFO - iteration 7, current learner lgbm\n"
     ]
    },
    {
     "name": "stdout",
     "output_type": "stream",
     "text": [
      "Finished loading model, total used 4 iterations\n"
     ]
    },
    {
     "name": "stderr",
     "output_type": "stream",
     "text": [
      "[flaml.automl: 08-10 12:23:53] {1361} INFO -  at 1.8s,\tbest lgbm's error=0.2708,\tbest lgbm's error=0.2708\n",
      "[flaml.automl: 08-10 12:23:53] {1210} INFO - iteration 8, current learner lgbm\n"
     ]
    },
    {
     "name": "stdout",
     "output_type": "stream",
     "text": [
      "Finished loading model, total used 8 iterations\n"
     ]
    },
    {
     "name": "stderr",
     "output_type": "stream",
     "text": [
      "[flaml.automl: 08-10 12:23:53] {1361} INFO -  at 2.1s,\tbest lgbm's error=0.2690,\tbest lgbm's error=0.2690\n",
      "[flaml.automl: 08-10 12:23:53] {1210} INFO - iteration 9, current learner lgbm\n"
     ]
    },
    {
     "name": "stdout",
     "output_type": "stream",
     "text": [
      "Finished loading model, total used 12 iterations\n"
     ]
    },
    {
     "name": "stderr",
     "output_type": "stream",
     "text": [
      "[flaml.automl: 08-10 12:23:54] {1361} INFO -  at 2.3s,\tbest lgbm's error=0.2156,\tbest lgbm's error=0.2156\n",
      "[flaml.automl: 08-10 12:23:54] {1210} INFO - iteration 10, current learner lgbm\n"
     ]
    },
    {
     "name": "stdout",
     "output_type": "stream",
     "text": [
      "Finished loading model, total used 8 iterations\n"
     ]
    },
    {
     "name": "stderr",
     "output_type": "stream",
     "text": [
      "[flaml.automl: 08-10 12:23:54] {1361} INFO -  at 2.5s,\tbest lgbm's error=0.1938,\tbest lgbm's error=0.1938\n",
      "[flaml.automl: 08-10 12:23:54] {1210} INFO - iteration 11, current learner lgbm\n",
      "[flaml.automl: 08-10 12:23:54] {1361} INFO -  at 2.6s,\tbest lgbm's error=0.1938,\tbest lgbm's error=0.1938\n",
      "[flaml.automl: 08-10 12:23:54] {1210} INFO - iteration 12, current learner lgbm\n"
     ]
    },
    {
     "name": "stdout",
     "output_type": "stream",
     "text": [
      "Finished loading model, total used 8 iterations\n",
      "Finished loading model, total used 8 iterations\n"
     ]
    },
    {
     "name": "stderr",
     "output_type": "stream",
     "text": [
      "[flaml.automl: 08-10 12:23:54] {1361} INFO -  at 2.8s,\tbest lgbm's error=0.1938,\tbest lgbm's error=0.1938\n",
      "[flaml.automl: 08-10 12:23:54] {1210} INFO - iteration 13, current learner xgboost\n",
      "[flaml.automl: 08-10 12:23:54] {1361} INFO -  at 3.0s,\tbest xgboost's error=3.0668,\tbest lgbm's error=0.1938\n",
      "[flaml.automl: 08-10 12:23:54] {1210} INFO - iteration 14, current learner lgbm\n"
     ]
    },
    {
     "name": "stdout",
     "output_type": "stream",
     "text": [
      "Finished loading model, total used 5 iterations\n"
     ]
    },
    {
     "name": "stderr",
     "output_type": "stream",
     "text": [
      "[flaml.automl: 08-10 12:23:55] {1361} INFO -  at 3.2s,\tbest lgbm's error=0.1786,\tbest lgbm's error=0.1786\n",
      "[flaml.automl: 08-10 12:23:55] {1210} INFO - iteration 15, current learner extra_tree\n",
      "[flaml.automl: 08-10 12:23:55] {1361} INFO -  at 3.4s,\tbest extra_tree's error=0.4155,\tbest lgbm's error=0.1786\n",
      "[flaml.automl: 08-10 12:23:55] {1210} INFO - iteration 16, current learner extra_tree\n"
     ]
    },
    {
     "name": "stdout",
     "output_type": "stream",
     "text": [
      "Finished loading model, total used 12 iterations\n"
     ]
    },
    {
     "name": "stderr",
     "output_type": "stream",
     "text": [
      "[flaml.automl: 08-10 12:23:55] {1361} INFO -  at 3.5s,\tbest extra_tree's error=0.3032,\tbest lgbm's error=0.1786\n",
      "[flaml.automl: 08-10 12:23:55] {1210} INFO - iteration 17, current learner lgbm\n",
      "[flaml.automl: 08-10 12:23:55] {1361} INFO -  at 3.7s,\tbest lgbm's error=0.1786,\tbest lgbm's error=0.1786\n",
      "[flaml.automl: 08-10 12:23:55] {1210} INFO - iteration 18, current learner extra_tree\n",
      "[flaml.automl: 08-10 12:23:55] {1361} INFO -  at 3.8s,\tbest extra_tree's error=0.3032,\tbest lgbm's error=0.1786\n",
      "[flaml.automl: 08-10 12:23:55] {1210} INFO - iteration 19, current learner rf\n"
     ]
    },
    {
     "name": "stdout",
     "output_type": "stream",
     "text": [
      "Finished loading model, total used 6 iterations\n"
     ]
    },
    {
     "name": "stderr",
     "output_type": "stream",
     "text": [
      "[flaml.automl: 08-10 12:23:55] {1361} INFO -  at 4.0s,\tbest rf's error=0.3968,\tbest lgbm's error=0.1786\n",
      "[flaml.automl: 08-10 12:23:55] {1210} INFO - iteration 20, current learner rf\n",
      "[flaml.automl: 08-10 12:23:55] {1361} INFO -  at 4.1s,\tbest rf's error=0.2824,\tbest lgbm's error=0.1786\n",
      "[flaml.automl: 08-10 12:23:55] {1210} INFO - iteration 21, current learner rf\n",
      "[flaml.automl: 08-10 12:23:56] {1361} INFO -  at 4.2s,\tbest rf's error=0.2824,\tbest lgbm's error=0.1786\n",
      "[flaml.automl: 08-10 12:23:56] {1210} INFO - iteration 22, current learner lgbm\n",
      "[flaml.automl: 08-10 12:23:56] {1361} INFO -  at 4.4s,\tbest lgbm's error=0.1786,\tbest lgbm's error=0.1786\n",
      "[flaml.automl: 08-10 12:23:56] {1210} INFO - iteration 23, current learner lgbm\n",
      "[flaml.automl: 08-10 12:23:56] {1361} INFO -  at 4.5s,\tbest lgbm's error=0.1786,\tbest lgbm's error=0.1786\n",
      "[flaml.automl: 08-10 12:23:56] {1210} INFO - iteration 24, current learner extra_tree\n"
     ]
    },
    {
     "name": "stdout",
     "output_type": "stream",
     "text": [
      "Finished loading model, total used 25 iterations\n",
      "Finished loading model, total used 8 iterations\n"
     ]
    },
    {
     "name": "stderr",
     "output_type": "stream",
     "text": [
      "[flaml.automl: 08-10 12:23:56] {1361} INFO -  at 4.7s,\tbest extra_tree's error=0.2777,\tbest lgbm's error=0.1786\n",
      "[flaml.automl: 08-10 12:23:56] {1210} INFO - iteration 25, current learner extra_tree\n",
      "[flaml.automl: 08-10 12:23:56] {1361} INFO -  at 4.9s,\tbest extra_tree's error=0.2227,\tbest lgbm's error=0.1786\n",
      "[flaml.automl: 08-10 12:23:56] {1210} INFO - iteration 26, current learner rf\n",
      "[flaml.automl: 08-10 12:23:56] {1361} INFO -  at 5.1s,\tbest rf's error=0.2455,\tbest lgbm's error=0.1786\n",
      "[flaml.automl: 08-10 12:23:56] {1210} INFO - iteration 27, current learner extra_tree\n",
      "[flaml.automl: 08-10 12:23:57] {1361} INFO -  at 5.2s,\tbest extra_tree's error=0.2227,\tbest lgbm's error=0.1786\n",
      "[flaml.automl: 08-10 12:23:57] {1210} INFO - iteration 28, current learner extra_tree\n",
      "[flaml.automl: 08-10 12:23:57] {1361} INFO -  at 5.4s,\tbest extra_tree's error=0.2219,\tbest lgbm's error=0.1786\n",
      "[flaml.automl: 08-10 12:23:57] {1210} INFO - iteration 29, current learner xgboost\n",
      "[flaml.automl: 08-10 12:23:57] {1361} INFO -  at 5.6s,\tbest xgboost's error=0.8844,\tbest lgbm's error=0.1786\n",
      "[flaml.automl: 08-10 12:23:57] {1210} INFO - iteration 30, current learner lgbm\n",
      "[flaml.automl: 08-10 12:23:57] {1361} INFO -  at 5.8s,\tbest lgbm's error=0.1786,\tbest lgbm's error=0.1786\n",
      "[flaml.automl: 08-10 12:23:57] {1210} INFO - iteration 31, current learner lgbm\n",
      "[flaml.automl: 08-10 12:23:57] {1361} INFO -  at 5.9s,\tbest lgbm's error=0.1786,\tbest lgbm's error=0.1786\n",
      "[flaml.automl: 08-10 12:23:57] {1210} INFO - iteration 32, current learner lgbm\n"
     ]
    },
    {
     "name": "stdout",
     "output_type": "stream",
     "text": [
      "Finished loading model, total used 17 iterations\n",
      "Finished loading model, total used 7 iterations\n"
     ]
    },
    {
     "name": "stderr",
     "output_type": "stream",
     "text": [
      "[flaml.automl: 08-10 12:23:58] {1361} INFO -  at 6.2s,\tbest lgbm's error=0.1786,\tbest lgbm's error=0.1786\n",
      "[flaml.automl: 08-10 12:23:58] {1210} INFO - iteration 33, current learner xgboost\n",
      "[flaml.automl: 08-10 12:23:58] {1361} INFO -  at 6.4s,\tbest xgboost's error=0.3955,\tbest lgbm's error=0.1786\n",
      "[flaml.automl: 08-10 12:23:58] {1210} INFO - iteration 34, current learner lgbm\n"
     ]
    },
    {
     "name": "stdout",
     "output_type": "stream",
     "text": [
      "Finished loading model, total used 19 iterations\n"
     ]
    },
    {
     "name": "stderr",
     "output_type": "stream",
     "text": [
      "[flaml.automl: 08-10 12:23:58] {1361} INFO -  at 6.5s,\tbest lgbm's error=0.1786,\tbest lgbm's error=0.1786\n",
      "[flaml.automl: 08-10 12:23:58] {1210} INFO - iteration 35, current learner xgboost\n",
      "[flaml.automl: 08-10 12:23:58] {1361} INFO -  at 6.7s,\tbest xgboost's error=0.3955,\tbest lgbm's error=0.1786\n",
      "[flaml.automl: 08-10 12:23:58] {1210} INFO - iteration 36, current learner xgboost\n"
     ]
    },
    {
     "name": "stdout",
     "output_type": "stream",
     "text": [
      "Finished loading model, total used 7 iterations\n"
     ]
    },
    {
     "name": "stderr",
     "output_type": "stream",
     "text": [
      "[flaml.automl: 08-10 12:23:58] {1361} INFO -  at 6.9s,\tbest xgboost's error=0.3250,\tbest lgbm's error=0.1786\n",
      "[flaml.automl: 08-10 12:23:58] {1210} INFO - iteration 37, current learner rf\n",
      "[flaml.automl: 08-10 12:23:58] {1361} INFO -  at 7.1s,\tbest rf's error=0.2321,\tbest lgbm's error=0.1786\n",
      "[flaml.automl: 08-10 12:23:58] {1210} INFO - iteration 38, current learner xgboost\n",
      "[flaml.automl: 08-10 12:23:59] {1361} INFO -  at 7.3s,\tbest xgboost's error=0.3250,\tbest lgbm's error=0.1786\n",
      "[flaml.automl: 08-10 12:23:59] {1210} INFO - iteration 39, current learner lgbm\n",
      "[flaml.automl: 08-10 12:23:59] {1361} INFO -  at 7.6s,\tbest lgbm's error=0.1768,\tbest lgbm's error=0.1768\n",
      "[flaml.automl: 08-10 12:23:59] {1210} INFO - iteration 40, current learner rf\n"
     ]
    },
    {
     "name": "stdout",
     "output_type": "stream",
     "text": [
      "Finished loading model, total used 20 iterations\n"
     ]
    },
    {
     "name": "stderr",
     "output_type": "stream",
     "text": [
      "[flaml.automl: 08-10 12:23:59] {1361} INFO -  at 7.8s,\tbest rf's error=0.2321,\tbest lgbm's error=0.1768\n",
      "[flaml.automl: 08-10 12:23:59] {1210} INFO - iteration 41, current learner xgboost\n",
      "[flaml.automl: 08-10 12:23:59] {1361} INFO -  at 8.0s,\tbest xgboost's error=0.3250,\tbest lgbm's error=0.1768\n",
      "[flaml.automl: 08-10 12:23:59] {1210} INFO - iteration 42, current learner lgbm\n",
      "[flaml.automl: 08-10 12:24:00] {1361} INFO -  at 8.2s,\tbest lgbm's error=0.1768,\tbest lgbm's error=0.1768\n",
      "[flaml.automl: 08-10 12:24:00] {1210} INFO - iteration 43, current learner xgboost\n",
      "[flaml.automl: 08-10 12:24:00] {1361} INFO -  at 8.4s,\tbest xgboost's error=0.3250,\tbest lgbm's error=0.1768\n",
      "[flaml.automl: 08-10 12:24:00] {1210} INFO - iteration 44, current learner extra_tree\n"
     ]
    },
    {
     "name": "stdout",
     "output_type": "stream",
     "text": [
      "Finished loading model, total used 19 iterations\n"
     ]
    },
    {
     "name": "stderr",
     "output_type": "stream",
     "text": [
      "[flaml.automl: 08-10 12:24:00] {1361} INFO -  at 8.6s,\tbest extra_tree's error=0.2219,\tbest lgbm's error=0.1768\n",
      "[flaml.automl: 08-10 12:24:00] {1210} INFO - iteration 45, current learner rf\n",
      "[flaml.automl: 08-10 12:24:00] {1361} INFO -  at 8.8s,\tbest rf's error=0.2321,\tbest lgbm's error=0.1768\n",
      "[flaml.automl: 08-10 12:24:00] {1210} INFO - iteration 46, current learner lgbm\n",
      "[flaml.automl: 08-10 12:24:01] {1361} INFO -  at 9.2s,\tbest lgbm's error=0.1768,\tbest lgbm's error=0.1768\n",
      "[flaml.automl: 08-10 12:24:01] {1210} INFO - iteration 47, current learner xgboost\n",
      "[flaml.automl: 08-10 12:24:01] {1361} INFO -  at 9.3s,\tbest xgboost's error=0.2848,\tbest lgbm's error=0.1768\n",
      "[flaml.automl: 08-10 12:24:01] {1210} INFO - iteration 48, current learner lgbm\n"
     ]
    },
    {
     "name": "stdout",
     "output_type": "stream",
     "text": [
      "Finished loading model, total used 21 iterations\n"
     ]
    },
    {
     "name": "stderr",
     "output_type": "stream",
     "text": [
      "[flaml.automl: 08-10 12:24:01] {1361} INFO -  at 9.6s,\tbest lgbm's error=0.1768,\tbest lgbm's error=0.1768\n",
      "[flaml.automl: 08-10 12:24:01] {1210} INFO - iteration 49, current learner lgbm\n",
      "[flaml.automl: 08-10 12:24:01] {1361} INFO -  at 9.8s,\tbest lgbm's error=0.1768,\tbest lgbm's error=0.1768\n",
      "[flaml.automl: 08-10 12:24:01] {1210} INFO - iteration 50, current learner xgboost\n"
     ]
    },
    {
     "name": "stdout",
     "output_type": "stream",
     "text": [
      "Finished loading model, total used 10 iterations\n",
      "Finished loading model, total used 39 iterations\n"
     ]
    },
    {
     "name": "stderr",
     "output_type": "stream",
     "text": [
      "[flaml.automl: 08-10 12:24:01] {1361} INFO -  at 9.9s,\tbest xgboost's error=0.2848,\tbest lgbm's error=0.1768\n",
      "[flaml.automl: 08-10 12:24:01] {1210} INFO - iteration 51, current learner lgbm\n",
      "[flaml.automl: 08-10 12:24:02] {1361} INFO -  at 10.1s,\tbest lgbm's error=0.1768,\tbest lgbm's error=0.1768\n",
      "[flaml.automl: 08-10 12:24:02] {1210} INFO - iteration 52, current learner lgbm\n"
     ]
    },
    {
     "name": "stdout",
     "output_type": "stream",
     "text": [
      "Finished loading model, total used 9 iterations\n"
     ]
    },
    {
     "name": "stderr",
     "output_type": "stream",
     "text": [
      "[flaml.automl: 08-10 12:24:02] {1361} INFO -  at 10.4s,\tbest lgbm's error=0.1768,\tbest lgbm's error=0.1768\n",
      "[flaml.automl: 08-10 12:24:02] {1210} INFO - iteration 53, current learner lgbm\n"
     ]
    },
    {
     "name": "stdout",
     "output_type": "stream",
     "text": [
      "Finished loading model, total used 47 iterations\n"
     ]
    },
    {
     "name": "stderr",
     "output_type": "stream",
     "text": [
      "[flaml.automl: 08-10 12:24:02] {1361} INFO -  at 10.6s,\tbest lgbm's error=0.1768,\tbest lgbm's error=0.1768\n",
      "[flaml.automl: 08-10 12:24:02] {1210} INFO - iteration 54, current learner lgbm\n",
      "[flaml.automl: 08-10 12:24:02] {1361} INFO -  at 10.8s,\tbest lgbm's error=0.1768,\tbest lgbm's error=0.1768\n",
      "[flaml.automl: 08-10 12:24:02] {1210} INFO - iteration 55, current learner rf\n"
     ]
    },
    {
     "name": "stdout",
     "output_type": "stream",
     "text": [
      "Finished loading model, total used 17 iterations\n",
      "Finished loading model, total used 24 iterations\n"
     ]
    },
    {
     "name": "stderr",
     "output_type": "stream",
     "text": [
      "[flaml.automl: 08-10 12:24:02] {1361} INFO -  at 11.0s,\tbest rf's error=0.2135,\tbest lgbm's error=0.1768\n",
      "[flaml.automl: 08-10 12:24:02] {1210} INFO - iteration 56, current learner lgbm\n",
      "[flaml.automl: 08-10 12:24:03] {1361} INFO -  at 11.2s,\tbest lgbm's error=0.1768,\tbest lgbm's error=0.1768\n",
      "[flaml.automl: 08-10 12:24:03] {1210} INFO - iteration 57, current learner lgbm\n"
     ]
    },
    {
     "name": "stdout",
     "output_type": "stream",
     "text": [
      "Finished loading model, total used 7 iterations\n"
     ]
    },
    {
     "name": "stderr",
     "output_type": "stream",
     "text": [
      "[flaml.automl: 08-10 12:24:03] {1361} INFO -  at 11.5s,\tbest lgbm's error=0.1729,\tbest lgbm's error=0.1729\n",
      "[flaml.automl: 08-10 12:24:03] {1210} INFO - iteration 58, current learner rf\n"
     ]
    },
    {
     "name": "stdout",
     "output_type": "stream",
     "text": [
      "Finished loading model, total used 55 iterations\n"
     ]
    },
    {
     "name": "stderr",
     "output_type": "stream",
     "text": [
      "[flaml.automl: 08-10 12:24:03] {1361} INFO -  at 11.8s,\tbest rf's error=0.2135,\tbest lgbm's error=0.1729\n",
      "[flaml.automl: 08-10 12:24:03] {1210} INFO - iteration 59, current learner lgbm\n",
      "[flaml.automl: 08-10 12:24:04] {1361} INFO -  at 12.1s,\tbest lgbm's error=0.1729,\tbest lgbm's error=0.1729\n",
      "[flaml.automl: 08-10 12:24:04] {1210} INFO - iteration 60, current learner rf\n",
      "[flaml.automl: 08-10 12:24:04] {1361} INFO -  at 12.3s,\tbest rf's error=0.2135,\tbest lgbm's error=0.1729\n",
      "[flaml.automl: 08-10 12:24:04] {1210} INFO - iteration 61, current learner lgbm\n"
     ]
    },
    {
     "name": "stdout",
     "output_type": "stream",
     "text": [
      "Finished loading model, total used 43 iterations\n"
     ]
    },
    {
     "name": "stderr",
     "output_type": "stream",
     "text": [
      "[flaml.automl: 08-10 12:24:04] {1361} INFO -  at 12.8s,\tbest lgbm's error=0.1625,\tbest lgbm's error=0.1625\n",
      "[flaml.automl: 08-10 12:24:04] {1210} INFO - iteration 62, current learner lgbm\n"
     ]
    },
    {
     "name": "stdout",
     "output_type": "stream",
     "text": [
      "Finished loading model, total used 70 iterations\n"
     ]
    },
    {
     "name": "stderr",
     "output_type": "stream",
     "text": [
      "[flaml.automl: 08-10 12:24:04] {1361} INFO -  at 13.1s,\tbest lgbm's error=0.1625,\tbest lgbm's error=0.1625\n",
      "[flaml.automl: 08-10 12:24:04] {1210} INFO - iteration 63, current learner lgbm\n"
     ]
    },
    {
     "name": "stdout",
     "output_type": "stream",
     "text": [
      "Finished loading model, total used 105 iterations\n"
     ]
    },
    {
     "name": "stderr",
     "output_type": "stream",
     "text": [
      "[flaml.automl: 08-10 12:24:05] {1361} INFO -  at 13.4s,\tbest lgbm's error=0.1625,\tbest lgbm's error=0.1625\n",
      "[flaml.automl: 08-10 12:24:05] {1210} INFO - iteration 64, current learner lgbm\n"
     ]
    },
    {
     "name": "stdout",
     "output_type": "stream",
     "text": [
      "Finished loading model, total used 47 iterations\n"
     ]
    },
    {
     "name": "stderr",
     "output_type": "stream",
     "text": [
      "[flaml.automl: 08-10 12:24:06] {1361} INFO -  at 14.2s,\tbest lgbm's error=0.1625,\tbest lgbm's error=0.1625\n",
      "[flaml.automl: 08-10 12:24:06] {1210} INFO - iteration 65, current learner lgbm\n"
     ]
    },
    {
     "name": "stdout",
     "output_type": "stream",
     "text": [
      "Finished loading model, total used 223 iterations\n"
     ]
    },
    {
     "name": "stderr",
     "output_type": "stream",
     "text": [
      "[flaml.automl: 08-10 12:24:06] {1361} INFO -  at 14.4s,\tbest lgbm's error=0.1625,\tbest lgbm's error=0.1625\n",
      "[flaml.automl: 08-10 12:24:06] {1210} INFO - iteration 66, current learner rf\n"
     ]
    },
    {
     "name": "stdout",
     "output_type": "stream",
     "text": [
      "Finished loading model, total used 22 iterations\n"
     ]
    },
    {
     "name": "stderr",
     "output_type": "stream",
     "text": [
      "[flaml.automl: 08-10 12:24:06] {1361} INFO -  at 14.6s,\tbest rf's error=0.2135,\tbest lgbm's error=0.1625\n",
      "[flaml.automl: 08-10 12:24:06] {1210} INFO - iteration 67, current learner lgbm\n",
      "[flaml.automl: 08-10 12:24:06] {1361} INFO -  at 15.0s,\tbest lgbm's error=0.1625,\tbest lgbm's error=0.1625\n",
      "[flaml.automl: 08-10 12:24:06] {1210} INFO - iteration 68, current learner lgbm\n"
     ]
    },
    {
     "name": "stdout",
     "output_type": "stream",
     "text": [
      "Finished loading model, total used 50 iterations\n"
     ]
    },
    {
     "name": "stderr",
     "output_type": "stream",
     "text": [
      "[flaml.automl: 08-10 12:24:07] {1361} INFO -  at 15.3s,\tbest lgbm's error=0.1625,\tbest lgbm's error=0.1625\n",
      "[flaml.automl: 08-10 12:24:07] {1210} INFO - iteration 69, current learner lgbm\n"
     ]
    },
    {
     "name": "stdout",
     "output_type": "stream",
     "text": [
      "Finished loading model, total used 98 iterations\n"
     ]
    },
    {
     "name": "stderr",
     "output_type": "stream",
     "text": [
      "[flaml.automl: 08-10 12:24:07] {1361} INFO -  at 15.7s,\tbest lgbm's error=0.1625,\tbest lgbm's error=0.1625\n",
      "[flaml.automl: 08-10 12:24:07] {1210} INFO - iteration 70, current learner rf\n"
     ]
    },
    {
     "name": "stdout",
     "output_type": "stream",
     "text": [
      "Finished loading model, total used 87 iterations\n"
     ]
    },
    {
     "name": "stderr",
     "output_type": "stream",
     "text": [
      "[flaml.automl: 08-10 12:24:07] {1361} INFO -  at 15.9s,\tbest rf's error=0.2135,\tbest lgbm's error=0.1625\n",
      "[flaml.automl: 08-10 12:24:07] {1210} INFO - iteration 71, current learner lgbm\n",
      "[flaml.automl: 08-10 12:24:08] {1361} INFO -  at 16.2s,\tbest lgbm's error=0.1625,\tbest lgbm's error=0.1625\n",
      "[flaml.automl: 08-10 12:24:08] {1210} INFO - iteration 72, current learner xgboost\n",
      "[flaml.automl: 08-10 12:24:08] {1361} INFO -  at 16.3s,\tbest xgboost's error=0.2848,\tbest lgbm's error=0.1625\n",
      "[flaml.automl: 08-10 12:24:08] {1210} INFO - iteration 73, current learner rf\n"
     ]
    },
    {
     "name": "stdout",
     "output_type": "stream",
     "text": [
      "Finished loading model, total used 56 iterations\n"
     ]
    },
    {
     "name": "stderr",
     "output_type": "stream",
     "text": [
      "[flaml.automl: 08-10 12:24:08] {1361} INFO -  at 16.5s,\tbest rf's error=0.2135,\tbest lgbm's error=0.1625\n",
      "[flaml.automl: 08-10 12:24:08] {1210} INFO - iteration 74, current learner xgboost\n",
      "[flaml.automl: 08-10 12:24:08] {1361} INFO -  at 16.7s,\tbest xgboost's error=0.2470,\tbest lgbm's error=0.1625\n",
      "[flaml.automl: 08-10 12:24:08] {1210} INFO - iteration 75, current learner lgbm\n",
      "[flaml.automl: 08-10 12:24:08] {1361} INFO -  at 16.9s,\tbest lgbm's error=0.1625,\tbest lgbm's error=0.1625\n",
      "[flaml.automl: 08-10 12:24:08] {1210} INFO - iteration 76, current learner lgbm\n"
     ]
    },
    {
     "name": "stdout",
     "output_type": "stream",
     "text": [
      "Finished loading model, total used 43 iterations\n"
     ]
    },
    {
     "name": "stderr",
     "output_type": "stream",
     "text": [
      "[flaml.automl: 08-10 12:24:09] {1361} INFO -  at 17.5s,\tbest lgbm's error=0.1625,\tbest lgbm's error=0.1625\n",
      "[flaml.automl: 08-10 12:24:09] {1210} INFO - iteration 77, current learner xgboost\n"
     ]
    },
    {
     "name": "stdout",
     "output_type": "stream",
     "text": [
      "Finished loading model, total used 113 iterations\n"
     ]
    },
    {
     "name": "stderr",
     "output_type": "stream",
     "text": [
      "[flaml.automl: 08-10 12:24:09] {1361} INFO -  at 17.7s,\tbest xgboost's error=0.2470,\tbest lgbm's error=0.1625\n",
      "[flaml.automl: 08-10 12:24:09] {1210} INFO - iteration 78, current learner lgbm\n",
      "[flaml.automl: 08-10 12:24:09] {1361} INFO -  at 17.9s,\tbest lgbm's error=0.1625,\tbest lgbm's error=0.1625\n",
      "[flaml.automl: 08-10 12:24:09] {1210} INFO - iteration 79, current learner lgbm\n"
     ]
    },
    {
     "name": "stdout",
     "output_type": "stream",
     "text": [
      "Finished loading model, total used 72 iterations\n"
     ]
    },
    {
     "name": "stderr",
     "output_type": "stream",
     "text": [
      "[flaml.automl: 08-10 12:24:10] {1361} INFO -  at 18.4s,\tbest lgbm's error=0.1625,\tbest lgbm's error=0.1625\n",
      "[flaml.automl: 08-10 12:24:10] {1210} INFO - iteration 80, current learner xgboost\n"
     ]
    },
    {
     "name": "stdout",
     "output_type": "stream",
     "text": [
      "Finished loading model, total used 68 iterations\n"
     ]
    },
    {
     "name": "stderr",
     "output_type": "stream",
     "text": [
      "[flaml.automl: 08-10 12:24:10] {1361} INFO -  at 18.7s,\tbest xgboost's error=0.2470,\tbest lgbm's error=0.1625\n",
      "[flaml.automl: 08-10 12:24:10] {1210} INFO - iteration 81, current learner catboost\n",
      "[flaml.automl: 08-10 12:24:12] {1361} INFO -  at 20.5s,\tbest catboost's error=0.1938,\tbest lgbm's error=0.1625\n",
      "[flaml.automl: 08-10 12:24:12] {1210} INFO - iteration 82, current learner catboost\n",
      "[flaml.automl: 08-10 12:24:14] {1361} INFO -  at 22.9s,\tbest catboost's error=0.1938,\tbest lgbm's error=0.1625\n",
      "[flaml.automl: 08-10 12:24:14] {1210} INFO - iteration 83, current learner catboost\n",
      "[flaml.automl: 08-10 12:24:16] {1361} INFO -  at 24.3s,\tbest catboost's error=0.1938,\tbest lgbm's error=0.1625\n",
      "[flaml.automl: 08-10 12:24:16] {1210} INFO - iteration 84, current learner catboost\n",
      "[flaml.automl: 08-10 12:24:18] {1361} INFO -  at 27.1s,\tbest catboost's error=0.1866,\tbest lgbm's error=0.1625\n",
      "[flaml.automl: 08-10 12:24:18] {1210} INFO - iteration 85, current learner xgboost\n",
      "[flaml.automl: 08-10 12:24:19] {1361} INFO -  at 27.2s,\tbest xgboost's error=0.2470,\tbest lgbm's error=0.1625\n",
      "[flaml.automl: 08-10 12:24:19] {1210} INFO - iteration 86, current learner catboost\n",
      "[flaml.automl: 08-10 12:24:20] {1361} INFO -  at 29.1s,\tbest catboost's error=0.1866,\tbest lgbm's error=0.1625\n",
      "[flaml.automl: 08-10 12:24:20] {1210} INFO - iteration 87, current learner xgboost\n",
      "[flaml.automl: 08-10 12:24:21] {1361} INFO -  at 29.3s,\tbest xgboost's error=0.2470,\tbest lgbm's error=0.1625\n",
      "[flaml.automl: 08-10 12:24:21] {1210} INFO - iteration 88, current learner lgbm\n",
      "[flaml.automl: 08-10 12:24:21] {1361} INFO -  at 29.5s,\tbest lgbm's error=0.1625,\tbest lgbm's error=0.1625\n",
      "[flaml.automl: 08-10 12:24:21] {1210} INFO - iteration 89, current learner lgbm\n"
     ]
    },
    {
     "name": "stdout",
     "output_type": "stream",
     "text": [
      "Finished loading model, total used 110 iterations\n"
     ]
    },
    {
     "name": "stderr",
     "output_type": "stream",
     "text": [
      "[flaml.automl: 08-10 12:24:21] {1361} INFO -  at 29.8s,\tbest lgbm's error=0.1625,\tbest lgbm's error=0.1625\n",
      "[flaml.automl: 08-10 12:24:21] {1210} INFO - iteration 90, current learner xgboost\n",
      "[flaml.automl: 08-10 12:24:21] {1361} INFO -  at 29.9s,\tbest xgboost's error=0.2470,\tbest lgbm's error=0.1625\n",
      "[flaml.automl: 08-10 12:24:21] {1210} INFO - iteration 91, current learner lgbm\n"
     ]
    },
    {
     "name": "stdout",
     "output_type": "stream",
     "text": [
      "Finished loading model, total used 44 iterations\n"
     ]
    },
    {
     "name": "stderr",
     "output_type": "stream",
     "text": [
      "[flaml.automl: 08-10 12:24:22] {1361} INFO -  at 30.2s,\tbest lgbm's error=0.1625,\tbest lgbm's error=0.1625\n",
      "[flaml.automl: 08-10 12:24:22] {1210} INFO - iteration 92, current learner xgboost\n"
     ]
    },
    {
     "name": "stdout",
     "output_type": "stream",
     "text": [
      "Finished loading model, total used 40 iterations\n"
     ]
    },
    {
     "name": "stderr",
     "output_type": "stream",
     "text": [
      "[flaml.automl: 08-10 12:24:22] {1361} INFO -  at 30.5s,\tbest xgboost's error=0.2470,\tbest lgbm's error=0.1625\n",
      "[flaml.automl: 08-10 12:24:22] {1210} INFO - iteration 93, current learner rf\n",
      "[flaml.automl: 08-10 12:24:22] {1361} INFO -  at 30.7s,\tbest rf's error=0.2028,\tbest lgbm's error=0.1625\n",
      "[flaml.automl: 08-10 12:24:22] {1210} INFO - iteration 94, current learner rf\n",
      "[flaml.automl: 08-10 12:24:22] {1361} INFO -  at 30.9s,\tbest rf's error=0.2028,\tbest lgbm's error=0.1625\n",
      "[flaml.automl: 08-10 12:24:22] {1210} INFO - iteration 95, current learner lgbm\n",
      "[flaml.automl: 08-10 12:24:23] {1361} INFO -  at 31.2s,\tbest lgbm's error=0.1625,\tbest lgbm's error=0.1625\n",
      "[flaml.automl: 08-10 12:24:23] {1210} INFO - iteration 96, current learner xgboost\n",
      "[flaml.automl: 08-10 12:24:23] {1361} INFO -  at 31.4s,\tbest xgboost's error=0.2470,\tbest lgbm's error=0.1625\n",
      "[flaml.automl: 08-10 12:24:23] {1210} INFO - iteration 97, current learner lgbm\n"
     ]
    },
    {
     "name": "stdout",
     "output_type": "stream",
     "text": [
      "Finished loading model, total used 124 iterations\n"
     ]
    },
    {
     "name": "stderr",
     "output_type": "stream",
     "text": [
      "[flaml.automl: 08-10 12:24:23] {1361} INFO -  at 31.8s,\tbest lgbm's error=0.1625,\tbest lgbm's error=0.1625\n",
      "[flaml.automl: 08-10 12:24:23] {1210} INFO - iteration 98, current learner rf\n"
     ]
    },
    {
     "name": "stdout",
     "output_type": "stream",
     "text": [
      "Finished loading model, total used 149 iterations\n"
     ]
    },
    {
     "name": "stderr",
     "output_type": "stream",
     "text": [
      "[flaml.automl: 08-10 12:24:24] {1361} INFO -  at 32.2s,\tbest rf's error=0.2028,\tbest lgbm's error=0.1625\n",
      "[flaml.automl: 08-10 12:24:24] {1210} INFO - iteration 99, current learner lgbm\n",
      "[flaml.automl: 08-10 12:24:24] {1361} INFO -  at 32.5s,\tbest lgbm's error=0.1625,\tbest lgbm's error=0.1625\n",
      "[flaml.automl: 08-10 12:24:24] {1210} INFO - iteration 100, current learner lgbm\n"
     ]
    },
    {
     "name": "stdout",
     "output_type": "stream",
     "text": [
      "Finished loading model, total used 33 iterations\n"
     ]
    },
    {
     "name": "stderr",
     "output_type": "stream",
     "text": [
      "[flaml.automl: 08-10 12:24:24] {1361} INFO -  at 32.9s,\tbest lgbm's error=0.1625,\tbest lgbm's error=0.1625\n",
      "[flaml.automl: 08-10 12:24:24] {1210} INFO - iteration 101, current learner xgboost\n"
     ]
    },
    {
     "name": "stdout",
     "output_type": "stream",
     "text": [
      "Finished loading model, total used 99 iterations\n"
     ]
    },
    {
     "name": "stderr",
     "output_type": "stream",
     "text": [
      "[flaml.automl: 08-10 12:24:25] {1361} INFO -  at 33.3s,\tbest xgboost's error=0.2411,\tbest lgbm's error=0.1625\n",
      "[flaml.automl: 08-10 12:24:25] {1210} INFO - iteration 102, current learner rf\n",
      "[flaml.automl: 08-10 12:24:25] {1361} INFO -  at 33.5s,\tbest rf's error=0.2028,\tbest lgbm's error=0.1625\n",
      "[flaml.automl: 08-10 12:24:25] {1210} INFO - iteration 103, current learner lgbm\n",
      "[flaml.automl: 08-10 12:24:25] {1361} INFO -  at 33.7s,\tbest lgbm's error=0.1625,\tbest lgbm's error=0.1625\n",
      "[flaml.automl: 08-10 12:24:25] {1210} INFO - iteration 104, current learner rf\n"
     ]
    },
    {
     "name": "stdout",
     "output_type": "stream",
     "text": [
      "Finished loading model, total used 50 iterations\n"
     ]
    },
    {
     "name": "stderr",
     "output_type": "stream",
     "text": [
      "[flaml.automl: 08-10 12:24:25] {1361} INFO -  at 34.1s,\tbest rf's error=0.2028,\tbest lgbm's error=0.1625\n",
      "[flaml.automl: 08-10 12:24:25] {1210} INFO - iteration 105, current learner lgbm\n",
      "[flaml.automl: 08-10 12:24:26] {1361} INFO -  at 34.4s,\tbest lgbm's error=0.1625,\tbest lgbm's error=0.1625\n",
      "[flaml.automl: 08-10 12:24:26] {1210} INFO - iteration 106, current learner lgbm\n"
     ]
    },
    {
     "name": "stdout",
     "output_type": "stream",
     "text": [
      "Finished loading model, total used 120 iterations\n"
     ]
    },
    {
     "name": "stderr",
     "output_type": "stream",
     "text": [
      "[flaml.automl: 08-10 12:24:26] {1361} INFO -  at 34.7s,\tbest lgbm's error=0.1625,\tbest lgbm's error=0.1625\n",
      "[flaml.automl: 08-10 12:24:26] {1210} INFO - iteration 107, current learner xgboost\n"
     ]
    },
    {
     "name": "stdout",
     "output_type": "stream",
     "text": [
      "Finished loading model, total used 41 iterations\n"
     ]
    },
    {
     "name": "stderr",
     "output_type": "stream",
     "text": [
      "[flaml.automl: 08-10 12:24:26] {1361} INFO -  at 35.0s,\tbest xgboost's error=0.2411,\tbest lgbm's error=0.1625\n",
      "[flaml.automl: 08-10 12:24:26] {1210} INFO - iteration 108, current learner lgbm\n",
      "[flaml.automl: 08-10 12:24:27] {1361} INFO -  at 35.4s,\tbest lgbm's error=0.1625,\tbest lgbm's error=0.1625\n",
      "[flaml.automl: 08-10 12:24:27] {1210} INFO - iteration 109, current learner xgboost\n"
     ]
    },
    {
     "name": "stdout",
     "output_type": "stream",
     "text": [
      "Finished loading model, total used 76 iterations\n"
     ]
    },
    {
     "name": "stderr",
     "output_type": "stream",
     "text": [
      "[flaml.automl: 08-10 12:24:27] {1361} INFO -  at 35.6s,\tbest xgboost's error=0.2411,\tbest lgbm's error=0.1625\n",
      "[flaml.automl: 08-10 12:24:27] {1210} INFO - iteration 110, current learner rf\n",
      "[flaml.automl: 08-10 12:24:27] {1361} INFO -  at 36.0s,\tbest rf's error=0.2028,\tbest lgbm's error=0.1625\n",
      "[flaml.automl: 08-10 12:24:27] {1210} INFO - iteration 111, current learner lgbm\n",
      "[flaml.automl: 08-10 12:24:28] {1361} INFO -  at 36.4s,\tbest lgbm's error=0.1625,\tbest lgbm's error=0.1625\n",
      "[flaml.automl: 08-10 12:24:28] {1210} INFO - iteration 112, current learner xgboost\n"
     ]
    },
    {
     "name": "stdout",
     "output_type": "stream",
     "text": [
      "Finished loading model, total used 64 iterations\n"
     ]
    },
    {
     "name": "stderr",
     "output_type": "stream",
     "text": [
      "[flaml.automl: 08-10 12:24:28] {1361} INFO -  at 36.6s,\tbest xgboost's error=0.2411,\tbest lgbm's error=0.1625\n",
      "[flaml.automl: 08-10 12:24:28] {1210} INFO - iteration 113, current learner rf\n",
      "[flaml.automl: 08-10 12:24:28] {1361} INFO -  at 36.9s,\tbest rf's error=0.2028,\tbest lgbm's error=0.1625\n",
      "[flaml.automl: 08-10 12:24:28] {1210} INFO - iteration 114, current learner extra_tree\n",
      "[flaml.automl: 08-10 12:24:28] {1361} INFO -  at 37.1s,\tbest extra_tree's error=0.2079,\tbest lgbm's error=0.1625\n",
      "[flaml.automl: 08-10 12:24:28] {1210} INFO - iteration 115, current learner lgbm\n",
      "[flaml.automl: 08-10 12:24:29] {1361} INFO -  at 37.9s,\tbest lgbm's error=0.1625,\tbest lgbm's error=0.1625\n",
      "[flaml.automl: 08-10 12:24:29] {1210} INFO - iteration 116, current learner lgbm\n"
     ]
    },
    {
     "name": "stdout",
     "output_type": "stream",
     "text": [
      "Finished loading model, total used 104 iterations\n"
     ]
    },
    {
     "name": "stderr",
     "output_type": "stream",
     "text": [
      "[flaml.automl: 08-10 12:24:29] {1361} INFO -  at 38.1s,\tbest lgbm's error=0.1625,\tbest lgbm's error=0.1625\n",
      "[flaml.automl: 08-10 12:24:29] {1210} INFO - iteration 117, current learner extra_tree\n"
     ]
    },
    {
     "name": "stdout",
     "output_type": "stream",
     "text": [
      "Finished loading model, total used 47 iterations\n"
     ]
    },
    {
     "name": "stderr",
     "output_type": "stream",
     "text": [
      "[flaml.automl: 08-10 12:24:30] {1361} INFO -  at 38.4s,\tbest extra_tree's error=0.2079,\tbest lgbm's error=0.1625\n",
      "[flaml.automl: 08-10 12:24:30] {1210} INFO - iteration 118, current learner extra_tree\n",
      "[flaml.automl: 08-10 12:24:30] {1361} INFO -  at 38.6s,\tbest extra_tree's error=0.2079,\tbest lgbm's error=0.1625\n",
      "[flaml.automl: 08-10 12:24:30] {1210} INFO - iteration 119, current learner lgbm\n",
      "[flaml.automl: 08-10 12:24:30] {1361} INFO -  at 38.8s,\tbest lgbm's error=0.1625,\tbest lgbm's error=0.1625\n",
      "[flaml.automl: 08-10 12:24:30] {1210} INFO - iteration 120, current learner extra_tree\n"
     ]
    },
    {
     "name": "stdout",
     "output_type": "stream",
     "text": [
      "Finished loading model, total used 59 iterations\n"
     ]
    },
    {
     "name": "stderr",
     "output_type": "stream",
     "text": [
      "[flaml.automl: 08-10 12:24:31] {1361} INFO -  at 39.1s,\tbest extra_tree's error=0.2060,\tbest lgbm's error=0.1625\n",
      "[flaml.automl: 08-10 12:24:31] {1210} INFO - iteration 121, current learner catboost\n",
      "[flaml.automl: 08-10 12:24:35] {1361} INFO -  at 43.6s,\tbest catboost's error=0.1866,\tbest lgbm's error=0.1625\n",
      "[flaml.automl: 08-10 12:24:35] {1210} INFO - iteration 122, current learner extra_tree\n",
      "[flaml.automl: 08-10 12:24:35] {1361} INFO -  at 43.8s,\tbest extra_tree's error=0.2060,\tbest lgbm's error=0.1625\n",
      "[flaml.automl: 08-10 12:24:35] {1210} INFO - iteration 123, current learner rf\n",
      "[flaml.automl: 08-10 12:24:35] {1361} INFO -  at 44.1s,\tbest rf's error=0.2028,\tbest lgbm's error=0.1625\n",
      "[flaml.automl: 08-10 12:24:35] {1210} INFO - iteration 124, current learner lgbm\n",
      "[flaml.automl: 08-10 12:24:36] {1361} INFO -  at 44.4s,\tbest lgbm's error=0.1625,\tbest lgbm's error=0.1625\n",
      "[flaml.automl: 08-10 12:24:36] {1210} INFO - iteration 125, current learner lgbm\n"
     ]
    },
    {
     "name": "stdout",
     "output_type": "stream",
     "text": [
      "Finished loading model, total used 84 iterations\n"
     ]
    },
    {
     "name": "stderr",
     "output_type": "stream",
     "text": [
      "[flaml.automl: 08-10 12:24:36] {1361} INFO -  at 44.8s,\tbest lgbm's error=0.1625,\tbest lgbm's error=0.1625\n",
      "[flaml.automl: 08-10 12:24:36] {1210} INFO - iteration 126, current learner lgbm\n"
     ]
    },
    {
     "name": "stdout",
     "output_type": "stream",
     "text": [
      "Finished loading model, total used 146 iterations\n"
     ]
    },
    {
     "name": "stderr",
     "output_type": "stream",
     "text": [
      "[flaml.automl: 08-10 12:24:36] {1361} INFO -  at 45.0s,\tbest lgbm's error=0.1625,\tbest lgbm's error=0.1625\n",
      "[flaml.automl: 08-10 12:24:36] {1210} INFO - iteration 127, current learner lgbm\n"
     ]
    },
    {
     "name": "stdout",
     "output_type": "stream",
     "text": [
      "Finished loading model, total used 33 iterations\n"
     ]
    },
    {
     "name": "stderr",
     "output_type": "stream",
     "text": [
      "[flaml.automl: 08-10 12:24:37] {1361} INFO -  at 45.3s,\tbest lgbm's error=0.1625,\tbest lgbm's error=0.1625\n",
      "[flaml.automl: 08-10 12:24:37] {1210} INFO - iteration 128, current learner lgbm\n"
     ]
    },
    {
     "name": "stdout",
     "output_type": "stream",
     "text": [
      "Finished loading model, total used 72 iterations\n"
     ]
    },
    {
     "name": "stderr",
     "output_type": "stream",
     "text": [
      "[flaml.automl: 08-10 12:24:37] {1361} INFO -  at 45.6s,\tbest lgbm's error=0.1625,\tbest lgbm's error=0.1625\n",
      "[flaml.automl: 08-10 12:24:37] {1210} INFO - iteration 129, current learner xgboost\n"
     ]
    },
    {
     "name": "stdout",
     "output_type": "stream",
     "text": [
      "Finished loading model, total used 68 iterations\n"
     ]
    },
    {
     "name": "stderr",
     "output_type": "stream",
     "text": [
      "[flaml.automl: 08-10 12:24:37] {1361} INFO -  at 46.0s,\tbest xgboost's error=0.2172,\tbest lgbm's error=0.1625\n",
      "[flaml.automl: 08-10 12:24:37] {1210} INFO - iteration 130, current learner xgboost\n",
      "[flaml.automl: 08-10 12:24:38] {1361} INFO -  at 46.2s,\tbest xgboost's error=0.2172,\tbest lgbm's error=0.1625\n",
      "[flaml.automl: 08-10 12:24:38] {1210} INFO - iteration 131, current learner xgboost\n",
      "[flaml.automl: 08-10 12:24:38] {1361} INFO -  at 46.8s,\tbest xgboost's error=0.1949,\tbest lgbm's error=0.1625\n",
      "[flaml.automl: 08-10 12:24:38] {1210} INFO - iteration 132, current learner xgboost\n",
      "[flaml.automl: 08-10 12:24:39] {1361} INFO -  at 47.5s,\tbest xgboost's error=0.1792,\tbest lgbm's error=0.1625\n",
      "[flaml.automl: 08-10 12:24:39] {1210} INFO - iteration 133, current learner rf\n",
      "[flaml.automl: 08-10 12:24:39] {1361} INFO -  at 47.7s,\tbest rf's error=0.2028,\tbest lgbm's error=0.1625\n",
      "[flaml.automl: 08-10 12:24:39] {1210} INFO - iteration 134, current learner xgboost\n",
      "[flaml.automl: 08-10 12:24:40] {1361} INFO -  at 48.3s,\tbest xgboost's error=0.1792,\tbest lgbm's error=0.1625\n",
      "[flaml.automl: 08-10 12:24:40] {1210} INFO - iteration 135, current learner xgboost\n",
      "[flaml.automl: 08-10 12:24:40] {1361} INFO -  at 48.7s,\tbest xgboost's error=0.1792,\tbest lgbm's error=0.1625\n",
      "[flaml.automl: 08-10 12:24:40] {1210} INFO - iteration 136, current learner extra_tree\n",
      "[flaml.automl: 08-10 12:24:41] {1361} INFO -  at 49.2s,\tbest extra_tree's error=0.2060,\tbest lgbm's error=0.1625\n",
      "[flaml.automl: 08-10 12:24:41] {1210} INFO - iteration 137, current learner xgboost\n",
      "[flaml.automl: 08-10 12:24:42] {1361} INFO -  at 51.0s,\tbest xgboost's error=0.1658,\tbest lgbm's error=0.1625\n",
      "[flaml.automl: 08-10 12:24:42] {1210} INFO - iteration 138, current learner lgbm\n",
      "[flaml.automl: 08-10 12:24:43] {1361} INFO -  at 51.2s,\tbest lgbm's error=0.1625,\tbest lgbm's error=0.1625\n",
      "[flaml.automl: 08-10 12:24:43] {1210} INFO - iteration 139, current learner xgboost\n"
     ]
    },
    {
     "name": "stdout",
     "output_type": "stream",
     "text": [
      "Finished loading model, total used 28 iterations\n"
     ]
    },
    {
     "name": "stderr",
     "output_type": "stream",
     "text": [
      "[flaml.automl: 08-10 12:24:44] {1361} INFO -  at 52.6s,\tbest xgboost's error=0.1623,\tbest xgboost's error=0.1623\n",
      "[flaml.automl: 08-10 12:24:44] {1210} INFO - iteration 140, current learner xgboost\n",
      "[flaml.automl: 08-10 12:24:46] {1361} INFO -  at 54.6s,\tbest xgboost's error=0.1623,\tbest xgboost's error=0.1623\n",
      "[flaml.automl: 08-10 12:24:46] {1210} INFO - iteration 141, current learner xgboost\n",
      "[flaml.automl: 08-10 12:24:47] {1361} INFO -  at 55.5s,\tbest xgboost's error=0.1623,\tbest xgboost's error=0.1623\n",
      "[flaml.automl: 08-10 12:24:47] {1210} INFO - iteration 142, current learner xgboost\n",
      "[flaml.automl: 08-10 12:24:49] {1361} INFO -  at 57.9s,\tbest xgboost's error=0.1623,\tbest xgboost's error=0.1623\n",
      "[flaml.automl: 08-10 12:24:49] {1210} INFO - iteration 143, current learner xgboost\n",
      "[flaml.automl: 08-10 12:24:52] {1361} INFO -  at 60.9s,\tbest xgboost's error=0.1623,\tbest xgboost's error=0.1623\n",
      "[flaml.automl: 08-10 12:24:52] {1210} INFO - iteration 144, current learner xgboost\n",
      "[flaml.automl: 08-10 12:24:53] {1361} INFO -  at 61.4s,\tbest xgboost's error=0.1623,\tbest xgboost's error=0.1623\n",
      "[flaml.automl: 08-10 12:24:53] {1210} INFO - iteration 145, current learner xgboost\n",
      "[flaml.automl: 08-10 12:24:54] {1361} INFO -  at 62.9s,\tbest xgboost's error=0.1623,\tbest xgboost's error=0.1623\n",
      "[flaml.automl: 08-10 12:24:54] {1210} INFO - iteration 146, current learner lgbm\n",
      "[flaml.automl: 08-10 12:24:55] {1361} INFO -  at 63.4s,\tbest lgbm's error=0.1625,\tbest xgboost's error=0.1623\n",
      "[flaml.automl: 08-10 12:24:55] {1210} INFO - iteration 147, current learner lgbm\n"
     ]
    },
    {
     "name": "stdout",
     "output_type": "stream",
     "text": [
      "Finished loading model, total used 174 iterations\n"
     ]
    },
    {
     "name": "stderr",
     "output_type": "stream",
     "text": [
      "[flaml.automl: 08-10 12:24:55] {1361} INFO -  at 63.8s,\tbest lgbm's error=0.1625,\tbest xgboost's error=0.1623\n",
      "[flaml.automl: 08-10 12:24:55] {1210} INFO - iteration 148, current learner lgbm\n"
     ]
    },
    {
     "name": "stdout",
     "output_type": "stream",
     "text": [
      "Finished loading model, total used 75 iterations\n"
     ]
    },
    {
     "name": "stderr",
     "output_type": "stream",
     "text": [
      "[flaml.automl: 08-10 12:24:55] {1361} INFO -  at 64.1s,\tbest lgbm's error=0.1625,\tbest xgboost's error=0.1623\n",
      "[flaml.automl: 08-10 12:24:55] {1210} INFO - iteration 149, current learner lgbm\n"
     ]
    },
    {
     "name": "stdout",
     "output_type": "stream",
     "text": [
      "Finished loading model, total used 66 iterations\n"
     ]
    },
    {
     "name": "stderr",
     "output_type": "stream",
     "text": [
      "[flaml.automl: 08-10 12:24:56] {1361} INFO -  at 64.7s,\tbest lgbm's error=0.1625,\tbest xgboost's error=0.1623\n",
      "[flaml.automl: 08-10 12:24:56] {1210} INFO - iteration 150, current learner lgbm\n",
      "[flaml.automl: 08-10 12:24:56] {1361} INFO -  at 64.9s,\tbest lgbm's error=0.1625,\tbest xgboost's error=0.1623\n",
      "[flaml.automl: 08-10 12:24:56] {1210} INFO - iteration 151, current learner lgbm\n"
     ]
    },
    {
     "name": "stdout",
     "output_type": "stream",
     "text": [
      "Finished loading model, total used 105 iterations\n",
      "Finished loading model, total used 47 iterations\n"
     ]
    },
    {
     "name": "stderr",
     "output_type": "stream",
     "text": [
      "[flaml.automl: 08-10 12:24:57] {1361} INFO -  at 65.1s,\tbest lgbm's error=0.1625,\tbest xgboost's error=0.1623\n",
      "[flaml.automl: 08-10 12:24:57] {1210} INFO - iteration 152, current learner xgboost\n"
     ]
    },
    {
     "name": "stdout",
     "output_type": "stream",
     "text": [
      "Finished loading model, total used 96 iterations\n"
     ]
    },
    {
     "name": "stderr",
     "output_type": "stream",
     "text": [
      "[flaml.automl: 08-10 12:24:57] {1361} INFO -  at 66.0s,\tbest xgboost's error=0.1623,\tbest xgboost's error=0.1623\n",
      "[flaml.automl: 08-10 12:24:57] {1210} INFO - iteration 153, current learner xgboost\n",
      "[flaml.automl: 08-10 12:24:59] {1361} INFO -  at 67.9s,\tbest xgboost's error=0.1623,\tbest xgboost's error=0.1623\n",
      "[flaml.automl: 08-10 12:24:59] {1210} INFO - iteration 154, current learner lgbm\n",
      "[flaml.automl: 08-10 12:25:00] {1361} INFO -  at 68.2s,\tbest lgbm's error=0.1625,\tbest xgboost's error=0.1623\n",
      "[flaml.automl: 08-10 12:25:00] {1210} INFO - iteration 155, current learner lgbm\n"
     ]
    },
    {
     "name": "stdout",
     "output_type": "stream",
     "text": [
      "Finished loading model, total used 51 iterations\n"
     ]
    },
    {
     "name": "stderr",
     "output_type": "stream",
     "text": [
      "[flaml.automl: 08-10 12:25:00] {1361} INFO -  at 68.5s,\tbest lgbm's error=0.1625,\tbest xgboost's error=0.1623\n",
      "[flaml.automl: 08-10 12:25:00] {1210} INFO - iteration 156, current learner extra_tree\n"
     ]
    },
    {
     "name": "stdout",
     "output_type": "stream",
     "text": [
      "Finished loading model, total used 75 iterations\n"
     ]
    },
    {
     "name": "stderr",
     "output_type": "stream",
     "text": [
      "[flaml.automl: 08-10 12:25:00] {1361} INFO -  at 68.7s,\tbest extra_tree's error=0.2060,\tbest xgboost's error=0.1623\n",
      "[flaml.automl: 08-10 12:25:00] {1210} INFO - iteration 157, current learner catboost\n",
      "[flaml.automl: 08-10 12:25:02] {1361} INFO -  at 70.9s,\tbest catboost's error=0.1866,\tbest xgboost's error=0.1623\n",
      "[flaml.automl: 08-10 12:25:02] {1210} INFO - iteration 158, current learner lgbm\n",
      "[flaml.automl: 08-10 12:25:03] {1361} INFO -  at 71.2s,\tbest lgbm's error=0.1625,\tbest xgboost's error=0.1623\n",
      "[flaml.automl: 08-10 12:25:03] {1210} INFO - iteration 159, current learner lgbm\n"
     ]
    },
    {
     "name": "stdout",
     "output_type": "stream",
     "text": [
      "Finished loading model, total used 65 iterations\n"
     ]
    },
    {
     "name": "stderr",
     "output_type": "stream",
     "text": [
      "[flaml.automl: 08-10 12:25:03] {1361} INFO -  at 71.6s,\tbest lgbm's error=0.1625,\tbest xgboost's error=0.1623\n",
      "[flaml.automl: 08-10 12:25:03] {1210} INFO - iteration 160, current learner xgboost\n"
     ]
    },
    {
     "name": "stdout",
     "output_type": "stream",
     "text": [
      "Finished loading model, total used 103 iterations\n"
     ]
    },
    {
     "name": "stderr",
     "output_type": "stream",
     "text": [
      "[flaml.automl: 08-10 12:25:04] {1361} INFO -  at 72.3s,\tbest xgboost's error=0.1623,\tbest xgboost's error=0.1623\n",
      "[flaml.automl: 08-10 12:25:04] {1210} INFO - iteration 161, current learner lgbm\n",
      "[flaml.automl: 08-10 12:25:04] {1361} INFO -  at 72.7s,\tbest lgbm's error=0.1625,\tbest xgboost's error=0.1623\n",
      "[flaml.automl: 08-10 12:25:04] {1210} INFO - iteration 162, current learner xgboost\n"
     ]
    },
    {
     "name": "stdout",
     "output_type": "stream",
     "text": [
      "Finished loading model, total used 48 iterations\n"
     ]
    },
    {
     "name": "stderr",
     "output_type": "stream",
     "text": [
      "[flaml.automl: 08-10 12:25:05] {1361} INFO -  at 73.6s,\tbest xgboost's error=0.1623,\tbest xgboost's error=0.1623\n",
      "[flaml.automl: 08-10 12:25:05] {1210} INFO - iteration 163, current learner extra_tree\n",
      "[flaml.automl: 08-10 12:25:06] {1361} INFO -  at 74.1s,\tbest extra_tree's error=0.1983,\tbest xgboost's error=0.1623\n",
      "[flaml.automl: 08-10 12:25:06] {1210} INFO - iteration 164, current learner extra_tree\n",
      "[flaml.automl: 08-10 12:25:06] {1361} INFO -  at 74.5s,\tbest extra_tree's error=0.1983,\tbest xgboost's error=0.1623\n",
      "[flaml.automl: 08-10 12:25:06] {1210} INFO - iteration 165, current learner lgbm\n",
      "[flaml.automl: 08-10 12:25:06] {1361} INFO -  at 74.8s,\tbest lgbm's error=0.1625,\tbest xgboost's error=0.1623\n",
      "[flaml.automl: 08-10 12:25:06] {1210} INFO - iteration 166, current learner xgboost\n"
     ]
    },
    {
     "name": "stdout",
     "output_type": "stream",
     "text": [
      "Finished loading model, total used 114 iterations\n"
     ]
    },
    {
     "name": "stderr",
     "output_type": "stream",
     "text": [
      "[flaml.automl: 08-10 12:25:08] {1361} INFO -  at 76.5s,\tbest xgboost's error=0.1623,\tbest xgboost's error=0.1623\n",
      "[flaml.automl: 08-10 12:25:08] {1210} INFO - iteration 167, current learner xgboost\n",
      "[flaml.automl: 08-10 12:25:09] {1361} INFO -  at 77.4s,\tbest xgboost's error=0.1623,\tbest xgboost's error=0.1623\n",
      "[flaml.automl: 08-10 12:25:09] {1210} INFO - iteration 168, current learner extra_tree\n",
      "[flaml.automl: 08-10 12:25:10] {1361} INFO -  at 78.5s,\tbest extra_tree's error=0.1983,\tbest xgboost's error=0.1623\n",
      "[flaml.automl: 08-10 12:25:10] {1210} INFO - iteration 169, current learner lgbm\n",
      "[flaml.automl: 08-10 12:25:10] {1361} INFO -  at 78.8s,\tbest lgbm's error=0.1625,\tbest xgboost's error=0.1623\n",
      "[flaml.automl: 08-10 12:25:10] {1210} INFO - iteration 170, current learner lgbm\n"
     ]
    },
    {
     "name": "stdout",
     "output_type": "stream",
     "text": [
      "Finished loading model, total used 43 iterations\n"
     ]
    },
    {
     "name": "stderr",
     "output_type": "stream",
     "text": [
      "[flaml.automl: 08-10 12:25:11] {1361} INFO -  at 79.5s,\tbest lgbm's error=0.1621,\tbest lgbm's error=0.1621\n",
      "[flaml.automl: 08-10 12:25:11] {1210} INFO - iteration 171, current learner lgbm\n"
     ]
    },
    {
     "name": "stdout",
     "output_type": "stream",
     "text": [
      "Finished loading model, total used 102 iterations\n"
     ]
    },
    {
     "name": "stderr",
     "output_type": "stream",
     "text": [
      "[flaml.automl: 08-10 12:25:12] {1361} INFO -  at 80.2s,\tbest lgbm's error=0.1621,\tbest lgbm's error=0.1621\n",
      "[flaml.automl: 08-10 12:25:12] {1210} INFO - iteration 172, current learner catboost\n"
     ]
    },
    {
     "name": "stdout",
     "output_type": "stream",
     "text": [
      "Finished loading model, total used 70 iterations\n"
     ]
    },
    {
     "name": "stderr",
     "output_type": "stream",
     "text": [
      "[flaml.automl: 08-10 12:25:16] {1361} INFO -  at 84.5s,\tbest catboost's error=0.1866,\tbest lgbm's error=0.1621\n",
      "[flaml.automl: 08-10 12:25:16] {1210} INFO - iteration 173, current learner xgboost\n",
      "[flaml.automl: 08-10 12:25:19] {1361} INFO -  at 87.2s,\tbest xgboost's error=0.1623,\tbest lgbm's error=0.1621\n",
      "[flaml.automl: 08-10 12:25:19] {1210} INFO - iteration 174, current learner xgboost\n",
      "[flaml.automl: 08-10 12:25:20] {1361} INFO -  at 88.6s,\tbest xgboost's error=0.1623,\tbest lgbm's error=0.1621\n",
      "[flaml.automl: 08-10 12:25:20] {1210} INFO - iteration 175, current learner lgbm\n",
      "[flaml.automl: 08-10 12:25:20] {1361} INFO -  at 89.1s,\tbest lgbm's error=0.1621,\tbest lgbm's error=0.1621\n",
      "[flaml.automl: 08-10 12:25:20] {1210} INFO - iteration 176, current learner extra_tree\n"
     ]
    },
    {
     "name": "stdout",
     "output_type": "stream",
     "text": [
      "Finished loading model, total used 53 iterations\n"
     ]
    },
    {
     "name": "stderr",
     "output_type": "stream",
     "text": [
      "[flaml.automl: 08-10 12:25:22] {1361} INFO -  at 90.1s,\tbest extra_tree's error=0.1978,\tbest lgbm's error=0.1621\n",
      "[flaml.automl: 08-10 12:25:22] {1210} INFO - iteration 177, current learner rf\n",
      "[flaml.automl: 08-10 12:25:22] {1361} INFO -  at 90.4s,\tbest rf's error=0.2028,\tbest lgbm's error=0.1621\n",
      "[flaml.automl: 08-10 12:25:22] {1210} INFO - iteration 178, current learner lgbm\n",
      "[flaml.automl: 08-10 12:25:22] {1361} INFO -  at 90.6s,\tbest lgbm's error=0.1621,\tbest lgbm's error=0.1621\n",
      "[flaml.automl: 08-10 12:25:22] {1210} INFO - iteration 179, current learner rf\n"
     ]
    },
    {
     "name": "stdout",
     "output_type": "stream",
     "text": [
      "Finished loading model, total used 82 iterations\n"
     ]
    },
    {
     "name": "stderr",
     "output_type": "stream",
     "text": [
      "[flaml.automl: 08-10 12:25:22] {1361} INFO -  at 91.0s,\tbest rf's error=0.2028,\tbest lgbm's error=0.1621\n",
      "[flaml.automl: 08-10 12:25:22] {1210} INFO - iteration 180, current learner xgboost\n",
      "[flaml.automl: 08-10 12:25:24] {1361} INFO -  at 93.0s,\tbest xgboost's error=0.1623,\tbest lgbm's error=0.1621\n",
      "[flaml.automl: 08-10 12:25:24] {1210} INFO - iteration 181, current learner catboost\n",
      "[flaml.automl: 08-10 12:25:27] {1361} INFO -  at 95.2s,\tbest catboost's error=0.1866,\tbest lgbm's error=0.1621\n",
      "[flaml.automl: 08-10 12:25:27] {1210} INFO - iteration 182, current learner lgbm\n",
      "[flaml.automl: 08-10 12:25:27] {1361} INFO -  at 95.4s,\tbest lgbm's error=0.1621,\tbest lgbm's error=0.1621\n",
      "[flaml.automl: 08-10 12:25:27] {1210} INFO - iteration 183, current learner lgbm\n"
     ]
    },
    {
     "name": "stdout",
     "output_type": "stream",
     "text": [
      "Finished loading model, total used 32 iterations\n"
     ]
    },
    {
     "name": "stderr",
     "output_type": "stream",
     "text": [
      "[flaml.automl: 08-10 12:25:27] {1361} INFO -  at 95.8s,\tbest lgbm's error=0.1621,\tbest lgbm's error=0.1621\n",
      "[flaml.automl: 08-10 12:25:27] {1210} INFO - iteration 184, current learner lgbm\n"
     ]
    },
    {
     "name": "stdout",
     "output_type": "stream",
     "text": [
      "Finished loading model, total used 20 iterations\n"
     ]
    },
    {
     "name": "stderr",
     "output_type": "stream",
     "text": [
      "[flaml.automl: 08-10 12:25:28] {1361} INFO -  at 96.2s,\tbest lgbm's error=0.1621,\tbest lgbm's error=0.1621\n",
      "[flaml.automl: 08-10 12:25:28] {1210} INFO - iteration 185, current learner rf\n"
     ]
    },
    {
     "name": "stdout",
     "output_type": "stream",
     "text": [
      "Finished loading model, total used 114 iterations\n"
     ]
    },
    {
     "name": "stderr",
     "output_type": "stream",
     "text": [
      "[flaml.automl: 08-10 12:25:28] {1361} INFO -  at 96.6s,\tbest rf's error=0.2028,\tbest lgbm's error=0.1621\n",
      "[flaml.automl: 08-10 12:25:28] {1210} INFO - iteration 186, current learner lgbm\n",
      "[flaml.automl: 08-10 12:25:29] {1361} INFO -  at 97.4s,\tbest lgbm's error=0.1621,\tbest lgbm's error=0.1621\n",
      "[flaml.automl: 08-10 12:25:29] {1210} INFO - iteration 187, current learner xgboost\n"
     ]
    },
    {
     "name": "stdout",
     "output_type": "stream",
     "text": [
      "Finished loading model, total used 91 iterations\n"
     ]
    },
    {
     "name": "stderr",
     "output_type": "stream",
     "text": [
      "[flaml.automl: 08-10 12:25:30] {1361} INFO -  at 98.2s,\tbest xgboost's error=0.1623,\tbest lgbm's error=0.1621\n",
      "[flaml.automl: 08-10 12:25:30] {1210} INFO - iteration 188, current learner lgbm\n",
      "[flaml.automl: 08-10 12:25:30] {1361} INFO -  at 98.5s,\tbest lgbm's error=0.1621,\tbest lgbm's error=0.1621\n",
      "[flaml.automl: 08-10 12:25:30] {1210} INFO - iteration 189, current learner lgbm\n"
     ]
    },
    {
     "name": "stdout",
     "output_type": "stream",
     "text": [
      "Finished loading model, total used 10 iterations\n"
     ]
    },
    {
     "name": "stderr",
     "output_type": "stream",
     "text": [
      "[flaml.automl: 08-10 12:25:30] {1361} INFO -  at 99.0s,\tbest lgbm's error=0.1621,\tbest lgbm's error=0.1621\n",
      "[flaml.automl: 08-10 12:25:30] {1210} INFO - iteration 190, current learner rf\n"
     ]
    },
    {
     "name": "stdout",
     "output_type": "stream",
     "text": [
      "Finished loading model, total used 67 iterations\n"
     ]
    },
    {
     "name": "stderr",
     "output_type": "stream",
     "text": [
      "[flaml.automl: 08-10 12:25:31] {1361} INFO -  at 99.3s,\tbest rf's error=0.2028,\tbest lgbm's error=0.1621\n",
      "[flaml.automl: 08-10 12:25:31] {1210} INFO - iteration 191, current learner lgbm\n",
      "[flaml.automl: 08-10 12:25:31] {1361} INFO -  at 99.9s,\tbest lgbm's error=0.1621,\tbest lgbm's error=0.1621\n",
      "[flaml.automl: 08-10 12:25:31] {1407} INFO - selected model: LGBMRegressor(colsample_bytree=0.6217533307035629,\n",
      "              learning_rate=0.06020261268570429, max_bin=256,\n",
      "              min_child_samples=41, n_estimators=102, num_leaves=13,\n",
      "              objective='regression', reg_alpha=0.004951083947827691,\n",
      "              reg_lambda=0.11717900981041054)\n",
      "[flaml.automl: 08-10 12:25:31] {1161} INFO - fit succeeded\n"
     ]
    },
    {
     "name": "stdout",
     "output_type": "stream",
     "text": [
      "Finished loading model, total used 156 iterations\n"
     ]
    }
   ],
   "source": [
    "from flaml import AutoML\n",
    "automl = AutoML()\n",
    "automl_settings = {\"time_budget\" : 100,\"metric\" :  'rmse', \"task\":'regression',\"eval_method\" : 'cv'}\n",
    "automl.fit(x_train,y_train,**automl_settings) "
   ]
  },
  {
   "cell_type": "code",
   "execution_count": 38,
   "metadata": {},
   "outputs": [
    {
     "name": "stdout",
     "output_type": "stream",
     "text": [
      "rmse  28792.333093156172\n",
      "mse  828998444.9472561\n",
      "mae  16604.45990000299\n"
     ]
    }
   ],
   "source": [
    "y_pred = automl.predict(x_test)\n",
    "rmse = mean_squared_error(y_test,y_pred,squared=False)\n",
    "mse = mean_squared_error(y_test,y_pred,squared=True)\n",
    "mae = mean_absolute_error(y_test,y_pred)\n",
    "print('rmse ', rmse)\n",
    "print('mse ', mse)\n",
    "print('mae ', mae)"
   ]
  },
  {
   "cell_type": "code",
   "execution_count": 39,
   "metadata": {},
   "outputs": [
    {
     "data": {
      "application/javascript": [
       "\n",
       "        if (window._pyforest_update_imports_cell) { window._pyforest_update_imports_cell('import pandas as pd\\nimport plotly.express as px\\nimport sklearn'); }\n",
       "    "
      ],
      "text/plain": [
       "<IPython.core.display.Javascript object>"
      ]
     },
     "metadata": {},
     "output_type": "display_data"
    },
    {
     "data": {
      "text/plain": [
       "0.8817997010323972"
      ]
     },
     "execution_count": 39,
     "metadata": {},
     "output_type": "execute_result"
    }
   ],
   "source": [
    "sklearn.metrics.explained_variance_score(y_test,y_pred)"
   ]
  },
  {
   "cell_type": "code",
   "execution_count": 40,
   "metadata": {},
   "outputs": [
    {
     "data": {
      "application/javascript": [
       "\n",
       "        if (window._pyforest_update_imports_cell) { window._pyforest_update_imports_cell('import pandas as pd\\nimport plotly.express as px\\nimport sklearn'); }\n",
       "    "
      ],
      "text/plain": [
       "<IPython.core.display.Javascript object>"
      ]
     },
     "metadata": {},
     "output_type": "display_data"
    },
    {
     "data": {
      "text/plain": [
       "0.8816614029797266"
      ]
     },
     "execution_count": 40,
     "metadata": {},
     "output_type": "execute_result"
    }
   ],
   "source": [
    "sklearn.metrics.r2_score(y_test,y_pred)"
   ]
  },
  {
   "cell_type": "code",
   "execution_count": 41,
   "metadata": {},
   "outputs": [
    {
     "data": {
      "text/plain": [
       "LGBMRegressor(colsample_bytree=0.6217533307035629,\n",
       "              learning_rate=0.06020261268570429, max_bin=256,\n",
       "              min_child_samples=41, n_estimators=102, num_leaves=13,\n",
       "              objective='regression', reg_alpha=0.004951083947827691,\n",
       "              reg_lambda=0.11717900981041054)"
      ]
     },
     "execution_count": 41,
     "metadata": {},
     "output_type": "execute_result"
    }
   ],
   "source": [
    "automl.model.estimator"
   ]
  },
  {
   "cell_type": "code",
   "execution_count": 44,
   "metadata": {},
   "outputs": [
    {
     "data": {
      "application/javascript": [
       "\n",
       "        if (window._pyforest_update_imports_cell) { window._pyforest_update_imports_cell('import pandas as pd\\nimport plotly.express as px\\nimport sklearn'); }\n",
       "    "
      ],
      "text/plain": [
       "<IPython.core.display.Javascript object>"
      ]
     },
     "metadata": {},
     "output_type": "display_data"
    },
    {
     "data": {
      "application/javascript": [
       "\n",
       "        if (window._pyforest_update_imports_cell) { window._pyforest_update_imports_cell('import pandas as pd\\nimport plotly.express as px\\nimport sklearn'); }\n",
       "    "
      ],
      "text/plain": [
       "<IPython.core.display.Javascript object>"
      ]
     },
     "metadata": {},
     "output_type": "display_data"
    },
    {
     "name": "stdout",
     "output_type": "stream",
     "text": [
      "rmse  28792.333093156172\n",
      "mse  828998444.9472561\n",
      "mae  16604.45990000299\n",
      "explained_variance_score 0.8817997010323972\n",
      "r2 0.8816614029797266\n"
     ]
    }
   ],
   "source": [
    "al = automl.model.estimator\n",
    "al.fit(x_train,y_train)\n",
    "y_pred = al.predict(x_test)\n",
    "rmse = mean_squared_error(y_test,y_pred,squared=False)\n",
    "mse = mean_squared_error(y_test,y_pred,squared=True)\n",
    "mae = mean_absolute_error(y_test,y_pred)\n",
    "explained_variance_score = sklearn.metrics.explained_variance_score(y_test,y_pred)\n",
    "r2 = sklearn.metrics.r2_score(y_test,y_pred)\n",
    "print('rmse ', rmse)\n",
    "print('mse ', mse)\n",
    "print('mae ', mae)\n",
    "print('explained_variance_score',explained_variance_score)\n",
    "print('r2',r2)"
   ]
  },
  {
   "cell_type": "code",
   "execution_count": 42,
   "metadata": {},
   "outputs": [
    {
     "data": {
      "text/plain": [
       "{'n_estimators': 102,\n",
       " 'num_leaves': 13,\n",
       " 'min_child_samples': 41,\n",
       " 'learning_rate': 0.06020261268570429,\n",
       " 'subsample': 1.0,\n",
       " 'log_max_bin': 9,\n",
       " 'colsample_bytree': 0.6217533307035629,\n",
       " 'reg_alpha': 0.004951083947827691,\n",
       " 'reg_lambda': 0.11717900981041054}"
      ]
     },
     "execution_count": 42,
     "metadata": {},
     "output_type": "execute_result"
    }
   ],
   "source": [
    "automl.best_config"
   ]
  },
  {
   "cell_type": "code",
   "execution_count": 41,
   "metadata": {},
   "outputs": [
    {
     "data": {
      "application/javascript": [
       "\n",
       "        if (window._pyforest_update_imports_cell) { window._pyforest_update_imports_cell('import pandas as pd\\nimport sklearn'); }\n",
       "    "
      ],
      "text/plain": [
       "<IPython.core.display.Javascript object>"
      ]
     },
     "metadata": {},
     "output_type": "display_data"
    },
    {
     "data": {
      "application/javascript": [
       "\n",
       "        if (window._pyforest_update_imports_cell) { window._pyforest_update_imports_cell('import pandas as pd\\nimport sklearn'); }\n",
       "    "
      ],
      "text/plain": [
       "<IPython.core.display.Javascript object>"
      ]
     },
     "metadata": {},
     "output_type": "display_data"
    },
    {
     "name": "stdout",
     "output_type": "stream",
     "text": [
      "rmse  31093.44856807821\n",
      "mse  966802543.8557249\n",
      "mae  19182.705308219178\n",
      "explained_variance_score 0.8620075052080718\n",
      "r2 0.861990022619648\n"
     ]
    }
   ],
   "source": [
    "xgbr = XGBRegressor(**automl.best_config)\n",
    "xgbr.fit(x_train,y_train)\n",
    "y_pred = xgbr.predict(x_test)\n",
    "rmse = mean_squared_error(y_test,y_pred,squared=False)\n",
    "mse = mean_squared_error(y_test,y_pred,squared=True)\n",
    "mae = mean_absolute_error(y_test,y_pred)\n",
    "explained_variance_score = sklearn.metrics.explained_variance_score(y_test,y_pred)\n",
    "r2 = sklearn.metrics.r2_score(y_test,y_pred)\n",
    "print('rmse ', rmse)\n",
    "print('mse ', mse)\n",
    "print('mae ', mae)\n",
    "print('explained_variance_score',explained_variance_score)\n",
    "print('r2',r2)"
   ]
  },
  {
   "cell_type": "code",
   "execution_count": 399,
   "metadata": {},
   "outputs": [
    {
     "data": {
      "application/javascript": [
       "\n",
       "        if (window._pyforest_update_imports_cell) { window._pyforest_update_imports_cell('import sklearn\\nimport xgboost as xgb\\nimport pandas as pd\\nimport plotly.express as px'); }\n",
       "    "
      ],
      "text/plain": [
       "<IPython.core.display.Javascript object>"
      ]
     },
     "metadata": {},
     "output_type": "display_data"
    },
    {
     "data": {
      "text/html": [
       "<div>\n",
       "<style scoped>\n",
       "    .dataframe tbody tr th:only-of-type {\n",
       "        vertical-align: middle;\n",
       "    }\n",
       "\n",
       "    .dataframe tbody tr th {\n",
       "        vertical-align: top;\n",
       "    }\n",
       "\n",
       "    .dataframe thead th {\n",
       "        text-align: right;\n",
       "    }\n",
       "</style>\n",
       "<table border=\"1\" class=\"dataframe\">\n",
       "  <thead>\n",
       "    <tr style=\"text-align: right;\">\n",
       "      <th></th>\n",
       "      <th>feature_importance</th>\n",
       "      <th>column_name</th>\n",
       "    </tr>\n",
       "  </thead>\n",
       "  <tbody>\n",
       "    <tr>\n",
       "      <th>2</th>\n",
       "      <td>0.233482</td>\n",
       "      <td>OverallQual</td>\n",
       "    </tr>\n",
       "    <tr>\n",
       "      <th>24</th>\n",
       "      <td>0.123344</td>\n",
       "      <td>GarageCars</td>\n",
       "    </tr>\n",
       "    <tr>\n",
       "      <th>17</th>\n",
       "      <td>0.065201</td>\n",
       "      <td>FullBath</td>\n",
       "    </tr>\n",
       "    <tr>\n",
       "      <th>197</th>\n",
       "      <td>0.050616</td>\n",
       "      <td>BsmtQual_Ex</td>\n",
       "    </tr>\n",
       "    <tr>\n",
       "      <th>75</th>\n",
       "      <td>0.044440</td>\n",
       "      <td>LandSlope_Gtl</td>\n",
       "    </tr>\n",
       "    <tr>\n",
       "      <th>232</th>\n",
       "      <td>0.044272</td>\n",
       "      <td>CentralAir_N</td>\n",
       "    </tr>\n",
       "    <tr>\n",
       "      <th>264</th>\n",
       "      <td>0.043113</td>\n",
       "      <td>GarageFinish_Unf</td>\n",
       "    </tr>\n",
       "    <tr>\n",
       "      <th>14</th>\n",
       "      <td>0.034346</td>\n",
       "      <td>GrLivArea</td>\n",
       "    </tr>\n",
       "    <tr>\n",
       "      <th>167</th>\n",
       "      <td>0.026873</td>\n",
       "      <td>Exterior2nd_CmentBd</td>\n",
       "    </tr>\n",
       "    <tr>\n",
       "      <th>239</th>\n",
       "      <td>0.021124</td>\n",
       "      <td>KitchenQual_Ex</td>\n",
       "    </tr>\n",
       "    <tr>\n",
       "      <th>20</th>\n",
       "      <td>0.018475</td>\n",
       "      <td>KitchenAbvGr</td>\n",
       "    </tr>\n",
       "    <tr>\n",
       "      <th>298</th>\n",
       "      <td>0.016634</td>\n",
       "      <td>SaleType_New</td>\n",
       "    </tr>\n",
       "    <tr>\n",
       "      <th>261</th>\n",
       "      <td>0.015929</td>\n",
       "      <td>GarageType_Detchd</td>\n",
       "    </tr>\n",
       "    <tr>\n",
       "      <th>7</th>\n",
       "      <td>0.013114</td>\n",
       "      <td>BsmtFinSF1</td>\n",
       "    </tr>\n",
       "    <tr>\n",
       "      <th>247</th>\n",
       "      <td>0.011511</td>\n",
       "      <td>Functional_Mod</td>\n",
       "    </tr>\n",
       "    <tr>\n",
       "      <th>84</th>\n",
       "      <td>0.010451</td>\n",
       "      <td>Neighborhood_Crawfor</td>\n",
       "    </tr>\n",
       "    <tr>\n",
       "      <th>10</th>\n",
       "      <td>0.009398</td>\n",
       "      <td>TotalBsmtSF</td>\n",
       "    </tr>\n",
       "    <tr>\n",
       "      <th>249</th>\n",
       "      <td>0.009149</td>\n",
       "      <td>Functional_Typ</td>\n",
       "    </tr>\n",
       "    <tr>\n",
       "      <th>22</th>\n",
       "      <td>0.008920</td>\n",
       "      <td>Fireplaces</td>\n",
       "    </tr>\n",
       "    <tr>\n",
       "      <th>11</th>\n",
       "      <td>0.008722</td>\n",
       "      <td>1stFlrSF</td>\n",
       "    </tr>\n",
       "  </tbody>\n",
       "</table>\n",
       "</div>"
      ],
      "text/plain": [
       "     feature_importance           column_name\n",
       "2              0.233482           OverallQual\n",
       "24             0.123344            GarageCars\n",
       "17             0.065201              FullBath\n",
       "197            0.050616           BsmtQual_Ex\n",
       "75             0.044440         LandSlope_Gtl\n",
       "232            0.044272          CentralAir_N\n",
       "264            0.043113      GarageFinish_Unf\n",
       "14             0.034346             GrLivArea\n",
       "167            0.026873   Exterior2nd_CmentBd\n",
       "239            0.021124        KitchenQual_Ex\n",
       "20             0.018475          KitchenAbvGr\n",
       "298            0.016634          SaleType_New\n",
       "261            0.015929     GarageType_Detchd\n",
       "7              0.013114            BsmtFinSF1\n",
       "247            0.011511        Functional_Mod\n",
       "84             0.010451  Neighborhood_Crawfor\n",
       "10             0.009398           TotalBsmtSF\n",
       "249            0.009149        Functional_Typ\n",
       "22             0.008920            Fireplaces\n",
       "11             0.008722              1stFlrSF"
      ]
     },
     "execution_count": 399,
     "metadata": {},
     "output_type": "execute_result"
    }
   ],
   "source": [
    "ser = pd.DataFrame(xgbr.feature_importances_)\n",
    "ser.columns  =['feature_importance']\n",
    "ser['column_name'] = x_test.columns\n",
    "ser.sort_values('feature_importance',ascending=False).head(20)"
   ]
  },
  {
   "cell_type": "code",
   "execution_count": 395,
   "metadata": {},
   "outputs": [
    {
     "data": {
      "text/plain": [
       "Index(['LotFrontage', 'LotArea', 'OverallQual', 'OverallCond', 'YearBuilt',\n",
       "       'YearRemodAdd', 'MasVnrArea', 'BsmtFinSF1', 'BsmtFinSF2', 'BsmtUnfSF',\n",
       "       ...\n",
       "       'SaleType_ConLw', 'SaleType_New', 'SaleType_Oth', 'SaleType_WD',\n",
       "       'SaleCondition_Abnorml', 'SaleCondition_AdjLand',\n",
       "       'SaleCondition_Alloca', 'SaleCondition_Family', 'SaleCondition_Normal',\n",
       "       'SaleCondition_Partial'],\n",
       "      dtype='object', length=307)"
      ]
     },
     "execution_count": 395,
     "metadata": {},
     "output_type": "execute_result"
    }
   ],
   "source": [
    "x_test.columns"
   ]
  },
  {
   "cell_type": "code",
   "execution_count": 401,
   "metadata": {},
   "outputs": [
    {
     "data": {
      "text/plain": [
       "0.2638433538714056"
      ]
     },
     "execution_count": 401,
     "metadata": {},
     "output_type": "execute_result"
    }
   ],
   "source": [
    "df['LotArea'].corr(df['SalePrice'])"
   ]
  },
  {
   "cell_type": "code",
   "execution_count": 408,
   "metadata": {},
   "outputs": [
    {
     "data": {
      "text/plain": [
       "0.2096239447994838"
      ]
     },
     "execution_count": 408,
     "metadata": {},
     "output_type": "execute_result"
    }
   ],
   "source": [
    "df['LotFrontage'].corr(df['SalePrice'])"
   ]
  },
  {
   "cell_type": "code",
   "execution_count": 410,
   "metadata": {},
   "outputs": [
    {
     "data": {
      "text/plain": [
       "0.5228973328794969"
      ]
     },
     "execution_count": 410,
     "metadata": {},
     "output_type": "execute_result"
    }
   ],
   "source": [
    "df['YearBuilt'].corr(df['SalePrice'])"
   ]
  },
  {
   "cell_type": "code",
   "execution_count": 411,
   "metadata": {},
   "outputs": [
    {
     "data": {
      "text/plain": [
       "0.7909816005838044"
      ]
     },
     "execution_count": 411,
     "metadata": {},
     "output_type": "execute_result"
    }
   ],
   "source": [
    "df['OverallQual'].corr(df['SalePrice'])"
   ]
  },
  {
   "cell_type": "code",
   "execution_count": 412,
   "metadata": {},
   "outputs": [
    {
     "data": {
      "text/plain": [
       "0.7086244776126523"
      ]
     },
     "execution_count": 412,
     "metadata": {},
     "output_type": "execute_result"
    }
   ],
   "source": [
    "df['GrLivArea'].corr(df['SalePrice'])"
   ]
  },
  {
   "cell_type": "code",
   "execution_count": 413,
   "metadata": {},
   "outputs": [
    {
     "data": {
      "text/plain": [
       "0.6404091972583529"
      ]
     },
     "execution_count": 413,
     "metadata": {},
     "output_type": "execute_result"
    }
   ],
   "source": [
    "df['GarageCars'].corr(df['SalePrice'])"
   ]
  },
  {
   "cell_type": "code",
   "execution_count": 402,
   "metadata": {},
   "outputs": [
    {
     "data": {
      "text/html": [
       "<div>\n",
       "<style scoped>\n",
       "    .dataframe tbody tr th:only-of-type {\n",
       "        vertical-align: middle;\n",
       "    }\n",
       "\n",
       "    .dataframe tbody tr th {\n",
       "        vertical-align: top;\n",
       "    }\n",
       "\n",
       "    .dataframe thead th {\n",
       "        text-align: right;\n",
       "    }\n",
       "</style>\n",
       "<table border=\"1\" class=\"dataframe\">\n",
       "  <thead>\n",
       "    <tr style=\"text-align: right;\">\n",
       "      <th></th>\n",
       "      <th>MSSubClass</th>\n",
       "      <th>MSZoning</th>\n",
       "      <th>LotFrontage</th>\n",
       "      <th>LotArea</th>\n",
       "      <th>Street</th>\n",
       "      <th>Alley</th>\n",
       "      <th>LotShape</th>\n",
       "      <th>LandContour</th>\n",
       "      <th>Utilities</th>\n",
       "      <th>LotConfig</th>\n",
       "      <th>LandSlope</th>\n",
       "      <th>Neighborhood</th>\n",
       "      <th>Condition1</th>\n",
       "      <th>Condition2</th>\n",
       "      <th>BldgType</th>\n",
       "      <th>HouseStyle</th>\n",
       "      <th>OverallQual</th>\n",
       "      <th>OverallCond</th>\n",
       "      <th>YearBuilt</th>\n",
       "      <th>YearRemodAdd</th>\n",
       "      <th>RoofStyle</th>\n",
       "      <th>RoofMatl</th>\n",
       "      <th>Exterior1st</th>\n",
       "      <th>Exterior2nd</th>\n",
       "      <th>MasVnrType</th>\n",
       "      <th>MasVnrArea</th>\n",
       "      <th>ExterQual</th>\n",
       "      <th>ExterCond</th>\n",
       "      <th>Foundation</th>\n",
       "      <th>BsmtQual</th>\n",
       "      <th>BsmtCond</th>\n",
       "      <th>BsmtExposure</th>\n",
       "      <th>BsmtFinType1</th>\n",
       "      <th>BsmtFinSF1</th>\n",
       "      <th>BsmtFinType2</th>\n",
       "      <th>BsmtFinSF2</th>\n",
       "      <th>BsmtUnfSF</th>\n",
       "      <th>TotalBsmtSF</th>\n",
       "      <th>Heating</th>\n",
       "      <th>HeatingQC</th>\n",
       "      <th>CentralAir</th>\n",
       "      <th>Electrical</th>\n",
       "      <th>1stFlrSF</th>\n",
       "      <th>2ndFlrSF</th>\n",
       "      <th>LowQualFinSF</th>\n",
       "      <th>GrLivArea</th>\n",
       "      <th>BsmtFullBath</th>\n",
       "      <th>BsmtHalfBath</th>\n",
       "      <th>FullBath</th>\n",
       "      <th>HalfBath</th>\n",
       "      <th>BedroomAbvGr</th>\n",
       "      <th>KitchenAbvGr</th>\n",
       "      <th>KitchenQual</th>\n",
       "      <th>TotRmsAbvGrd</th>\n",
       "      <th>Functional</th>\n",
       "      <th>Fireplaces</th>\n",
       "      <th>FireplaceQu</th>\n",
       "      <th>GarageType</th>\n",
       "      <th>GarageYrBlt</th>\n",
       "      <th>GarageFinish</th>\n",
       "      <th>GarageCars</th>\n",
       "      <th>GarageArea</th>\n",
       "      <th>GarageQual</th>\n",
       "      <th>GarageCond</th>\n",
       "      <th>PavedDrive</th>\n",
       "      <th>WoodDeckSF</th>\n",
       "      <th>OpenPorchSF</th>\n",
       "      <th>EnclosedPorch</th>\n",
       "      <th>3SsnPorch</th>\n",
       "      <th>ScreenPorch</th>\n",
       "      <th>PoolArea</th>\n",
       "      <th>PoolQC</th>\n",
       "      <th>Fence</th>\n",
       "      <th>MiscFeature</th>\n",
       "      <th>MiscVal</th>\n",
       "      <th>MoSold</th>\n",
       "      <th>YrSold</th>\n",
       "      <th>SaleType</th>\n",
       "      <th>SaleCondition</th>\n",
       "      <th>SalePrice</th>\n",
       "    </tr>\n",
       "    <tr>\n",
       "      <th>Id</th>\n",
       "      <th></th>\n",
       "      <th></th>\n",
       "      <th></th>\n",
       "      <th></th>\n",
       "      <th></th>\n",
       "      <th></th>\n",
       "      <th></th>\n",
       "      <th></th>\n",
       "      <th></th>\n",
       "      <th></th>\n",
       "      <th></th>\n",
       "      <th></th>\n",
       "      <th></th>\n",
       "      <th></th>\n",
       "      <th></th>\n",
       "      <th></th>\n",
       "      <th></th>\n",
       "      <th></th>\n",
       "      <th></th>\n",
       "      <th></th>\n",
       "      <th></th>\n",
       "      <th></th>\n",
       "      <th></th>\n",
       "      <th></th>\n",
       "      <th></th>\n",
       "      <th></th>\n",
       "      <th></th>\n",
       "      <th></th>\n",
       "      <th></th>\n",
       "      <th></th>\n",
       "      <th></th>\n",
       "      <th></th>\n",
       "      <th></th>\n",
       "      <th></th>\n",
       "      <th></th>\n",
       "      <th></th>\n",
       "      <th></th>\n",
       "      <th></th>\n",
       "      <th></th>\n",
       "      <th></th>\n",
       "      <th></th>\n",
       "      <th></th>\n",
       "      <th></th>\n",
       "      <th></th>\n",
       "      <th></th>\n",
       "      <th></th>\n",
       "      <th></th>\n",
       "      <th></th>\n",
       "      <th></th>\n",
       "      <th></th>\n",
       "      <th></th>\n",
       "      <th></th>\n",
       "      <th></th>\n",
       "      <th></th>\n",
       "      <th></th>\n",
       "      <th></th>\n",
       "      <th></th>\n",
       "      <th></th>\n",
       "      <th></th>\n",
       "      <th></th>\n",
       "      <th></th>\n",
       "      <th></th>\n",
       "      <th></th>\n",
       "      <th></th>\n",
       "      <th></th>\n",
       "      <th></th>\n",
       "      <th></th>\n",
       "      <th></th>\n",
       "      <th></th>\n",
       "      <th></th>\n",
       "      <th></th>\n",
       "      <th></th>\n",
       "      <th></th>\n",
       "      <th></th>\n",
       "      <th></th>\n",
       "      <th></th>\n",
       "      <th></th>\n",
       "      <th></th>\n",
       "      <th></th>\n",
       "      <th></th>\n",
       "    </tr>\n",
       "  </thead>\n",
       "  <tbody>\n",
       "    <tr>\n",
       "      <th>1</th>\n",
       "      <td>60</td>\n",
       "      <td>RL</td>\n",
       "      <td>65.0</td>\n",
       "      <td>8450</td>\n",
       "      <td>Pave</td>\n",
       "      <td>NA</td>\n",
       "      <td>Reg</td>\n",
       "      <td>Lvl</td>\n",
       "      <td>AllPub</td>\n",
       "      <td>Inside</td>\n",
       "      <td>Gtl</td>\n",
       "      <td>CollgCr</td>\n",
       "      <td>Norm</td>\n",
       "      <td>Norm</td>\n",
       "      <td>1Fam</td>\n",
       "      <td>2Story</td>\n",
       "      <td>7</td>\n",
       "      <td>5</td>\n",
       "      <td>2003</td>\n",
       "      <td>2003</td>\n",
       "      <td>Gable</td>\n",
       "      <td>CompShg</td>\n",
       "      <td>VinylSd</td>\n",
       "      <td>VinylSd</td>\n",
       "      <td>BrkFace</td>\n",
       "      <td>196.0</td>\n",
       "      <td>Gd</td>\n",
       "      <td>TA</td>\n",
       "      <td>PConc</td>\n",
       "      <td>Gd</td>\n",
       "      <td>TA</td>\n",
       "      <td>No</td>\n",
       "      <td>GLQ</td>\n",
       "      <td>706</td>\n",
       "      <td>Unf</td>\n",
       "      <td>0</td>\n",
       "      <td>150</td>\n",
       "      <td>856</td>\n",
       "      <td>GasA</td>\n",
       "      <td>Ex</td>\n",
       "      <td>Y</td>\n",
       "      <td>SBrkr</td>\n",
       "      <td>856</td>\n",
       "      <td>854</td>\n",
       "      <td>0</td>\n",
       "      <td>1710</td>\n",
       "      <td>1</td>\n",
       "      <td>0</td>\n",
       "      <td>2</td>\n",
       "      <td>1</td>\n",
       "      <td>3</td>\n",
       "      <td>1</td>\n",
       "      <td>Gd</td>\n",
       "      <td>8</td>\n",
       "      <td>Typ</td>\n",
       "      <td>0</td>\n",
       "      <td>NA</td>\n",
       "      <td>Attchd</td>\n",
       "      <td>2003.0</td>\n",
       "      <td>RFn</td>\n",
       "      <td>2</td>\n",
       "      <td>548</td>\n",
       "      <td>TA</td>\n",
       "      <td>TA</td>\n",
       "      <td>Y</td>\n",
       "      <td>0</td>\n",
       "      <td>61</td>\n",
       "      <td>0</td>\n",
       "      <td>0</td>\n",
       "      <td>0</td>\n",
       "      <td>0</td>\n",
       "      <td>NA</td>\n",
       "      <td>NA</td>\n",
       "      <td>NA</td>\n",
       "      <td>0</td>\n",
       "      <td>2</td>\n",
       "      <td>2008</td>\n",
       "      <td>WD</td>\n",
       "      <td>Normal</td>\n",
       "      <td>208500</td>\n",
       "    </tr>\n",
       "    <tr>\n",
       "      <th>2</th>\n",
       "      <td>20</td>\n",
       "      <td>RL</td>\n",
       "      <td>80.0</td>\n",
       "      <td>9600</td>\n",
       "      <td>Pave</td>\n",
       "      <td>NA</td>\n",
       "      <td>Reg</td>\n",
       "      <td>Lvl</td>\n",
       "      <td>AllPub</td>\n",
       "      <td>FR2</td>\n",
       "      <td>Gtl</td>\n",
       "      <td>Veenker</td>\n",
       "      <td>Feedr</td>\n",
       "      <td>Norm</td>\n",
       "      <td>1Fam</td>\n",
       "      <td>1Story</td>\n",
       "      <td>6</td>\n",
       "      <td>8</td>\n",
       "      <td>1976</td>\n",
       "      <td>1976</td>\n",
       "      <td>Gable</td>\n",
       "      <td>CompShg</td>\n",
       "      <td>MetalSd</td>\n",
       "      <td>MetalSd</td>\n",
       "      <td>None</td>\n",
       "      <td>0.0</td>\n",
       "      <td>TA</td>\n",
       "      <td>TA</td>\n",
       "      <td>CBlock</td>\n",
       "      <td>Gd</td>\n",
       "      <td>TA</td>\n",
       "      <td>Gd</td>\n",
       "      <td>ALQ</td>\n",
       "      <td>978</td>\n",
       "      <td>Unf</td>\n",
       "      <td>0</td>\n",
       "      <td>284</td>\n",
       "      <td>1262</td>\n",
       "      <td>GasA</td>\n",
       "      <td>Ex</td>\n",
       "      <td>Y</td>\n",
       "      <td>SBrkr</td>\n",
       "      <td>1262</td>\n",
       "      <td>0</td>\n",
       "      <td>0</td>\n",
       "      <td>1262</td>\n",
       "      <td>0</td>\n",
       "      <td>1</td>\n",
       "      <td>2</td>\n",
       "      <td>0</td>\n",
       "      <td>3</td>\n",
       "      <td>1</td>\n",
       "      <td>TA</td>\n",
       "      <td>6</td>\n",
       "      <td>Typ</td>\n",
       "      <td>1</td>\n",
       "      <td>TA</td>\n",
       "      <td>Attchd</td>\n",
       "      <td>1976.0</td>\n",
       "      <td>RFn</td>\n",
       "      <td>2</td>\n",
       "      <td>460</td>\n",
       "      <td>TA</td>\n",
       "      <td>TA</td>\n",
       "      <td>Y</td>\n",
       "      <td>298</td>\n",
       "      <td>0</td>\n",
       "      <td>0</td>\n",
       "      <td>0</td>\n",
       "      <td>0</td>\n",
       "      <td>0</td>\n",
       "      <td>NA</td>\n",
       "      <td>NA</td>\n",
       "      <td>NA</td>\n",
       "      <td>0</td>\n",
       "      <td>5</td>\n",
       "      <td>2007</td>\n",
       "      <td>WD</td>\n",
       "      <td>Normal</td>\n",
       "      <td>181500</td>\n",
       "    </tr>\n",
       "    <tr>\n",
       "      <th>3</th>\n",
       "      <td>60</td>\n",
       "      <td>RL</td>\n",
       "      <td>68.0</td>\n",
       "      <td>11250</td>\n",
       "      <td>Pave</td>\n",
       "      <td>NA</td>\n",
       "      <td>IR1</td>\n",
       "      <td>Lvl</td>\n",
       "      <td>AllPub</td>\n",
       "      <td>Inside</td>\n",
       "      <td>Gtl</td>\n",
       "      <td>CollgCr</td>\n",
       "      <td>Norm</td>\n",
       "      <td>Norm</td>\n",
       "      <td>1Fam</td>\n",
       "      <td>2Story</td>\n",
       "      <td>7</td>\n",
       "      <td>5</td>\n",
       "      <td>2001</td>\n",
       "      <td>2002</td>\n",
       "      <td>Gable</td>\n",
       "      <td>CompShg</td>\n",
       "      <td>VinylSd</td>\n",
       "      <td>VinylSd</td>\n",
       "      <td>BrkFace</td>\n",
       "      <td>162.0</td>\n",
       "      <td>Gd</td>\n",
       "      <td>TA</td>\n",
       "      <td>PConc</td>\n",
       "      <td>Gd</td>\n",
       "      <td>TA</td>\n",
       "      <td>Mn</td>\n",
       "      <td>GLQ</td>\n",
       "      <td>486</td>\n",
       "      <td>Unf</td>\n",
       "      <td>0</td>\n",
       "      <td>434</td>\n",
       "      <td>920</td>\n",
       "      <td>GasA</td>\n",
       "      <td>Ex</td>\n",
       "      <td>Y</td>\n",
       "      <td>SBrkr</td>\n",
       "      <td>920</td>\n",
       "      <td>866</td>\n",
       "      <td>0</td>\n",
       "      <td>1786</td>\n",
       "      <td>1</td>\n",
       "      <td>0</td>\n",
       "      <td>2</td>\n",
       "      <td>1</td>\n",
       "      <td>3</td>\n",
       "      <td>1</td>\n",
       "      <td>Gd</td>\n",
       "      <td>6</td>\n",
       "      <td>Typ</td>\n",
       "      <td>1</td>\n",
       "      <td>TA</td>\n",
       "      <td>Attchd</td>\n",
       "      <td>2001.0</td>\n",
       "      <td>RFn</td>\n",
       "      <td>2</td>\n",
       "      <td>608</td>\n",
       "      <td>TA</td>\n",
       "      <td>TA</td>\n",
       "      <td>Y</td>\n",
       "      <td>0</td>\n",
       "      <td>42</td>\n",
       "      <td>0</td>\n",
       "      <td>0</td>\n",
       "      <td>0</td>\n",
       "      <td>0</td>\n",
       "      <td>NA</td>\n",
       "      <td>NA</td>\n",
       "      <td>NA</td>\n",
       "      <td>0</td>\n",
       "      <td>9</td>\n",
       "      <td>2008</td>\n",
       "      <td>WD</td>\n",
       "      <td>Normal</td>\n",
       "      <td>223500</td>\n",
       "    </tr>\n",
       "    <tr>\n",
       "      <th>4</th>\n",
       "      <td>70</td>\n",
       "      <td>RL</td>\n",
       "      <td>60.0</td>\n",
       "      <td>9550</td>\n",
       "      <td>Pave</td>\n",
       "      <td>NA</td>\n",
       "      <td>IR1</td>\n",
       "      <td>Lvl</td>\n",
       "      <td>AllPub</td>\n",
       "      <td>Corner</td>\n",
       "      <td>Gtl</td>\n",
       "      <td>Crawfor</td>\n",
       "      <td>Norm</td>\n",
       "      <td>Norm</td>\n",
       "      <td>1Fam</td>\n",
       "      <td>2Story</td>\n",
       "      <td>7</td>\n",
       "      <td>5</td>\n",
       "      <td>1915</td>\n",
       "      <td>1970</td>\n",
       "      <td>Gable</td>\n",
       "      <td>CompShg</td>\n",
       "      <td>Wd Sdng</td>\n",
       "      <td>Wd Shng</td>\n",
       "      <td>None</td>\n",
       "      <td>0.0</td>\n",
       "      <td>TA</td>\n",
       "      <td>TA</td>\n",
       "      <td>BrkTil</td>\n",
       "      <td>TA</td>\n",
       "      <td>Gd</td>\n",
       "      <td>No</td>\n",
       "      <td>ALQ</td>\n",
       "      <td>216</td>\n",
       "      <td>Unf</td>\n",
       "      <td>0</td>\n",
       "      <td>540</td>\n",
       "      <td>756</td>\n",
       "      <td>GasA</td>\n",
       "      <td>Gd</td>\n",
       "      <td>Y</td>\n",
       "      <td>SBrkr</td>\n",
       "      <td>961</td>\n",
       "      <td>756</td>\n",
       "      <td>0</td>\n",
       "      <td>1717</td>\n",
       "      <td>1</td>\n",
       "      <td>0</td>\n",
       "      <td>1</td>\n",
       "      <td>0</td>\n",
       "      <td>3</td>\n",
       "      <td>1</td>\n",
       "      <td>Gd</td>\n",
       "      <td>7</td>\n",
       "      <td>Typ</td>\n",
       "      <td>1</td>\n",
       "      <td>Gd</td>\n",
       "      <td>Detchd</td>\n",
       "      <td>1998.0</td>\n",
       "      <td>Unf</td>\n",
       "      <td>3</td>\n",
       "      <td>642</td>\n",
       "      <td>TA</td>\n",
       "      <td>TA</td>\n",
       "      <td>Y</td>\n",
       "      <td>0</td>\n",
       "      <td>35</td>\n",
       "      <td>272</td>\n",
       "      <td>0</td>\n",
       "      <td>0</td>\n",
       "      <td>0</td>\n",
       "      <td>NA</td>\n",
       "      <td>NA</td>\n",
       "      <td>NA</td>\n",
       "      <td>0</td>\n",
       "      <td>2</td>\n",
       "      <td>2006</td>\n",
       "      <td>WD</td>\n",
       "      <td>Abnorml</td>\n",
       "      <td>140000</td>\n",
       "    </tr>\n",
       "    <tr>\n",
       "      <th>5</th>\n",
       "      <td>60</td>\n",
       "      <td>RL</td>\n",
       "      <td>84.0</td>\n",
       "      <td>14260</td>\n",
       "      <td>Pave</td>\n",
       "      <td>NA</td>\n",
       "      <td>IR1</td>\n",
       "      <td>Lvl</td>\n",
       "      <td>AllPub</td>\n",
       "      <td>FR2</td>\n",
       "      <td>Gtl</td>\n",
       "      <td>NoRidge</td>\n",
       "      <td>Norm</td>\n",
       "      <td>Norm</td>\n",
       "      <td>1Fam</td>\n",
       "      <td>2Story</td>\n",
       "      <td>8</td>\n",
       "      <td>5</td>\n",
       "      <td>2000</td>\n",
       "      <td>2000</td>\n",
       "      <td>Gable</td>\n",
       "      <td>CompShg</td>\n",
       "      <td>VinylSd</td>\n",
       "      <td>VinylSd</td>\n",
       "      <td>BrkFace</td>\n",
       "      <td>350.0</td>\n",
       "      <td>Gd</td>\n",
       "      <td>TA</td>\n",
       "      <td>PConc</td>\n",
       "      <td>Gd</td>\n",
       "      <td>TA</td>\n",
       "      <td>Av</td>\n",
       "      <td>GLQ</td>\n",
       "      <td>655</td>\n",
       "      <td>Unf</td>\n",
       "      <td>0</td>\n",
       "      <td>490</td>\n",
       "      <td>1145</td>\n",
       "      <td>GasA</td>\n",
       "      <td>Ex</td>\n",
       "      <td>Y</td>\n",
       "      <td>SBrkr</td>\n",
       "      <td>1145</td>\n",
       "      <td>1053</td>\n",
       "      <td>0</td>\n",
       "      <td>2198</td>\n",
       "      <td>1</td>\n",
       "      <td>0</td>\n",
       "      <td>2</td>\n",
       "      <td>1</td>\n",
       "      <td>4</td>\n",
       "      <td>1</td>\n",
       "      <td>Gd</td>\n",
       "      <td>9</td>\n",
       "      <td>Typ</td>\n",
       "      <td>1</td>\n",
       "      <td>TA</td>\n",
       "      <td>Attchd</td>\n",
       "      <td>2000.0</td>\n",
       "      <td>RFn</td>\n",
       "      <td>3</td>\n",
       "      <td>836</td>\n",
       "      <td>TA</td>\n",
       "      <td>TA</td>\n",
       "      <td>Y</td>\n",
       "      <td>192</td>\n",
       "      <td>84</td>\n",
       "      <td>0</td>\n",
       "      <td>0</td>\n",
       "      <td>0</td>\n",
       "      <td>0</td>\n",
       "      <td>NA</td>\n",
       "      <td>NA</td>\n",
       "      <td>NA</td>\n",
       "      <td>0</td>\n",
       "      <td>12</td>\n",
       "      <td>2008</td>\n",
       "      <td>WD</td>\n",
       "      <td>Normal</td>\n",
       "      <td>250000</td>\n",
       "    </tr>\n",
       "  </tbody>\n",
       "</table>\n",
       "</div>"
      ],
      "text/plain": [
       "   MSSubClass MSZoning  LotFrontage  ...  SaleType SaleCondition SalePrice\n",
       "Id                                   ...                                  \n",
       "1          60       RL         65.0  ...        WD        Normal    208500\n",
       "2          20       RL         80.0  ...        WD        Normal    181500\n",
       "3          60       RL         68.0  ...        WD        Normal    223500\n",
       "4          70       RL         60.0  ...        WD       Abnorml    140000\n",
       "5          60       RL         84.0  ...        WD        Normal    250000\n",
       "\n",
       "[5 rows x 80 columns]"
      ]
     },
     "execution_count": 402,
     "metadata": {},
     "output_type": "execute_result"
    }
   ],
   "source": [
    "df.head()"
   ]
  },
  {
   "cell_type": "code",
   "execution_count": 409,
   "metadata": {},
   "outputs": [
    {
     "data": {
      "text/html": [
       "<div>\n",
       "<style scoped>\n",
       "    .dataframe tbody tr th:only-of-type {\n",
       "        vertical-align: middle;\n",
       "    }\n",
       "\n",
       "    .dataframe tbody tr th {\n",
       "        vertical-align: top;\n",
       "    }\n",
       "\n",
       "    .dataframe thead th {\n",
       "        text-align: right;\n",
       "    }\n",
       "</style>\n",
       "<table border=\"1\" class=\"dataframe\">\n",
       "  <thead>\n",
       "    <tr style=\"text-align: right;\">\n",
       "      <th></th>\n",
       "      <th>LotFrontage</th>\n",
       "      <th>LotArea</th>\n",
       "      <th>OverallQual</th>\n",
       "      <th>OverallCond</th>\n",
       "      <th>YearBuilt</th>\n",
       "      <th>YearRemodAdd</th>\n",
       "      <th>MasVnrArea</th>\n",
       "      <th>BsmtFinSF1</th>\n",
       "      <th>BsmtFinSF2</th>\n",
       "      <th>BsmtUnfSF</th>\n",
       "      <th>TotalBsmtSF</th>\n",
       "      <th>1stFlrSF</th>\n",
       "      <th>2ndFlrSF</th>\n",
       "      <th>LowQualFinSF</th>\n",
       "      <th>GrLivArea</th>\n",
       "      <th>BsmtFullBath</th>\n",
       "      <th>BsmtHalfBath</th>\n",
       "      <th>FullBath</th>\n",
       "      <th>HalfBath</th>\n",
       "      <th>BedroomAbvGr</th>\n",
       "      <th>KitchenAbvGr</th>\n",
       "      <th>TotRmsAbvGrd</th>\n",
       "      <th>Fireplaces</th>\n",
       "      <th>GarageYrBlt</th>\n",
       "      <th>GarageCars</th>\n",
       "      <th>GarageArea</th>\n",
       "      <th>WoodDeckSF</th>\n",
       "      <th>OpenPorchSF</th>\n",
       "      <th>EnclosedPorch</th>\n",
       "      <th>3SsnPorch</th>\n",
       "      <th>ScreenPorch</th>\n",
       "      <th>PoolArea</th>\n",
       "      <th>MiscVal</th>\n",
       "      <th>MoSold</th>\n",
       "      <th>YrSold</th>\n",
       "    </tr>\n",
       "    <tr>\n",
       "      <th>Id</th>\n",
       "      <th></th>\n",
       "      <th></th>\n",
       "      <th></th>\n",
       "      <th></th>\n",
       "      <th></th>\n",
       "      <th></th>\n",
       "      <th></th>\n",
       "      <th></th>\n",
       "      <th></th>\n",
       "      <th></th>\n",
       "      <th></th>\n",
       "      <th></th>\n",
       "      <th></th>\n",
       "      <th></th>\n",
       "      <th></th>\n",
       "      <th></th>\n",
       "      <th></th>\n",
       "      <th></th>\n",
       "      <th></th>\n",
       "      <th></th>\n",
       "      <th></th>\n",
       "      <th></th>\n",
       "      <th></th>\n",
       "      <th></th>\n",
       "      <th></th>\n",
       "      <th></th>\n",
       "      <th></th>\n",
       "      <th></th>\n",
       "      <th></th>\n",
       "      <th></th>\n",
       "      <th></th>\n",
       "      <th></th>\n",
       "      <th></th>\n",
       "      <th></th>\n",
       "      <th></th>\n",
       "    </tr>\n",
       "  </thead>\n",
       "  <tbody>\n",
       "    <tr>\n",
       "      <th>1</th>\n",
       "      <td>65.0</td>\n",
       "      <td>8450</td>\n",
       "      <td>7</td>\n",
       "      <td>5</td>\n",
       "      <td>2003</td>\n",
       "      <td>2003</td>\n",
       "      <td>196.0</td>\n",
       "      <td>706</td>\n",
       "      <td>0</td>\n",
       "      <td>150</td>\n",
       "      <td>856</td>\n",
       "      <td>856</td>\n",
       "      <td>854</td>\n",
       "      <td>0</td>\n",
       "      <td>1710</td>\n",
       "      <td>1</td>\n",
       "      <td>0</td>\n",
       "      <td>2</td>\n",
       "      <td>1</td>\n",
       "      <td>3</td>\n",
       "      <td>1</td>\n",
       "      <td>8</td>\n",
       "      <td>0</td>\n",
       "      <td>2003.0</td>\n",
       "      <td>2</td>\n",
       "      <td>548</td>\n",
       "      <td>0</td>\n",
       "      <td>61</td>\n",
       "      <td>0</td>\n",
       "      <td>0</td>\n",
       "      <td>0</td>\n",
       "      <td>0</td>\n",
       "      <td>0</td>\n",
       "      <td>2</td>\n",
       "      <td>2008</td>\n",
       "    </tr>\n",
       "    <tr>\n",
       "      <th>2</th>\n",
       "      <td>80.0</td>\n",
       "      <td>9600</td>\n",
       "      <td>6</td>\n",
       "      <td>8</td>\n",
       "      <td>1976</td>\n",
       "      <td>1976</td>\n",
       "      <td>0.0</td>\n",
       "      <td>978</td>\n",
       "      <td>0</td>\n",
       "      <td>284</td>\n",
       "      <td>1262</td>\n",
       "      <td>1262</td>\n",
       "      <td>0</td>\n",
       "      <td>0</td>\n",
       "      <td>1262</td>\n",
       "      <td>0</td>\n",
       "      <td>1</td>\n",
       "      <td>2</td>\n",
       "      <td>0</td>\n",
       "      <td>3</td>\n",
       "      <td>1</td>\n",
       "      <td>6</td>\n",
       "      <td>1</td>\n",
       "      <td>1976.0</td>\n",
       "      <td>2</td>\n",
       "      <td>460</td>\n",
       "      <td>298</td>\n",
       "      <td>0</td>\n",
       "      <td>0</td>\n",
       "      <td>0</td>\n",
       "      <td>0</td>\n",
       "      <td>0</td>\n",
       "      <td>0</td>\n",
       "      <td>5</td>\n",
       "      <td>2007</td>\n",
       "    </tr>\n",
       "    <tr>\n",
       "      <th>3</th>\n",
       "      <td>68.0</td>\n",
       "      <td>11250</td>\n",
       "      <td>7</td>\n",
       "      <td>5</td>\n",
       "      <td>2001</td>\n",
       "      <td>2002</td>\n",
       "      <td>162.0</td>\n",
       "      <td>486</td>\n",
       "      <td>0</td>\n",
       "      <td>434</td>\n",
       "      <td>920</td>\n",
       "      <td>920</td>\n",
       "      <td>866</td>\n",
       "      <td>0</td>\n",
       "      <td>1786</td>\n",
       "      <td>1</td>\n",
       "      <td>0</td>\n",
       "      <td>2</td>\n",
       "      <td>1</td>\n",
       "      <td>3</td>\n",
       "      <td>1</td>\n",
       "      <td>6</td>\n",
       "      <td>1</td>\n",
       "      <td>2001.0</td>\n",
       "      <td>2</td>\n",
       "      <td>608</td>\n",
       "      <td>0</td>\n",
       "      <td>42</td>\n",
       "      <td>0</td>\n",
       "      <td>0</td>\n",
       "      <td>0</td>\n",
       "      <td>0</td>\n",
       "      <td>0</td>\n",
       "      <td>9</td>\n",
       "      <td>2008</td>\n",
       "    </tr>\n",
       "    <tr>\n",
       "      <th>4</th>\n",
       "      <td>60.0</td>\n",
       "      <td>9550</td>\n",
       "      <td>7</td>\n",
       "      <td>5</td>\n",
       "      <td>1915</td>\n",
       "      <td>1970</td>\n",
       "      <td>0.0</td>\n",
       "      <td>216</td>\n",
       "      <td>0</td>\n",
       "      <td>540</td>\n",
       "      <td>756</td>\n",
       "      <td>961</td>\n",
       "      <td>756</td>\n",
       "      <td>0</td>\n",
       "      <td>1717</td>\n",
       "      <td>1</td>\n",
       "      <td>0</td>\n",
       "      <td>1</td>\n",
       "      <td>0</td>\n",
       "      <td>3</td>\n",
       "      <td>1</td>\n",
       "      <td>7</td>\n",
       "      <td>1</td>\n",
       "      <td>1998.0</td>\n",
       "      <td>3</td>\n",
       "      <td>642</td>\n",
       "      <td>0</td>\n",
       "      <td>35</td>\n",
       "      <td>272</td>\n",
       "      <td>0</td>\n",
       "      <td>0</td>\n",
       "      <td>0</td>\n",
       "      <td>0</td>\n",
       "      <td>2</td>\n",
       "      <td>2006</td>\n",
       "    </tr>\n",
       "    <tr>\n",
       "      <th>5</th>\n",
       "      <td>84.0</td>\n",
       "      <td>14260</td>\n",
       "      <td>8</td>\n",
       "      <td>5</td>\n",
       "      <td>2000</td>\n",
       "      <td>2000</td>\n",
       "      <td>350.0</td>\n",
       "      <td>655</td>\n",
       "      <td>0</td>\n",
       "      <td>490</td>\n",
       "      <td>1145</td>\n",
       "      <td>1145</td>\n",
       "      <td>1053</td>\n",
       "      <td>0</td>\n",
       "      <td>2198</td>\n",
       "      <td>1</td>\n",
       "      <td>0</td>\n",
       "      <td>2</td>\n",
       "      <td>1</td>\n",
       "      <td>4</td>\n",
       "      <td>1</td>\n",
       "      <td>9</td>\n",
       "      <td>1</td>\n",
       "      <td>2000.0</td>\n",
       "      <td>3</td>\n",
       "      <td>836</td>\n",
       "      <td>192</td>\n",
       "      <td>84</td>\n",
       "      <td>0</td>\n",
       "      <td>0</td>\n",
       "      <td>0</td>\n",
       "      <td>0</td>\n",
       "      <td>0</td>\n",
       "      <td>12</td>\n",
       "      <td>2008</td>\n",
       "    </tr>\n",
       "  </tbody>\n",
       "</table>\n",
       "</div>"
      ],
      "text/plain": [
       "    LotFrontage  LotArea  OverallQual  ...  MiscVal  MoSold  YrSold\n",
       "Id                                     ...                         \n",
       "1          65.0     8450            7  ...        0       2    2008\n",
       "2          80.0     9600            6  ...        0       5    2007\n",
       "3          68.0    11250            7  ...        0       9    2008\n",
       "4          60.0     9550            7  ...        0       2    2006\n",
       "5          84.0    14260            8  ...        0      12    2008\n",
       "\n",
       "[5 rows x 35 columns]"
      ]
     },
     "execution_count": 409,
     "metadata": {},
     "output_type": "execute_result"
    }
   ],
   "source": [
    "df_num = df[num_columns]\n",
    "df_num.head()"
   ]
  },
  {
   "cell_type": "code",
   "execution_count": 407,
   "metadata": {},
   "outputs": [
    {
     "data": {
      "application/javascript": [
       "\n",
       "        if (window._pyforest_update_imports_cell) { window._pyforest_update_imports_cell('import seaborn as sns\\nimport xgboost as xgb\\nimport plotly.express as px\\nimport sklearn\\nimport pandas as pd'); }\n",
       "    "
      ],
      "text/plain": [
       "<IPython.core.display.Javascript object>"
      ]
     },
     "metadata": {},
     "output_type": "display_data"
    },
    {
     "data": {
      "text/plain": [
       "<matplotlib.axes._subplots.AxesSubplot at 0x7fa664a99370>"
      ]
     },
     "execution_count": 407,
     "metadata": {},
     "output_type": "execute_result"
    },
    {
     "data": {
      "image/png": "[encoded data removed]",
      "text/plain": [
       "<Figure size 432x288 with 2 Axes>"
      ]
     },
     "metadata": {
      "needs_background": "light"
     },
     "output_type": "display_data"
    }
   ],
   "source": [
    "corr = df_num.corr()\n",
    "sns.heatmap(corr)"
   ]
  },
  {
   "cell_type": "code",
   "execution_count": null,
   "metadata": {},
   "outputs": [],
   "source": []
  }
 ],
 "metadata": {
  "interpreter": {
   "hash": "0d57f1429ebc56ebe144ef5d589b2e12aacbb3aa89bb497b407d420709542d3e"
  },
  "kernelspec": {
   "display_name": "Python 3",
   "language": "python",
   "name": "python3"
  },
  "language_info": {
   "codemirror_mode": {
    "name": "ipython",
    "version": 3
   },
   "file_extension": ".py",
   "mimetype": "text/x-python",
   "name": "python",
   "nbconvert_exporter": "python",
   "pygments_lexer": "ipython3",
   "version": "3.8.3"
  }
 },
 "nbformat": 4,
 "nbformat_minor": 4
}
