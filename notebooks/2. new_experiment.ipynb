{
 "cells": [
  {
   "cell_type": "code",
   "execution_count": 132,
   "metadata": {},
   "outputs": [],
   "source": [
    "import pyforest\n",
    "from sklearn.impute import SimpleImputer\n",
    "from sklearn.preprocessing import OneHotEncoder ,StandardScaler,MinMaxScaler\n",
    "from sklearn.model_selection import train_test_split\n",
    "from sklearn.linear_model import LinearRegression\n",
    "from sklearn.metrics import mean_absolute_error,mean_squared_error\n",
    "from xgboost import XGBRegressor\n",
    "from lightgbm import LGBMRegressor\n",
    "import flaml\n",
    "from catboost import CatBoostRegressor\n",
    "import mlflow\n",
    "from category_encoders import TargetEncoder\n",
    "from autofeat import AutoFeatRegressor\n",
    "import math\n",
    "from flaml import AutoML"
   ]
  },
  {
   "cell_type": "code",
   "execution_count": 133,
   "metadata": {},
   "outputs": [
    {
     "data": {
      "application/javascript": [
       "\n",
       "        if (window._pyforest_update_imports_cell) { window._pyforest_update_imports_cell('import xgboost as xgb\\nimport numpy as np\\nimport pandas as pd\\nimport plotly.express as px\\nimport sklearn'); }\n",
       "    "
      ],
      "text/plain": [
       "<IPython.core.display.Javascript object>"
      ]
     },
     "metadata": {},
     "output_type": "display_data"
    },
    {
     "name": "stdout",
     "output_type": "stream",
     "text": [
      "shape of the dataframe (1460, 81)\n",
      "data frame head\n"
     ]
    },
    {
     "data": {
      "text/html": [
       "<div>\n",
       "<style scoped>\n",
       "    .dataframe tbody tr th:only-of-type {\n",
       "        vertical-align: middle;\n",
       "    }\n",
       "\n",
       "    .dataframe tbody tr th {\n",
       "        vertical-align: top;\n",
       "    }\n",
       "\n",
       "    .dataframe thead th {\n",
       "        text-align: right;\n",
       "    }\n",
       "</style>\n",
       "<table border=\"1\" class=\"dataframe\">\n",
       "  <thead>\n",
       "    <tr style=\"text-align: right;\">\n",
       "      <th></th>\n",
       "      <th>Id</th>\n",
       "      <th>MSSubClass</th>\n",
       "      <th>MSZoning</th>\n",
       "      <th>LotFrontage</th>\n",
       "      <th>LotArea</th>\n",
       "      <th>Street</th>\n",
       "      <th>Alley</th>\n",
       "      <th>LotShape</th>\n",
       "      <th>LandContour</th>\n",
       "      <th>Utilities</th>\n",
       "      <th>...</th>\n",
       "      <th>PoolArea</th>\n",
       "      <th>PoolQC</th>\n",
       "      <th>Fence</th>\n",
       "      <th>MiscFeature</th>\n",
       "      <th>MiscVal</th>\n",
       "      <th>MoSold</th>\n",
       "      <th>YrSold</th>\n",
       "      <th>SaleType</th>\n",
       "      <th>SaleCondition</th>\n",
       "      <th>SalePrice</th>\n",
       "    </tr>\n",
       "  </thead>\n",
       "  <tbody>\n",
       "    <tr>\n",
       "      <th>0</th>\n",
       "      <td>1</td>\n",
       "      <td>60</td>\n",
       "      <td>RL</td>\n",
       "      <td>65.0</td>\n",
       "      <td>8450</td>\n",
       "      <td>Pave</td>\n",
       "      <td>NaN</td>\n",
       "      <td>Reg</td>\n",
       "      <td>Lvl</td>\n",
       "      <td>AllPub</td>\n",
       "      <td>...</td>\n",
       "      <td>0</td>\n",
       "      <td>NaN</td>\n",
       "      <td>NaN</td>\n",
       "      <td>NaN</td>\n",
       "      <td>0</td>\n",
       "      <td>2</td>\n",
       "      <td>2008</td>\n",
       "      <td>WD</td>\n",
       "      <td>Normal</td>\n",
       "      <td>208500</td>\n",
       "    </tr>\n",
       "    <tr>\n",
       "      <th>1</th>\n",
       "      <td>2</td>\n",
       "      <td>20</td>\n",
       "      <td>RL</td>\n",
       "      <td>80.0</td>\n",
       "      <td>9600</td>\n",
       "      <td>Pave</td>\n",
       "      <td>NaN</td>\n",
       "      <td>Reg</td>\n",
       "      <td>Lvl</td>\n",
       "      <td>AllPub</td>\n",
       "      <td>...</td>\n",
       "      <td>0</td>\n",
       "      <td>NaN</td>\n",
       "      <td>NaN</td>\n",
       "      <td>NaN</td>\n",
       "      <td>0</td>\n",
       "      <td>5</td>\n",
       "      <td>2007</td>\n",
       "      <td>WD</td>\n",
       "      <td>Normal</td>\n",
       "      <td>181500</td>\n",
       "    </tr>\n",
       "    <tr>\n",
       "      <th>2</th>\n",
       "      <td>3</td>\n",
       "      <td>60</td>\n",
       "      <td>RL</td>\n",
       "      <td>68.0</td>\n",
       "      <td>11250</td>\n",
       "      <td>Pave</td>\n",
       "      <td>NaN</td>\n",
       "      <td>IR1</td>\n",
       "      <td>Lvl</td>\n",
       "      <td>AllPub</td>\n",
       "      <td>...</td>\n",
       "      <td>0</td>\n",
       "      <td>NaN</td>\n",
       "      <td>NaN</td>\n",
       "      <td>NaN</td>\n",
       "      <td>0</td>\n",
       "      <td>9</td>\n",
       "      <td>2008</td>\n",
       "      <td>WD</td>\n",
       "      <td>Normal</td>\n",
       "      <td>223500</td>\n",
       "    </tr>\n",
       "    <tr>\n",
       "      <th>3</th>\n",
       "      <td>4</td>\n",
       "      <td>70</td>\n",
       "      <td>RL</td>\n",
       "      <td>60.0</td>\n",
       "      <td>9550</td>\n",
       "      <td>Pave</td>\n",
       "      <td>NaN</td>\n",
       "      <td>IR1</td>\n",
       "      <td>Lvl</td>\n",
       "      <td>AllPub</td>\n",
       "      <td>...</td>\n",
       "      <td>0</td>\n",
       "      <td>NaN</td>\n",
       "      <td>NaN</td>\n",
       "      <td>NaN</td>\n",
       "      <td>0</td>\n",
       "      <td>2</td>\n",
       "      <td>2006</td>\n",
       "      <td>WD</td>\n",
       "      <td>Abnorml</td>\n",
       "      <td>140000</td>\n",
       "    </tr>\n",
       "    <tr>\n",
       "      <th>4</th>\n",
       "      <td>5</td>\n",
       "      <td>60</td>\n",
       "      <td>RL</td>\n",
       "      <td>84.0</td>\n",
       "      <td>14260</td>\n",
       "      <td>Pave</td>\n",
       "      <td>NaN</td>\n",
       "      <td>IR1</td>\n",
       "      <td>Lvl</td>\n",
       "      <td>AllPub</td>\n",
       "      <td>...</td>\n",
       "      <td>0</td>\n",
       "      <td>NaN</td>\n",
       "      <td>NaN</td>\n",
       "      <td>NaN</td>\n",
       "      <td>0</td>\n",
       "      <td>12</td>\n",
       "      <td>2008</td>\n",
       "      <td>WD</td>\n",
       "      <td>Normal</td>\n",
       "      <td>250000</td>\n",
       "    </tr>\n",
       "  </tbody>\n",
       "</table>\n",
       "<p>5 rows × 81 columns</p>\n",
       "</div>"
      ],
      "text/plain": [
       "   Id MSSubClass MSZoning  LotFrontage  LotArea Street Alley LotShape  \\\n",
       "0   1         60       RL         65.0     8450   Pave   NaN      Reg   \n",
       "1   2         20       RL         80.0     9600   Pave   NaN      Reg   \n",
       "2   3         60       RL         68.0    11250   Pave   NaN      IR1   \n",
       "3   4         70       RL         60.0     9550   Pave   NaN      IR1   \n",
       "4   5         60       RL         84.0    14260   Pave   NaN      IR1   \n",
       "\n",
       "  LandContour Utilities  ... PoolArea PoolQC Fence MiscFeature MiscVal MoSold  \\\n",
       "0         Lvl    AllPub  ...        0    NaN   NaN         NaN       0      2   \n",
       "1         Lvl    AllPub  ...        0    NaN   NaN         NaN       0      5   \n",
       "2         Lvl    AllPub  ...        0    NaN   NaN         NaN       0      9   \n",
       "3         Lvl    AllPub  ...        0    NaN   NaN         NaN       0      2   \n",
       "4         Lvl    AllPub  ...        0    NaN   NaN         NaN       0     12   \n",
       "\n",
       "  YrSold  SaleType  SaleCondition  SalePrice  \n",
       "0   2008        WD         Normal     208500  \n",
       "1   2007        WD         Normal     181500  \n",
       "2   2008        WD         Normal     223500  \n",
       "3   2006        WD        Abnorml     140000  \n",
       "4   2008        WD         Normal     250000  \n",
       "\n",
       "[5 rows x 81 columns]"
      ]
     },
     "execution_count": 133,
     "metadata": {},
     "output_type": "execute_result"
    }
   ],
   "source": [
    "df  = pd.read_csv('/Users/karanam.rama/Downloads/house_price_pred_repo/datas/raw/house_pred_raw_data.csv')\n",
    "df['MSSubClass'] =df['MSSubClass'].astype('str')\n",
    "# df['price_per_sqft'] = df['SalePrice']/df['LotArea']\n",
    "## removing the houses with prices greater than 500000\n",
    "# df = df[df['SalePrice']<500000]\n",
    "print('shape of the dataframe',df.shape)\n",
    "print('data frame head')\n",
    "df.head()"
   ]
  },
  {
   "cell_type": "code",
   "execution_count": 134,
   "metadata": {},
   "outputs": [
    {
     "data": {
      "application/javascript": [
       "\n",
       "        if (window._pyforest_update_imports_cell) { window._pyforest_update_imports_cell('import xgboost as xgb\\nimport numpy as np\\nimport pandas as pd\\nimport plotly.express as px\\nimport sklearn'); }\n",
       "    "
      ],
      "text/plain": [
       "<IPython.core.display.Javascript object>"
      ]
     },
     "metadata": {},
     "output_type": "display_data"
    },
    {
     "name": "stderr",
     "output_type": "stream",
     "text": [
      "<ipython-input-134-4bdf94454cd3>:34: SettingWithCopyWarning:\n",
      "\n",
      "\n",
      "A value is trying to be set on a copy of a slice from a DataFrame.\n",
      "Try using .loc[row_indexer,col_indexer] = value instead\n",
      "\n",
      "See the caveats in the documentation: https://pandas.pydata.org/pandas-docs/stable/user_guide/indexing.html#returning-a-view-versus-a-copy\n",
      "\n",
      "<ipython-input-134-4bdf94454cd3>:35: SettingWithCopyWarning:\n",
      "\n",
      "\n",
      "A value is trying to be set on a copy of a slice from a DataFrame.\n",
      "Try using .loc[row_indexer,col_indexer] = value instead\n",
      "\n",
      "See the caveats in the documentation: https://pandas.pydata.org/pandas-docs/stable/user_guide/indexing.html#returning-a-view-versus-a-copy\n",
      "\n"
     ]
    },
    {
     "data": {
      "application/javascript": [
       "\n",
       "        if (window._pyforest_update_imports_cell) { window._pyforest_update_imports_cell('import xgboost as xgb\\nimport numpy as np\\nimport pandas as pd\\nimport plotly.express as px\\nimport sklearn'); }\n",
       "    "
      ],
      "text/plain": [
       "<IPython.core.display.Javascript object>"
      ]
     },
     "metadata": {},
     "output_type": "display_data"
    },
    {
     "data": {
      "application/javascript": [
       "\n",
       "        if (window._pyforest_update_imports_cell) { window._pyforest_update_imports_cell('import xgboost as xgb\\nimport numpy as np\\nimport pandas as pd\\nimport plotly.express as px\\nimport sklearn'); }\n",
       "    "
      ],
      "text/plain": [
       "<IPython.core.display.Javascript object>"
      ]
     },
     "metadata": {},
     "output_type": "display_data"
    },
    {
     "data": {
      "application/javascript": [
       "\n",
       "        if (window._pyforest_update_imports_cell) { window._pyforest_update_imports_cell('import xgboost as xgb\\nimport numpy as np\\nimport pandas as pd\\nimport plotly.express as px\\nimport sklearn'); }\n",
       "    "
      ],
      "text/plain": [
       "<IPython.core.display.Javascript object>"
      ]
     },
     "metadata": {},
     "output_type": "display_data"
    },
    {
     "data": {
      "application/javascript": [
       "\n",
       "        if (window._pyforest_update_imports_cell) { window._pyforest_update_imports_cell('import xgboost as xgb\\nimport numpy as np\\nimport pandas as pd\\nimport plotly.express as px\\nimport sklearn'); }\n",
       "    "
      ],
      "text/plain": [
       "<IPython.core.display.Javascript object>"
      ]
     },
     "metadata": {},
     "output_type": "display_data"
    }
   ],
   "source": [
    "df['Fence']=df['Fence'].fillna('NA')\n",
    "df['PoolQC'] = df['PoolQC'].fillna('NA')\n",
    "df['MiscFeature'] = df['MiscFeature'].fillna('NA')\n",
    "df['Alley'] = df['Alley'].fillna('NA')\n",
    "df['Fence'] = df['Fence'].fillna('NA')\n",
    "df['FireplaceQu'] = df['FireplaceQu'].fillna('NA')\n",
    "df['LotFrontage'] = df['LotFrontage'].fillna(0)\n",
    "\n",
    "ndf = pd.DataFrame(df.isnull().mean())\n",
    "ndf.columns = ['null_mean']\n",
    "ndf = ndf[ndf['null_mean']>0]\n",
    "ndf['column_name'] = ndf.index\n",
    "\n",
    "\n",
    "num_list = df[ndf['column_name']].select_dtypes(include=['number']).columns\n",
    "obj_list = df[ndf['column_name']].select_dtypes(exclude=['number']).columns\n",
    "\n",
    "# replacing null of int type columns with their mean values\n",
    "df[num_list] = SimpleImputer(strategy='mean').fit_transform(df[num_list])\n",
    "\n",
    "# replacing null of object type columns with the most frequent category\n",
    "df[obj_list] = SimpleImputer(strategy='most_frequent').fit_transform(df[obj_list])\n",
    "\n",
    "df.set_index(['Id'],inplace = True)\n",
    "\n",
    "x = df.drop('SalePrice',axis = 1)\n",
    "y = df['SalePrice']\n",
    "all_columns = x.columns\n",
    "cat_columns = x.select_dtypes(include=['object']).columns\n",
    "num_columns = x.select_dtypes(exclude=['object']).columns\n",
    "\n",
    "# creating a new data frame with numerical columns only\n",
    "num_x = x[num_columns]\n",
    "num_x['Age_of_house'] = num_x['YrSold'] - num_x['YearBuilt']\n",
    "num_x['years_since_remodelled'] = num_x['YrSold'] - num_x['YearRemodAdd']\n",
    "\n",
    "\n",
    "# preproccessing the numerical data of x using standard scaler and minmax scaler\n",
    "ss = StandardScaler()\n",
    "mms = MinMaxScaler()\n",
    "num_x_ss = pd.DataFrame(ss.fit_transform(num_x),columns=num_x.columns,index = num_x.index)\n",
    "num_x_ss_mms  =  pd.DataFrame(mms.fit_transform(num_x_ss),columns=num_x.columns,index = num_x.index)\n",
    "\n",
    "#preproccessing the categorical data of x using Target Encoder ,standard scaler and minmax scaler\n",
    "cat_x =  TargetEncoder().fit_transform(x[cat_columns],y)\n",
    "cat_x_ss = pd.DataFrame(ss.fit_transform(cat_x),columns=cat_x.columns,index = cat_x.index)\n",
    "cat_x_ss_mms  =  pd.DataFrame(mms.fit_transform(cat_x_ss),columns=cat_x.columns,index = cat_x.index)\n",
    "\n",
    "\n",
    "# joining the both dataframes \n",
    "\n",
    "final_x = num_x_ss_mms.join(cat_x_ss_mms,how='inner')"
   ]
  },
  {
   "cell_type": "code",
   "execution_count": 127,
   "metadata": {},
   "outputs": [
    {
     "data": {
      "text/plain": [
       "(1460, 81)"
      ]
     },
     "execution_count": 127,
     "metadata": {},
     "output_type": "execute_result"
    }
   ],
   "source": [
    "final_x.shape\n",
    "# 1460"
   ]
  },
  {
   "cell_type": "code",
   "execution_count": 135,
   "metadata": {},
   "outputs": [],
   "source": [
    "x_train,x_test,y_train,y_test = train_test_split(final_x,y,random_state=42,test_size=0.3)"
   ]
  },
  {
   "cell_type": "code",
   "execution_count": 116,
   "metadata": {
    "scrolled": true
   },
   "outputs": [],
   "source": [
    "# afr = AutoFeatRegressor(feateng_steps=2)\n",
    "# x_train_af =  afr.fit_transform(x_train,y_train)\n",
    "# x_test_af = afr.transform(x_test)\n",
    "# y_pred = afr.predict(x_test_af)\n",
    "# rmse = mean_squared_error(y_test,y_pred,squared=False)\n",
    "# mse = mean_squared_error(y_test,y_pred,squared=True)\n",
    "# mae = mean_absolute_error(y_test,y_pred)\n",
    "# explained_variance_score = sklearn.metrics.explained_variance_score(y_test,y_pred)\n",
    "# r2_score = sklearn.metrics.r2_score(y_test,y_pred)\n",
    "# print('rmse ', rmse)\n",
    "# print('mse ', mse)\n",
    "# print('mae ', mae)\n",
    "# print('explained_variance_score',explained_variance_score)\n",
    "# print('r2_score',r2_score)"
   ]
  },
  {
   "cell_type": "code",
   "execution_count": 139,
   "metadata": {},
   "outputs": [
    {
     "data": {
      "application/javascript": [
       "\n",
       "        if (window._pyforest_update_imports_cell) { window._pyforest_update_imports_cell('import xgboost as xgb\\nimport numpy as np\\nimport pandas as pd\\nimport plotly.express as px\\nimport sklearn'); }\n",
       "    "
      ],
      "text/plain": [
       "<IPython.core.display.Javascript object>"
      ]
     },
     "metadata": {},
     "output_type": "display_data"
    },
    {
     "data": {
      "application/javascript": [
       "\n",
       "        if (window._pyforest_update_imports_cell) { window._pyforest_update_imports_cell('import xgboost as xgb\\nimport numpy as np\\nimport pandas as pd\\nimport plotly.express as px\\nimport sklearn'); }\n",
       "    "
      ],
      "text/plain": [
       "<IPython.core.display.Javascript object>"
      ]
     },
     "metadata": {},
     "output_type": "display_data"
    },
    {
     "name": "stdout",
     "output_type": "stream",
     "text": [
      "rmse  30309.32410818455\n",
      "mse  918655127.8949772\n",
      "mae  19558.456621004567\n",
      "explained_variance_score 0.868883932168989\n",
      "r2_score 0.8683515642857571\n"
     ]
    }
   ],
   "source": [
    "lr = LinearRegression()\n",
    "lr.fit(x_train,y_train)\n",
    "y_pred = lr.predict(x_test)\n",
    "rmse = mean_squared_error(y_test,y_pred,squared=False)\n",
    "mse = mean_squared_error(y_test,y_pred,squared=True)\n",
    "mae = mean_absolute_error(y_test,y_pred)\n",
    "explained_variance_score = sklearn.metrics.explained_variance_score(y_test,y_pred)\n",
    "r2_score = sklearn.metrics.r2_score(y_test,y_pred)\n",
    "print('rmse ', rmse)\n",
    "print('mse ', mse)\n",
    "print('mae ', mae)\n",
    "print('explained_variance_score',explained_variance_score)\n",
    "print('r2_score',r2_score)"
   ]
  },
  {
   "cell_type": "code",
   "execution_count": 140,
   "metadata": {},
   "outputs": [
    {
     "data": {
      "application/javascript": [
       "\n",
       "        if (window._pyforest_update_imports_cell) { window._pyforest_update_imports_cell('import xgboost as xgb\\nimport numpy as np\\nimport pandas as pd\\nimport plotly.express as px\\nimport sklearn'); }\n",
       "    "
      ],
      "text/plain": [
       "<IPython.core.display.Javascript object>"
      ]
     },
     "metadata": {},
     "output_type": "display_data"
    },
    {
     "data": {
      "application/javascript": [
       "\n",
       "        if (window._pyforest_update_imports_cell) { window._pyforest_update_imports_cell('import xgboost as xgb\\nimport numpy as np\\nimport pandas as pd\\nimport plotly.express as px\\nimport sklearn'); }\n",
       "    "
      ],
      "text/plain": [
       "<IPython.core.display.Javascript object>"
      ]
     },
     "metadata": {},
     "output_type": "display_data"
    },
    {
     "data": {
      "application/vnd.plotly.v1+json": {
       "config": {
        "plotlyServerURL": "https://plot.ly"
       },
       "data": [
        {
         "mode": "markers",
         "type": "scatter",
         "x": [
          154500,
          325000,
          115000,
          159000,
          315500,
          75500,
          311500,
          146000,
          84500,
          135500,
          145000,
          130000,
          81000,
          214000,
          181000,
          134500,
          183500,
          135000,
          118400,
          226000,
          155000,
          210000,
          173500,
          129000,
          192000,
          153900,
          181134,
          141000,
          181000,
          208900,
          127000,
          284000,
          200500,
          135750,
          255000,
          140000,
          138000,
          219500,
          310000,
          97000,
          114500,
          205000,
          119500,
          253293,
          128500,
          117500,
          115000,
          127000,
          451950,
          144000,
          119000,
          196000,
          115000,
          287000,
          144500,
          260000,
          213000,
          175000,
          107000,
          107500,
          68500,
          154000,
          317000,
          264132,
          283463,
          243000,
          109000,
          305000,
          93500,
          176000,
          118858,
          134000,
          109008,
          93500,
          611657,
          173000,
          348000,
          341000,
          141000,
          124900,
          118000,
          67000,
          113000,
          91300,
          149500,
          133000,
          266000,
          190000,
          155900,
          155835,
          153500,
          152000,
          124500,
          301000,
          136500,
          169990,
          205000,
          183900,
          204900,
          260000,
          163500,
          224900,
          244000,
          132000,
          194000,
          156500,
          156000,
          275000,
          145000,
          135000,
          60000,
          124000,
          127000,
          137500,
          213500,
          119000,
          107900,
          123000,
          112000,
          284000,
          133000,
          149000,
          169000,
          207000,
          175000,
          137000,
          236000,
          79500,
          144000,
          162900,
          185900,
          369900,
          197900,
          104000,
          35311,
          337500,
          367294,
          130250,
          230000,
          755000,
          403000,
          132000,
          178000,
          136500,
          145000,
          123000,
          250000,
          187100,
          133900,
          67000,
          137500,
          155000,
          200624,
          154300,
          91000,
          136000,
          108959,
          140000,
          86000,
          131400,
          179900,
          144000,
          293077,
          144500,
          118500,
          141000,
          239000,
          276000,
          556581,
          244400,
          360000,
          103200,
          102000,
          151000,
          285000,
          134432,
          113000,
          187500,
          125500,
          177500,
          179900,
          55993,
          132500,
          135000,
          255000,
          140000,
          271000,
          246578,
          202500,
          75000,
          122500,
          108480,
          160000,
          171000,
          196000,
          225000,
          197000,
          40000,
          172500,
          154900,
          280000,
          175000,
          147000,
          315000,
          185000,
          135500,
          239500,
          139000,
          140000,
          110000,
          225000,
          143500,
          128950,
          172500,
          241500,
          262500,
          194201,
          143000,
          130000,
          126000,
          142500,
          254000,
          217500,
          66500,
          201000,
          155000,
          68400,
          64500,
          173000,
          102776,
          84900,
          165600,
          120000,
          135000,
          220000,
          153575,
          195400,
          147000,
          277000,
          143000,
          105900,
          242000,
          194500,
          438780,
          185000,
          107500,
          165000,
          176000,
          129900,
          115000,
          192140,
          160000,
          145000,
          86000,
          158000,
          127500,
          115000,
          119500,
          175900,
          240000,
          395000,
          165000,
          128200,
          275000,
          311872,
          214000,
          153500,
          144000,
          115000,
          180000,
          465000,
          180000,
          253000,
          85000,
          101800,
          148500,
          137500,
          318061,
          143000,
          140000,
          192500,
          92000,
          197000,
          109500,
          297000,
          185750,
          230000,
          89471,
          260000,
          189000,
          108000,
          124500,
          145000,
          178000,
          85000,
          175000,
          127000,
          149900,
          174000,
          125500,
          175500,
          225000,
          129000,
          159950,
          157000,
          205000,
          140000,
          200000,
          217000,
          125000,
          159500,
          184000,
          96500,
          200000,
          149000,
          178900,
          184900,
          164700,
          335000,
          87500,
          233170,
          149350,
          133000,
          98000,
          207500,
          150000,
          134900,
          187750,
          149500,
          116050,
          153337,
          165000,
          130500,
          206300,
          146000,
          126500,
          139000,
          113000,
          79000,
          182000,
          188000,
          129000,
          160000,
          174000,
          219210,
          310000,
          374000,
          100000,
          250000,
          145000,
          325000,
          380000,
          275000,
          180000,
          245350,
          151500,
          134500,
          94000,
          216000,
          350000,
          195000,
          120000,
          228500,
          248000,
          124000,
          191000,
          181000,
          105000,
          139900,
          157900,
          130500,
          172400,
          130000,
          178000,
          161500,
          119900,
          239000,
          190000,
          85400,
          205000,
          134000,
          168000,
          185000,
          180500,
          152000,
          215000,
          153000,
          106000,
          340000,
          159000,
          120000,
          115000,
          128000,
          314813,
          131000,
          446261,
          127500,
          155000,
          177500,
          128500,
          176000,
          402000,
          130000,
          145000,
          147000,
          115000,
          189000,
          143000,
          240000,
          230000,
          190000,
          213000,
          82500,
          274900,
          155000,
          423000,
          128500,
          335000,
          262000,
          129500,
          222500,
          270000,
          207500,
          175000,
          238000,
          135900,
          224000,
          170000,
          185000,
          263000,
          62383,
          150000,
          171000,
          139000,
          126175,
          205950,
          110000,
          485000
         ],
         "y": [
          133088,
          334336,
          109088,
          162368,
          317984,
          89568,
          242208,
          145472,
          74240,
          159584,
          148672,
          109760,
          64064,
          230208,
          168128,
          130016,
          192256,
          115104,
          110112,
          216160,
          149696,
          197824,
          187424,
          111040,
          201728,
          163008,
          202432,
          113824,
          168640,
          227168,
          172992,
          275936,
          217600,
          109152,
          238304,
          134528,
          136864,
          207712,
          311360,
          88160,
          116832,
          230976,
          90688,
          346208,
          115648,
          131712,
          86720,
          128160,
          388032,
          131104,
          114112,
          202144,
          110400,
          323936,
          169280,
          227616,
          207104,
          181632,
          131456,
          106368,
          92640,
          157504,
          311296,
          245472,
          307488,
          206272,
          107104,
          300192,
          98528,
          182560,
          118176,
          106848,
          100032,
          80480,
          429472,
          208160,
          292352,
          321760,
          125952,
          115232,
          107168,
          26528,
          134176,
          86144,
          140064,
          128672,
          253696,
          232864,
          155104,
          207744,
          126816,
          141344,
          124960,
          258912,
          109280,
          194720,
          187968,
          210944,
          205408,
          278016,
          182560,
          212512,
          266208,
          135968,
          207616,
          172768,
          144320,
          279232,
          135104,
          206752,
          25664,
          144672,
          130400,
          118592,
          206272,
          117216,
          67520,
          108864,
          125408,
          272256,
          117440,
          160704,
          187616,
          179040,
          206656,
          125120,
          223488,
          144928,
          156608,
          204224,
          186048,
          332448,
          195264,
          128928,
          26624,
          353376,
          367168,
          155392,
          221984,
          517184,
          327872,
          116000,
          187360,
          152704,
          128992,
          126944,
          220448,
          185024,
          138944,
          74944,
          111648,
          144064,
          227296,
          160192,
          77536,
          122112,
          105056,
          142464,
          87904,
          128160,
          220960,
          101952,
          301056,
          150272,
          108160,
          114240,
          261248,
          308832,
          389152,
          229824,
          351648,
          86560,
          109664,
          147552,
          315712,
          130208,
          144000,
          242656,
          115776,
          172576,
          176832,
          70048,
          129920,
          150176,
          233664,
          203456,
          252960,
          240288,
          229824,
          73536,
          112480,
          102208,
          183008,
          53696,
          210880,
          191232,
          192448,
          61920,
          210784,
          143680,
          292032,
          201728,
          110560,
          302432,
          198240,
          116736,
          222976,
          120288,
          129184,
          95456,
          220800,
          145184,
          115360,
          180064,
          245824,
          233056,
          235168,
          132288,
          148032,
          138464,
          124768,
          239072,
          204096,
          89600,
          242368,
          147392,
          84832,
          72928,
          168384,
          125984,
          111168,
          167040,
          119904,
          129888,
          221888,
          148960,
          206240,
          179040,
          248736,
          126272,
          117536,
          290208,
          230176,
          422144,
          206816,
          129216,
          159392,
          188512,
          140992,
          98912,
          179872,
          189856,
          132032,
          104928,
          137376,
          139072,
          91680,
          109408,
          180672,
          243040,
          308160,
          190432,
          148864,
          259488,
          330784,
          226240,
          186880,
          158016,
          81920,
          185856,
          381760,
          248416,
          228992,
          77344,
          89888,
          120416,
          146784,
          314976,
          264256,
          132128,
          200480,
          114048,
          205792,
          110272,
          283744,
          196768,
          204352,
          116096,
          288224,
          199552,
          94176,
          105568,
          127744,
          180640,
          87456,
          182496,
          152640,
          145216,
          183232,
          132992,
          186432,
          229664,
          132224,
          151648,
          183072,
          196768,
          152480,
          210208,
          228608,
          158016,
          122880,
          189952,
          89408,
          185952,
          132224,
          200448,
          185152,
          183840,
          284000,
          76864,
          239648,
          136352,
          129248,
          106848,
          202368,
          140384,
          146976,
          212672,
          158144,
          77280,
          136640,
          164640,
          139520,
          195488,
          175968,
          115584,
          162208,
          70720,
          86880,
          211296,
          180160,
          127744,
          132832,
          182432,
          240448,
          325600,
          359552,
          89952,
          263488,
          124864,
          262112,
          352704,
          287072,
          185600,
          222304,
          150144,
          126080,
          106624,
          214368,
          328544,
          191296,
          144480,
          221632,
          254112,
          116544,
          195808,
          76512,
          121280,
          115648,
          141952,
          111680,
          173184,
          120960,
          210880,
          165984,
          140800,
          227968,
          211328,
          66912,
          203552,
          116576,
          181856,
          203872,
          164544,
          125280,
          217856,
          134464,
          127552,
          244608,
          172704,
          120384,
          151488,
          126144,
          364896,
          139584,
          394944,
          139744,
          172736,
          172704,
          109152,
          172896,
          344000,
          127072,
          163456,
          131104,
          87008,
          181728,
          138880,
          209792,
          219808,
          259168,
          221696,
          104128,
          336608,
          134976,
          340192,
          127520,
          343904,
          263232,
          119008,
          223904,
          279744,
          221568,
          177184,
          248128,
          121632,
          251232,
          183840,
          196288,
          222112,
          87872,
          155136,
          180160,
          113600,
          100832,
          206752,
          153344,
          410496
         ]
        }
       ],
       "layout": {
        "shapes": [
         {
          "line": {
           "color": "Red",
           "dash": "dashdot",
           "width": 3
          },
          "type": "line",
          "x0": 0,
          "x1": 755000,
          "y0": 0,
          "y1": 755000
         }
        ],
        "template": {
         "data": {
          "bar": [
           {
            "error_x": {
             "color": "#2a3f5f"
            },
            "error_y": {
             "color": "#2a3f5f"
            },
            "marker": {
             "line": {
              "color": "#E5ECF6",
              "width": 0.5
             }
            },
            "type": "bar"
           }
          ],
          "barpolar": [
           {
            "marker": {
             "line": {
              "color": "#E5ECF6",
              "width": 0.5
             }
            },
            "type": "barpolar"
           }
          ],
          "carpet": [
           {
            "aaxis": {
             "endlinecolor": "#2a3f5f",
             "gridcolor": "white",
             "linecolor": "white",
             "minorgridcolor": "white",
             "startlinecolor": "#2a3f5f"
            },
            "baxis": {
             "endlinecolor": "#2a3f5f",
             "gridcolor": "white",
             "linecolor": "white",
             "minorgridcolor": "white",
             "startlinecolor": "#2a3f5f"
            },
            "type": "carpet"
           }
          ],
          "choropleth": [
           {
            "colorbar": {
             "outlinewidth": 0,
             "ticks": ""
            },
            "type": "choropleth"
           }
          ],
          "contour": [
           {
            "colorbar": {
             "outlinewidth": 0,
             "ticks": ""
            },
            "colorscale": [
             [
              0,
              "#0d0887"
             ],
             [
              0.1111111111111111,
              "#46039f"
             ],
             [
              0.2222222222222222,
              "#7201a8"
             ],
             [
              0.3333333333333333,
              "#9c179e"
             ],
             [
              0.4444444444444444,
              "#bd3786"
             ],
             [
              0.5555555555555556,
              "#d8576b"
             ],
             [
              0.6666666666666666,
              "#ed7953"
             ],
             [
              0.7777777777777778,
              "#fb9f3a"
             ],
             [
              0.8888888888888888,
              "#fdca26"
             ],
             [
              1,
              "#f0f921"
             ]
            ],
            "type": "contour"
           }
          ],
          "contourcarpet": [
           {
            "colorbar": {
             "outlinewidth": 0,
             "ticks": ""
            },
            "type": "contourcarpet"
           }
          ],
          "heatmap": [
           {
            "colorbar": {
             "outlinewidth": 0,
             "ticks": ""
            },
            "colorscale": [
             [
              0,
              "#0d0887"
             ],
             [
              0.1111111111111111,
              "#46039f"
             ],
             [
              0.2222222222222222,
              "#7201a8"
             ],
             [
              0.3333333333333333,
              "#9c179e"
             ],
             [
              0.4444444444444444,
              "#bd3786"
             ],
             [
              0.5555555555555556,
              "#d8576b"
             ],
             [
              0.6666666666666666,
              "#ed7953"
             ],
             [
              0.7777777777777778,
              "#fb9f3a"
             ],
             [
              0.8888888888888888,
              "#fdca26"
             ],
             [
              1,
              "#f0f921"
             ]
            ],
            "type": "heatmap"
           }
          ],
          "heatmapgl": [
           {
            "colorbar": {
             "outlinewidth": 0,
             "ticks": ""
            },
            "colorscale": [
             [
              0,
              "#0d0887"
             ],
             [
              0.1111111111111111,
              "#46039f"
             ],
             [
              0.2222222222222222,
              "#7201a8"
             ],
             [
              0.3333333333333333,
              "#9c179e"
             ],
             [
              0.4444444444444444,
              "#bd3786"
             ],
             [
              0.5555555555555556,
              "#d8576b"
             ],
             [
              0.6666666666666666,
              "#ed7953"
             ],
             [
              0.7777777777777778,
              "#fb9f3a"
             ],
             [
              0.8888888888888888,
              "#fdca26"
             ],
             [
              1,
              "#f0f921"
             ]
            ],
            "type": "heatmapgl"
           }
          ],
          "histogram": [
           {
            "marker": {
             "colorbar": {
              "outlinewidth": 0,
              "ticks": ""
             }
            },
            "type": "histogram"
           }
          ],
          "histogram2d": [
           {
            "colorbar": {
             "outlinewidth": 0,
             "ticks": ""
            },
            "colorscale": [
             [
              0,
              "#0d0887"
             ],
             [
              0.1111111111111111,
              "#46039f"
             ],
             [
              0.2222222222222222,
              "#7201a8"
             ],
             [
              0.3333333333333333,
              "#9c179e"
             ],
             [
              0.4444444444444444,
              "#bd3786"
             ],
             [
              0.5555555555555556,
              "#d8576b"
             ],
             [
              0.6666666666666666,
              "#ed7953"
             ],
             [
              0.7777777777777778,
              "#fb9f3a"
             ],
             [
              0.8888888888888888,
              "#fdca26"
             ],
             [
              1,
              "#f0f921"
             ]
            ],
            "type": "histogram2d"
           }
          ],
          "histogram2dcontour": [
           {
            "colorbar": {
             "outlinewidth": 0,
             "ticks": ""
            },
            "colorscale": [
             [
              0,
              "#0d0887"
             ],
             [
              0.1111111111111111,
              "#46039f"
             ],
             [
              0.2222222222222222,
              "#7201a8"
             ],
             [
              0.3333333333333333,
              "#9c179e"
             ],
             [
              0.4444444444444444,
              "#bd3786"
             ],
             [
              0.5555555555555556,
              "#d8576b"
             ],
             [
              0.6666666666666666,
              "#ed7953"
             ],
             [
              0.7777777777777778,
              "#fb9f3a"
             ],
             [
              0.8888888888888888,
              "#fdca26"
             ],
             [
              1,
              "#f0f921"
             ]
            ],
            "type": "histogram2dcontour"
           }
          ],
          "mesh3d": [
           {
            "colorbar": {
             "outlinewidth": 0,
             "ticks": ""
            },
            "type": "mesh3d"
           }
          ],
          "parcoords": [
           {
            "line": {
             "colorbar": {
              "outlinewidth": 0,
              "ticks": ""
             }
            },
            "type": "parcoords"
           }
          ],
          "pie": [
           {
            "automargin": true,
            "type": "pie"
           }
          ],
          "scatter": [
           {
            "marker": {
             "colorbar": {
              "outlinewidth": 0,
              "ticks": ""
             }
            },
            "type": "scatter"
           }
          ],
          "scatter3d": [
           {
            "line": {
             "colorbar": {
              "outlinewidth": 0,
              "ticks": ""
             }
            },
            "marker": {
             "colorbar": {
              "outlinewidth": 0,
              "ticks": ""
             }
            },
            "type": "scatter3d"
           }
          ],
          "scattercarpet": [
           {
            "marker": {
             "colorbar": {
              "outlinewidth": 0,
              "ticks": ""
             }
            },
            "type": "scattercarpet"
           }
          ],
          "scattergeo": [
           {
            "marker": {
             "colorbar": {
              "outlinewidth": 0,
              "ticks": ""
             }
            },
            "type": "scattergeo"
           }
          ],
          "scattergl": [
           {
            "marker": {
             "colorbar": {
              "outlinewidth": 0,
              "ticks": ""
             }
            },
            "type": "scattergl"
           }
          ],
          "scattermapbox": [
           {
            "marker": {
             "colorbar": {
              "outlinewidth": 0,
              "ticks": ""
             }
            },
            "type": "scattermapbox"
           }
          ],
          "scatterpolar": [
           {
            "marker": {
             "colorbar": {
              "outlinewidth": 0,
              "ticks": ""
             }
            },
            "type": "scatterpolar"
           }
          ],
          "scatterpolargl": [
           {
            "marker": {
             "colorbar": {
              "outlinewidth": 0,
              "ticks": ""
             }
            },
            "type": "scatterpolargl"
           }
          ],
          "scatterternary": [
           {
            "marker": {
             "colorbar": {
              "outlinewidth": 0,
              "ticks": ""
             }
            },
            "type": "scatterternary"
           }
          ],
          "surface": [
           {
            "colorbar": {
             "outlinewidth": 0,
             "ticks": ""
            },
            "colorscale": [
             [
              0,
              "#0d0887"
             ],
             [
              0.1111111111111111,
              "#46039f"
             ],
             [
              0.2222222222222222,
              "#7201a8"
             ],
             [
              0.3333333333333333,
              "#9c179e"
             ],
             [
              0.4444444444444444,
              "#bd3786"
             ],
             [
              0.5555555555555556,
              "#d8576b"
             ],
             [
              0.6666666666666666,
              "#ed7953"
             ],
             [
              0.7777777777777778,
              "#fb9f3a"
             ],
             [
              0.8888888888888888,
              "#fdca26"
             ],
             [
              1,
              "#f0f921"
             ]
            ],
            "type": "surface"
           }
          ],
          "table": [
           {
            "cells": {
             "fill": {
              "color": "#EBF0F8"
             },
             "line": {
              "color": "white"
             }
            },
            "header": {
             "fill": {
              "color": "#C8D4E3"
             },
             "line": {
              "color": "white"
             }
            },
            "type": "table"
           }
          ]
         },
         "layout": {
          "annotationdefaults": {
           "arrowcolor": "#2a3f5f",
           "arrowhead": 0,
           "arrowwidth": 1
          },
          "autotypenumbers": "strict",
          "coloraxis": {
           "colorbar": {
            "outlinewidth": 0,
            "ticks": ""
           }
          },
          "colorscale": {
           "diverging": [
            [
             0,
             "#8e0152"
            ],
            [
             0.1,
             "#c51b7d"
            ],
            [
             0.2,
             "#de77ae"
            ],
            [
             0.3,
             "#f1b6da"
            ],
            [
             0.4,
             "#fde0ef"
            ],
            [
             0.5,
             "#f7f7f7"
            ],
            [
             0.6,
             "#e6f5d0"
            ],
            [
             0.7,
             "#b8e186"
            ],
            [
             0.8,
             "#7fbc41"
            ],
            [
             0.9,
             "#4d9221"
            ],
            [
             1,
             "#276419"
            ]
           ],
           "sequential": [
            [
             0,
             "#0d0887"
            ],
            [
             0.1111111111111111,
             "#46039f"
            ],
            [
             0.2222222222222222,
             "#7201a8"
            ],
            [
             0.3333333333333333,
             "#9c179e"
            ],
            [
             0.4444444444444444,
             "#bd3786"
            ],
            [
             0.5555555555555556,
             "#d8576b"
            ],
            [
             0.6666666666666666,
             "#ed7953"
            ],
            [
             0.7777777777777778,
             "#fb9f3a"
            ],
            [
             0.8888888888888888,
             "#fdca26"
            ],
            [
             1,
             "#f0f921"
            ]
           ],
           "sequentialminus": [
            [
             0,
             "#0d0887"
            ],
            [
             0.1111111111111111,
             "#46039f"
            ],
            [
             0.2222222222222222,
             "#7201a8"
            ],
            [
             0.3333333333333333,
             "#9c179e"
            ],
            [
             0.4444444444444444,
             "#bd3786"
            ],
            [
             0.5555555555555556,
             "#d8576b"
            ],
            [
             0.6666666666666666,
             "#ed7953"
            ],
            [
             0.7777777777777778,
             "#fb9f3a"
            ],
            [
             0.8888888888888888,
             "#fdca26"
            ],
            [
             1,
             "#f0f921"
            ]
           ]
          },
          "colorway": [
           "#636efa",
           "#EF553B",
           "#00cc96",
           "#ab63fa",
           "#FFA15A",
           "#19d3f3",
           "#FF6692",
           "#B6E880",
           "#FF97FF",
           "#FECB52"
          ],
          "font": {
           "color": "#2a3f5f"
          },
          "geo": {
           "bgcolor": "white",
           "lakecolor": "white",
           "landcolor": "#E5ECF6",
           "showlakes": true,
           "showland": true,
           "subunitcolor": "white"
          },
          "hoverlabel": {
           "align": "left"
          },
          "hovermode": "closest",
          "mapbox": {
           "style": "light"
          },
          "paper_bgcolor": "white",
          "plot_bgcolor": "#E5ECF6",
          "polar": {
           "angularaxis": {
            "gridcolor": "white",
            "linecolor": "white",
            "ticks": ""
           },
           "bgcolor": "#E5ECF6",
           "radialaxis": {
            "gridcolor": "white",
            "linecolor": "white",
            "ticks": ""
           }
          },
          "scene": {
           "xaxis": {
            "backgroundcolor": "#E5ECF6",
            "gridcolor": "white",
            "gridwidth": 2,
            "linecolor": "white",
            "showbackground": true,
            "ticks": "",
            "zerolinecolor": "white"
           },
           "yaxis": {
            "backgroundcolor": "#E5ECF6",
            "gridcolor": "white",
            "gridwidth": 2,
            "linecolor": "white",
            "showbackground": true,
            "ticks": "",
            "zerolinecolor": "white"
           },
           "zaxis": {
            "backgroundcolor": "#E5ECF6",
            "gridcolor": "white",
            "gridwidth": 2,
            "linecolor": "white",
            "showbackground": true,
            "ticks": "",
            "zerolinecolor": "white"
           }
          },
          "shapedefaults": {
           "line": {
            "color": "#2a3f5f"
           }
          },
          "ternary": {
           "aaxis": {
            "gridcolor": "white",
            "linecolor": "white",
            "ticks": ""
           },
           "baxis": {
            "gridcolor": "white",
            "linecolor": "white",
            "ticks": ""
           },
           "bgcolor": "#E5ECF6",
           "caxis": {
            "gridcolor": "white",
            "linecolor": "white",
            "ticks": ""
           }
          },
          "title": {
           "x": 0.05
          },
          "xaxis": {
           "automargin": true,
           "gridcolor": "white",
           "linecolor": "white",
           "ticks": "",
           "title": {
            "standoff": 15
           },
           "zerolinecolor": "white",
           "zerolinewidth": 2
          },
          "yaxis": {
           "automargin": true,
           "gridcolor": "white",
           "linecolor": "white",
           "ticks": "",
           "title": {
            "standoff": 15
           },
           "zerolinecolor": "white",
           "zerolinewidth": 2
          }
         }
        },
        "xaxis": {
         "title": {
          "text": "true_value"
         }
        },
        "yaxis": {
         "title": {
          "text": "pred_value"
         }
        }
       }
      },
      "text/html": [
       "<div>                            <div id=\"111a7ef5-5179-4c73-b75d-3f2cc30ca1d1\" class=\"plotly-graph-div\" style=\"height:525px; width:100%;\"></div>            <script type=\"text/javascript\">                require([\"plotly\"], function(Plotly) {                    window.PLOTLYENV=window.PLOTLYENV || {};                                    if (document.getElementById(\"111a7ef5-5179-4c73-b75d-3f2cc30ca1d1\")) {                    Plotly.newPlot(                        \"111a7ef5-5179-4c73-b75d-3f2cc30ca1d1\",                        [{\"mode\": \"markers\", \"type\": \"scatter\", \"x\": [154500, 325000, 115000, 159000, 315500, 75500, 311500, 146000, 84500, 135500, 145000, 130000, 81000, 214000, 181000, 134500, 183500, 135000, 118400, 226000, 155000, 210000, 173500, 129000, 192000, 153900, 181134, 141000, 181000, 208900, 127000, 284000, 200500, 135750, 255000, 140000, 138000, 219500, 310000, 97000, 114500, 205000, 119500, 253293, 128500, 117500, 115000, 127000, 451950, 144000, 119000, 196000, 115000, 287000, 144500, 260000, 213000, 175000, 107000, 107500, 68500, 154000, 317000, 264132, 283463, 243000, 109000, 305000, 93500, 176000, 118858, 134000, 109008, 93500, 611657, 173000, 348000, 341000, 141000, 124900, 118000, 67000, 113000, 91300, 149500, 133000, 266000, 190000, 155900, 155835, 153500, 152000, 124500, 301000, 136500, 169990, 205000, 183900, 204900, 260000, 163500, 224900, 244000, 132000, 194000, 156500, 156000, 275000, 145000, 135000, 60000, 124000, 127000, 137500, 213500, 119000, 107900, 123000, 112000, 284000, 133000, 149000, 169000, 207000, 175000, 137000, 236000, 79500, 144000, 162900, 185900, 369900, 197900, 104000, 35311, 337500, 367294, 130250, 230000, 755000, 403000, 132000, 178000, 136500, 145000, 123000, 250000, 187100, 133900, 67000, 137500, 155000, 200624, 154300, 91000, 136000, 108959, 140000, 86000, 131400, 179900, 144000, 293077, 144500, 118500, 141000, 239000, 276000, 556581, 244400, 360000, 103200, 102000, 151000, 285000, 134432, 113000, 187500, 125500, 177500, 179900, 55993, 132500, 135000, 255000, 140000, 271000, 246578, 202500, 75000, 122500, 108480, 160000, 171000, 196000, 225000, 197000, 40000, 172500, 154900, 280000, 175000, 147000, 315000, 185000, 135500, 239500, 139000, 140000, 110000, 225000, 143500, 128950, 172500, 241500, 262500, 194201, 143000, 130000, 126000, 142500, 254000, 217500, 66500, 201000, 155000, 68400, 64500, 173000, 102776, 84900, 165600, 120000, 135000, 220000, 153575, 195400, 147000, 277000, 143000, 105900, 242000, 194500, 438780, 185000, 107500, 165000, 176000, 129900, 115000, 192140, 160000, 145000, 86000, 158000, 127500, 115000, 119500, 175900, 240000, 395000, 165000, 128200, 275000, 311872, 214000, 153500, 144000, 115000, 180000, 465000, 180000, 253000, 85000, 101800, 148500, 137500, 318061, 143000, 140000, 192500, 92000, 197000, 109500, 297000, 185750, 230000, 89471, 260000, 189000, 108000, 124500, 145000, 178000, 85000, 175000, 127000, 149900, 174000, 125500, 175500, 225000, 129000, 159950, 157000, 205000, 140000, 200000, 217000, 125000, 159500, 184000, 96500, 200000, 149000, 178900, 184900, 164700, 335000, 87500, 233170, 149350, 133000, 98000, 207500, 150000, 134900, 187750, 149500, 116050, 153337, 165000, 130500, 206300, 146000, 126500, 139000, 113000, 79000, 182000, 188000, 129000, 160000, 174000, 219210, 310000, 374000, 100000, 250000, 145000, 325000, 380000, 275000, 180000, 245350, 151500, 134500, 94000, 216000, 350000, 195000, 120000, 228500, 248000, 124000, 191000, 181000, 105000, 139900, 157900, 130500, 172400, 130000, 178000, 161500, 119900, 239000, 190000, 85400, 205000, 134000, 168000, 185000, 180500, 152000, 215000, 153000, 106000, 340000, 159000, 120000, 115000, 128000, 314813, 131000, 446261, 127500, 155000, 177500, 128500, 176000, 402000, 130000, 145000, 147000, 115000, 189000, 143000, 240000, 230000, 190000, 213000, 82500, 274900, 155000, 423000, 128500, 335000, 262000, 129500, 222500, 270000, 207500, 175000, 238000, 135900, 224000, 170000, 185000, 263000, 62383, 150000, 171000, 139000, 126175, 205950, 110000, 485000], \"y\": [133088.0, 334336.0, 109088.0, 162368.0, 317984.0, 89568.0, 242208.0, 145472.0, 74240.0, 159584.0, 148672.0, 109760.0, 64064.0, 230208.0, 168128.0, 130016.0, 192256.0, 115104.0, 110112.0, 216160.0, 149696.0, 197824.0, 187424.0, 111040.0, 201728.0, 163008.0, 202432.0, 113824.0, 168640.0, 227168.0, 172992.0, 275936.0, 217600.0, 109152.0, 238304.0, 134528.0, 136864.0, 207712.0, 311360.0, 88160.0, 116832.0, 230976.0, 90688.0, 346208.0, 115648.0, 131712.0, 86720.0, 128160.0, 388032.0, 131104.0, 114112.0, 202144.0, 110400.0, 323936.0, 169280.0, 227616.0, 207104.0, 181632.0, 131456.0, 106368.0, 92640.0, 157504.0, 311296.0, 245472.0, 307488.0, 206272.0, 107104.0, 300192.0, 98528.0, 182560.0, 118176.0, 106848.0, 100032.0, 80480.0, 429472.0, 208160.0, 292352.0, 321760.0, 125952.0, 115232.0, 107168.0, 26528.0, 134176.0, 86144.0, 140064.0, 128672.0, 253696.0, 232864.0, 155104.0, 207744.0, 126816.0, 141344.0, 124960.0, 258912.0, 109280.0, 194720.0, 187968.0, 210944.0, 205408.0, 278016.0, 182560.0, 212512.0, 266208.0, 135968.0, 207616.0, 172768.0, 144320.0, 279232.0, 135104.0, 206752.0, 25664.0, 144672.0, 130400.0, 118592.0, 206272.0, 117216.0, 67520.0, 108864.0, 125408.0, 272256.0, 117440.0, 160704.0, 187616.0, 179040.0, 206656.0, 125120.0, 223488.0, 144928.0, 156608.0, 204224.0, 186048.0, 332448.0, 195264.0, 128928.0, 26624.0, 353376.0, 367168.0, 155392.0, 221984.0, 517184.0, 327872.0, 116000.0, 187360.0, 152704.0, 128992.0, 126944.0, 220448.0, 185024.0, 138944.0, 74944.0, 111648.0, 144064.0, 227296.0, 160192.0, 77536.0, 122112.0, 105056.0, 142464.0, 87904.0, 128160.0, 220960.0, 101952.0, 301056.0, 150272.0, 108160.0, 114240.0, 261248.0, 308832.0, 389152.0, 229824.0, 351648.0, 86560.0, 109664.0, 147552.0, 315712.0, 130208.0, 144000.0, 242656.0, 115776.0, 172576.0, 176832.0, 70048.0, 129920.0, 150176.0, 233664.0, 203456.0, 252960.0, 240288.0, 229824.0, 73536.0, 112480.0, 102208.0, 183008.0, 53696.0, 210880.0, 191232.0, 192448.0, 61920.0, 210784.0, 143680.0, 292032.0, 201728.0, 110560.0, 302432.0, 198240.0, 116736.0, 222976.0, 120288.0, 129184.0, 95456.0, 220800.0, 145184.0, 115360.0, 180064.0, 245824.0, 233056.0, 235168.0, 132288.0, 148032.0, 138464.0, 124768.0, 239072.0, 204096.0, 89600.0, 242368.0, 147392.0, 84832.0, 72928.0, 168384.0, 125984.0, 111168.0, 167040.0, 119904.0, 129888.0, 221888.0, 148960.0, 206240.0, 179040.0, 248736.0, 126272.0, 117536.0, 290208.0, 230176.0, 422144.0, 206816.0, 129216.0, 159392.0, 188512.0, 140992.0, 98912.0, 179872.0, 189856.0, 132032.0, 104928.0, 137376.0, 139072.0, 91680.0, 109408.0, 180672.0, 243040.0, 308160.0, 190432.0, 148864.0, 259488.0, 330784.0, 226240.0, 186880.0, 158016.0, 81920.0, 185856.0, 381760.0, 248416.0, 228992.0, 77344.0, 89888.0, 120416.0, 146784.0, 314976.0, 264256.0, 132128.0, 200480.0, 114048.0, 205792.0, 110272.0, 283744.0, 196768.0, 204352.0, 116096.0, 288224.0, 199552.0, 94176.0, 105568.0, 127744.0, 180640.0, 87456.0, 182496.0, 152640.0, 145216.0, 183232.0, 132992.0, 186432.0, 229664.0, 132224.0, 151648.0, 183072.0, 196768.0, 152480.0, 210208.0, 228608.0, 158016.0, 122880.0, 189952.0, 89408.0, 185952.0, 132224.0, 200448.0, 185152.0, 183840.0, 284000.0, 76864.0, 239648.0, 136352.0, 129248.0, 106848.0, 202368.0, 140384.0, 146976.0, 212672.0, 158144.0, 77280.0, 136640.0, 164640.0, 139520.0, 195488.0, 175968.0, 115584.0, 162208.0, 70720.0, 86880.0, 211296.0, 180160.0, 127744.0, 132832.0, 182432.0, 240448.0, 325600.0, 359552.0, 89952.0, 263488.0, 124864.0, 262112.0, 352704.0, 287072.0, 185600.0, 222304.0, 150144.0, 126080.0, 106624.0, 214368.0, 328544.0, 191296.0, 144480.0, 221632.0, 254112.0, 116544.0, 195808.0, 76512.0, 121280.0, 115648.0, 141952.0, 111680.0, 173184.0, 120960.0, 210880.0, 165984.0, 140800.0, 227968.0, 211328.0, 66912.0, 203552.0, 116576.0, 181856.0, 203872.0, 164544.0, 125280.0, 217856.0, 134464.0, 127552.0, 244608.0, 172704.0, 120384.0, 151488.0, 126144.0, 364896.0, 139584.0, 394944.0, 139744.0, 172736.0, 172704.0, 109152.0, 172896.0, 344000.0, 127072.0, 163456.0, 131104.0, 87008.0, 181728.0, 138880.0, 209792.0, 219808.0, 259168.0, 221696.0, 104128.0, 336608.0, 134976.0, 340192.0, 127520.0, 343904.0, 263232.0, 119008.0, 223904.0, 279744.0, 221568.0, 177184.0, 248128.0, 121632.0, 251232.0, 183840.0, 196288.0, 222112.0, 87872.0, 155136.0, 180160.0, 113600.0, 100832.0, 206752.0, 153344.0, 410496.0]}],                        {\"shapes\": [{\"line\": {\"color\": \"Red\", \"dash\": \"dashdot\", \"width\": 3}, \"type\": \"line\", \"x0\": 0, \"x1\": 755000, \"y0\": 0, \"y1\": 755000}], \"template\": {\"data\": {\"bar\": [{\"error_x\": {\"color\": \"#2a3f5f\"}, \"error_y\": {\"color\": \"#2a3f5f\"}, \"marker\": {\"line\": {\"color\": \"#E5ECF6\", \"width\": 0.5}}, \"type\": \"bar\"}], \"barpolar\": [{\"marker\": {\"line\": {\"color\": \"#E5ECF6\", \"width\": 0.5}}, \"type\": \"barpolar\"}], \"carpet\": [{\"aaxis\": {\"endlinecolor\": \"#2a3f5f\", \"gridcolor\": \"white\", \"linecolor\": \"white\", \"minorgridcolor\": \"white\", \"startlinecolor\": \"#2a3f5f\"}, \"baxis\": {\"endlinecolor\": \"#2a3f5f\", \"gridcolor\": \"white\", \"linecolor\": \"white\", \"minorgridcolor\": \"white\", \"startlinecolor\": \"#2a3f5f\"}, \"type\": \"carpet\"}], \"choropleth\": [{\"colorbar\": {\"outlinewidth\": 0, \"ticks\": \"\"}, \"type\": \"choropleth\"}], \"contour\": [{\"colorbar\": {\"outlinewidth\": 0, \"ticks\": \"\"}, \"colorscale\": [[0.0, \"#0d0887\"], [0.1111111111111111, \"#46039f\"], [0.2222222222222222, \"#7201a8\"], [0.3333333333333333, \"#9c179e\"], [0.4444444444444444, \"#bd3786\"], [0.5555555555555556, \"#d8576b\"], [0.6666666666666666, \"#ed7953\"], [0.7777777777777778, \"#fb9f3a\"], [0.8888888888888888, \"#fdca26\"], [1.0, \"#f0f921\"]], \"type\": \"contour\"}], \"contourcarpet\": [{\"colorbar\": {\"outlinewidth\": 0, \"ticks\": \"\"}, \"type\": \"contourcarpet\"}], \"heatmap\": [{\"colorbar\": {\"outlinewidth\": 0, \"ticks\": \"\"}, \"colorscale\": [[0.0, \"#0d0887\"], [0.1111111111111111, \"#46039f\"], [0.2222222222222222, \"#7201a8\"], [0.3333333333333333, \"#9c179e\"], [0.4444444444444444, \"#bd3786\"], [0.5555555555555556, \"#d8576b\"], [0.6666666666666666, \"#ed7953\"], [0.7777777777777778, \"#fb9f3a\"], [0.8888888888888888, \"#fdca26\"], [1.0, \"#f0f921\"]], \"type\": \"heatmap\"}], \"heatmapgl\": [{\"colorbar\": {\"outlinewidth\": 0, \"ticks\": \"\"}, \"colorscale\": [[0.0, \"#0d0887\"], [0.1111111111111111, \"#46039f\"], [0.2222222222222222, \"#7201a8\"], [0.3333333333333333, \"#9c179e\"], [0.4444444444444444, \"#bd3786\"], [0.5555555555555556, \"#d8576b\"], [0.6666666666666666, \"#ed7953\"], [0.7777777777777778, \"#fb9f3a\"], [0.8888888888888888, \"#fdca26\"], [1.0, \"#f0f921\"]], \"type\": \"heatmapgl\"}], \"histogram\": [{\"marker\": {\"colorbar\": {\"outlinewidth\": 0, \"ticks\": \"\"}}, \"type\": \"histogram\"}], \"histogram2d\": [{\"colorbar\": {\"outlinewidth\": 0, \"ticks\": \"\"}, \"colorscale\": [[0.0, \"#0d0887\"], [0.1111111111111111, \"#46039f\"], [0.2222222222222222, \"#7201a8\"], [0.3333333333333333, \"#9c179e\"], [0.4444444444444444, \"#bd3786\"], [0.5555555555555556, \"#d8576b\"], [0.6666666666666666, \"#ed7953\"], [0.7777777777777778, \"#fb9f3a\"], [0.8888888888888888, \"#fdca26\"], [1.0, \"#f0f921\"]], \"type\": \"histogram2d\"}], \"histogram2dcontour\": [{\"colorbar\": {\"outlinewidth\": 0, \"ticks\": \"\"}, \"colorscale\": [[0.0, \"#0d0887\"], [0.1111111111111111, \"#46039f\"], [0.2222222222222222, \"#7201a8\"], [0.3333333333333333, \"#9c179e\"], [0.4444444444444444, \"#bd3786\"], [0.5555555555555556, \"#d8576b\"], [0.6666666666666666, \"#ed7953\"], [0.7777777777777778, \"#fb9f3a\"], [0.8888888888888888, \"#fdca26\"], [1.0, \"#f0f921\"]], \"type\": \"histogram2dcontour\"}], \"mesh3d\": [{\"colorbar\": {\"outlinewidth\": 0, \"ticks\": \"\"}, \"type\": \"mesh3d\"}], \"parcoords\": [{\"line\": {\"colorbar\": {\"outlinewidth\": 0, \"ticks\": \"\"}}, \"type\": \"parcoords\"}], \"pie\": [{\"automargin\": true, \"type\": \"pie\"}], \"scatter\": [{\"marker\": {\"colorbar\": {\"outlinewidth\": 0, \"ticks\": \"\"}}, \"type\": \"scatter\"}], \"scatter3d\": [{\"line\": {\"colorbar\": {\"outlinewidth\": 0, \"ticks\": \"\"}}, \"marker\": {\"colorbar\": {\"outlinewidth\": 0, \"ticks\": \"\"}}, \"type\": \"scatter3d\"}], \"scattercarpet\": [{\"marker\": {\"colorbar\": {\"outlinewidth\": 0, \"ticks\": \"\"}}, \"type\": \"scattercarpet\"}], \"scattergeo\": [{\"marker\": {\"colorbar\": {\"outlinewidth\": 0, \"ticks\": \"\"}}, \"type\": \"scattergeo\"}], \"scattergl\": [{\"marker\": {\"colorbar\": {\"outlinewidth\": 0, \"ticks\": \"\"}}, \"type\": \"scattergl\"}], \"scattermapbox\": [{\"marker\": {\"colorbar\": {\"outlinewidth\": 0, \"ticks\": \"\"}}, \"type\": \"scattermapbox\"}], \"scatterpolar\": [{\"marker\": {\"colorbar\": {\"outlinewidth\": 0, \"ticks\": \"\"}}, \"type\": \"scatterpolar\"}], \"scatterpolargl\": [{\"marker\": {\"colorbar\": {\"outlinewidth\": 0, \"ticks\": \"\"}}, \"type\": \"scatterpolargl\"}], \"scatterternary\": [{\"marker\": {\"colorbar\": {\"outlinewidth\": 0, \"ticks\": \"\"}}, \"type\": \"scatterternary\"}], \"surface\": [{\"colorbar\": {\"outlinewidth\": 0, \"ticks\": \"\"}, \"colorscale\": [[0.0, \"#0d0887\"], [0.1111111111111111, \"#46039f\"], [0.2222222222222222, \"#7201a8\"], [0.3333333333333333, \"#9c179e\"], [0.4444444444444444, \"#bd3786\"], [0.5555555555555556, \"#d8576b\"], [0.6666666666666666, \"#ed7953\"], [0.7777777777777778, \"#fb9f3a\"], [0.8888888888888888, \"#fdca26\"], [1.0, \"#f0f921\"]], \"type\": \"surface\"}], \"table\": [{\"cells\": {\"fill\": {\"color\": \"#EBF0F8\"}, \"line\": {\"color\": \"white\"}}, \"header\": {\"fill\": {\"color\": \"#C8D4E3\"}, \"line\": {\"color\": \"white\"}}, \"type\": \"table\"}]}, \"layout\": {\"annotationdefaults\": {\"arrowcolor\": \"#2a3f5f\", \"arrowhead\": 0, \"arrowwidth\": 1}, \"autotypenumbers\": \"strict\", \"coloraxis\": {\"colorbar\": {\"outlinewidth\": 0, \"ticks\": \"\"}}, \"colorscale\": {\"diverging\": [[0, \"#8e0152\"], [0.1, \"#c51b7d\"], [0.2, \"#de77ae\"], [0.3, \"#f1b6da\"], [0.4, \"#fde0ef\"], [0.5, \"#f7f7f7\"], [0.6, \"#e6f5d0\"], [0.7, \"#b8e186\"], [0.8, \"#7fbc41\"], [0.9, \"#4d9221\"], [1, \"#276419\"]], \"sequential\": [[0.0, \"#0d0887\"], [0.1111111111111111, \"#46039f\"], [0.2222222222222222, \"#7201a8\"], [0.3333333333333333, \"#9c179e\"], [0.4444444444444444, \"#bd3786\"], [0.5555555555555556, \"#d8576b\"], [0.6666666666666666, \"#ed7953\"], [0.7777777777777778, \"#fb9f3a\"], [0.8888888888888888, \"#fdca26\"], [1.0, \"#f0f921\"]], \"sequentialminus\": [[0.0, \"#0d0887\"], [0.1111111111111111, \"#46039f\"], [0.2222222222222222, \"#7201a8\"], [0.3333333333333333, \"#9c179e\"], [0.4444444444444444, \"#bd3786\"], [0.5555555555555556, \"#d8576b\"], [0.6666666666666666, \"#ed7953\"], [0.7777777777777778, \"#fb9f3a\"], [0.8888888888888888, \"#fdca26\"], [1.0, \"#f0f921\"]]}, \"colorway\": [\"#636efa\", \"#EF553B\", \"#00cc96\", \"#ab63fa\", \"#FFA15A\", \"#19d3f3\", \"#FF6692\", \"#B6E880\", \"#FF97FF\", \"#FECB52\"], \"font\": {\"color\": \"#2a3f5f\"}, \"geo\": {\"bgcolor\": \"white\", \"lakecolor\": \"white\", \"landcolor\": \"#E5ECF6\", \"showlakes\": true, \"showland\": true, \"subunitcolor\": \"white\"}, \"hoverlabel\": {\"align\": \"left\"}, \"hovermode\": \"closest\", \"mapbox\": {\"style\": \"light\"}, \"paper_bgcolor\": \"white\", \"plot_bgcolor\": \"#E5ECF6\", \"polar\": {\"angularaxis\": {\"gridcolor\": \"white\", \"linecolor\": \"white\", \"ticks\": \"\"}, \"bgcolor\": \"#E5ECF6\", \"radialaxis\": {\"gridcolor\": \"white\", \"linecolor\": \"white\", \"ticks\": \"\"}}, \"scene\": {\"xaxis\": {\"backgroundcolor\": \"#E5ECF6\", \"gridcolor\": \"white\", \"gridwidth\": 2, \"linecolor\": \"white\", \"showbackground\": true, \"ticks\": \"\", \"zerolinecolor\": \"white\"}, \"yaxis\": {\"backgroundcolor\": \"#E5ECF6\", \"gridcolor\": \"white\", \"gridwidth\": 2, \"linecolor\": \"white\", \"showbackground\": true, \"ticks\": \"\", \"zerolinecolor\": \"white\"}, \"zaxis\": {\"backgroundcolor\": \"#E5ECF6\", \"gridcolor\": \"white\", \"gridwidth\": 2, \"linecolor\": \"white\", \"showbackground\": true, \"ticks\": \"\", \"zerolinecolor\": \"white\"}}, \"shapedefaults\": {\"line\": {\"color\": \"#2a3f5f\"}}, \"ternary\": {\"aaxis\": {\"gridcolor\": \"white\", \"linecolor\": \"white\", \"ticks\": \"\"}, \"baxis\": {\"gridcolor\": \"white\", \"linecolor\": \"white\", \"ticks\": \"\"}, \"bgcolor\": \"#E5ECF6\", \"caxis\": {\"gridcolor\": \"white\", \"linecolor\": \"white\", \"ticks\": \"\"}}, \"title\": {\"x\": 0.05}, \"xaxis\": {\"automargin\": true, \"gridcolor\": \"white\", \"linecolor\": \"white\", \"ticks\": \"\", \"title\": {\"standoff\": 15}, \"zerolinecolor\": \"white\", \"zerolinewidth\": 2}, \"yaxis\": {\"automargin\": true, \"gridcolor\": \"white\", \"linecolor\": \"white\", \"ticks\": \"\", \"title\": {\"standoff\": 15}, \"zerolinecolor\": \"white\", \"zerolinewidth\": 2}}}, \"xaxis\": {\"title\": {\"text\": \"true_value\"}}, \"yaxis\": {\"title\": {\"text\": \"pred_value\"}}},                        {\"responsive\": true}                    ).then(function(){\n",
       "                            \n",
       "var gd = document.getElementById('111a7ef5-5179-4c73-b75d-3f2cc30ca1d1');\n",
       "var x = new MutationObserver(function (mutations, observer) {{\n",
       "        var display = window.getComputedStyle(gd).display;\n",
       "        if (!display || display === 'none') {{\n",
       "            console.log([gd, 'removed!']);\n",
       "            Plotly.purge(gd);\n",
       "            observer.disconnect();\n",
       "        }}\n",
       "}});\n",
       "\n",
       "// Listen for the removal of the full notebook cells\n",
       "var notebookContainer = gd.closest('#notebook-container');\n",
       "if (notebookContainer) {{\n",
       "    x.observe(notebookContainer, {childList: true});\n",
       "}}\n",
       "\n",
       "// Listen for the clearing of the current output cell\n",
       "var outputEl = gd.closest('.output');\n",
       "if (outputEl) {{\n",
       "    x.observe(outputEl, {childList: true});\n",
       "}}\n",
       "\n",
       "                        })                };                });            </script>        </div>"
      ]
     },
     "metadata": {},
     "output_type": "display_data"
    }
   ],
   "source": [
    "import plotly.graph_objects as go\n",
    "fig = go.Figure()\n",
    "fig.add_trace(go.Scatter(x=np.array(y_test),y=np.array(y_pred),mode ='markers'))\n",
    "fig.add_shape(type='line',x0 = 0,x1 =755000,y0 =0,y1=755000,line=dict(\n",
    "        color=\"Red\",\n",
    "        width=3,\n",
    "        dash=\"dashdot\",\n",
    "    ))\n",
    "fig.update_layout(xaxis_title='true_value',yaxis_title='pred_value')"
   ]
  },
  {
   "cell_type": "code",
   "execution_count": 141,
   "metadata": {},
   "outputs": [
    {
     "data": {
      "application/javascript": [
       "\n",
       "        if (window._pyforest_update_imports_cell) { window._pyforest_update_imports_cell('import xgboost as xgb\\nimport numpy as np\\nimport pandas as pd\\nimport plotly.express as px\\nimport sklearn'); }\n",
       "    "
      ],
      "text/plain": [
       "<IPython.core.display.Javascript object>"
      ]
     },
     "metadata": {},
     "output_type": "display_data"
    },
    {
     "data": {
      "application/javascript": [
       "\n",
       "        if (window._pyforest_update_imports_cell) { window._pyforest_update_imports_cell('import xgboost as xgb\\nimport numpy as np\\nimport pandas as pd\\nimport plotly.express as px\\nimport sklearn'); }\n",
       "    "
      ],
      "text/plain": [
       "<IPython.core.display.Javascript object>"
      ]
     },
     "metadata": {},
     "output_type": "display_data"
    },
    {
     "name": "stdout",
     "output_type": "stream",
     "text": [
      "rmse  25532.854189660542\n",
      "mse  651926643.0704659\n",
      "mae  16343.458181720891\n",
      "explained_variance_score 0.9066353069966839\n",
      "r2 0.9065752531558545\n"
     ]
    }
   ],
   "source": [
    "xgbr = XGBRegressor()\n",
    "xgbr.fit(x_train,y_train)\n",
    "y_pred = xgbr.predict(x_test)\n",
    "rmse = mean_squared_error(y_test,y_pred,squared=False)\n",
    "mse = mean_squared_error(y_test,y_pred,squared=True)\n",
    "mae = mean_absolute_error(y_test,y_pred)\n",
    "explained_variance_score = sklearn.metrics.explained_variance_score(y_test,y_pred)\n",
    "r2 = sklearn.metrics.r2_score(y_test,y_pred)\n",
    "print('rmse ', rmse)\n",
    "print('mse ', mse)\n",
    "print('mae ', mae)\n",
    "print('explained_variance_score',explained_variance_score)\n",
    "print('r2',r2)"
   ]
  },
  {
   "cell_type": "code",
   "execution_count": 142,
   "metadata": {},
   "outputs": [
    {
     "data": {
      "application/javascript": [
       "\n",
       "        if (window._pyforest_update_imports_cell) { window._pyforest_update_imports_cell('import xgboost as xgb\\nimport numpy as np\\nimport pandas as pd\\nimport plotly.express as px\\nimport sklearn'); }\n",
       "    "
      ],
      "text/plain": [
       "<IPython.core.display.Javascript object>"
      ]
     },
     "metadata": {},
     "output_type": "display_data"
    },
    {
     "data": {
      "application/javascript": [
       "\n",
       "        if (window._pyforest_update_imports_cell) { window._pyforest_update_imports_cell('import xgboost as xgb\\nimport numpy as np\\nimport pandas as pd\\nimport plotly.express as px\\nimport sklearn'); }\n",
       "    "
      ],
      "text/plain": [
       "<IPython.core.display.Javascript object>"
      ]
     },
     "metadata": {},
     "output_type": "display_data"
    },
    {
     "name": "stdout",
     "output_type": "stream",
     "text": [
      "rmse  758.5730446754746\n",
      "mse  575433.0641082196\n",
      "mae  515.11627400318\n",
      "explained_variance_score 0.9999043906000309\n",
      "r2 0.999904390487886\n"
     ]
    }
   ],
   "source": [
    "y_pred = xgbr.predict(x_train)\n",
    "rmse = mean_squared_error(y_train,y_pred,squared=False)\n",
    "mse = mean_squared_error(y_train,y_pred,squared=True)\n",
    "mae = mean_absolute_error(y_train,y_pred)\n",
    "explained_variance_score = sklearn.metrics.explained_variance_score(y_train,y_pred)\n",
    "r2 = sklearn.metrics.r2_score(y_train,y_pred)\n",
    "print('rmse ', rmse)\n",
    "print('mse ', mse)\n",
    "print('mae ', mae)\n",
    "print('explained_variance_score',explained_variance_score)\n",
    "print('r2',r2)"
   ]
  },
  {
   "cell_type": "code",
   "execution_count": 131,
   "metadata": {},
   "outputs": [
    {
     "data": {
      "application/javascript": [
       "\n",
       "        if (window._pyforest_update_imports_cell) { window._pyforest_update_imports_cell('import xgboost as xgb\\nimport numpy as np\\nimport pandas as pd\\nimport plotly.express as px\\nimport sklearn'); }\n",
       "    "
      ],
      "text/plain": [
       "<IPython.core.display.Javascript object>"
      ]
     },
     "metadata": {},
     "output_type": "display_data"
    },
    {
     "data": {
      "application/javascript": [
       "\n",
       "        if (window._pyforest_update_imports_cell) { window._pyforest_update_imports_cell('import xgboost as xgb\\nimport numpy as np\\nimport pandas as pd\\nimport plotly.express as px\\nimport sklearn'); }\n",
       "    "
      ],
      "text/plain": [
       "<IPython.core.display.Javascript object>"
      ]
     },
     "metadata": {},
     "output_type": "display_data"
    },
    {
     "name": "stdout",
     "output_type": "stream",
     "text": [
      "rmse  25908.356047612415\n",
      "mse  671242913.0898547\n",
      "mae  15956.974665987102\n",
      "explained_variance_score 0.9038311088329799\n",
      "r2 0.9038071232508775\n"
     ]
    }
   ],
   "source": [
    "lgbmr = LGBMRegressor()\n",
    "lgbmr.fit(x_train,y_train)\n",
    "y_pred = lgbmr.predict(x_test)\n",
    "rmse = mean_squared_error(y_test,y_pred,squared=False)\n",
    "mse = mean_squared_error(y_test,y_pred,squared=True)\n",
    "mae = mean_absolute_error(y_test,y_pred)\n",
    "explained_variance_score = sklearn.metrics.explained_variance_score(y_test,y_pred)\n",
    "r2 = sklearn.metrics.r2_score(y_test,y_pred)\n",
    "print('rmse ', rmse)\n",
    "print('mse ', mse)\n",
    "print('mae ', mae)\n",
    "print('explained_variance_score',explained_variance_score)\n",
    "print('r2',r2)"
   ]
  },
  {
   "cell_type": "code",
   "execution_count": 121,
   "metadata": {},
   "outputs": [
    {
     "name": "stdout",
     "output_type": "stream",
     "text": [
      "Learning rate set to 0.039134\n",
      "0:\tlearn: 71154.9435271\ttotal: 3.28ms\tremaining: 3.28s\n",
      "1:\tlearn: 69485.7651474\ttotal: 4.98ms\tremaining: 2.49s\n",
      "2:\tlearn: 67795.9928357\ttotal: 6.59ms\tremaining: 2.19s\n",
      "3:\tlearn: 66126.4331148\ttotal: 8.32ms\tremaining: 2.07s\n",
      "4:\tlearn: 64541.9810199\ttotal: 10ms\tremaining: 2s\n",
      "5:\tlearn: 63023.3598736\ttotal: 11.8ms\tremaining: 1.96s\n",
      "6:\tlearn: 61393.6403892\ttotal: 13.4ms\tremaining: 1.91s\n",
      "7:\tlearn: 59967.2555425\ttotal: 14.9ms\tremaining: 1.84s\n",
      "8:\tlearn: 58460.1400731\ttotal: 16.7ms\tremaining: 1.83s\n",
      "9:\tlearn: 57151.7866462\ttotal: 18.1ms\tremaining: 1.79s\n",
      "10:\tlearn: 55873.7708506\ttotal: 19.5ms\tremaining: 1.75s\n",
      "11:\tlearn: 54680.6873399\ttotal: 20.9ms\tremaining: 1.72s\n",
      "12:\tlearn: 53477.4128491\ttotal: 22.4ms\tremaining: 1.7s\n",
      "13:\tlearn: 52314.6039224\ttotal: 24ms\tremaining: 1.69s\n",
      "14:\tlearn: 51225.1206289\ttotal: 25.5ms\tremaining: 1.68s\n",
      "15:\tlearn: 50049.3425057\ttotal: 27.2ms\tremaining: 1.67s\n",
      "16:\tlearn: 48883.8258991\ttotal: 28.8ms\tremaining: 1.67s\n",
      "17:\tlearn: 47886.6094645\ttotal: 30.4ms\tremaining: 1.66s\n",
      "18:\tlearn: 46955.1672057\ttotal: 32ms\tremaining: 1.65s\n",
      "19:\tlearn: 46035.5946886\ttotal: 33.5ms\tremaining: 1.64s\n",
      "20:\tlearn: 44991.9145745\ttotal: 35.2ms\tremaining: 1.64s\n",
      "21:\tlearn: 44001.7281755\ttotal: 36.6ms\tremaining: 1.63s\n",
      "22:\tlearn: 43250.3784307\ttotal: 38.1ms\tremaining: 1.62s\n",
      "23:\tlearn: 42494.5621814\ttotal: 39.6ms\tremaining: 1.61s\n",
      "24:\tlearn: 41625.0434230\ttotal: 41.1ms\tremaining: 1.6s\n",
      "25:\tlearn: 40930.7307505\ttotal: 42.8ms\tremaining: 1.6s\n",
      "26:\tlearn: 40148.2735439\ttotal: 44.3ms\tremaining: 1.59s\n",
      "27:\tlearn: 39340.9192457\ttotal: 45.6ms\tremaining: 1.58s\n",
      "28:\tlearn: 38631.1425410\ttotal: 47.1ms\tremaining: 1.58s\n",
      "29:\tlearn: 37984.4770106\ttotal: 48.8ms\tremaining: 1.58s\n",
      "30:\tlearn: 37329.9871890\ttotal: 50.4ms\tremaining: 1.57s\n",
      "31:\tlearn: 36779.2067143\ttotal: 51.7ms\tremaining: 1.56s\n",
      "32:\tlearn: 36163.0605713\ttotal: 53ms\tremaining: 1.55s\n",
      "33:\tlearn: 35655.5649714\ttotal: 54.9ms\tremaining: 1.56s\n",
      "34:\tlearn: 35059.6445668\ttotal: 56.5ms\tremaining: 1.56s\n",
      "35:\tlearn: 34456.2711642\ttotal: 58.2ms\tremaining: 1.56s\n",
      "36:\tlearn: 33858.1265853\ttotal: 59.9ms\tremaining: 1.56s\n",
      "37:\tlearn: 33260.3881376\ttotal: 61.2ms\tremaining: 1.55s\n",
      "38:\tlearn: 32719.7218940\ttotal: 63.1ms\tremaining: 1.55s\n",
      "39:\tlearn: 32227.1912408\ttotal: 64.4ms\tremaining: 1.55s\n",
      "40:\tlearn: 31783.9898439\ttotal: 66ms\tremaining: 1.54s\n",
      "41:\tlearn: 31362.9136408\ttotal: 67.6ms\tremaining: 1.54s\n",
      "42:\tlearn: 30924.5103939\ttotal: 68.9ms\tremaining: 1.53s\n",
      "43:\tlearn: 30510.5848934\ttotal: 70.3ms\tremaining: 1.53s\n",
      "44:\tlearn: 30068.9412249\ttotal: 71.6ms\tremaining: 1.52s\n",
      "45:\tlearn: 29662.7002167\ttotal: 72.9ms\tremaining: 1.51s\n",
      "46:\tlearn: 29201.6299602\ttotal: 74.5ms\tremaining: 1.51s\n",
      "47:\tlearn: 28869.2011599\ttotal: 75.8ms\tremaining: 1.5s\n",
      "48:\tlearn: 28556.0347817\ttotal: 77.2ms\tremaining: 1.5s\n",
      "49:\tlearn: 28267.3729040\ttotal: 78.6ms\tremaining: 1.49s\n",
      "50:\tlearn: 27943.2707205\ttotal: 79.9ms\tremaining: 1.49s\n",
      "51:\tlearn: 27575.9414384\ttotal: 81.4ms\tremaining: 1.48s\n",
      "52:\tlearn: 27265.0758248\ttotal: 82.7ms\tremaining: 1.48s\n",
      "53:\tlearn: 26948.0020068\ttotal: 84ms\tremaining: 1.47s\n",
      "54:\tlearn: 26639.6606957\ttotal: 85.5ms\tremaining: 1.47s\n",
      "55:\tlearn: 26334.1759465\ttotal: 86.7ms\tremaining: 1.46s\n",
      "56:\tlearn: 26050.4711500\ttotal: 88.2ms\tremaining: 1.46s\n",
      "57:\tlearn: 25757.8034236\ttotal: 89.5ms\tremaining: 1.45s\n",
      "58:\tlearn: 25546.1967214\ttotal: 90.9ms\tremaining: 1.45s\n",
      "59:\tlearn: 25305.6731432\ttotal: 92.6ms\tremaining: 1.45s\n",
      "60:\tlearn: 25085.0141794\ttotal: 93.9ms\tremaining: 1.45s\n",
      "61:\tlearn: 24880.8707920\ttotal: 95.4ms\tremaining: 1.44s\n",
      "62:\tlearn: 24679.3370433\ttotal: 96.9ms\tremaining: 1.44s\n",
      "63:\tlearn: 24450.0805062\ttotal: 98.2ms\tremaining: 1.44s\n",
      "64:\tlearn: 24208.6112670\ttotal: 99.5ms\tremaining: 1.43s\n",
      "65:\tlearn: 24009.8470793\ttotal: 101ms\tremaining: 1.43s\n",
      "66:\tlearn: 23796.0767277\ttotal: 102ms\tremaining: 1.42s\n",
      "67:\tlearn: 23569.5916362\ttotal: 104ms\tremaining: 1.42s\n",
      "68:\tlearn: 23363.5806484\ttotal: 105ms\tremaining: 1.42s\n",
      "69:\tlearn: 23180.2219703\ttotal: 106ms\tremaining: 1.41s\n",
      "70:\tlearn: 22998.5573776\ttotal: 108ms\tremaining: 1.41s\n",
      "71:\tlearn: 22831.3071245\ttotal: 109ms\tremaining: 1.41s\n",
      "72:\tlearn: 22662.6936588\ttotal: 111ms\tremaining: 1.41s\n",
      "73:\tlearn: 22503.4065092\ttotal: 112ms\tremaining: 1.4s\n",
      "74:\tlearn: 22325.7060704\ttotal: 113ms\tremaining: 1.4s\n",
      "75:\tlearn: 22158.8521850\ttotal: 115ms\tremaining: 1.39s\n",
      "76:\tlearn: 22011.4958787\ttotal: 116ms\tremaining: 1.39s\n",
      "77:\tlearn: 21857.8731198\ttotal: 117ms\tremaining: 1.39s\n",
      "78:\tlearn: 21726.9333160\ttotal: 118ms\tremaining: 1.38s\n",
      "79:\tlearn: 21581.5211157\ttotal: 120ms\tremaining: 1.38s\n",
      "80:\tlearn: 21442.8386360\ttotal: 121ms\tremaining: 1.37s\n",
      "81:\tlearn: 21311.3690737\ttotal: 123ms\tremaining: 1.37s\n",
      "82:\tlearn: 21174.1086221\ttotal: 124ms\tremaining: 1.37s\n",
      "83:\tlearn: 21064.5989158\ttotal: 125ms\tremaining: 1.36s\n",
      "84:\tlearn: 20952.9850891\ttotal: 127ms\tremaining: 1.36s\n",
      "85:\tlearn: 20845.3749751\ttotal: 128ms\tremaining: 1.36s\n",
      "86:\tlearn: 20735.4556303\ttotal: 129ms\tremaining: 1.36s\n",
      "87:\tlearn: 20618.1817863\ttotal: 131ms\tremaining: 1.35s\n",
      "88:\tlearn: 20546.3052675\ttotal: 132ms\tremaining: 1.35s\n",
      "89:\tlearn: 20441.8457132\ttotal: 133ms\tremaining: 1.34s\n",
      "90:\tlearn: 20344.3124255\ttotal: 134ms\tremaining: 1.34s\n",
      "91:\tlearn: 20245.4690201\ttotal: 136ms\tremaining: 1.34s\n",
      "92:\tlearn: 20155.6850658\ttotal: 138ms\tremaining: 1.34s\n",
      "93:\tlearn: 20055.5771713\ttotal: 139ms\tremaining: 1.34s\n",
      "94:\tlearn: 19975.9247811\ttotal: 141ms\tremaining: 1.34s\n",
      "95:\tlearn: 19879.0609484\ttotal: 142ms\tremaining: 1.34s\n",
      "96:\tlearn: 19776.3565165\ttotal: 143ms\tremaining: 1.33s\n",
      "97:\tlearn: 19692.0965499\ttotal: 145ms\tremaining: 1.33s\n",
      "98:\tlearn: 19619.8218174\ttotal: 146ms\tremaining: 1.33s\n",
      "99:\tlearn: 19535.6903650\ttotal: 147ms\tremaining: 1.33s\n",
      "100:\tlearn: 19449.2592009\ttotal: 149ms\tremaining: 1.32s\n",
      "101:\tlearn: 19372.8415536\ttotal: 150ms\tremaining: 1.32s\n",
      "102:\tlearn: 19305.8003061\ttotal: 152ms\tremaining: 1.32s\n",
      "103:\tlearn: 19220.2100057\ttotal: 153ms\tremaining: 1.32s\n",
      "104:\tlearn: 19141.3212199\ttotal: 154ms\tremaining: 1.32s\n",
      "105:\tlearn: 19080.6660569\ttotal: 156ms\tremaining: 1.31s\n",
      "106:\tlearn: 19003.2724150\ttotal: 157ms\tremaining: 1.31s\n",
      "107:\tlearn: 18943.9989875\ttotal: 159ms\tremaining: 1.31s\n",
      "108:\tlearn: 18875.9561719\ttotal: 160ms\tremaining: 1.31s\n",
      "109:\tlearn: 18813.4850830\ttotal: 161ms\tremaining: 1.3s\n",
      "110:\tlearn: 18750.5444022\ttotal: 163ms\tremaining: 1.3s\n",
      "111:\tlearn: 18659.5601982\ttotal: 164ms\tremaining: 1.3s\n",
      "112:\tlearn: 18601.0842407\ttotal: 165ms\tremaining: 1.3s\n",
      "113:\tlearn: 18550.4737520\ttotal: 167ms\tremaining: 1.29s\n",
      "114:\tlearn: 18472.4371426\ttotal: 168ms\tremaining: 1.29s\n",
      "115:\tlearn: 18417.8327877\ttotal: 170ms\tremaining: 1.29s\n",
      "116:\tlearn: 18374.2584916\ttotal: 171ms\tremaining: 1.29s\n",
      "117:\tlearn: 18301.9326272\ttotal: 172ms\tremaining: 1.29s\n",
      "118:\tlearn: 18250.1595283\ttotal: 174ms\tremaining: 1.29s\n",
      "119:\tlearn: 18202.0155812\ttotal: 175ms\tremaining: 1.28s\n",
      "120:\tlearn: 18125.3247807\ttotal: 177ms\tremaining: 1.28s\n",
      "121:\tlearn: 18063.7011579\ttotal: 178ms\tremaining: 1.28s\n",
      "122:\tlearn: 17982.7973011\ttotal: 180ms\tremaining: 1.28s\n",
      "123:\tlearn: 17926.2702243\ttotal: 181ms\tremaining: 1.28s\n",
      "124:\tlearn: 17869.1669899\ttotal: 183ms\tremaining: 1.28s\n",
      "125:\tlearn: 17806.5843740\ttotal: 184ms\tremaining: 1.28s\n",
      "126:\tlearn: 17744.1564365\ttotal: 185ms\tremaining: 1.27s\n",
      "127:\tlearn: 17685.5244191\ttotal: 187ms\tremaining: 1.27s\n",
      "128:\tlearn: 17634.8354913\ttotal: 188ms\tremaining: 1.27s\n",
      "129:\tlearn: 17594.8755008\ttotal: 190ms\tremaining: 1.27s\n",
      "130:\tlearn: 17556.2947857\ttotal: 191ms\tremaining: 1.26s\n",
      "131:\tlearn: 17523.0376785\ttotal: 192ms\tremaining: 1.26s\n",
      "132:\tlearn: 17463.5046554\ttotal: 193ms\tremaining: 1.26s\n",
      "133:\tlearn: 17393.6346634\ttotal: 195ms\tremaining: 1.26s\n",
      "134:\tlearn: 17348.9906034\ttotal: 196ms\tremaining: 1.25s\n",
      "135:\tlearn: 17286.6011045\ttotal: 197ms\tremaining: 1.25s\n",
      "136:\tlearn: 17254.0354814\ttotal: 199ms\tremaining: 1.25s\n",
      "137:\tlearn: 17218.2386374\ttotal: 200ms\tremaining: 1.25s\n",
      "138:\tlearn: 17178.3853333\ttotal: 202ms\tremaining: 1.25s\n",
      "139:\tlearn: 17140.5377750\ttotal: 203ms\tremaining: 1.25s\n",
      "140:\tlearn: 17103.6831218\ttotal: 204ms\tremaining: 1.24s\n",
      "141:\tlearn: 17071.5933348\ttotal: 206ms\tremaining: 1.24s\n",
      "142:\tlearn: 17040.8332736\ttotal: 207ms\tremaining: 1.24s\n",
      "143:\tlearn: 17001.4501224\ttotal: 209ms\tremaining: 1.24s\n",
      "144:\tlearn: 16955.2609400\ttotal: 211ms\tremaining: 1.24s\n",
      "145:\tlearn: 16905.2002790\ttotal: 212ms\tremaining: 1.24s\n",
      "146:\tlearn: 16872.0065162\ttotal: 214ms\tremaining: 1.24s\n",
      "147:\tlearn: 16832.6549514\ttotal: 216ms\tremaining: 1.24s\n",
      "148:\tlearn: 16793.6914352\ttotal: 217ms\tremaining: 1.24s\n",
      "149:\tlearn: 16757.7890864\ttotal: 219ms\tremaining: 1.24s\n",
      "150:\tlearn: 16717.1328861\ttotal: 221ms\tremaining: 1.24s\n",
      "151:\tlearn: 16701.9598276\ttotal: 223ms\tremaining: 1.24s\n",
      "152:\tlearn: 16668.1265026\ttotal: 224ms\tremaining: 1.24s\n",
      "153:\tlearn: 16629.1546095\ttotal: 226ms\tremaining: 1.24s\n",
      "154:\tlearn: 16600.0529941\ttotal: 227ms\tremaining: 1.24s\n",
      "155:\tlearn: 16564.5738299\ttotal: 228ms\tremaining: 1.23s\n",
      "156:\tlearn: 16537.7882290\ttotal: 230ms\tremaining: 1.23s\n",
      "157:\tlearn: 16510.5735221\ttotal: 231ms\tremaining: 1.23s\n",
      "158:\tlearn: 16479.1917492\ttotal: 232ms\tremaining: 1.23s\n",
      "159:\tlearn: 16449.7101469\ttotal: 234ms\tremaining: 1.23s\n",
      "160:\tlearn: 16395.5675940\ttotal: 235ms\tremaining: 1.22s\n",
      "161:\tlearn: 16368.6474528\ttotal: 236ms\tremaining: 1.22s\n",
      "162:\tlearn: 16330.0542417\ttotal: 238ms\tremaining: 1.22s\n",
      "163:\tlearn: 16292.5421954\ttotal: 239ms\tremaining: 1.22s\n",
      "164:\tlearn: 16263.8696210\ttotal: 241ms\tremaining: 1.22s\n",
      "165:\tlearn: 16231.3480260\ttotal: 242ms\tremaining: 1.22s\n",
      "166:\tlearn: 16203.5575924\ttotal: 244ms\tremaining: 1.22s\n",
      "167:\tlearn: 16173.4466417\ttotal: 245ms\tremaining: 1.21s\n",
      "168:\tlearn: 16142.4530684\ttotal: 246ms\tremaining: 1.21s\n",
      "169:\tlearn: 16101.5727968\ttotal: 248ms\tremaining: 1.21s\n",
      "170:\tlearn: 16072.4890560\ttotal: 249ms\tremaining: 1.21s\n",
      "171:\tlearn: 16060.3350918\ttotal: 250ms\tremaining: 1.2s\n",
      "172:\tlearn: 16041.7996491\ttotal: 251ms\tremaining: 1.2s\n",
      "173:\tlearn: 16009.2482485\ttotal: 253ms\tremaining: 1.2s\n",
      "174:\tlearn: 15960.4865516\ttotal: 254ms\tremaining: 1.2s\n",
      "175:\tlearn: 15934.4039835\ttotal: 255ms\tremaining: 1.2s\n",
      "176:\tlearn: 15901.2802373\ttotal: 257ms\tremaining: 1.19s\n",
      "177:\tlearn: 15847.3556773\ttotal: 258ms\tremaining: 1.19s\n",
      "178:\tlearn: 15836.4752738\ttotal: 259ms\tremaining: 1.19s\n",
      "179:\tlearn: 15809.2517437\ttotal: 261ms\tremaining: 1.19s\n",
      "180:\tlearn: 15784.0079012\ttotal: 262ms\tremaining: 1.19s\n",
      "181:\tlearn: 15748.7122870\ttotal: 263ms\tremaining: 1.18s\n",
      "182:\tlearn: 15726.3635649\ttotal: 265ms\tremaining: 1.18s\n",
      "183:\tlearn: 15710.5812339\ttotal: 266ms\tremaining: 1.18s\n",
      "184:\tlearn: 15683.5353279\ttotal: 267ms\tremaining: 1.18s\n",
      "185:\tlearn: 15659.3430982\ttotal: 269ms\tremaining: 1.18s\n",
      "186:\tlearn: 15644.2176945\ttotal: 270ms\tremaining: 1.17s\n",
      "187:\tlearn: 15621.9479746\ttotal: 272ms\tremaining: 1.17s\n",
      "188:\tlearn: 15588.3885534\ttotal: 273ms\tremaining: 1.17s\n",
      "189:\tlearn: 15548.8751937\ttotal: 275ms\tremaining: 1.17s\n",
      "190:\tlearn: 15521.9974929\ttotal: 276ms\tremaining: 1.17s\n",
      "191:\tlearn: 15499.2267346\ttotal: 278ms\tremaining: 1.17s\n",
      "192:\tlearn: 15467.7705280\ttotal: 279ms\tremaining: 1.17s\n",
      "193:\tlearn: 15454.7875008\ttotal: 281ms\tremaining: 1.17s\n",
      "194:\tlearn: 15414.6869309\ttotal: 282ms\tremaining: 1.17s\n",
      "195:\tlearn: 15403.0370283\ttotal: 284ms\tremaining: 1.16s\n",
      "196:\tlearn: 15393.2881831\ttotal: 286ms\tremaining: 1.16s\n",
      "197:\tlearn: 15347.8592950\ttotal: 287ms\tremaining: 1.16s\n",
      "198:\tlearn: 15325.9799367\ttotal: 289ms\tremaining: 1.16s\n",
      "199:\tlearn: 15317.3497041\ttotal: 290ms\tremaining: 1.16s\n",
      "200:\tlearn: 15284.3173209\ttotal: 292ms\tremaining: 1.16s\n",
      "201:\tlearn: 15278.9163634\ttotal: 294ms\tremaining: 1.16s\n",
      "202:\tlearn: 15250.6683224\ttotal: 296ms\tremaining: 1.16s\n",
      "203:\tlearn: 15208.6270579\ttotal: 297ms\tremaining: 1.16s\n",
      "204:\tlearn: 15176.7388206\ttotal: 299ms\tremaining: 1.16s\n",
      "205:\tlearn: 15138.7009513\ttotal: 300ms\tremaining: 1.16s\n",
      "206:\tlearn: 15133.5578010\ttotal: 301ms\tremaining: 1.15s\n",
      "207:\tlearn: 15091.7288714\ttotal: 303ms\tremaining: 1.15s\n",
      "208:\tlearn: 15063.1112439\ttotal: 304ms\tremaining: 1.15s\n",
      "209:\tlearn: 15037.0809160\ttotal: 305ms\tremaining: 1.15s\n",
      "210:\tlearn: 15012.4202414\ttotal: 307ms\tremaining: 1.15s\n",
      "211:\tlearn: 14983.9975540\ttotal: 308ms\tremaining: 1.14s\n",
      "212:\tlearn: 14970.7910278\ttotal: 309ms\tremaining: 1.14s\n",
      "213:\tlearn: 14937.3105182\ttotal: 311ms\tremaining: 1.14s\n",
      "214:\tlearn: 14924.8134070\ttotal: 312ms\tremaining: 1.14s\n",
      "215:\tlearn: 14904.0017455\ttotal: 314ms\tremaining: 1.14s\n",
      "216:\tlearn: 14863.6578004\ttotal: 315ms\tremaining: 1.14s\n",
      "217:\tlearn: 14841.6163303\ttotal: 317ms\tremaining: 1.14s\n",
      "218:\tlearn: 14822.9070967\ttotal: 319ms\tremaining: 1.14s\n",
      "219:\tlearn: 14793.4751891\ttotal: 321ms\tremaining: 1.14s\n",
      "220:\tlearn: 14764.7004451\ttotal: 322ms\tremaining: 1.14s\n",
      "221:\tlearn: 14740.2468322\ttotal: 324ms\tremaining: 1.14s\n",
      "222:\tlearn: 14711.6153677\ttotal: 326ms\tremaining: 1.14s\n",
      "223:\tlearn: 14700.5892487\ttotal: 328ms\tremaining: 1.14s\n",
      "224:\tlearn: 14688.9814943\ttotal: 331ms\tremaining: 1.14s\n",
      "225:\tlearn: 14659.0741329\ttotal: 332ms\tremaining: 1.14s\n",
      "226:\tlearn: 14635.5021873\ttotal: 334ms\tremaining: 1.14s\n",
      "227:\tlearn: 14616.1287272\ttotal: 336ms\tremaining: 1.14s\n",
      "228:\tlearn: 14575.3048727\ttotal: 338ms\tremaining: 1.14s\n",
      "229:\tlearn: 14538.2982246\ttotal: 340ms\tremaining: 1.14s\n",
      "230:\tlearn: 14532.6660487\ttotal: 341ms\tremaining: 1.14s\n",
      "231:\tlearn: 14505.1162406\ttotal: 343ms\tremaining: 1.14s\n",
      "232:\tlearn: 14492.9956351\ttotal: 345ms\tremaining: 1.14s\n",
      "233:\tlearn: 14457.4964651\ttotal: 347ms\tremaining: 1.14s\n",
      "234:\tlearn: 14418.2263992\ttotal: 349ms\tremaining: 1.14s\n",
      "235:\tlearn: 14385.1205155\ttotal: 351ms\tremaining: 1.13s\n",
      "236:\tlearn: 14379.7342177\ttotal: 353ms\tremaining: 1.13s\n",
      "237:\tlearn: 14362.2804795\ttotal: 354ms\tremaining: 1.13s\n",
      "238:\tlearn: 14336.8931011\ttotal: 356ms\tremaining: 1.13s\n"
     ]
    },
    {
     "name": "stdout",
     "output_type": "stream",
     "text": [
      "239:\tlearn: 14297.1511869\ttotal: 358ms\tremaining: 1.13s\n",
      "240:\tlearn: 14261.8387386\ttotal: 360ms\tremaining: 1.13s\n",
      "241:\tlearn: 14237.9958086\ttotal: 362ms\tremaining: 1.13s\n",
      "242:\tlearn: 14232.9555280\ttotal: 364ms\tremaining: 1.13s\n",
      "243:\tlearn: 14227.6451711\ttotal: 366ms\tremaining: 1.14s\n",
      "244:\tlearn: 14216.3108897\ttotal: 368ms\tremaining: 1.14s\n",
      "245:\tlearn: 14188.5013795\ttotal: 371ms\tremaining: 1.14s\n",
      "246:\tlearn: 14175.0461722\ttotal: 373ms\tremaining: 1.14s\n",
      "247:\tlearn: 14170.5832271\ttotal: 375ms\tremaining: 1.14s\n",
      "248:\tlearn: 14155.8963765\ttotal: 377ms\tremaining: 1.14s\n",
      "249:\tlearn: 14121.0031478\ttotal: 379ms\tremaining: 1.14s\n",
      "250:\tlearn: 14078.6918996\ttotal: 381ms\tremaining: 1.14s\n",
      "251:\tlearn: 14047.2138918\ttotal: 382ms\tremaining: 1.13s\n",
      "252:\tlearn: 14034.2411582\ttotal: 384ms\tremaining: 1.13s\n",
      "253:\tlearn: 14029.6934209\ttotal: 385ms\tremaining: 1.13s\n",
      "254:\tlearn: 14000.1641992\ttotal: 387ms\tremaining: 1.13s\n",
      "255:\tlearn: 13969.4286330\ttotal: 388ms\tremaining: 1.13s\n",
      "256:\tlearn: 13943.1293762\ttotal: 390ms\tremaining: 1.13s\n",
      "257:\tlearn: 13912.9114781\ttotal: 391ms\tremaining: 1.12s\n",
      "258:\tlearn: 13902.5353560\ttotal: 392ms\tremaining: 1.12s\n",
      "259:\tlearn: 13869.6180394\ttotal: 394ms\tremaining: 1.12s\n",
      "260:\tlearn: 13864.3434116\ttotal: 395ms\tremaining: 1.12s\n",
      "261:\tlearn: 13840.4497432\ttotal: 397ms\tremaining: 1.12s\n",
      "262:\tlearn: 13828.4133572\ttotal: 398ms\tremaining: 1.11s\n",
      "263:\tlearn: 13820.8653672\ttotal: 399ms\tremaining: 1.11s\n",
      "264:\tlearn: 13800.7287534\ttotal: 401ms\tremaining: 1.11s\n",
      "265:\tlearn: 13766.6678149\ttotal: 403ms\tremaining: 1.11s\n",
      "266:\tlearn: 13757.0746020\ttotal: 404ms\tremaining: 1.11s\n",
      "267:\tlearn: 13724.0387956\ttotal: 406ms\tremaining: 1.11s\n",
      "268:\tlearn: 13717.7257272\ttotal: 407ms\tremaining: 1.11s\n",
      "269:\tlearn: 13690.2237799\ttotal: 409ms\tremaining: 1.11s\n",
      "270:\tlearn: 13659.5796377\ttotal: 411ms\tremaining: 1.1s\n",
      "271:\tlearn: 13648.8086832\ttotal: 412ms\tremaining: 1.1s\n",
      "272:\tlearn: 13611.3292672\ttotal: 413ms\tremaining: 1.1s\n",
      "273:\tlearn: 13588.8163163\ttotal: 415ms\tremaining: 1.1s\n",
      "274:\tlearn: 13578.8126963\ttotal: 416ms\tremaining: 1.1s\n",
      "275:\tlearn: 13556.2468163\ttotal: 418ms\tremaining: 1.09s\n",
      "276:\tlearn: 13521.8748268\ttotal: 419ms\tremaining: 1.09s\n",
      "277:\tlearn: 13495.5548394\ttotal: 420ms\tremaining: 1.09s\n",
      "278:\tlearn: 13471.6502565\ttotal: 421ms\tremaining: 1.09s\n",
      "279:\tlearn: 13437.9394692\ttotal: 423ms\tremaining: 1.09s\n",
      "280:\tlearn: 13412.1739236\ttotal: 424ms\tremaining: 1.08s\n",
      "281:\tlearn: 13377.2149463\ttotal: 426ms\tremaining: 1.08s\n",
      "282:\tlearn: 13370.7692992\ttotal: 427ms\tremaining: 1.08s\n",
      "283:\tlearn: 13340.8995149\ttotal: 428ms\tremaining: 1.08s\n",
      "284:\tlearn: 13310.0376721\ttotal: 430ms\tremaining: 1.08s\n",
      "285:\tlearn: 13286.8379988\ttotal: 431ms\tremaining: 1.07s\n",
      "286:\tlearn: 13248.6160315\ttotal: 432ms\tremaining: 1.07s\n",
      "287:\tlearn: 13219.5319778\ttotal: 434ms\tremaining: 1.07s\n",
      "288:\tlearn: 13195.4524963\ttotal: 436ms\tremaining: 1.07s\n",
      "289:\tlearn: 13164.7291921\ttotal: 437ms\tremaining: 1.07s\n",
      "290:\tlearn: 13122.3086494\ttotal: 439ms\tremaining: 1.07s\n",
      "291:\tlearn: 13098.9821235\ttotal: 440ms\tremaining: 1.07s\n",
      "292:\tlearn: 13089.6580110\ttotal: 441ms\tremaining: 1.06s\n",
      "293:\tlearn: 13058.2574198\ttotal: 443ms\tremaining: 1.06s\n",
      "294:\tlearn: 13025.7251916\ttotal: 444ms\tremaining: 1.06s\n",
      "295:\tlearn: 12997.8858975\ttotal: 445ms\tremaining: 1.06s\n",
      "296:\tlearn: 12972.0260999\ttotal: 447ms\tremaining: 1.06s\n",
      "297:\tlearn: 12952.6228892\ttotal: 448ms\tremaining: 1.05s\n",
      "298:\tlearn: 12947.7447503\ttotal: 449ms\tremaining: 1.05s\n",
      "299:\tlearn: 12926.8147608\ttotal: 450ms\tremaining: 1.05s\n",
      "300:\tlearn: 12917.2408428\ttotal: 452ms\tremaining: 1.05s\n",
      "301:\tlearn: 12899.0598753\ttotal: 453ms\tremaining: 1.05s\n",
      "302:\tlearn: 12869.9758115\ttotal: 455ms\tremaining: 1.04s\n",
      "303:\tlearn: 12843.5422277\ttotal: 456ms\tremaining: 1.04s\n",
      "304:\tlearn: 12816.9858576\ttotal: 457ms\tremaining: 1.04s\n",
      "305:\tlearn: 12789.5485522\ttotal: 458ms\tremaining: 1.04s\n",
      "306:\tlearn: 12762.0180993\ttotal: 459ms\tremaining: 1.04s\n",
      "307:\tlearn: 12733.3558943\ttotal: 461ms\tremaining: 1.03s\n",
      "308:\tlearn: 12727.6635300\ttotal: 462ms\tremaining: 1.03s\n",
      "309:\tlearn: 12695.1459136\ttotal: 463ms\tremaining: 1.03s\n",
      "310:\tlearn: 12686.7336400\ttotal: 465ms\tremaining: 1.03s\n",
      "311:\tlearn: 12654.2847188\ttotal: 466ms\tremaining: 1.03s\n",
      "312:\tlearn: 12646.3903583\ttotal: 467ms\tremaining: 1.02s\n",
      "313:\tlearn: 12641.0082978\ttotal: 468ms\tremaining: 1.02s\n",
      "314:\tlearn: 12608.4134774\ttotal: 470ms\tremaining: 1.02s\n",
      "315:\tlearn: 12575.1338751\ttotal: 471ms\tremaining: 1.02s\n",
      "316:\tlearn: 12546.2775189\ttotal: 472ms\tremaining: 1.02s\n",
      "317:\tlearn: 12540.6602397\ttotal: 474ms\tremaining: 1.01s\n",
      "318:\tlearn: 12523.9108572\ttotal: 475ms\tremaining: 1.01s\n",
      "319:\tlearn: 12499.9510567\ttotal: 476ms\tremaining: 1.01s\n",
      "320:\tlearn: 12474.0562336\ttotal: 477ms\tremaining: 1.01s\n",
      "321:\tlearn: 12452.5777723\ttotal: 479ms\tremaining: 1.01s\n",
      "322:\tlearn: 12431.1508877\ttotal: 480ms\tremaining: 1.01s\n",
      "323:\tlearn: 12398.9662939\ttotal: 481ms\tremaining: 1s\n",
      "324:\tlearn: 12368.3197509\ttotal: 483ms\tremaining: 1s\n",
      "325:\tlearn: 12346.0173272\ttotal: 484ms\tremaining: 1s\n",
      "326:\tlearn: 12325.5950015\ttotal: 485ms\tremaining: 999ms\n",
      "327:\tlearn: 12295.1633052\ttotal: 486ms\tremaining: 997ms\n",
      "328:\tlearn: 12267.1678896\ttotal: 488ms\tremaining: 995ms\n",
      "329:\tlearn: 12241.6110896\ttotal: 489ms\tremaining: 993ms\n",
      "330:\tlearn: 12218.7953172\ttotal: 491ms\tremaining: 992ms\n",
      "331:\tlearn: 12188.4226513\ttotal: 492ms\tremaining: 990ms\n",
      "332:\tlearn: 12162.2004015\ttotal: 493ms\tremaining: 988ms\n",
      "333:\tlearn: 12135.5038675\ttotal: 494ms\tremaining: 986ms\n",
      "334:\tlearn: 12118.6789735\ttotal: 496ms\tremaining: 984ms\n",
      "335:\tlearn: 12087.8834226\ttotal: 497ms\tremaining: 982ms\n",
      "336:\tlearn: 12084.6384335\ttotal: 498ms\tremaining: 980ms\n",
      "337:\tlearn: 12061.6285897\ttotal: 499ms\tremaining: 978ms\n",
      "338:\tlearn: 12031.4766016\ttotal: 501ms\tremaining: 976ms\n",
      "339:\tlearn: 12017.4379838\ttotal: 502ms\tremaining: 974ms\n",
      "340:\tlearn: 11991.7912175\ttotal: 503ms\tremaining: 973ms\n",
      "341:\tlearn: 11966.6153264\ttotal: 505ms\tremaining: 971ms\n",
      "342:\tlearn: 11941.5336514\ttotal: 506ms\tremaining: 969ms\n",
      "343:\tlearn: 11938.2572988\ttotal: 507ms\tremaining: 967ms\n",
      "344:\tlearn: 11919.7804046\ttotal: 509ms\tremaining: 966ms\n",
      "345:\tlearn: 11894.4345145\ttotal: 510ms\tremaining: 964ms\n",
      "346:\tlearn: 11870.7297426\ttotal: 511ms\tremaining: 962ms\n",
      "347:\tlearn: 11844.5855338\ttotal: 513ms\tremaining: 961ms\n",
      "348:\tlearn: 11817.3646650\ttotal: 514ms\tremaining: 959ms\n",
      "349:\tlearn: 11795.4631657\ttotal: 515ms\tremaining: 957ms\n",
      "350:\tlearn: 11784.7305093\ttotal: 517ms\tremaining: 955ms\n",
      "351:\tlearn: 11760.2582465\ttotal: 518ms\tremaining: 953ms\n",
      "352:\tlearn: 11744.5214696\ttotal: 519ms\tremaining: 952ms\n",
      "353:\tlearn: 11723.5605598\ttotal: 521ms\tremaining: 950ms\n",
      "354:\tlearn: 11719.8218472\ttotal: 522ms\tremaining: 948ms\n",
      "355:\tlearn: 11698.4026129\ttotal: 523ms\tremaining: 946ms\n",
      "356:\tlearn: 11670.9240288\ttotal: 524ms\tremaining: 944ms\n",
      "357:\tlearn: 11647.7055240\ttotal: 526ms\tremaining: 943ms\n",
      "358:\tlearn: 11623.7103364\ttotal: 527ms\tremaining: 941ms\n",
      "359:\tlearn: 11600.6286143\ttotal: 528ms\tremaining: 939ms\n",
      "360:\tlearn: 11578.4540809\ttotal: 530ms\tremaining: 938ms\n",
      "361:\tlearn: 11553.0455935\ttotal: 531ms\tremaining: 936ms\n",
      "362:\tlearn: 11523.9775694\ttotal: 532ms\tremaining: 934ms\n",
      "363:\tlearn: 11505.0191024\ttotal: 533ms\tremaining: 932ms\n",
      "364:\tlearn: 11488.2108087\ttotal: 535ms\tremaining: 930ms\n",
      "365:\tlearn: 11464.6584448\ttotal: 536ms\tremaining: 929ms\n",
      "366:\tlearn: 11461.9930201\ttotal: 538ms\tremaining: 928ms\n",
      "367:\tlearn: 11442.8579932\ttotal: 540ms\tremaining: 927ms\n",
      "368:\tlearn: 11420.5114302\ttotal: 541ms\tremaining: 925ms\n",
      "369:\tlearn: 11409.5942698\ttotal: 542ms\tremaining: 924ms\n",
      "370:\tlearn: 11390.0069187\ttotal: 544ms\tremaining: 922ms\n",
      "371:\tlearn: 11378.8488549\ttotal: 545ms\tremaining: 920ms\n",
      "372:\tlearn: 11360.1296790\ttotal: 547ms\tremaining: 919ms\n",
      "373:\tlearn: 11340.9509810\ttotal: 548ms\tremaining: 917ms\n",
      "374:\tlearn: 11338.3722656\ttotal: 550ms\tremaining: 916ms\n",
      "375:\tlearn: 11319.4965258\ttotal: 551ms\tremaining: 914ms\n",
      "376:\tlearn: 11299.4843889\ttotal: 553ms\tremaining: 914ms\n",
      "377:\tlearn: 11281.1062808\ttotal: 554ms\tremaining: 912ms\n",
      "378:\tlearn: 11260.6757070\ttotal: 556ms\tremaining: 911ms\n",
      "379:\tlearn: 11245.6513826\ttotal: 557ms\tremaining: 909ms\n",
      "380:\tlearn: 11210.5700215\ttotal: 559ms\tremaining: 908ms\n",
      "381:\tlearn: 11185.7553598\ttotal: 560ms\tremaining: 906ms\n",
      "382:\tlearn: 11159.2127432\ttotal: 561ms\tremaining: 905ms\n",
      "383:\tlearn: 11133.6466913\ttotal: 563ms\tremaining: 903ms\n",
      "384:\tlearn: 11131.2263593\ttotal: 564ms\tremaining: 901ms\n",
      "385:\tlearn: 11107.4220231\ttotal: 566ms\tremaining: 900ms\n",
      "386:\tlearn: 11104.9375463\ttotal: 567ms\tremaining: 898ms\n",
      "387:\tlearn: 11073.7434353\ttotal: 568ms\tremaining: 897ms\n",
      "388:\tlearn: 11050.7077550\ttotal: 570ms\tremaining: 895ms\n",
      "389:\tlearn: 11038.3435537\ttotal: 571ms\tremaining: 893ms\n",
      "390:\tlearn: 11036.0880733\ttotal: 572ms\tremaining: 891ms\n",
      "391:\tlearn: 11016.5090933\ttotal: 574ms\tremaining: 890ms\n",
      "392:\tlearn: 10988.0399680\ttotal: 575ms\tremaining: 888ms\n",
      "393:\tlearn: 10985.8097350\ttotal: 576ms\tremaining: 887ms\n",
      "394:\tlearn: 10963.6899671\ttotal: 578ms\tremaining: 885ms\n",
      "395:\tlearn: 10951.3173471\ttotal: 579ms\tremaining: 884ms\n",
      "396:\tlearn: 10923.6798411\ttotal: 581ms\tremaining: 882ms\n",
      "397:\tlearn: 10914.8320153\ttotal: 582ms\tremaining: 880ms\n",
      "398:\tlearn: 10893.4498136\ttotal: 583ms\tremaining: 879ms\n",
      "399:\tlearn: 10891.5885107\ttotal: 585ms\tremaining: 877ms\n",
      "400:\tlearn: 10871.2793188\ttotal: 586ms\tremaining: 875ms\n",
      "401:\tlearn: 10861.8582362\ttotal: 587ms\tremaining: 874ms\n",
      "402:\tlearn: 10835.7344217\ttotal: 589ms\tremaining: 872ms\n",
      "403:\tlearn: 10828.8791461\ttotal: 590ms\tremaining: 870ms\n",
      "404:\tlearn: 10797.5008897\ttotal: 591ms\tremaining: 868ms\n",
      "405:\tlearn: 10795.7460733\ttotal: 592ms\tremaining: 867ms\n",
      "406:\tlearn: 10786.3871190\ttotal: 594ms\tremaining: 865ms\n",
      "407:\tlearn: 10784.2740690\ttotal: 595ms\tremaining: 864ms\n",
      "408:\tlearn: 10782.3312437\ttotal: 596ms\tremaining: 862ms\n",
      "409:\tlearn: 10774.9193486\ttotal: 598ms\tremaining: 860ms\n",
      "410:\tlearn: 10754.8784997\ttotal: 599ms\tremaining: 858ms\n",
      "411:\tlearn: 10734.7693360\ttotal: 600ms\tremaining: 857ms\n",
      "412:\tlearn: 10716.2791318\ttotal: 601ms\tremaining: 855ms\n",
      "413:\tlearn: 10697.4704229\ttotal: 603ms\tremaining: 853ms\n",
      "414:\tlearn: 10695.5142467\ttotal: 604ms\tremaining: 852ms\n",
      "415:\tlearn: 10676.9933642\ttotal: 605ms\tremaining: 850ms\n",
      "416:\tlearn: 10665.4381254\ttotal: 607ms\tremaining: 848ms\n",
      "417:\tlearn: 10652.6003678\ttotal: 608ms\tremaining: 846ms\n",
      "418:\tlearn: 10631.1391934\ttotal: 609ms\tremaining: 845ms\n",
      "419:\tlearn: 10613.2317734\ttotal: 610ms\tremaining: 843ms\n",
      "420:\tlearn: 10601.4756272\ttotal: 612ms\tremaining: 841ms\n",
      "421:\tlearn: 10595.5033760\ttotal: 613ms\tremaining: 840ms\n",
      "422:\tlearn: 10579.6397625\ttotal: 614ms\tremaining: 838ms\n",
      "423:\tlearn: 10563.8344689\ttotal: 616ms\tremaining: 836ms\n",
      "424:\tlearn: 10552.1294021\ttotal: 617ms\tremaining: 835ms\n",
      "425:\tlearn: 10532.5029565\ttotal: 618ms\tremaining: 833ms\n",
      "426:\tlearn: 10516.1639211\ttotal: 620ms\tremaining: 831ms\n",
      "427:\tlearn: 10514.2906438\ttotal: 621ms\tremaining: 830ms\n",
      "428:\tlearn: 10512.7882765\ttotal: 622ms\tremaining: 828ms\n",
      "429:\tlearn: 10490.7179266\ttotal: 624ms\tremaining: 827ms\n",
      "430:\tlearn: 10486.5585188\ttotal: 625ms\tremaining: 825ms\n",
      "431:\tlearn: 10482.5934043\ttotal: 626ms\tremaining: 824ms\n",
      "432:\tlearn: 10477.3141543\ttotal: 628ms\tremaining: 822ms\n",
      "433:\tlearn: 10468.7465799\ttotal: 629ms\tremaining: 820ms\n",
      "434:\tlearn: 10451.4253907\ttotal: 630ms\tremaining: 819ms\n",
      "435:\tlearn: 10440.6654453\ttotal: 632ms\tremaining: 817ms\n",
      "436:\tlearn: 10419.6682035\ttotal: 633ms\tremaining: 815ms\n",
      "437:\tlearn: 10404.0858422\ttotal: 634ms\tremaining: 814ms\n",
      "438:\tlearn: 10399.5622588\ttotal: 636ms\tremaining: 812ms\n",
      "439:\tlearn: 10376.6637277\ttotal: 637ms\tremaining: 811ms\n",
      "440:\tlearn: 10361.2614070\ttotal: 638ms\tremaining: 809ms\n",
      "441:\tlearn: 10346.5804639\ttotal: 640ms\tremaining: 808ms\n",
      "442:\tlearn: 10328.1801868\ttotal: 641ms\tremaining: 806ms\n",
      "443:\tlearn: 10318.7998731\ttotal: 642ms\tremaining: 804ms\n",
      "444:\tlearn: 10298.1352512\ttotal: 644ms\tremaining: 803ms\n",
      "445:\tlearn: 10279.6234939\ttotal: 645ms\tremaining: 801ms\n",
      "446:\tlearn: 10257.6263529\ttotal: 646ms\tremaining: 799ms\n",
      "447:\tlearn: 10240.0696906\ttotal: 647ms\tremaining: 798ms\n",
      "448:\tlearn: 10229.8621767\ttotal: 649ms\tremaining: 796ms\n",
      "449:\tlearn: 10214.8066571\ttotal: 650ms\tremaining: 795ms\n",
      "450:\tlearn: 10200.8118391\ttotal: 651ms\tremaining: 793ms\n",
      "451:\tlearn: 10186.5179432\ttotal: 653ms\tremaining: 791ms\n",
      "452:\tlearn: 10174.6109784\ttotal: 654ms\tremaining: 790ms\n",
      "453:\tlearn: 10160.7554521\ttotal: 655ms\tremaining: 788ms\n",
      "454:\tlearn: 10147.0741031\ttotal: 657ms\tremaining: 786ms\n",
      "455:\tlearn: 10128.5155979\ttotal: 658ms\tremaining: 785ms\n",
      "456:\tlearn: 10110.1141151\ttotal: 659ms\tremaining: 783ms\n",
      "457:\tlearn: 10094.9291444\ttotal: 660ms\tremaining: 782ms\n",
      "458:\tlearn: 10081.0866932\ttotal: 662ms\tremaining: 780ms\n",
      "459:\tlearn: 10066.4103922\ttotal: 663ms\tremaining: 778ms\n",
      "460:\tlearn: 10049.7912208\ttotal: 664ms\tremaining: 777ms\n",
      "461:\tlearn: 10024.3662818\ttotal: 666ms\tremaining: 775ms\n",
      "462:\tlearn: 10007.4143643\ttotal: 667ms\tremaining: 774ms\n",
      "463:\tlearn: 9987.1703790\ttotal: 669ms\tremaining: 772ms\n",
      "464:\tlearn: 9964.5478912\ttotal: 670ms\tremaining: 771ms\n",
      "465:\tlearn: 9959.0247507\ttotal: 671ms\tremaining: 769ms\n",
      "466:\tlearn: 9944.0584481\ttotal: 672ms\tremaining: 767ms\n",
      "467:\tlearn: 9923.6588466\ttotal: 674ms\tremaining: 766ms\n",
      "468:\tlearn: 9898.9288853\ttotal: 675ms\tremaining: 764ms\n",
      "469:\tlearn: 9881.5916160\ttotal: 676ms\tremaining: 763ms\n",
      "470:\tlearn: 9871.5340797\ttotal: 678ms\tremaining: 761ms\n",
      "471:\tlearn: 9854.0597050\ttotal: 679ms\tremaining: 760ms\n",
      "472:\tlearn: 9828.7062878\ttotal: 680ms\tremaining: 758ms\n",
      "473:\tlearn: 9804.6913745\ttotal: 682ms\tremaining: 756ms\n",
      "474:\tlearn: 9781.0217223\ttotal: 683ms\tremaining: 755ms\n",
      "475:\tlearn: 9765.2063880\ttotal: 684ms\tremaining: 753ms\n",
      "476:\tlearn: 9752.5233061\ttotal: 686ms\tremaining: 752ms\n",
      "477:\tlearn: 9735.7943752\ttotal: 687ms\tremaining: 750ms\n",
      "478:\tlearn: 9716.4419166\ttotal: 688ms\tremaining: 749ms\n",
      "479:\tlearn: 9699.7218171\ttotal: 690ms\tremaining: 747ms\n",
      "480:\tlearn: 9697.9918062\ttotal: 691ms\tremaining: 746ms\n",
      "481:\tlearn: 9689.1821918\ttotal: 692ms\tremaining: 744ms\n",
      "482:\tlearn: 9673.4296156\ttotal: 693ms\tremaining: 742ms\n",
      "483:\tlearn: 9660.8318236\ttotal: 695ms\tremaining: 741ms\n",
      "484:\tlearn: 9643.5238147\ttotal: 696ms\tremaining: 739ms\n",
      "485:\tlearn: 9630.1535036\ttotal: 697ms\tremaining: 737ms\n",
      "486:\tlearn: 9615.5048249\ttotal: 699ms\tremaining: 736ms\n",
      "487:\tlearn: 9602.4343198\ttotal: 700ms\tremaining: 734ms\n",
      "488:\tlearn: 9600.7481815\ttotal: 701ms\tremaining: 733ms\n",
      "489:\tlearn: 9579.9615010\ttotal: 702ms\tremaining: 731ms\n",
      "490:\tlearn: 9565.8547915\ttotal: 704ms\tremaining: 730ms\n",
      "491:\tlearn: 9547.4087439\ttotal: 705ms\tremaining: 728ms\n",
      "492:\tlearn: 9532.2700303\ttotal: 706ms\tremaining: 726ms\n",
      "493:\tlearn: 9514.7378698\ttotal: 707ms\tremaining: 725ms\n",
      "494:\tlearn: 9502.4727300\ttotal: 709ms\tremaining: 723ms\n",
      "495:\tlearn: 9489.8682859\ttotal: 710ms\tremaining: 722ms\n",
      "496:\tlearn: 9482.4580775\ttotal: 712ms\tremaining: 720ms\n",
      "497:\tlearn: 9476.0898191\ttotal: 713ms\tremaining: 719ms\n",
      "498:\tlearn: 9460.6163097\ttotal: 714ms\tremaining: 717ms\n",
      "499:\tlearn: 9447.7485190\ttotal: 716ms\tremaining: 716ms\n"
     ]
    },
    {
     "name": "stdout",
     "output_type": "stream",
     "text": [
      "500:\tlearn: 9446.1801813\ttotal: 718ms\tremaining: 715ms\n",
      "501:\tlearn: 9444.5013278\ttotal: 719ms\tremaining: 714ms\n",
      "502:\tlearn: 9424.0978910\ttotal: 721ms\tremaining: 712ms\n",
      "503:\tlearn: 9411.1888804\ttotal: 722ms\tremaining: 711ms\n",
      "504:\tlearn: 9393.2379207\ttotal: 724ms\tremaining: 709ms\n",
      "505:\tlearn: 9378.0989082\ttotal: 725ms\tremaining: 708ms\n",
      "506:\tlearn: 9376.5482594\ttotal: 727ms\tremaining: 706ms\n",
      "507:\tlearn: 9354.2045885\ttotal: 728ms\tremaining: 705ms\n",
      "508:\tlearn: 9343.8978090\ttotal: 729ms\tremaining: 703ms\n",
      "509:\tlearn: 9321.1948051\ttotal: 731ms\tremaining: 702ms\n",
      "510:\tlearn: 9309.2007340\ttotal: 732ms\tremaining: 701ms\n",
      "511:\tlearn: 9300.9009071\ttotal: 733ms\tremaining: 699ms\n",
      "512:\tlearn: 9293.9524692\ttotal: 735ms\tremaining: 698ms\n",
      "513:\tlearn: 9277.6405333\ttotal: 736ms\tremaining: 696ms\n",
      "514:\tlearn: 9267.3899708\ttotal: 738ms\tremaining: 695ms\n",
      "515:\tlearn: 9249.9140652\ttotal: 739ms\tremaining: 693ms\n",
      "516:\tlearn: 9228.6834221\ttotal: 741ms\tremaining: 692ms\n",
      "517:\tlearn: 9218.4629812\ttotal: 742ms\tremaining: 691ms\n",
      "518:\tlearn: 9202.6171175\ttotal: 743ms\tremaining: 689ms\n",
      "519:\tlearn: 9189.0404015\ttotal: 745ms\tremaining: 687ms\n",
      "520:\tlearn: 9179.4573696\ttotal: 746ms\tremaining: 686ms\n",
      "521:\tlearn: 9161.3673840\ttotal: 747ms\tremaining: 684ms\n",
      "522:\tlearn: 9159.8302249\ttotal: 749ms\tremaining: 683ms\n",
      "523:\tlearn: 9158.4382069\ttotal: 750ms\tremaining: 681ms\n",
      "524:\tlearn: 9145.4575048\ttotal: 751ms\tremaining: 680ms\n",
      "525:\tlearn: 9135.2898718\ttotal: 753ms\tremaining: 678ms\n",
      "526:\tlearn: 9118.6714441\ttotal: 754ms\tremaining: 677ms\n",
      "527:\tlearn: 9110.8938247\ttotal: 755ms\tremaining: 675ms\n",
      "528:\tlearn: 9099.3717270\ttotal: 756ms\tremaining: 674ms\n",
      "529:\tlearn: 9087.2564855\ttotal: 758ms\tremaining: 672ms\n",
      "530:\tlearn: 9073.8017581\ttotal: 759ms\tremaining: 671ms\n",
      "531:\tlearn: 9055.0681187\ttotal: 761ms\tremaining: 669ms\n",
      "532:\tlearn: 9046.8426162\ttotal: 762ms\tremaining: 668ms\n",
      "533:\tlearn: 9034.3588103\ttotal: 763ms\tremaining: 666ms\n",
      "534:\tlearn: 9024.6488541\ttotal: 765ms\tremaining: 665ms\n",
      "535:\tlearn: 9005.6999276\ttotal: 766ms\tremaining: 663ms\n",
      "536:\tlearn: 9004.5093906\ttotal: 767ms\tremaining: 661ms\n",
      "537:\tlearn: 8989.4661871\ttotal: 768ms\tremaining: 660ms\n",
      "538:\tlearn: 8973.9450743\ttotal: 770ms\tremaining: 658ms\n",
      "539:\tlearn: 8961.2762838\ttotal: 771ms\tremaining: 657ms\n",
      "540:\tlearn: 8951.2787178\ttotal: 772ms\tremaining: 655ms\n",
      "541:\tlearn: 8949.9078755\ttotal: 774ms\tremaining: 654ms\n",
      "542:\tlearn: 8922.8234775\ttotal: 775ms\tremaining: 652ms\n",
      "543:\tlearn: 8913.1922956\ttotal: 777ms\tremaining: 651ms\n",
      "544:\tlearn: 8901.6011105\ttotal: 778ms\tremaining: 649ms\n",
      "545:\tlearn: 8894.4495622\ttotal: 779ms\tremaining: 648ms\n",
      "546:\tlearn: 8884.6677839\ttotal: 781ms\tremaining: 646ms\n",
      "547:\tlearn: 8871.2851604\ttotal: 782ms\tremaining: 645ms\n",
      "548:\tlearn: 8856.0591537\ttotal: 783ms\tremaining: 643ms\n",
      "549:\tlearn: 8840.1236427\ttotal: 784ms\tremaining: 642ms\n",
      "550:\tlearn: 8833.3956425\ttotal: 786ms\tremaining: 640ms\n",
      "551:\tlearn: 8809.3464887\ttotal: 787ms\tremaining: 639ms\n",
      "552:\tlearn: 8793.7522439\ttotal: 788ms\tremaining: 637ms\n",
      "553:\tlearn: 8782.3877847\ttotal: 789ms\tremaining: 635ms\n",
      "554:\tlearn: 8767.5927212\ttotal: 791ms\tremaining: 634ms\n",
      "555:\tlearn: 8753.6275408\ttotal: 792ms\tremaining: 633ms\n",
      "556:\tlearn: 8743.2372992\ttotal: 793ms\tremaining: 631ms\n",
      "557:\tlearn: 8726.9959021\ttotal: 795ms\tremaining: 629ms\n",
      "558:\tlearn: 8717.9549290\ttotal: 796ms\tremaining: 628ms\n",
      "559:\tlearn: 8693.2690133\ttotal: 797ms\tremaining: 626ms\n",
      "560:\tlearn: 8679.7023836\ttotal: 799ms\tremaining: 625ms\n",
      "561:\tlearn: 8665.0856328\ttotal: 800ms\tremaining: 623ms\n",
      "562:\tlearn: 8650.8632902\ttotal: 801ms\tremaining: 622ms\n",
      "563:\tlearn: 8635.3201458\ttotal: 802ms\tremaining: 620ms\n",
      "564:\tlearn: 8634.1290905\ttotal: 804ms\tremaining: 619ms\n",
      "565:\tlearn: 8621.5367775\ttotal: 805ms\tremaining: 617ms\n",
      "566:\tlearn: 8609.2178988\ttotal: 806ms\tremaining: 616ms\n",
      "567:\tlearn: 8598.2767145\ttotal: 808ms\tremaining: 614ms\n",
      "568:\tlearn: 8586.7587880\ttotal: 809ms\tremaining: 613ms\n",
      "569:\tlearn: 8576.3832063\ttotal: 811ms\tremaining: 611ms\n",
      "570:\tlearn: 8564.8540043\ttotal: 812ms\tremaining: 610ms\n",
      "571:\tlearn: 8548.0427655\ttotal: 813ms\tremaining: 608ms\n",
      "572:\tlearn: 8534.2874224\ttotal: 814ms\tremaining: 607ms\n",
      "573:\tlearn: 8521.5990313\ttotal: 816ms\tremaining: 605ms\n",
      "574:\tlearn: 8509.1719312\ttotal: 817ms\tremaining: 604ms\n",
      "575:\tlearn: 8505.6157134\ttotal: 818ms\tremaining: 602ms\n",
      "576:\tlearn: 8492.8386412\ttotal: 819ms\tremaining: 601ms\n",
      "577:\tlearn: 8477.4285404\ttotal: 821ms\tremaining: 599ms\n",
      "578:\tlearn: 8476.2866993\ttotal: 822ms\tremaining: 598ms\n",
      "579:\tlearn: 8462.3660932\ttotal: 823ms\tremaining: 596ms\n",
      "580:\tlearn: 8447.3113673\ttotal: 825ms\tremaining: 595ms\n",
      "581:\tlearn: 8433.1197706\ttotal: 826ms\tremaining: 593ms\n",
      "582:\tlearn: 8422.4953742\ttotal: 827ms\tremaining: 592ms\n",
      "583:\tlearn: 8408.9636266\ttotal: 829ms\tremaining: 590ms\n",
      "584:\tlearn: 8405.4983153\ttotal: 830ms\tremaining: 589ms\n",
      "585:\tlearn: 8397.6757484\ttotal: 831ms\tremaining: 587ms\n",
      "586:\tlearn: 8388.0636304\ttotal: 832ms\tremaining: 586ms\n",
      "587:\tlearn: 8379.2937109\ttotal: 834ms\tremaining: 584ms\n",
      "588:\tlearn: 8377.3135162\ttotal: 835ms\tremaining: 583ms\n",
      "589:\tlearn: 8366.9278771\ttotal: 836ms\tremaining: 581ms\n",
      "590:\tlearn: 8354.2259928\ttotal: 838ms\tremaining: 580ms\n",
      "591:\tlearn: 8330.5783697\ttotal: 839ms\tremaining: 578ms\n",
      "592:\tlearn: 8319.0176720\ttotal: 840ms\tremaining: 577ms\n",
      "593:\tlearn: 8302.4794093\ttotal: 842ms\tremaining: 575ms\n",
      "594:\tlearn: 8293.9177797\ttotal: 843ms\tremaining: 574ms\n",
      "595:\tlearn: 8281.3376179\ttotal: 844ms\tremaining: 572ms\n",
      "596:\tlearn: 8273.1274134\ttotal: 846ms\tremaining: 571ms\n",
      "597:\tlearn: 8254.2060277\ttotal: 847ms\tremaining: 569ms\n",
      "598:\tlearn: 8243.1887090\ttotal: 848ms\tremaining: 568ms\n",
      "599:\tlearn: 8239.9807359\ttotal: 849ms\tremaining: 566ms\n",
      "600:\tlearn: 8236.2431566\ttotal: 851ms\tremaining: 565ms\n",
      "601:\tlearn: 8217.3980159\ttotal: 852ms\tremaining: 563ms\n",
      "602:\tlearn: 8208.0892474\ttotal: 853ms\tremaining: 562ms\n",
      "603:\tlearn: 8196.4632070\ttotal: 855ms\tremaining: 560ms\n",
      "604:\tlearn: 8184.6347332\ttotal: 856ms\tremaining: 559ms\n",
      "605:\tlearn: 8169.3869891\ttotal: 857ms\tremaining: 557ms\n",
      "606:\tlearn: 8159.9322716\ttotal: 859ms\tremaining: 556ms\n",
      "607:\tlearn: 8150.2308079\ttotal: 860ms\tremaining: 554ms\n",
      "608:\tlearn: 8133.1840338\ttotal: 861ms\tremaining: 553ms\n",
      "609:\tlearn: 8122.2702606\ttotal: 863ms\tremaining: 552ms\n",
      "610:\tlearn: 8114.3253544\ttotal: 864ms\tremaining: 550ms\n",
      "611:\tlearn: 8113.1241414\ttotal: 865ms\tremaining: 548ms\n",
      "612:\tlearn: 8099.5397418\ttotal: 866ms\tremaining: 547ms\n",
      "613:\tlearn: 8098.4018928\ttotal: 868ms\tremaining: 545ms\n",
      "614:\tlearn: 8086.1531891\ttotal: 869ms\tremaining: 544ms\n",
      "615:\tlearn: 8071.1679288\ttotal: 870ms\tremaining: 542ms\n",
      "616:\tlearn: 8057.3638666\ttotal: 871ms\tremaining: 541ms\n",
      "617:\tlearn: 8055.3531212\ttotal: 873ms\tremaining: 539ms\n",
      "618:\tlearn: 8044.9880510\ttotal: 874ms\tremaining: 538ms\n",
      "619:\tlearn: 8036.6206739\ttotal: 875ms\tremaining: 537ms\n",
      "620:\tlearn: 8033.4554858\ttotal: 877ms\tremaining: 535ms\n",
      "621:\tlearn: 8024.8437484\ttotal: 878ms\tremaining: 534ms\n",
      "622:\tlearn: 8010.4279675\ttotal: 879ms\tremaining: 532ms\n",
      "623:\tlearn: 8003.6020694\ttotal: 881ms\tremaining: 531ms\n",
      "624:\tlearn: 7991.1929916\ttotal: 882ms\tremaining: 529ms\n",
      "625:\tlearn: 7979.2476892\ttotal: 883ms\tremaining: 528ms\n",
      "626:\tlearn: 7965.2739752\ttotal: 885ms\tremaining: 526ms\n",
      "627:\tlearn: 7957.3020199\ttotal: 886ms\tremaining: 525ms\n",
      "628:\tlearn: 7942.6497276\ttotal: 887ms\tremaining: 523ms\n",
      "629:\tlearn: 7930.0731167\ttotal: 888ms\tremaining: 522ms\n",
      "630:\tlearn: 7927.2444690\ttotal: 890ms\tremaining: 520ms\n",
      "631:\tlearn: 7910.6477414\ttotal: 891ms\tremaining: 519ms\n",
      "632:\tlearn: 7899.6261546\ttotal: 893ms\tremaining: 517ms\n",
      "633:\tlearn: 7886.0319843\ttotal: 894ms\tremaining: 516ms\n",
      "634:\tlearn: 7875.2127801\ttotal: 895ms\tremaining: 515ms\n",
      "635:\tlearn: 7871.6161075\ttotal: 896ms\tremaining: 513ms\n",
      "636:\tlearn: 7869.5527198\ttotal: 898ms\tremaining: 512ms\n",
      "637:\tlearn: 7860.6281749\ttotal: 900ms\tremaining: 510ms\n",
      "638:\tlearn: 7855.0515792\ttotal: 901ms\tremaining: 509ms\n",
      "639:\tlearn: 7840.1292250\ttotal: 902ms\tremaining: 508ms\n",
      "640:\tlearn: 7836.5912741\ttotal: 904ms\tremaining: 506ms\n",
      "641:\tlearn: 7828.8314998\ttotal: 905ms\tremaining: 505ms\n",
      "642:\tlearn: 7813.6022095\ttotal: 906ms\tremaining: 503ms\n",
      "643:\tlearn: 7801.0770017\ttotal: 908ms\tremaining: 502ms\n",
      "644:\tlearn: 7781.6947373\ttotal: 909ms\tremaining: 500ms\n",
      "645:\tlearn: 7779.7643588\ttotal: 910ms\tremaining: 499ms\n",
      "646:\tlearn: 7770.4791315\ttotal: 912ms\tremaining: 497ms\n",
      "647:\tlearn: 7766.4816115\ttotal: 913ms\tremaining: 496ms\n",
      "648:\tlearn: 7764.4562059\ttotal: 914ms\tremaining: 495ms\n",
      "649:\tlearn: 7744.9875770\ttotal: 916ms\tremaining: 493ms\n",
      "650:\tlearn: 7733.7238472\ttotal: 917ms\tremaining: 492ms\n",
      "651:\tlearn: 7718.0860449\ttotal: 919ms\tremaining: 490ms\n",
      "652:\tlearn: 7696.8044864\ttotal: 921ms\tremaining: 489ms\n",
      "653:\tlearn: 7681.7942669\ttotal: 922ms\tremaining: 488ms\n",
      "654:\tlearn: 7678.7599206\ttotal: 924ms\tremaining: 487ms\n",
      "655:\tlearn: 7675.8932712\ttotal: 926ms\tremaining: 485ms\n",
      "656:\tlearn: 7674.6410673\ttotal: 927ms\tremaining: 484ms\n",
      "657:\tlearn: 7667.4798428\ttotal: 928ms\tremaining: 482ms\n",
      "658:\tlearn: 7656.7723183\ttotal: 930ms\tremaining: 481ms\n",
      "659:\tlearn: 7645.0046049\ttotal: 931ms\tremaining: 480ms\n",
      "660:\tlearn: 7634.5248716\ttotal: 933ms\tremaining: 478ms\n",
      "661:\tlearn: 7616.1827346\ttotal: 934ms\tremaining: 477ms\n",
      "662:\tlearn: 7603.0368179\ttotal: 935ms\tremaining: 475ms\n",
      "663:\tlearn: 7601.2352028\ttotal: 937ms\tremaining: 474ms\n",
      "664:\tlearn: 7591.5946739\ttotal: 938ms\tremaining: 473ms\n",
      "665:\tlearn: 7576.1529606\ttotal: 940ms\tremaining: 471ms\n",
      "666:\tlearn: 7574.4927711\ttotal: 941ms\tremaining: 470ms\n",
      "667:\tlearn: 7563.9110592\ttotal: 942ms\tremaining: 468ms\n",
      "668:\tlearn: 7553.5282347\ttotal: 944ms\tremaining: 467ms\n",
      "669:\tlearn: 7537.9761262\ttotal: 945ms\tremaining: 465ms\n",
      "670:\tlearn: 7525.0008593\ttotal: 946ms\tremaining: 464ms\n",
      "671:\tlearn: 7513.1895423\ttotal: 948ms\tremaining: 463ms\n",
      "672:\tlearn: 7508.1013126\ttotal: 949ms\tremaining: 461ms\n",
      "673:\tlearn: 7497.9398683\ttotal: 951ms\tremaining: 460ms\n",
      "674:\tlearn: 7487.5121384\ttotal: 952ms\tremaining: 458ms\n",
      "675:\tlearn: 7471.2198735\ttotal: 953ms\tremaining: 457ms\n",
      "676:\tlearn: 7455.6308041\ttotal: 955ms\tremaining: 456ms\n",
      "677:\tlearn: 7444.7342819\ttotal: 956ms\tremaining: 454ms\n",
      "678:\tlearn: 7443.1607534\ttotal: 957ms\tremaining: 453ms\n",
      "679:\tlearn: 7436.7341862\ttotal: 959ms\tremaining: 451ms\n",
      "680:\tlearn: 7435.4373037\ttotal: 960ms\tremaining: 450ms\n",
      "681:\tlearn: 7424.0509915\ttotal: 962ms\tremaining: 448ms\n",
      "682:\tlearn: 7412.2057680\ttotal: 963ms\tremaining: 447ms\n",
      "683:\tlearn: 7400.3242817\ttotal: 964ms\tremaining: 446ms\n",
      "684:\tlearn: 7390.0780823\ttotal: 966ms\tremaining: 444ms\n",
      "685:\tlearn: 7379.0427420\ttotal: 967ms\tremaining: 443ms\n",
      "686:\tlearn: 7364.2579360\ttotal: 969ms\tremaining: 441ms\n",
      "687:\tlearn: 7353.6983918\ttotal: 970ms\tremaining: 440ms\n",
      "688:\tlearn: 7343.5889433\ttotal: 972ms\tremaining: 439ms\n",
      "689:\tlearn: 7333.4352742\ttotal: 973ms\tremaining: 437ms\n",
      "690:\tlearn: 7323.7352743\ttotal: 975ms\tremaining: 436ms\n",
      "691:\tlearn: 7314.7679610\ttotal: 976ms\tremaining: 435ms\n",
      "692:\tlearn: 7303.0585745\ttotal: 978ms\tremaining: 433ms\n",
      "693:\tlearn: 7300.7924129\ttotal: 979ms\tremaining: 432ms\n",
      "694:\tlearn: 7293.4518842\ttotal: 980ms\tremaining: 430ms\n",
      "695:\tlearn: 7283.1440004\ttotal: 981ms\tremaining: 429ms\n",
      "696:\tlearn: 7277.1464473\ttotal: 983ms\tremaining: 427ms\n",
      "697:\tlearn: 7269.4654831\ttotal: 984ms\tremaining: 426ms\n",
      "698:\tlearn: 7260.1416061\ttotal: 986ms\tremaining: 425ms\n",
      "699:\tlearn: 7253.4048489\ttotal: 987ms\tremaining: 423ms\n",
      "700:\tlearn: 7246.7880017\ttotal: 989ms\tremaining: 422ms\n",
      "701:\tlearn: 7234.7385615\ttotal: 990ms\tremaining: 420ms\n",
      "702:\tlearn: 7227.5754864\ttotal: 992ms\tremaining: 419ms\n",
      "703:\tlearn: 7215.0335471\ttotal: 993ms\tremaining: 417ms\n",
      "704:\tlearn: 7207.3161156\ttotal: 994ms\tremaining: 416ms\n",
      "705:\tlearn: 7197.1894991\ttotal: 996ms\tremaining: 415ms\n",
      "706:\tlearn: 7186.8220368\ttotal: 997ms\tremaining: 413ms\n",
      "707:\tlearn: 7177.2724109\ttotal: 999ms\tremaining: 412ms\n",
      "708:\tlearn: 7164.9775406\ttotal: 1s\tremaining: 410ms\n",
      "709:\tlearn: 7151.7887252\ttotal: 1s\tremaining: 409ms\n",
      "710:\tlearn: 7139.8893877\ttotal: 1s\tremaining: 408ms\n",
      "711:\tlearn: 7134.0046601\ttotal: 1s\tremaining: 406ms\n",
      "712:\tlearn: 7130.3483161\ttotal: 1s\tremaining: 405ms\n",
      "713:\tlearn: 7126.5889060\ttotal: 1.01s\tremaining: 403ms\n",
      "714:\tlearn: 7117.1573554\ttotal: 1.01s\tremaining: 402ms\n",
      "715:\tlearn: 7105.7471698\ttotal: 1.01s\tremaining: 400ms\n",
      "716:\tlearn: 7091.8903820\ttotal: 1.01s\tremaining: 399ms\n",
      "717:\tlearn: 7081.3046934\ttotal: 1.01s\tremaining: 398ms\n",
      "718:\tlearn: 7072.7847276\ttotal: 1.01s\tremaining: 396ms\n",
      "719:\tlearn: 7062.3786528\ttotal: 1.01s\tremaining: 395ms\n",
      "720:\tlearn: 7059.1851757\ttotal: 1.02s\tremaining: 393ms\n",
      "721:\tlearn: 7046.5844154\ttotal: 1.02s\tremaining: 392ms\n",
      "722:\tlearn: 7036.0545605\ttotal: 1.02s\tremaining: 391ms\n",
      "723:\tlearn: 7031.4024705\ttotal: 1.02s\tremaining: 389ms\n",
      "724:\tlearn: 7020.6032680\ttotal: 1.02s\tremaining: 388ms\n",
      "725:\tlearn: 7004.8483249\ttotal: 1.02s\tremaining: 386ms\n",
      "726:\tlearn: 6998.4789219\ttotal: 1.02s\tremaining: 385ms\n",
      "727:\tlearn: 6988.6067725\ttotal: 1.03s\tremaining: 384ms\n",
      "728:\tlearn: 6985.9474116\ttotal: 1.03s\tremaining: 382ms\n",
      "729:\tlearn: 6971.9072540\ttotal: 1.03s\tremaining: 381ms\n",
      "730:\tlearn: 6963.2304727\ttotal: 1.03s\tremaining: 379ms\n",
      "731:\tlearn: 6955.7340194\ttotal: 1.03s\tremaining: 378ms\n",
      "732:\tlearn: 6954.7027066\ttotal: 1.03s\tremaining: 376ms\n",
      "733:\tlearn: 6953.8967507\ttotal: 1.03s\tremaining: 375ms\n",
      "734:\tlearn: 6952.0488318\ttotal: 1.04s\tremaining: 374ms\n",
      "735:\tlearn: 6951.1696159\ttotal: 1.04s\tremaining: 372ms\n",
      "736:\tlearn: 6937.3731372\ttotal: 1.04s\tremaining: 371ms\n",
      "737:\tlearn: 6932.1820353\ttotal: 1.04s\tremaining: 369ms\n",
      "738:\tlearn: 6915.3708847\ttotal: 1.04s\tremaining: 368ms\n",
      "739:\tlearn: 6907.2479343\ttotal: 1.04s\tremaining: 367ms\n",
      "740:\tlearn: 6901.8945769\ttotal: 1.04s\tremaining: 365ms\n",
      "741:\tlearn: 6887.9464505\ttotal: 1.05s\tremaining: 364ms\n",
      "742:\tlearn: 6882.0447811\ttotal: 1.05s\tremaining: 363ms\n",
      "743:\tlearn: 6869.1728781\ttotal: 1.05s\tremaining: 361ms\n",
      "744:\tlearn: 6862.3619340\ttotal: 1.05s\tremaining: 360ms\n",
      "745:\tlearn: 6855.6123879\ttotal: 1.05s\tremaining: 358ms\n",
      "746:\tlearn: 6853.1946178\ttotal: 1.05s\tremaining: 357ms\n",
      "747:\tlearn: 6840.8390943\ttotal: 1.05s\tremaining: 356ms\n",
      "748:\tlearn: 6831.5968642\ttotal: 1.06s\tremaining: 354ms\n",
      "749:\tlearn: 6819.2743037\ttotal: 1.06s\tremaining: 353ms\n",
      "750:\tlearn: 6809.8496822\ttotal: 1.06s\tremaining: 351ms\n",
      "751:\tlearn: 6801.0706935\ttotal: 1.06s\tremaining: 350ms\n",
      "752:\tlearn: 6797.1699799\ttotal: 1.06s\tremaining: 348ms\n",
      "753:\tlearn: 6792.4916707\ttotal: 1.06s\tremaining: 347ms\n",
      "754:\tlearn: 6783.2282436\ttotal: 1.06s\tremaining: 346ms\n",
      "755:\tlearn: 6775.5310694\ttotal: 1.07s\tremaining: 344ms\n",
      "756:\tlearn: 6772.8090567\ttotal: 1.07s\tremaining: 343ms\n",
      "757:\tlearn: 6767.0083099\ttotal: 1.07s\tremaining: 341ms\n",
      "758:\tlearn: 6760.7037666\ttotal: 1.07s\tremaining: 340ms\n",
      "759:\tlearn: 6742.5723048\ttotal: 1.07s\tremaining: 339ms\n",
      "760:\tlearn: 6735.5530284\ttotal: 1.07s\tremaining: 337ms\n",
      "761:\tlearn: 6734.4664298\ttotal: 1.07s\tremaining: 336ms\n",
      "762:\tlearn: 6717.4639691\ttotal: 1.07s\tremaining: 334ms\n",
      "763:\tlearn: 6702.4705727\ttotal: 1.08s\tremaining: 333ms\n",
      "764:\tlearn: 6692.2677361\ttotal: 1.08s\tremaining: 331ms\n"
     ]
    },
    {
     "name": "stdout",
     "output_type": "stream",
     "text": [
      "765:\tlearn: 6685.2938580\ttotal: 1.08s\tremaining: 330ms\n",
      "766:\tlearn: 6684.4907807\ttotal: 1.08s\tremaining: 329ms\n",
      "767:\tlearn: 6682.4097160\ttotal: 1.08s\tremaining: 328ms\n",
      "768:\tlearn: 6674.3612760\ttotal: 1.09s\tremaining: 326ms\n",
      "769:\tlearn: 6673.2841817\ttotal: 1.09s\tremaining: 325ms\n",
      "770:\tlearn: 6672.3962219\ttotal: 1.09s\tremaining: 323ms\n",
      "771:\tlearn: 6671.2770722\ttotal: 1.09s\tremaining: 322ms\n",
      "772:\tlearn: 6663.5027765\ttotal: 1.09s\tremaining: 320ms\n",
      "773:\tlearn: 6653.5479387\ttotal: 1.09s\tremaining: 319ms\n",
      "774:\tlearn: 6645.0745361\ttotal: 1.09s\tremaining: 318ms\n",
      "775:\tlearn: 6637.0216951\ttotal: 1.09s\tremaining: 316ms\n",
      "776:\tlearn: 6629.8428684\ttotal: 1.1s\tremaining: 315ms\n",
      "777:\tlearn: 6619.6494563\ttotal: 1.1s\tremaining: 313ms\n",
      "778:\tlearn: 6614.0687497\ttotal: 1.1s\tremaining: 312ms\n",
      "779:\tlearn: 6604.0880358\ttotal: 1.1s\tremaining: 311ms\n",
      "780:\tlearn: 6591.7313826\ttotal: 1.1s\tremaining: 309ms\n",
      "781:\tlearn: 6579.0948456\ttotal: 1.1s\tremaining: 308ms\n",
      "782:\tlearn: 6573.1152569\ttotal: 1.11s\tremaining: 307ms\n",
      "783:\tlearn: 6565.4129420\ttotal: 1.11s\tremaining: 305ms\n",
      "784:\tlearn: 6559.4536247\ttotal: 1.11s\tremaining: 304ms\n",
      "785:\tlearn: 6551.8924733\ttotal: 1.11s\tremaining: 302ms\n",
      "786:\tlearn: 6545.9994051\ttotal: 1.11s\tremaining: 301ms\n",
      "787:\tlearn: 6538.6266790\ttotal: 1.11s\tremaining: 300ms\n",
      "788:\tlearn: 6530.9044703\ttotal: 1.12s\tremaining: 299ms\n",
      "789:\tlearn: 6526.9436188\ttotal: 1.12s\tremaining: 297ms\n",
      "790:\tlearn: 6518.3063552\ttotal: 1.12s\tremaining: 296ms\n",
      "791:\tlearn: 6513.4503668\ttotal: 1.12s\tremaining: 295ms\n",
      "792:\tlearn: 6502.7782516\ttotal: 1.12s\tremaining: 293ms\n",
      "793:\tlearn: 6495.4296947\ttotal: 1.12s\tremaining: 292ms\n",
      "794:\tlearn: 6485.9590021\ttotal: 1.13s\tremaining: 290ms\n",
      "795:\tlearn: 6485.3503364\ttotal: 1.13s\tremaining: 289ms\n",
      "796:\tlearn: 6481.3961237\ttotal: 1.13s\tremaining: 288ms\n",
      "797:\tlearn: 6475.1785268\ttotal: 1.13s\tremaining: 286ms\n",
      "798:\tlearn: 6464.3645948\ttotal: 1.13s\tremaining: 285ms\n",
      "799:\tlearn: 6458.3954429\ttotal: 1.13s\tremaining: 283ms\n",
      "800:\tlearn: 6452.3258849\ttotal: 1.14s\tremaining: 282ms\n",
      "801:\tlearn: 6443.8577222\ttotal: 1.14s\tremaining: 281ms\n",
      "802:\tlearn: 6443.2723276\ttotal: 1.14s\tremaining: 280ms\n",
      "803:\tlearn: 6436.8173535\ttotal: 1.14s\tremaining: 278ms\n",
      "804:\tlearn: 6431.9113379\ttotal: 1.14s\tremaining: 277ms\n",
      "805:\tlearn: 6427.1080997\ttotal: 1.14s\tremaining: 275ms\n",
      "806:\tlearn: 6413.4946083\ttotal: 1.15s\tremaining: 274ms\n",
      "807:\tlearn: 6407.9484509\ttotal: 1.15s\tremaining: 273ms\n",
      "808:\tlearn: 6396.4089507\ttotal: 1.15s\tremaining: 271ms\n",
      "809:\tlearn: 6395.1904074\ttotal: 1.15s\tremaining: 270ms\n",
      "810:\tlearn: 6385.5650170\ttotal: 1.15s\tremaining: 268ms\n",
      "811:\tlearn: 6384.8852328\ttotal: 1.15s\tremaining: 267ms\n",
      "812:\tlearn: 6379.6630427\ttotal: 1.15s\tremaining: 265ms\n",
      "813:\tlearn: 6373.7012814\ttotal: 1.16s\tremaining: 264ms\n",
      "814:\tlearn: 6365.4995709\ttotal: 1.16s\tremaining: 263ms\n",
      "815:\tlearn: 6358.0550687\ttotal: 1.16s\tremaining: 261ms\n",
      "816:\tlearn: 6350.3989884\ttotal: 1.16s\tremaining: 260ms\n",
      "817:\tlearn: 6344.3503183\ttotal: 1.16s\tremaining: 258ms\n",
      "818:\tlearn: 6334.4263074\ttotal: 1.16s\tremaining: 257ms\n",
      "819:\tlearn: 6327.2235699\ttotal: 1.16s\tremaining: 255ms\n",
      "820:\tlearn: 6314.3677864\ttotal: 1.17s\tremaining: 254ms\n",
      "821:\tlearn: 6304.1623780\ttotal: 1.17s\tremaining: 253ms\n",
      "822:\tlearn: 6303.2130816\ttotal: 1.17s\tremaining: 251ms\n",
      "823:\tlearn: 6296.8694836\ttotal: 1.17s\tremaining: 250ms\n",
      "824:\tlearn: 6295.6530425\ttotal: 1.17s\tremaining: 249ms\n",
      "825:\tlearn: 6294.9559683\ttotal: 1.17s\tremaining: 247ms\n",
      "826:\tlearn: 6288.0036624\ttotal: 1.17s\tremaining: 246ms\n",
      "827:\tlearn: 6280.9231920\ttotal: 1.18s\tremaining: 244ms\n",
      "828:\tlearn: 6280.3895759\ttotal: 1.18s\tremaining: 243ms\n",
      "829:\tlearn: 6274.4143294\ttotal: 1.18s\tremaining: 241ms\n",
      "830:\tlearn: 6266.8741915\ttotal: 1.18s\tremaining: 240ms\n",
      "831:\tlearn: 6260.4222291\ttotal: 1.18s\tremaining: 239ms\n",
      "832:\tlearn: 6257.4133092\ttotal: 1.18s\tremaining: 237ms\n",
      "833:\tlearn: 6249.7428072\ttotal: 1.18s\tremaining: 236ms\n",
      "834:\tlearn: 6240.7609112\ttotal: 1.19s\tremaining: 234ms\n",
      "835:\tlearn: 6233.2798299\ttotal: 1.19s\tremaining: 233ms\n",
      "836:\tlearn: 6222.2301411\ttotal: 1.19s\tremaining: 232ms\n",
      "837:\tlearn: 6214.2100076\ttotal: 1.19s\tremaining: 230ms\n",
      "838:\tlearn: 6207.3691994\ttotal: 1.19s\tremaining: 229ms\n",
      "839:\tlearn: 6199.9216132\ttotal: 1.19s\tremaining: 227ms\n",
      "840:\tlearn: 6194.8022678\ttotal: 1.2s\tremaining: 226ms\n",
      "841:\tlearn: 6187.8371282\ttotal: 1.2s\tremaining: 225ms\n",
      "842:\tlearn: 6181.9151867\ttotal: 1.2s\tremaining: 223ms\n",
      "843:\tlearn: 6180.6511784\ttotal: 1.2s\tremaining: 222ms\n",
      "844:\tlearn: 6172.8786261\ttotal: 1.2s\tremaining: 221ms\n",
      "845:\tlearn: 6167.8832175\ttotal: 1.2s\tremaining: 219ms\n",
      "846:\tlearn: 6160.5047321\ttotal: 1.2s\tremaining: 218ms\n",
      "847:\tlearn: 6153.9875018\ttotal: 1.21s\tremaining: 216ms\n",
      "848:\tlearn: 6149.7738604\ttotal: 1.21s\tremaining: 215ms\n",
      "849:\tlearn: 6145.4695627\ttotal: 1.21s\tremaining: 213ms\n",
      "850:\tlearn: 6134.6951847\ttotal: 1.21s\tremaining: 212ms\n",
      "851:\tlearn: 6122.6273573\ttotal: 1.21s\tremaining: 210ms\n",
      "852:\tlearn: 6115.7106428\ttotal: 1.21s\tremaining: 209ms\n",
      "853:\tlearn: 6108.9444583\ttotal: 1.21s\tremaining: 208ms\n",
      "854:\tlearn: 6101.8567653\ttotal: 1.22s\tremaining: 206ms\n",
      "855:\tlearn: 6089.5461968\ttotal: 1.22s\tremaining: 205ms\n",
      "856:\tlearn: 6087.2450830\ttotal: 1.22s\tremaining: 203ms\n",
      "857:\tlearn: 6080.3279290\ttotal: 1.22s\tremaining: 202ms\n",
      "858:\tlearn: 6071.1266927\ttotal: 1.22s\tremaining: 200ms\n",
      "859:\tlearn: 6067.4261261\ttotal: 1.22s\tremaining: 199ms\n",
      "860:\tlearn: 6066.8903213\ttotal: 1.22s\tremaining: 198ms\n",
      "861:\tlearn: 6062.8013117\ttotal: 1.23s\tremaining: 196ms\n",
      "862:\tlearn: 6062.2318591\ttotal: 1.23s\tremaining: 195ms\n",
      "863:\tlearn: 6061.5661489\ttotal: 1.23s\tremaining: 193ms\n",
      "864:\tlearn: 6055.8384098\ttotal: 1.23s\tremaining: 192ms\n",
      "865:\tlearn: 6054.7182850\ttotal: 1.23s\tremaining: 190ms\n",
      "866:\tlearn: 6048.7925580\ttotal: 1.23s\tremaining: 189ms\n",
      "867:\tlearn: 6045.2896134\ttotal: 1.23s\tremaining: 188ms\n",
      "868:\tlearn: 6032.3167881\ttotal: 1.24s\tremaining: 186ms\n",
      "869:\tlearn: 6022.6942584\ttotal: 1.24s\tremaining: 185ms\n",
      "870:\tlearn: 6017.3559951\ttotal: 1.24s\tremaining: 183ms\n",
      "871:\tlearn: 6014.9526739\ttotal: 1.24s\tremaining: 182ms\n",
      "872:\tlearn: 6008.2472125\ttotal: 1.24s\tremaining: 181ms\n",
      "873:\tlearn: 6003.1677550\ttotal: 1.24s\tremaining: 179ms\n",
      "874:\tlearn: 6002.1042925\ttotal: 1.24s\tremaining: 178ms\n",
      "875:\tlearn: 5996.1606829\ttotal: 1.25s\tremaining: 176ms\n",
      "876:\tlearn: 5986.6071932\ttotal: 1.25s\tremaining: 175ms\n",
      "877:\tlearn: 5980.4897896\ttotal: 1.25s\tremaining: 173ms\n",
      "878:\tlearn: 5976.0958029\ttotal: 1.25s\tremaining: 172ms\n",
      "879:\tlearn: 5964.0521295\ttotal: 1.25s\tremaining: 171ms\n",
      "880:\tlearn: 5956.7846910\ttotal: 1.25s\tremaining: 169ms\n",
      "881:\tlearn: 5955.7405181\ttotal: 1.25s\tremaining: 168ms\n",
      "882:\tlearn: 5949.1334807\ttotal: 1.26s\tremaining: 166ms\n",
      "883:\tlearn: 5939.6252311\ttotal: 1.26s\tremaining: 165ms\n",
      "884:\tlearn: 5929.3868496\ttotal: 1.26s\tremaining: 164ms\n",
      "885:\tlearn: 5919.7892908\ttotal: 1.26s\tremaining: 162ms\n",
      "886:\tlearn: 5911.3745578\ttotal: 1.26s\tremaining: 161ms\n",
      "887:\tlearn: 5907.7198319\ttotal: 1.26s\tremaining: 159ms\n",
      "888:\tlearn: 5899.7265609\ttotal: 1.26s\tremaining: 158ms\n",
      "889:\tlearn: 5890.0710912\ttotal: 1.27s\tremaining: 157ms\n",
      "890:\tlearn: 5887.5853084\ttotal: 1.27s\tremaining: 155ms\n",
      "891:\tlearn: 5874.6877048\ttotal: 1.27s\tremaining: 154ms\n",
      "892:\tlearn: 5873.7691888\ttotal: 1.27s\tremaining: 152ms\n",
      "893:\tlearn: 5873.0637738\ttotal: 1.27s\tremaining: 151ms\n",
      "894:\tlearn: 5865.4065301\ttotal: 1.27s\tremaining: 150ms\n",
      "895:\tlearn: 5855.8140888\ttotal: 1.28s\tremaining: 148ms\n",
      "896:\tlearn: 5842.2193537\ttotal: 1.28s\tremaining: 147ms\n",
      "897:\tlearn: 5831.5801330\ttotal: 1.28s\tremaining: 145ms\n",
      "898:\tlearn: 5816.6813271\ttotal: 1.28s\tremaining: 144ms\n",
      "899:\tlearn: 5808.0128587\ttotal: 1.28s\tremaining: 143ms\n",
      "900:\tlearn: 5807.0695873\ttotal: 1.28s\tremaining: 141ms\n",
      "901:\tlearn: 5806.2844846\ttotal: 1.28s\tremaining: 140ms\n",
      "902:\tlearn: 5795.9530166\ttotal: 1.29s\tremaining: 138ms\n",
      "903:\tlearn: 5795.3285313\ttotal: 1.29s\tremaining: 137ms\n",
      "904:\tlearn: 5790.9857238\ttotal: 1.29s\tremaining: 135ms\n",
      "905:\tlearn: 5782.6249543\ttotal: 1.29s\tremaining: 134ms\n",
      "906:\tlearn: 5780.9399120\ttotal: 1.29s\tremaining: 132ms\n",
      "907:\tlearn: 5773.9546218\ttotal: 1.29s\tremaining: 131ms\n",
      "908:\tlearn: 5772.2152923\ttotal: 1.29s\tremaining: 130ms\n",
      "909:\tlearn: 5770.9145566\ttotal: 1.3s\tremaining: 128ms\n",
      "910:\tlearn: 5763.2309832\ttotal: 1.3s\tremaining: 127ms\n",
      "911:\tlearn: 5753.4457689\ttotal: 1.3s\tremaining: 125ms\n",
      "912:\tlearn: 5752.9220955\ttotal: 1.3s\tremaining: 124ms\n",
      "913:\tlearn: 5737.4447095\ttotal: 1.3s\tremaining: 123ms\n",
      "914:\tlearn: 5725.7223759\ttotal: 1.3s\tremaining: 121ms\n",
      "915:\tlearn: 5719.5616463\ttotal: 1.3s\tremaining: 120ms\n",
      "916:\tlearn: 5718.0539049\ttotal: 1.31s\tremaining: 118ms\n",
      "917:\tlearn: 5711.7222623\ttotal: 1.31s\tremaining: 117ms\n",
      "918:\tlearn: 5703.2084101\ttotal: 1.31s\tremaining: 116ms\n",
      "919:\tlearn: 5694.7261096\ttotal: 1.31s\tremaining: 114ms\n",
      "920:\tlearn: 5687.5294003\ttotal: 1.31s\tremaining: 113ms\n",
      "921:\tlearn: 5678.0213292\ttotal: 1.31s\tremaining: 111ms\n",
      "922:\tlearn: 5673.8229281\ttotal: 1.32s\tremaining: 110ms\n",
      "923:\tlearn: 5665.2210345\ttotal: 1.32s\tremaining: 108ms\n",
      "924:\tlearn: 5659.9439589\ttotal: 1.32s\tremaining: 107ms\n",
      "925:\tlearn: 5659.4537363\ttotal: 1.32s\tremaining: 106ms\n",
      "926:\tlearn: 5655.7732352\ttotal: 1.32s\tremaining: 104ms\n",
      "927:\tlearn: 5648.2648803\ttotal: 1.32s\tremaining: 103ms\n",
      "928:\tlearn: 5644.5397395\ttotal: 1.32s\tremaining: 101ms\n",
      "929:\tlearn: 5639.7677309\ttotal: 1.33s\tremaining: 99.9ms\n",
      "930:\tlearn: 5639.2508344\ttotal: 1.33s\tremaining: 98.4ms\n",
      "931:\tlearn: 5632.1583978\ttotal: 1.33s\tremaining: 97ms\n",
      "932:\tlearn: 5624.8510639\ttotal: 1.33s\tremaining: 95.6ms\n",
      "933:\tlearn: 5624.3030015\ttotal: 1.33s\tremaining: 94.2ms\n",
      "934:\tlearn: 5620.0020946\ttotal: 1.33s\tremaining: 92.8ms\n",
      "935:\tlearn: 5614.7282106\ttotal: 1.33s\tremaining: 91.3ms\n",
      "936:\tlearn: 5609.1863067\ttotal: 1.34s\tremaining: 89.9ms\n",
      "937:\tlearn: 5602.5948980\ttotal: 1.34s\tremaining: 88.5ms\n",
      "938:\tlearn: 5590.2640200\ttotal: 1.34s\tremaining: 87.1ms\n",
      "939:\tlearn: 5586.1995470\ttotal: 1.34s\tremaining: 85.7ms\n",
      "940:\tlearn: 5584.0281413\ttotal: 1.34s\tremaining: 84.2ms\n",
      "941:\tlearn: 5577.3067707\ttotal: 1.34s\tremaining: 82.8ms\n",
      "942:\tlearn: 5569.3125280\ttotal: 1.35s\tremaining: 81.4ms\n",
      "943:\tlearn: 5568.4809354\ttotal: 1.35s\tremaining: 80ms\n",
      "944:\tlearn: 5567.8567841\ttotal: 1.35s\tremaining: 78.5ms\n",
      "945:\tlearn: 5554.7260421\ttotal: 1.35s\tremaining: 77.1ms\n",
      "946:\tlearn: 5548.5003861\ttotal: 1.35s\tremaining: 75.7ms\n",
      "947:\tlearn: 5538.8998409\ttotal: 1.35s\tremaining: 74.2ms\n",
      "948:\tlearn: 5533.8833081\ttotal: 1.35s\tremaining: 72.8ms\n",
      "949:\tlearn: 5530.7482394\ttotal: 1.36s\tremaining: 71.4ms\n",
      "950:\tlearn: 5527.4585647\ttotal: 1.36s\tremaining: 70ms\n",
      "951:\tlearn: 5521.1477118\ttotal: 1.36s\tremaining: 68.5ms\n",
      "952:\tlearn: 5514.1031363\ttotal: 1.36s\tremaining: 67.1ms\n",
      "953:\tlearn: 5509.9646352\ttotal: 1.36s\tremaining: 65.7ms\n",
      "954:\tlearn: 5502.6519411\ttotal: 1.36s\tremaining: 64.2ms\n",
      "955:\tlearn: 5502.2153670\ttotal: 1.36s\tremaining: 62.8ms\n",
      "956:\tlearn: 5493.5025017\ttotal: 1.36s\tremaining: 61.4ms\n",
      "957:\tlearn: 5485.8089386\ttotal: 1.37s\tremaining: 59.9ms\n",
      "958:\tlearn: 5484.2397431\ttotal: 1.37s\tremaining: 58.5ms\n",
      "959:\tlearn: 5481.6931744\ttotal: 1.37s\tremaining: 57.1ms\n",
      "960:\tlearn: 5481.2082419\ttotal: 1.37s\tremaining: 55.7ms\n",
      "961:\tlearn: 5477.6509784\ttotal: 1.37s\tremaining: 54.2ms\n",
      "962:\tlearn: 5468.0929663\ttotal: 1.37s\tremaining: 52.8ms\n",
      "963:\tlearn: 5462.2885649\ttotal: 1.38s\tremaining: 51.4ms\n",
      "964:\tlearn: 5457.6855560\ttotal: 1.38s\tremaining: 50ms\n",
      "965:\tlearn: 5450.4572270\ttotal: 1.38s\tremaining: 48.5ms\n",
      "966:\tlearn: 5443.4170731\ttotal: 1.38s\tremaining: 47.1ms\n",
      "967:\tlearn: 5435.3559591\ttotal: 1.38s\tremaining: 45.7ms\n",
      "968:\tlearn: 5425.2358105\ttotal: 1.38s\tremaining: 44.3ms\n",
      "969:\tlearn: 5418.5817261\ttotal: 1.39s\tremaining: 42.8ms\n",
      "970:\tlearn: 5417.5246673\ttotal: 1.39s\tremaining: 41.4ms\n",
      "971:\tlearn: 5412.3902830\ttotal: 1.39s\tremaining: 40ms\n",
      "972:\tlearn: 5400.8694004\ttotal: 1.39s\tremaining: 38.6ms\n",
      "973:\tlearn: 5390.4853598\ttotal: 1.39s\tremaining: 37.1ms\n",
      "974:\tlearn: 5389.6020649\ttotal: 1.39s\tremaining: 35.7ms\n",
      "975:\tlearn: 5387.0144042\ttotal: 1.39s\tremaining: 34.3ms\n",
      "976:\tlearn: 5377.9853957\ttotal: 1.4s\tremaining: 32.8ms\n",
      "977:\tlearn: 5371.6248270\ttotal: 1.4s\tremaining: 31.4ms\n",
      "978:\tlearn: 5370.6929877\ttotal: 1.4s\tremaining: 30ms\n",
      "979:\tlearn: 5367.6425735\ttotal: 1.4s\tremaining: 28.6ms\n",
      "980:\tlearn: 5363.0218397\ttotal: 1.4s\tremaining: 27.1ms\n",
      "981:\tlearn: 5357.9440888\ttotal: 1.4s\tremaining: 25.7ms\n",
      "982:\tlearn: 5357.3628091\ttotal: 1.4s\tremaining: 24.3ms\n",
      "983:\tlearn: 5356.8878006\ttotal: 1.41s\tremaining: 22.9ms\n",
      "984:\tlearn: 5349.6929999\ttotal: 1.41s\tremaining: 21.4ms\n",
      "985:\tlearn: 5342.6205329\ttotal: 1.41s\tremaining: 20ms\n",
      "986:\tlearn: 5335.9161007\ttotal: 1.41s\tremaining: 18.6ms\n",
      "987:\tlearn: 5335.2117109\ttotal: 1.41s\tremaining: 17.1ms\n",
      "988:\tlearn: 5330.0376492\ttotal: 1.41s\tremaining: 15.7ms\n",
      "989:\tlearn: 5323.2679321\ttotal: 1.41s\tremaining: 14.3ms\n",
      "990:\tlearn: 5315.3210673\ttotal: 1.42s\tremaining: 12.9ms\n",
      "991:\tlearn: 5306.6782548\ttotal: 1.42s\tremaining: 11.4ms\n",
      "992:\tlearn: 5303.1860795\ttotal: 1.42s\tremaining: 10ms\n",
      "993:\tlearn: 5300.0439377\ttotal: 1.42s\tremaining: 8.57ms\n",
      "994:\tlearn: 5291.5656504\ttotal: 1.42s\tremaining: 7.14ms\n",
      "995:\tlearn: 5285.0439289\ttotal: 1.42s\tremaining: 5.72ms\n",
      "996:\tlearn: 5282.6671577\ttotal: 1.42s\tremaining: 4.29ms\n",
      "997:\tlearn: 5274.5807832\ttotal: 1.43s\tremaining: 2.86ms\n",
      "998:\tlearn: 5269.1951085\ttotal: 1.43s\tremaining: 1.43ms\n",
      "999:\tlearn: 5258.3701542\ttotal: 1.43s\tremaining: 0us\n"
     ]
    }
   ],
   "source": [
    "cbr = CatBoostRegressor()\n",
    "cbr.fit(x_train,y_train)\n",
    "y_pred = lgbmr.predict(x_test)"
   ]
  },
  {
   "cell_type": "code",
   "execution_count": 122,
   "metadata": {},
   "outputs": [
    {
     "data": {
      "application/javascript": [
       "\n",
       "        if (window._pyforest_update_imports_cell) { window._pyforest_update_imports_cell('import xgboost as xgb\\nimport numpy as np\\nimport pandas as pd\\nimport plotly.express as px\\nimport sklearn'); }\n",
       "    "
      ],
      "text/plain": [
       "<IPython.core.display.Javascript object>"
      ]
     },
     "metadata": {},
     "output_type": "display_data"
    },
    {
     "data": {
      "application/javascript": [
       "\n",
       "        if (window._pyforest_update_imports_cell) { window._pyforest_update_imports_cell('import xgboost as xgb\\nimport numpy as np\\nimport pandas as pd\\nimport plotly.express as px\\nimport sklearn'); }\n",
       "    "
      ],
      "text/plain": [
       "<IPython.core.display.Javascript object>"
      ]
     },
     "metadata": {},
     "output_type": "display_data"
    },
    {
     "name": "stdout",
     "output_type": "stream",
     "text": [
      "rmse  23102.196308488743\n",
      "mse  533711474.2759509\n",
      "mae  15731.631174056105\n",
      "explained_variance_score 0.8885252221106991\n",
      "r2 0.887747151843336\n"
     ]
    }
   ],
   "source": [
    "rmse = mean_squared_error(y_test,y_pred,squared=False)\n",
    "mse = mean_squared_error(y_test,y_pred,squared=True)\n",
    "mae = mean_absolute_error(y_test,y_pred)\n",
    "explained_variance_score = sklearn.metrics.explained_variance_score(y_test,y_pred)\n",
    "r2 = sklearn.metrics.r2_score(y_test,y_pred)\n",
    "print('rmse ', rmse)\n",
    "print('mse ', mse)\n",
    "print('mae ', mae)\n",
    "print('explained_variance_score',explained_variance_score)\n",
    "print('r2',r2)"
   ]
  },
  {
   "cell_type": "code",
   "execution_count": 143,
   "metadata": {},
   "outputs": [
    {
     "name": "stderr",
     "output_type": "stream",
     "text": [
      "[flaml.automl: 08-20 10:41:56] {1102} INFO - Evaluation method: cv\n",
      "[flaml.automl: 08-20 10:41:56] {630} INFO - Using RepeatedKFold\n",
      "[flaml.automl: 08-20 10:41:56] {1123} INFO - Minimizing error metric: rmse\n",
      "[flaml.automl: 08-20 10:41:56] {1143} INFO - List of ML learners in AutoML Run: ['lgbm', 'rf', 'catboost', 'xgboost', 'extra_tree']\n",
      "[flaml.automl: 08-20 10:41:56] {1210} INFO - iteration 0, current learner lgbm\n",
      "[flaml.automl: 08-20 10:41:57] {1361} INFO -  at 0.2s,\tbest lgbm's error=62486.8289,\tbest lgbm's error=62486.8289\n",
      "[flaml.automl: 08-20 10:41:57] {1210} INFO - iteration 1, current learner lgbm\n",
      "[flaml.automl: 08-20 10:41:57] {1361} INFO -  at 0.3s,\tbest lgbm's error=62486.8289,\tbest lgbm's error=62486.8289\n",
      "[flaml.automl: 08-20 10:41:57] {1210} INFO - iteration 2, current learner lgbm\n"
     ]
    },
    {
     "name": "stdout",
     "output_type": "stream",
     "text": [
      "Finished loading model, total used 4 iterations\n",
      "Finished loading model, total used 4 iterations\n"
     ]
    },
    {
     "name": "stderr",
     "output_type": "stream",
     "text": [
      "[flaml.automl: 08-20 10:41:57] {1361} INFO -  at 0.4s,\tbest lgbm's error=47016.3773,\tbest lgbm's error=47016.3773\n",
      "[flaml.automl: 08-20 10:41:57] {1210} INFO - iteration 3, current learner lgbm\n",
      "[flaml.automl: 08-20 10:41:57] {1361} INFO -  at 0.6s,\tbest lgbm's error=41874.8206,\tbest lgbm's error=41874.8206\n",
      "[flaml.automl: 08-20 10:41:57] {1210} INFO - iteration 4, current learner lgbm\n"
     ]
    },
    {
     "name": "stdout",
     "output_type": "stream",
     "text": [
      "Finished loading model, total used 4 iterations\n",
      "Finished loading model, total used 4 iterations\n"
     ]
    },
    {
     "name": "stderr",
     "output_type": "stream",
     "text": [
      "[flaml.automl: 08-20 10:41:57] {1361} INFO -  at 0.7s,\tbest lgbm's error=41874.8206,\tbest lgbm's error=41874.8206\n",
      "[flaml.automl: 08-20 10:41:57] {1210} INFO - iteration 5, current learner lgbm\n",
      "[flaml.automl: 08-20 10:41:57] {1361} INFO -  at 0.8s,\tbest lgbm's error=38618.3551,\tbest lgbm's error=38618.3551\n",
      "[flaml.automl: 08-20 10:41:57] {1210} INFO - iteration 6, current learner lgbm\n"
     ]
    },
    {
     "name": "stdout",
     "output_type": "stream",
     "text": [
      "Finished loading model, total used 4 iterations\n",
      "Finished loading model, total used 4 iterations\n"
     ]
    },
    {
     "name": "stderr",
     "output_type": "stream",
     "text": [
      "[flaml.automl: 08-20 10:41:57] {1361} INFO -  at 0.9s,\tbest lgbm's error=38003.7460,\tbest lgbm's error=38003.7460\n",
      "[flaml.automl: 08-20 10:41:57] {1210} INFO - iteration 7, current learner lgbm\n",
      "[flaml.automl: 08-20 10:41:57] {1361} INFO -  at 1.1s,\tbest lgbm's error=37112.3655,\tbest lgbm's error=37112.3655\n",
      "[flaml.automl: 08-20 10:41:57] {1210} INFO - iteration 8, current learner lgbm\n"
     ]
    },
    {
     "name": "stdout",
     "output_type": "stream",
     "text": [
      "Finished loading model, total used 8 iterations\n",
      "Finished loading model, total used 12 iterations\n"
     ]
    },
    {
     "name": "stderr",
     "output_type": "stream",
     "text": [
      "[flaml.automl: 08-20 10:41:58] {1361} INFO -  at 1.2s,\tbest lgbm's error=33862.3370,\tbest lgbm's error=33862.3370\n",
      "[flaml.automl: 08-20 10:41:58] {1210} INFO - iteration 9, current learner lgbm\n",
      "[flaml.automl: 08-20 10:41:58] {1361} INFO -  at 1.4s,\tbest lgbm's error=32564.1888,\tbest lgbm's error=32564.1888\n",
      "[flaml.automl: 08-20 10:41:58] {1210} INFO - iteration 10, current learner lgbm\n"
     ]
    },
    {
     "name": "stdout",
     "output_type": "stream",
     "text": [
      "Finished loading model, total used 8 iterations\n",
      "Finished loading model, total used 8 iterations\n"
     ]
    },
    {
     "name": "stderr",
     "output_type": "stream",
     "text": [
      "[flaml.automl: 08-20 10:41:58] {1361} INFO -  at 1.5s,\tbest lgbm's error=32564.1888,\tbest lgbm's error=32564.1888\n",
      "[flaml.automl: 08-20 10:41:58] {1210} INFO - iteration 11, current learner lgbm\n",
      "[flaml.automl: 08-20 10:41:58] {1361} INFO -  at 1.6s,\tbest lgbm's error=32564.1888,\tbest lgbm's error=32564.1888\n",
      "[flaml.automl: 08-20 10:41:58] {1210} INFO - iteration 12, current learner lgbm\n"
     ]
    },
    {
     "name": "stdout",
     "output_type": "stream",
     "text": [
      "Finished loading model, total used 8 iterations\n",
      "Finished loading model, total used 5 iterations\n"
     ]
    },
    {
     "name": "stderr",
     "output_type": "stream",
     "text": [
      "[flaml.automl: 08-20 10:41:58] {1361} INFO -  at 1.8s,\tbest lgbm's error=30989.5529,\tbest lgbm's error=30989.5529\n",
      "[flaml.automl: 08-20 10:41:58] {1210} INFO - iteration 13, current learner xgboost\n",
      "[flaml.automl: 08-20 10:41:58] {1361} INFO -  at 1.9s,\tbest xgboost's error=134677.1154,\tbest lgbm's error=30989.5529\n",
      "[flaml.automl: 08-20 10:41:58] {1210} INFO - iteration 14, current learner lgbm\n"
     ]
    },
    {
     "name": "stdout",
     "output_type": "stream",
     "text": [
      "Finished loading model, total used 12 iterations\n"
     ]
    },
    {
     "name": "stderr",
     "output_type": "stream",
     "text": [
      "[flaml.automl: 08-20 10:41:58] {1361} INFO -  at 2.1s,\tbest lgbm's error=30989.5529,\tbest lgbm's error=30989.5529\n",
      "[flaml.automl: 08-20 10:41:58] {1210} INFO - iteration 15, current learner xgboost\n",
      "[flaml.automl: 08-20 10:41:59] {1361} INFO -  at 2.2s,\tbest xgboost's error=134677.1154,\tbest lgbm's error=30989.5529\n",
      "[flaml.automl: 08-20 10:41:59] {1210} INFO - iteration 16, current learner extra_tree\n"
     ]
    },
    {
     "name": "stdout",
     "output_type": "stream",
     "text": [
      "Finished loading model, total used 6 iterations\n"
     ]
    },
    {
     "name": "stderr",
     "output_type": "stream",
     "text": [
      "[flaml.automl: 08-20 10:41:59] {1361} INFO -  at 2.3s,\tbest extra_tree's error=47679.6821,\tbest lgbm's error=30989.5529\n",
      "[flaml.automl: 08-20 10:41:59] {1210} INFO - iteration 17, current learner lgbm\n",
      "[flaml.automl: 08-20 10:41:59] {1361} INFO -  at 2.4s,\tbest lgbm's error=30989.5529,\tbest lgbm's error=30989.5529\n",
      "[flaml.automl: 08-20 10:41:59] {1210} INFO - iteration 18, current learner extra_tree\n",
      "[flaml.automl: 08-20 10:41:59] {1361} INFO -  at 2.5s,\tbest extra_tree's error=40265.5375,\tbest lgbm's error=30989.5529\n",
      "[flaml.automl: 08-20 10:41:59] {1210} INFO - iteration 19, current learner xgboost\n"
     ]
    },
    {
     "name": "stdout",
     "output_type": "stream",
     "text": [
      "Finished loading model, total used 25 iterations\n"
     ]
    },
    {
     "name": "stderr",
     "output_type": "stream",
     "text": [
      "[flaml.automl: 08-20 10:41:59] {1361} INFO -  at 2.6s,\tbest xgboost's error=72230.7990,\tbest lgbm's error=30989.5529\n",
      "[flaml.automl: 08-20 10:41:59] {1210} INFO - iteration 20, current learner xgboost\n",
      "[flaml.automl: 08-20 10:41:59] {1361} INFO -  at 2.7s,\tbest xgboost's error=46212.8085,\tbest lgbm's error=30989.5529\n",
      "[flaml.automl: 08-20 10:41:59] {1210} INFO - iteration 21, current learner lgbm\n",
      "[flaml.automl: 08-20 10:41:59] {1361} INFO -  at 2.8s,\tbest lgbm's error=30989.5529,\tbest lgbm's error=30989.5529\n",
      "[flaml.automl: 08-20 10:41:59] {1210} INFO - iteration 22, current learner xgboost\n",
      "[flaml.automl: 08-20 10:41:59] {1361} INFO -  at 2.9s,\tbest xgboost's error=46212.8085,\tbest lgbm's error=30989.5529\n",
      "[flaml.automl: 08-20 10:41:59] {1210} INFO - iteration 23, current learner extra_tree\n"
     ]
    },
    {
     "name": "stdout",
     "output_type": "stream",
     "text": [
      "Finished loading model, total used 8 iterations\n"
     ]
    },
    {
     "name": "stderr",
     "output_type": "stream",
     "text": [
      "[flaml.automl: 08-20 10:41:59] {1361} INFO -  at 3.0s,\tbest extra_tree's error=40265.5375,\tbest lgbm's error=30989.5529\n",
      "[flaml.automl: 08-20 10:41:59] {1210} INFO - iteration 24, current learner extra_tree\n",
      "[flaml.automl: 08-20 10:42:00] {1361} INFO -  at 3.1s,\tbest extra_tree's error=35950.4066,\tbest lgbm's error=30989.5529\n",
      "[flaml.automl: 08-20 10:42:00] {1210} INFO - iteration 25, current learner xgboost\n",
      "[flaml.automl: 08-20 10:42:00] {1361} INFO -  at 3.2s,\tbest xgboost's error=40699.5558,\tbest lgbm's error=30989.5529\n",
      "[flaml.automl: 08-20 10:42:00] {1210} INFO - iteration 26, current learner rf\n",
      "[flaml.automl: 08-20 10:42:00] {1361} INFO -  at 3.4s,\tbest rf's error=45544.3306,\tbest lgbm's error=30989.5529\n",
      "[flaml.automl: 08-20 10:42:00] {1210} INFO - iteration 27, current learner rf\n",
      "[flaml.automl: 08-20 10:42:00] {1361} INFO -  at 3.5s,\tbest rf's error=41509.0059,\tbest lgbm's error=30989.5529\n",
      "[flaml.automl: 08-20 10:42:00] {1210} INFO - iteration 28, current learner extra_tree\n",
      "[flaml.automl: 08-20 10:42:00] {1361} INFO -  at 3.6s,\tbest extra_tree's error=34830.8823,\tbest lgbm's error=30989.5529\n",
      "[flaml.automl: 08-20 10:42:00] {1210} INFO - iteration 29, current learner extra_tree\n",
      "[flaml.automl: 08-20 10:42:00] {1361} INFO -  at 3.7s,\tbest extra_tree's error=34830.8823,\tbest lgbm's error=30989.5529\n",
      "[flaml.automl: 08-20 10:42:00] {1210} INFO - iteration 30, current learner lgbm\n",
      "[flaml.automl: 08-20 10:42:00] {1361} INFO -  at 3.8s,\tbest lgbm's error=30989.5529,\tbest lgbm's error=30989.5529\n",
      "[flaml.automl: 08-20 10:42:00] {1210} INFO - iteration 31, current learner lgbm\n",
      "[flaml.automl: 08-20 10:42:00] {1361} INFO -  at 3.9s,\tbest lgbm's error=30989.5529,\tbest lgbm's error=30989.5529\n",
      "[flaml.automl: 08-20 10:42:00] {1210} INFO - iteration 32, current learner lgbm\n"
     ]
    },
    {
     "name": "stdout",
     "output_type": "stream",
     "text": [
      "Finished loading model, total used 17 iterations\n",
      "Finished loading model, total used 7 iterations\n"
     ]
    },
    {
     "name": "stderr",
     "output_type": "stream",
     "text": [
      "[flaml.automl: 08-20 10:42:00] {1361} INFO -  at 4.1s,\tbest lgbm's error=30989.5529,\tbest lgbm's error=30989.5529\n",
      "[flaml.automl: 08-20 10:42:00] {1210} INFO - iteration 33, current learner xgboost\n",
      "[flaml.automl: 08-20 10:42:01] {1361} INFO -  at 4.2s,\tbest xgboost's error=40699.5558,\tbest lgbm's error=30989.5529\n",
      "[flaml.automl: 08-20 10:42:01] {1210} INFO - iteration 34, current learner lgbm\n",
      "[flaml.automl: 08-20 10:42:01] {1361} INFO -  at 4.3s,\tbest lgbm's error=30989.5529,\tbest lgbm's error=30989.5529\n",
      "[flaml.automl: 08-20 10:42:01] {1210} INFO - iteration 35, current learner rf\n"
     ]
    },
    {
     "name": "stdout",
     "output_type": "stream",
     "text": [
      "Finished loading model, total used 19 iterations\n",
      "Finished loading model, total used 7 iterations\n"
     ]
    },
    {
     "name": "stderr",
     "output_type": "stream",
     "text": [
      "[flaml.automl: 08-20 10:42:01] {1361} INFO -  at 4.4s,\tbest rf's error=41509.0059,\tbest lgbm's error=30989.5529\n",
      "[flaml.automl: 08-20 10:42:01] {1210} INFO - iteration 36, current learner extra_tree\n",
      "[flaml.automl: 08-20 10:42:01] {1361} INFO -  at 4.5s,\tbest extra_tree's error=34055.9280,\tbest lgbm's error=30989.5529\n",
      "[flaml.automl: 08-20 10:42:01] {1210} INFO - iteration 37, current learner rf\n",
      "[flaml.automl: 08-20 10:42:01] {1361} INFO -  at 4.6s,\tbest rf's error=34128.4318,\tbest lgbm's error=30989.5529\n",
      "[flaml.automl: 08-20 10:42:01] {1210} INFO - iteration 38, current learner rf\n",
      "[flaml.automl: 08-20 10:42:01] {1361} INFO -  at 4.8s,\tbest rf's error=34128.4318,\tbest lgbm's error=30989.5529\n",
      "[flaml.automl: 08-20 10:42:01] {1210} INFO - iteration 39, current learner rf\n",
      "[flaml.automl: 08-20 10:42:01] {1361} INFO -  at 4.9s,\tbest rf's error=34128.4318,\tbest lgbm's error=30989.5529\n",
      "[flaml.automl: 08-20 10:42:01] {1210} INFO - iteration 40, current learner rf\n",
      "[flaml.automl: 08-20 10:42:01] {1361} INFO -  at 5.1s,\tbest rf's error=33170.9736,\tbest lgbm's error=30989.5529\n",
      "[flaml.automl: 08-20 10:42:01] {1210} INFO - iteration 41, current learner xgboost\n",
      "[flaml.automl: 08-20 10:42:02] {1361} INFO -  at 5.1s,\tbest xgboost's error=40699.5558,\tbest lgbm's error=30989.5529\n",
      "[flaml.automl: 08-20 10:42:02] {1210} INFO - iteration 42, current learner lgbm\n",
      "[flaml.automl: 08-20 10:42:02] {1361} INFO -  at 5.3s,\tbest lgbm's error=30895.6334,\tbest lgbm's error=30895.6334\n",
      "[flaml.automl: 08-20 10:42:02] {1210} INFO - iteration 43, current learner xgboost\n",
      "[flaml.automl: 08-20 10:42:02] {1361} INFO -  at 5.4s,\tbest xgboost's error=40699.5558,\tbest lgbm's error=30895.6334\n",
      "[flaml.automl: 08-20 10:42:02] {1210} INFO - iteration 44, current learner extra_tree\n"
     ]
    },
    {
     "name": "stdout",
     "output_type": "stream",
     "text": [
      "Finished loading model, total used 20 iterations\n"
     ]
    },
    {
     "name": "stderr",
     "output_type": "stream",
     "text": [
      "[flaml.automl: 08-20 10:42:02] {1361} INFO -  at 5.6s,\tbest extra_tree's error=34055.9280,\tbest lgbm's error=30895.6334\n",
      "[flaml.automl: 08-20 10:42:02] {1210} INFO - iteration 45, current learner xgboost\n",
      "[flaml.automl: 08-20 10:42:02] {1361} INFO -  at 5.6s,\tbest xgboost's error=38339.9730,\tbest lgbm's error=30895.6334\n",
      "[flaml.automl: 08-20 10:42:02] {1210} INFO - iteration 46, current learner lgbm\n",
      "[flaml.automl: 08-20 10:42:02] {1361} INFO -  at 5.8s,\tbest lgbm's error=30895.6334,\tbest lgbm's error=30895.6334\n",
      "[flaml.automl: 08-20 10:42:02] {1210} INFO - iteration 47, current learner xgboost\n",
      "[flaml.automl: 08-20 10:42:02] {1361} INFO -  at 5.9s,\tbest xgboost's error=38339.9730,\tbest lgbm's error=30895.6334\n",
      "[flaml.automl: 08-20 10:42:02] {1210} INFO - iteration 48, current learner lgbm\n"
     ]
    },
    {
     "name": "stdout",
     "output_type": "stream",
     "text": [
      "Finished loading model, total used 19 iterations\n"
     ]
    },
    {
     "name": "stderr",
     "output_type": "stream",
     "text": [
      "[flaml.automl: 08-20 10:42:02] {1361} INFO -  at 6.0s,\tbest lgbm's error=30895.6334,\tbest lgbm's error=30895.6334\n",
      "[flaml.automl: 08-20 10:42:02] {1210} INFO - iteration 49, current learner lgbm\n",
      "[flaml.automl: 08-20 10:42:03] {1361} INFO -  at 6.2s,\tbest lgbm's error=30895.6334,\tbest lgbm's error=30895.6334\n",
      "[flaml.automl: 08-20 10:42:03] {1210} INFO - iteration 50, current learner extra_tree\n"
     ]
    },
    {
     "name": "stdout",
     "output_type": "stream",
     "text": [
      "Finished loading model, total used 21 iterations\n",
      "Finished loading model, total used 10 iterations\n"
     ]
    },
    {
     "name": "stderr",
     "output_type": "stream",
     "text": [
      "[flaml.automl: 08-20 10:42:03] {1361} INFO -  at 6.4s,\tbest extra_tree's error=31083.7502,\tbest lgbm's error=30895.6334\n",
      "[flaml.automl: 08-20 10:42:03] {1210} INFO - iteration 51, current learner rf\n",
      "[flaml.automl: 08-20 10:42:03] {1361} INFO -  at 6.6s,\tbest rf's error=32220.8851,\tbest lgbm's error=30895.6334\n",
      "[flaml.automl: 08-20 10:42:03] {1210} INFO - iteration 52, current learner rf\n",
      "[flaml.automl: 08-20 10:42:03] {1361} INFO -  at 6.7s,\tbest rf's error=32220.8851,\tbest lgbm's error=30895.6334\n",
      "[flaml.automl: 08-20 10:42:03] {1210} INFO - iteration 53, current learner lgbm\n",
      "[flaml.automl: 08-20 10:42:03] {1361} INFO -  at 6.9s,\tbest lgbm's error=30415.7003,\tbest lgbm's error=30415.7003\n",
      "[flaml.automl: 08-20 10:42:03] {1210} INFO - iteration 54, current learner lgbm\n",
      "[flaml.automl: 08-20 10:42:03] {1361} INFO -  at 7.0s,\tbest lgbm's error=30415.7003,\tbest lgbm's error=30415.7003\n",
      "[flaml.automl: 08-20 10:42:03] {1210} INFO - iteration 55, current learner extra_tree\n"
     ]
    },
    {
     "name": "stdout",
     "output_type": "stream",
     "text": [
      "Finished loading model, total used 39 iterations\n",
      "Finished loading model, total used 17 iterations\n"
     ]
    },
    {
     "name": "stderr",
     "output_type": "stream",
     "text": [
      "[flaml.automl: 08-20 10:42:04] {1361} INFO -  at 7.2s,\tbest extra_tree's error=31083.7502,\tbest lgbm's error=30415.7003\n",
      "[flaml.automl: 08-20 10:42:04] {1210} INFO - iteration 56, current learner lgbm\n",
      "[flaml.automl: 08-20 10:42:04] {1361} INFO -  at 7.4s,\tbest lgbm's error=30415.7003,\tbest lgbm's error=30415.7003\n",
      "[flaml.automl: 08-20 10:42:04] {1210} INFO - iteration 57, current learner lgbm\n"
     ]
    },
    {
     "name": "stdout",
     "output_type": "stream",
     "text": [
      "Finished loading model, total used 90 iterations\n"
     ]
    },
    {
     "name": "stderr",
     "output_type": "stream",
     "text": [
      "[flaml.automl: 08-20 10:42:04] {1361} INFO -  at 7.6s,\tbest lgbm's error=29185.1990,\tbest lgbm's error=29185.1990\n",
      "[flaml.automl: 08-20 10:42:04] {1210} INFO - iteration 58, current learner rf\n",
      "[flaml.automl: 08-20 10:42:04] {1361} INFO -  at 7.8s,\tbest rf's error=31712.9236,\tbest lgbm's error=29185.1990\n",
      "[flaml.automl: 08-20 10:42:04] {1210} INFO - iteration 59, current learner lgbm\n"
     ]
    },
    {
     "name": "stdout",
     "output_type": "stream",
     "text": [
      "Finished loading model, total used 33 iterations\n"
     ]
    },
    {
     "name": "stderr",
     "output_type": "stream",
     "text": [
      "[flaml.automl: 08-20 10:42:04] {1361} INFO -  at 7.9s,\tbest lgbm's error=29185.1990,\tbest lgbm's error=29185.1990\n",
      "[flaml.automl: 08-20 10:42:04] {1210} INFO - iteration 60, current learner xgboost\n",
      "[flaml.automl: 08-20 10:42:04] {1361} INFO -  at 8.0s,\tbest xgboost's error=38339.9730,\tbest lgbm's error=29185.1990\n",
      "[flaml.automl: 08-20 10:42:04] {1210} INFO - iteration 61, current learner lgbm\n"
     ]
    },
    {
     "name": "stdout",
     "output_type": "stream",
     "text": [
      "Finished loading model, total used 12 iterations\n"
     ]
    },
    {
     "name": "stderr",
     "output_type": "stream",
     "text": [
      "[flaml.automl: 08-20 10:42:05] {1361} INFO -  at 8.3s,\tbest lgbm's error=29185.1990,\tbest lgbm's error=29185.1990\n",
      "[flaml.automl: 08-20 10:42:05] {1210} INFO - iteration 62, current learner extra_tree\n",
      "[flaml.automl: 08-20 10:42:05] {1361} INFO -  at 8.4s,\tbest extra_tree's error=31083.7502,\tbest lgbm's error=29185.1990\n",
      "[flaml.automl: 08-20 10:42:05] {1210} INFO - iteration 63, current learner extra_tree\n"
     ]
    },
    {
     "name": "stdout",
     "output_type": "stream",
     "text": [
      "Finished loading model, total used 90 iterations\n"
     ]
    },
    {
     "name": "stderr",
     "output_type": "stream",
     "text": [
      "[flaml.automl: 08-20 10:42:05] {1361} INFO -  at 8.6s,\tbest extra_tree's error=30413.1336,\tbest lgbm's error=29185.1990\n",
      "[flaml.automl: 08-20 10:42:05] {1210} INFO - iteration 64, current learner lgbm\n",
      "[flaml.automl: 08-20 10:42:05] {1361} INFO -  at 8.8s,\tbest lgbm's error=29185.1990,\tbest lgbm's error=29185.1990\n",
      "[flaml.automl: 08-20 10:42:05] {1210} INFO - iteration 65, current learner lgbm\n",
      "[flaml.automl: 08-20 10:42:05] {1361} INFO -  at 9.0s,\tbest lgbm's error=29044.3690,\tbest lgbm's error=29044.3690\n",
      "[flaml.automl: 08-20 10:42:05] {1210} INFO - iteration 66, current learner rf\n"
     ]
    },
    {
     "name": "stdout",
     "output_type": "stream",
     "text": [
      "Finished loading model, total used 26 iterations\n",
      "Finished loading model, total used 42 iterations\n"
     ]
    },
    {
     "name": "stderr",
     "output_type": "stream",
     "text": [
      "[flaml.automl: 08-20 10:42:06] {1361} INFO -  at 9.2s,\tbest rf's error=31484.0689,\tbest lgbm's error=29044.3690\n",
      "[flaml.automl: 08-20 10:42:06] {1210} INFO - iteration 67, current learner lgbm\n",
      "[flaml.automl: 08-20 10:42:06] {1361} INFO -  at 9.3s,\tbest lgbm's error=29044.3690,\tbest lgbm's error=29044.3690\n",
      "[flaml.automl: 08-20 10:42:06] {1210} INFO - iteration 68, current learner lgbm\n",
      "[flaml.automl: 08-20 10:42:06] {1361} INFO -  at 9.4s,\tbest lgbm's error=29044.3690,\tbest lgbm's error=29044.3690\n",
      "[flaml.automl: 08-20 10:42:06] {1210} INFO - iteration 69, current learner lgbm\n"
     ]
    },
    {
     "name": "stdout",
     "output_type": "stream",
     "text": [
      "Finished loading model, total used 62 iterations\n",
      "Finished loading model, total used 28 iterations\n"
     ]
    },
    {
     "name": "stderr",
     "output_type": "stream",
     "text": [
      "[flaml.automl: 08-20 10:42:06] {1361} INFO -  at 9.7s,\tbest lgbm's error=29044.3690,\tbest lgbm's error=29044.3690\n",
      "[flaml.automl: 08-20 10:42:06] {1210} INFO - iteration 70, current learner rf\n",
      "[flaml.automl: 08-20 10:42:06] {1361} INFO -  at 9.9s,\tbest rf's error=31484.0689,\tbest lgbm's error=29044.3690\n",
      "[flaml.automl: 08-20 10:42:06] {1210} INFO - iteration 71, current learner lgbm\n"
     ]
    },
    {
     "name": "stdout",
     "output_type": "stream",
     "text": [
      "Finished loading model, total used 132 iterations\n"
     ]
    },
    {
     "name": "stderr",
     "output_type": "stream",
     "text": [
      "[flaml.automl: 08-20 10:42:06] {1361} INFO -  at 10.0s,\tbest lgbm's error=29044.3690,\tbest lgbm's error=29044.3690\n",
      "[flaml.automl: 08-20 10:42:06] {1210} INFO - iteration 72, current learner extra_tree\n",
      "[flaml.automl: 08-20 10:42:07] {1361} INFO -  at 10.2s,\tbest extra_tree's error=30413.1336,\tbest lgbm's error=29044.3690\n",
      "[flaml.automl: 08-20 10:42:07] {1210} INFO - iteration 73, current learner lgbm\n"
     ]
    },
    {
     "name": "stdout",
     "output_type": "stream",
     "text": [
      "Finished loading model, total used 13 iterations\n"
     ]
    },
    {
     "name": "stderr",
     "output_type": "stream",
     "text": [
      "[flaml.automl: 08-20 10:42:07] {1361} INFO -  at 10.4s,\tbest lgbm's error=28432.4171,\tbest lgbm's error=28432.4171\n",
      "[flaml.automl: 08-20 10:42:07] {1210} INFO - iteration 74, current learner extra_tree\n"
     ]
    },
    {
     "name": "stdout",
     "output_type": "stream",
     "text": [
      "Finished loading model, total used 30 iterations\n"
     ]
    },
    {
     "name": "stderr",
     "output_type": "stream",
     "text": [
      "[flaml.automl: 08-20 10:42:07] {1361} INFO -  at 10.8s,\tbest extra_tree's error=29614.1475,\tbest lgbm's error=28432.4171\n",
      "[flaml.automl: 08-20 10:42:07] {1210} INFO - iteration 75, current learner lgbm\n",
      "[flaml.automl: 08-20 10:42:07] {1361} INFO -  at 10.9s,\tbest lgbm's error=28432.4171,\tbest lgbm's error=28432.4171\n",
      "[flaml.automl: 08-20 10:42:07] {1210} INFO - iteration 76, current learner lgbm\n",
      "[flaml.automl: 08-20 10:42:08] {1361} INFO -  at 11.1s,\tbest lgbm's error=28432.4171,\tbest lgbm's error=28432.4171\n",
      "[flaml.automl: 08-20 10:42:08] {1210} INFO - iteration 77, current learner extra_tree\n"
     ]
    },
    {
     "name": "stdout",
     "output_type": "stream",
     "text": [
      "Finished loading model, total used 42 iterations\n",
      "Finished loading model, total used 37 iterations\n"
     ]
    },
    {
     "name": "stderr",
     "output_type": "stream",
     "text": [
      "[flaml.automl: 08-20 10:42:08] {1361} INFO -  at 11.4s,\tbest extra_tree's error=29614.1475,\tbest lgbm's error=28432.4171\n",
      "[flaml.automl: 08-20 10:42:08] {1210} INFO - iteration 78, current learner lgbm\n",
      "[flaml.automl: 08-20 10:42:08] {1361} INFO -  at 11.6s,\tbest lgbm's error=28432.4171,\tbest lgbm's error=28432.4171\n",
      "[flaml.automl: 08-20 10:42:08] {1210} INFO - iteration 79, current learner lgbm\n",
      "[flaml.automl: 08-20 10:42:08] {1361} INFO -  at 11.7s,\tbest lgbm's error=28432.4171,\tbest lgbm's error=28432.4171\n",
      "[flaml.automl: 08-20 10:42:08] {1210} INFO - iteration 80, current learner extra_tree\n"
     ]
    },
    {
     "name": "stdout",
     "output_type": "stream",
     "text": [
      "Finished loading model, total used 24 iterations\n",
      "Finished loading model, total used 19 iterations\n"
     ]
    },
    {
     "name": "stderr",
     "output_type": "stream",
     "text": [
      "[flaml.automl: 08-20 10:42:09] {1361} INFO -  at 12.3s,\tbest extra_tree's error=29490.2646,\tbest lgbm's error=28432.4171\n",
      "[flaml.automl: 08-20 10:42:09] {1210} INFO - iteration 81, current learner lgbm\n",
      "[flaml.automl: 08-20 10:42:09] {1361} INFO -  at 12.6s,\tbest lgbm's error=28432.4171,\tbest lgbm's error=28432.4171\n",
      "[flaml.automl: 08-20 10:42:09] {1210} INFO - iteration 82, current learner lgbm\n",
      "[flaml.automl: 08-20 10:42:09] {1361} INFO -  at 12.7s,\tbest lgbm's error=28432.4171,\tbest lgbm's error=28432.4171\n",
      "[flaml.automl: 08-20 10:42:09] {1210} INFO - iteration 83, current learner lgbm\n"
     ]
    },
    {
     "name": "stdout",
     "output_type": "stream",
     "text": [
      "Finished loading model, total used 48 iterations\n",
      "Finished loading model, total used 31 iterations\n"
     ]
    },
    {
     "name": "stderr",
     "output_type": "stream",
     "text": [
      "[flaml.automl: 08-20 10:42:09] {1361} INFO -  at 12.9s,\tbest lgbm's error=28432.4171,\tbest lgbm's error=28432.4171\n",
      "[flaml.automl: 08-20 10:42:09] {1210} INFO - iteration 84, current learner xgboost\n",
      "[flaml.automl: 08-20 10:42:09] {1361} INFO -  at 13.0s,\tbest xgboost's error=34050.1324,\tbest lgbm's error=28432.4171\n",
      "[flaml.automl: 08-20 10:42:09] {1210} INFO - iteration 85, current learner xgboost\n"
     ]
    },
    {
     "name": "stdout",
     "output_type": "stream",
     "text": [
      "Finished loading model, total used 29 iterations\n"
     ]
    },
    {
     "name": "stderr",
     "output_type": "stream",
     "text": [
      "[flaml.automl: 08-20 10:42:10] {1361} INFO -  at 13.1s,\tbest xgboost's error=34050.1324,\tbest lgbm's error=28432.4171\n",
      "[flaml.automl: 08-20 10:42:10] {1210} INFO - iteration 86, current learner xgboost\n",
      "[flaml.automl: 08-20 10:42:10] {1361} INFO -  at 13.3s,\tbest xgboost's error=34050.1324,\tbest lgbm's error=28432.4171\n",
      "[flaml.automl: 08-20 10:42:10] {1210} INFO - iteration 87, current learner lgbm\n",
      "[flaml.automl: 08-20 10:42:10] {1361} INFO -  at 13.4s,\tbest lgbm's error=28432.4171,\tbest lgbm's error=28432.4171\n",
      "[flaml.automl: 08-20 10:42:10] {1210} INFO - iteration 88, current learner lgbm\n",
      "[flaml.automl: 08-20 10:42:10] {1361} INFO -  at 13.6s,\tbest lgbm's error=28432.4171,\tbest lgbm's error=28432.4171\n",
      "[flaml.automl: 08-20 10:42:10] {1210} INFO - iteration 89, current learner xgboost\n"
     ]
    },
    {
     "name": "stdout",
     "output_type": "stream",
     "text": [
      "Finished loading model, total used 47 iterations\n",
      "Finished loading model, total used 19 iterations\n"
     ]
    },
    {
     "name": "stderr",
     "output_type": "stream",
     "text": [
      "[flaml.automl: 08-20 10:42:10] {1361} INFO -  at 13.7s,\tbest xgboost's error=34050.1324,\tbest lgbm's error=28432.4171\n",
      "[flaml.automl: 08-20 10:42:10] {1210} INFO - iteration 90, current learner lgbm\n",
      "[flaml.automl: 08-20 10:42:10] {1361} INFO -  at 13.8s,\tbest lgbm's error=28432.4171,\tbest lgbm's error=28432.4171\n",
      "[flaml.automl: 08-20 10:42:10] {1210} INFO - iteration 91, current learner extra_tree\n"
     ]
    },
    {
     "name": "stdout",
     "output_type": "stream",
     "text": [
      "Finished loading model, total used 17 iterations\n"
     ]
    },
    {
     "name": "stderr",
     "output_type": "stream",
     "text": [
      "[flaml.automl: 08-20 10:42:11] {1361} INFO -  at 14.2s,\tbest extra_tree's error=29449.3239,\tbest lgbm's error=28432.4171\n",
      "[flaml.automl: 08-20 10:42:11] {1210} INFO - iteration 92, current learner xgboost\n",
      "[flaml.automl: 08-20 10:42:11] {1361} INFO -  at 14.4s,\tbest xgboost's error=34050.1324,\tbest lgbm's error=28432.4171\n",
      "[flaml.automl: 08-20 10:42:11] {1210} INFO - iteration 93, current learner xgboost\n",
      "[flaml.automl: 08-20 10:42:11] {1361} INFO -  at 14.4s,\tbest xgboost's error=34050.1324,\tbest lgbm's error=28432.4171\n",
      "[flaml.automl: 08-20 10:42:11] {1210} INFO - iteration 94, current learner lgbm\n",
      "[flaml.automl: 08-20 10:42:11] {1361} INFO -  at 14.6s,\tbest lgbm's error=28432.4171,\tbest lgbm's error=28432.4171\n",
      "[flaml.automl: 08-20 10:42:11] {1210} INFO - iteration 95, current learner xgboost\n",
      "[flaml.automl: 08-20 10:42:11] {1361} INFO -  at 14.8s,\tbest xgboost's error=34050.1324,\tbest lgbm's error=28432.4171\n",
      "[flaml.automl: 08-20 10:42:11] {1210} INFO - iteration 96, current learner lgbm\n"
     ]
    },
    {
     "name": "stdout",
     "output_type": "stream",
     "text": [
      "Finished loading model, total used 53 iterations\n"
     ]
    },
    {
     "name": "stderr",
     "output_type": "stream",
     "text": [
      "[flaml.automl: 08-20 10:42:11] {1361} INFO -  at 15.0s,\tbest lgbm's error=28432.4171,\tbest lgbm's error=28432.4171\n",
      "[flaml.automl: 08-20 10:42:11] {1210} INFO - iteration 97, current learner rf\n"
     ]
    },
    {
     "name": "stdout",
     "output_type": "stream",
     "text": [
      "Finished loading model, total used 63 iterations\n"
     ]
    },
    {
     "name": "stderr",
     "output_type": "stream",
     "text": [
      "[flaml.automl: 08-20 10:42:12] {1361} INFO -  at 15.3s,\tbest rf's error=30236.8906,\tbest lgbm's error=28432.4171\n",
      "[flaml.automl: 08-20 10:42:12] {1210} INFO - iteration 98, current learner rf\n",
      "[flaml.automl: 08-20 10:42:12] {1361} INFO -  at 15.5s,\tbest rf's error=30236.8906,\tbest lgbm's error=28432.4171\n",
      "[flaml.automl: 08-20 10:42:12] {1210} INFO - iteration 99, current learner lgbm\n",
      "[flaml.automl: 08-20 10:42:12] {1361} INFO -  at 15.7s,\tbest lgbm's error=28432.4171,\tbest lgbm's error=28432.4171\n",
      "[flaml.automl: 08-20 10:42:12] {1210} INFO - iteration 100, current learner xgboost\n",
      "[flaml.automl: 08-20 10:42:12] {1361} INFO -  at 15.7s,\tbest xgboost's error=34050.1324,\tbest lgbm's error=28432.4171\n",
      "[flaml.automl: 08-20 10:42:12] {1210} INFO - iteration 101, current learner rf\n"
     ]
    },
    {
     "name": "stdout",
     "output_type": "stream",
     "text": [
      "Finished loading model, total used 14 iterations\n"
     ]
    },
    {
     "name": "stderr",
     "output_type": "stream",
     "text": [
      "[flaml.automl: 08-20 10:42:13] {1361} INFO -  at 16.2s,\tbest rf's error=30236.8906,\tbest lgbm's error=28432.4171\n",
      "[flaml.automl: 08-20 10:42:13] {1210} INFO - iteration 102, current learner lgbm\n",
      "[flaml.automl: 08-20 10:42:13] {1361} INFO -  at 16.4s,\tbest lgbm's error=28432.4171,\tbest lgbm's error=28432.4171\n",
      "[flaml.automl: 08-20 10:42:13] {1210} INFO - iteration 103, current learner rf\n"
     ]
    },
    {
     "name": "stdout",
     "output_type": "stream",
     "text": [
      "Finished loading model, total used 42 iterations\n"
     ]
    },
    {
     "name": "stderr",
     "output_type": "stream",
     "text": [
      "[flaml.automl: 08-20 10:42:13] {1361} INFO -  at 16.7s,\tbest rf's error=30236.8906,\tbest lgbm's error=28432.4171\n",
      "[flaml.automl: 08-20 10:42:13] {1210} INFO - iteration 104, current learner lgbm\n",
      "[flaml.automl: 08-20 10:42:13] {1361} INFO -  at 16.8s,\tbest lgbm's error=28432.4171,\tbest lgbm's error=28432.4171\n",
      "[flaml.automl: 08-20 10:42:13] {1210} INFO - iteration 105, current learner rf\n"
     ]
    },
    {
     "name": "stdout",
     "output_type": "stream",
     "text": [
      "Finished loading model, total used 21 iterations\n"
     ]
    },
    {
     "name": "stderr",
     "output_type": "stream",
     "text": [
      "[flaml.automl: 08-20 10:42:14] {1361} INFO -  at 17.4s,\tbest rf's error=30084.2447,\tbest lgbm's error=28432.4171\n",
      "[flaml.automl: 08-20 10:42:14] {1210} INFO - iteration 106, current learner xgboost\n",
      "[flaml.automl: 08-20 10:42:14] {1361} INFO -  at 17.6s,\tbest xgboost's error=34050.1324,\tbest lgbm's error=28432.4171\n",
      "[flaml.automl: 08-20 10:42:14] {1210} INFO - iteration 107, current learner lgbm\n",
      "[flaml.automl: 08-20 10:42:14] {1361} INFO -  at 17.7s,\tbest lgbm's error=28432.4171,\tbest lgbm's error=28432.4171\n",
      "[flaml.automl: 08-20 10:42:14] {1210} INFO - iteration 108, current learner catboost\n",
      "Custom logger is already specified. Specify more than one logger at same time is not thread safe."
     ]
    },
    {
     "name": "stdout",
     "output_type": "stream",
     "text": [
      "Finished loading model, total used 51 iterations\n"
     ]
    },
    {
     "name": "stderr",
     "output_type": "stream",
     "text": [
      "[flaml.automl: 08-20 10:42:15] {1361} INFO -  at 18.7s,\tbest catboost's error=28989.2852,\tbest lgbm's error=28432.4171\n",
      "[flaml.automl: 08-20 10:42:15] {1210} INFO - iteration 109, current learner xgboost\n",
      "[flaml.automl: 08-20 10:42:15] {1361} INFO -  at 18.8s,\tbest xgboost's error=34050.1324,\tbest lgbm's error=28432.4171\n",
      "[flaml.automl: 08-20 10:42:15] {1210} INFO - iteration 110, current learner catboost\n",
      "[flaml.automl: 08-20 10:42:17] {1361} INFO -  at 20.2s,\tbest catboost's error=28507.4360,\tbest lgbm's error=28432.4171\n",
      "[flaml.automl: 08-20 10:42:17] {1210} INFO - iteration 111, current learner lgbm\n",
      "[flaml.automl: 08-20 10:42:17] {1361} INFO -  at 20.4s,\tbest lgbm's error=28432.4171,\tbest lgbm's error=28432.4171\n",
      "[flaml.automl: 08-20 10:42:17] {1210} INFO - iteration 112, current learner xgboost\n",
      "[flaml.automl: 08-20 10:42:17] {1361} INFO -  at 20.5s,\tbest xgboost's error=34050.1324,\tbest lgbm's error=28432.4171\n",
      "[flaml.automl: 08-20 10:42:17] {1210} INFO - iteration 113, current learner catboost\n"
     ]
    },
    {
     "name": "stdout",
     "output_type": "stream",
     "text": [
      "Finished loading model, total used 18 iterations\n"
     ]
    },
    {
     "name": "stderr",
     "output_type": "stream",
     "text": [
      "[flaml.automl: 08-20 10:42:18] {1361} INFO -  at 21.4s,\tbest catboost's error=28507.4360,\tbest lgbm's error=28432.4171\n",
      "[flaml.automl: 08-20 10:42:18] {1210} INFO - iteration 114, current learner extra_tree\n",
      "[flaml.automl: 08-20 10:42:18] {1361} INFO -  at 22.0s,\tbest extra_tree's error=29449.3239,\tbest lgbm's error=28432.4171\n",
      "[flaml.automl: 08-20 10:42:18] {1210} INFO - iteration 115, current learner lgbm\n",
      "[flaml.automl: 08-20 10:42:19] {1361} INFO -  at 22.2s,\tbest lgbm's error=28432.4171,\tbest lgbm's error=28432.4171\n",
      "[flaml.automl: 08-20 10:42:19] {1210} INFO - iteration 116, current learner lgbm\n",
      "[flaml.automl: 08-20 10:42:19] {1361} INFO -  at 22.3s,\tbest lgbm's error=28432.4171,\tbest lgbm's error=28432.4171\n",
      "[flaml.automl: 08-20 10:42:19] {1210} INFO - iteration 117, current learner xgboost\n"
     ]
    },
    {
     "name": "stdout",
     "output_type": "stream",
     "text": [
      "Finished loading model, total used 33 iterations\n",
      "Finished loading model, total used 28 iterations\n"
     ]
    },
    {
     "name": "stderr",
     "output_type": "stream",
     "text": [
      "[flaml.automl: 08-20 10:42:19] {1361} INFO -  at 22.4s,\tbest xgboost's error=34050.1324,\tbest lgbm's error=28432.4171\n",
      "[flaml.automl: 08-20 10:42:19] {1210} INFO - iteration 118, current learner catboost\n",
      "[flaml.automl: 08-20 10:42:21] {1361} INFO -  at 24.3s,\tbest catboost's error=28507.4360,\tbest lgbm's error=28432.4171\n",
      "[flaml.automl: 08-20 10:42:21] {1210} INFO - iteration 119, current learner lgbm\n",
      "[flaml.automl: 08-20 10:42:21] {1361} INFO -  at 24.5s,\tbest lgbm's error=28432.4171,\tbest lgbm's error=28432.4171\n",
      "[flaml.automl: 08-20 10:42:21] {1210} INFO - iteration 120, current learner xgboost\n",
      "[flaml.automl: 08-20 10:42:21] {1361} INFO -  at 24.7s,\tbest xgboost's error=34050.1324,\tbest lgbm's error=28432.4171\n",
      "[flaml.automl: 08-20 10:42:21] {1210} INFO - iteration 121, current learner catboost\n"
     ]
    },
    {
     "name": "stdout",
     "output_type": "stream",
     "text": [
      "Finished loading model, total used 44 iterations\n"
     ]
    },
    {
     "name": "stderr",
     "output_type": "stream",
     "text": [
      "[flaml.automl: 08-20 10:42:22] {1361} INFO -  at 25.5s,\tbest catboost's error=28507.4360,\tbest lgbm's error=28432.4171\n",
      "[flaml.automl: 08-20 10:42:22] {1210} INFO - iteration 122, current learner xgboost\n",
      "[flaml.automl: 08-20 10:42:22] {1361} INFO -  at 25.6s,\tbest xgboost's error=34050.1324,\tbest lgbm's error=28432.4171\n",
      "[flaml.automl: 08-20 10:42:22] {1210} INFO - iteration 123, current learner catboost\n",
      "[flaml.automl: 08-20 10:42:24] {1361} INFO -  at 27.8s,\tbest catboost's error=28503.4444,\tbest lgbm's error=28432.4171\n",
      "[flaml.automl: 08-20 10:42:24] {1210} INFO - iteration 124, current learner lgbm\n",
      "[flaml.automl: 08-20 10:42:24] {1361} INFO -  at 27.9s,\tbest lgbm's error=28432.4171,\tbest lgbm's error=28432.4171\n",
      "[flaml.automl: 08-20 10:42:24] {1210} INFO - iteration 125, current learner lgbm\n",
      "[flaml.automl: 08-20 10:42:24] {1361} INFO -  at 28.1s,\tbest lgbm's error=28432.4171,\tbest lgbm's error=28432.4171\n",
      "[flaml.automl: 08-20 10:42:24] {1210} INFO - iteration 126, current learner lgbm\n"
     ]
    },
    {
     "name": "stdout",
     "output_type": "stream",
     "text": [
      "Finished loading model, total used 20 iterations\n",
      "Finished loading model, total used 25 iterations\n"
     ]
    },
    {
     "name": "stderr",
     "output_type": "stream",
     "text": [
      "[flaml.automl: 08-20 10:42:25] {1361} INFO -  at 28.3s,\tbest lgbm's error=28432.4171,\tbest lgbm's error=28432.4171\n",
      "[flaml.automl: 08-20 10:42:25] {1210} INFO - iteration 127, current learner lgbm\n"
     ]
    },
    {
     "name": "stdout",
     "output_type": "stream",
     "text": [
      "Finished loading model, total used 36 iterations\n"
     ]
    },
    {
     "name": "stderr",
     "output_type": "stream",
     "text": [
      "[flaml.automl: 08-20 10:42:25] {1361} INFO -  at 28.6s,\tbest lgbm's error=28432.4171,\tbest lgbm's error=28432.4171\n",
      "[flaml.automl: 08-20 10:42:25] {1210} INFO - iteration 128, current learner lgbm\n",
      "[flaml.automl: 08-20 10:42:25] {1361} INFO -  at 28.7s,\tbest lgbm's error=28432.4171,\tbest lgbm's error=28432.4171\n",
      "[flaml.automl: 08-20 10:42:25] {1210} INFO - iteration 129, current learner xgboost\n"
     ]
    },
    {
     "name": "stdout",
     "output_type": "stream",
     "text": [
      "Finished loading model, total used 62 iterations\n",
      "Finished loading model, total used 14 iterations\n"
     ]
    },
    {
     "name": "stderr",
     "output_type": "stream",
     "text": [
      "[flaml.automl: 08-20 10:42:25] {1361} INFO -  at 29.0s,\tbest xgboost's error=30156.6656,\tbest lgbm's error=28432.4171\n",
      "[flaml.automl: 08-20 10:42:25] {1210} INFO - iteration 130, current learner xgboost\n",
      "[flaml.automl: 08-20 10:42:26] {1361} INFO -  at 29.2s,\tbest xgboost's error=30156.6656,\tbest lgbm's error=28432.4171\n",
      "[flaml.automl: 08-20 10:42:26] {1210} INFO - iteration 131, current learner xgboost\n",
      "[flaml.automl: 08-20 10:42:26] {1361} INFO -  at 29.4s,\tbest xgboost's error=30156.6656,\tbest lgbm's error=28432.4171\n",
      "[flaml.automl: 08-20 10:42:26] {1210} INFO - iteration 132, current learner xgboost\n",
      "[flaml.automl: 08-20 10:42:26] {1361} INFO -  at 29.5s,\tbest xgboost's error=30156.6656,\tbest lgbm's error=28432.4171\n",
      "[flaml.automl: 08-20 10:42:26] {1210} INFO - iteration 133, current learner lgbm\n",
      "[flaml.automl: 08-20 10:42:26] {1361} INFO -  at 29.7s,\tbest lgbm's error=28432.4171,\tbest lgbm's error=28432.4171\n",
      "[flaml.automl: 08-20 10:42:26] {1210} INFO - iteration 134, current learner lgbm\n",
      "[flaml.automl: 08-20 10:42:26] {1361} INFO -  at 29.9s,\tbest lgbm's error=28432.4171,\tbest lgbm's error=28432.4171\n",
      "[flaml.automl: 08-20 10:42:26] {1210} INFO - iteration 135, current learner xgboost\n"
     ]
    },
    {
     "name": "stdout",
     "output_type": "stream",
     "text": [
      "Finished loading model, total used 31 iterations\n",
      "Finished loading model, total used 29 iterations\n"
     ]
    },
    {
     "name": "stderr",
     "output_type": "stream",
     "text": [
      "[flaml.automl: 08-20 10:42:27] {1361} INFO -  at 30.3s,\tbest xgboost's error=28985.9471,\tbest lgbm's error=28432.4171\n",
      "[flaml.automl: 08-20 10:42:27] {1210} INFO - iteration 136, current learner xgboost\n",
      "[flaml.automl: 08-20 10:42:27] {1361} INFO -  at 30.6s,\tbest xgboost's error=28985.9471,\tbest lgbm's error=28432.4171\n",
      "[flaml.automl: 08-20 10:42:27] {1210} INFO - iteration 137, current learner xgboost\n",
      "[flaml.automl: 08-20 10:42:27] {1361} INFO -  at 30.9s,\tbest xgboost's error=28717.2341,\tbest lgbm's error=28432.4171\n",
      "[flaml.automl: 08-20 10:42:27] {1210} INFO - iteration 138, current learner lgbm\n",
      "[flaml.automl: 08-20 10:42:27] {1361} INFO -  at 31.0s,\tbest lgbm's error=28432.4171,\tbest lgbm's error=28432.4171\n",
      "[flaml.automl: 08-20 10:42:27] {1210} INFO - iteration 139, current learner xgboost\n"
     ]
    },
    {
     "name": "stdout",
     "output_type": "stream",
     "text": [
      "Finished loading model, total used 12 iterations\n"
     ]
    },
    {
     "name": "stderr",
     "output_type": "stream",
     "text": [
      "[flaml.automl: 08-20 10:42:28] {1361} INFO -  at 31.4s,\tbest xgboost's error=28717.2341,\tbest lgbm's error=28432.4171\n",
      "[flaml.automl: 08-20 10:42:28] {1210} INFO - iteration 140, current learner lgbm\n",
      "[flaml.automl: 08-20 10:42:28] {1361} INFO -  at 32.0s,\tbest lgbm's error=28432.4171,\tbest lgbm's error=28432.4171\n",
      "[flaml.automl: 08-20 10:42:28] {1210} INFO - iteration 141, current learner xgboost\n"
     ]
    },
    {
     "name": "stdout",
     "output_type": "stream",
     "text": [
      "Finished loading model, total used 74 iterations\n"
     ]
    },
    {
     "name": "stderr",
     "output_type": "stream",
     "text": [
      "[flaml.automl: 08-20 10:42:29] {1361} INFO -  at 32.5s,\tbest xgboost's error=28717.2341,\tbest lgbm's error=28432.4171\n",
      "[flaml.automl: 08-20 10:42:29] {1210} INFO - iteration 142, current learner catboost\n",
      "[flaml.automl: 08-20 10:42:31] {1361} INFO -  at 34.3s,\tbest catboost's error=28503.4444,\tbest lgbm's error=28432.4171\n",
      "[flaml.automl: 08-20 10:42:31] {1210} INFO - iteration 143, current learner xgboost\n",
      "[flaml.automl: 08-20 10:42:32] {1361} INFO -  at 35.4s,\tbest xgboost's error=28717.2341,\tbest lgbm's error=28432.4171\n",
      "[flaml.automl: 08-20 10:42:32] {1210} INFO - iteration 144, current learner xgboost\n",
      "[flaml.automl: 08-20 10:42:32] {1361} INFO -  at 35.5s,\tbest xgboost's error=28717.2341,\tbest lgbm's error=28432.4171\n",
      "[flaml.automl: 08-20 10:42:32] {1210} INFO - iteration 145, current learner xgboost\n",
      "[flaml.automl: 08-20 10:42:33] {1361} INFO -  at 36.1s,\tbest xgboost's error=28717.2341,\tbest lgbm's error=28432.4171\n",
      "[flaml.automl: 08-20 10:42:33] {1210} INFO - iteration 146, current learner lgbm\n",
      "[flaml.automl: 08-20 10:42:33] {1361} INFO -  at 36.4s,\tbest lgbm's error=28432.4171,\tbest lgbm's error=28432.4171\n",
      "[flaml.automl: 08-20 10:42:33] {1210} INFO - iteration 147, current learner lgbm\n",
      "[flaml.automl: 08-20 10:42:33] {1361} INFO -  at 36.5s,\tbest lgbm's error=28432.4171,\tbest lgbm's error=28432.4171\n",
      "[flaml.automl: 08-20 10:42:33] {1210} INFO - iteration 148, current learner lgbm\n"
     ]
    },
    {
     "name": "stdout",
     "output_type": "stream",
     "text": [
      "Finished loading model, total used 32 iterations\n",
      "Finished loading model, total used 28 iterations\n"
     ]
    },
    {
     "name": "stderr",
     "output_type": "stream",
     "text": [
      "[flaml.automl: 08-20 10:42:33] {1361} INFO -  at 36.9s,\tbest lgbm's error=28432.4171,\tbest lgbm's error=28432.4171\n",
      "[flaml.automl: 08-20 10:42:33] {1210} INFO - iteration 149, current learner lgbm\n",
      "[flaml.automl: 08-20 10:42:33] {1361} INFO -  at 37.0s,\tbest lgbm's error=28432.4171,\tbest lgbm's error=28432.4171\n",
      "[flaml.automl: 08-20 10:42:33] {1210} INFO - iteration 150, current learner lgbm\n"
     ]
    },
    {
     "name": "stdout",
     "output_type": "stream",
     "text": [
      "Finished loading model, total used 45 iterations\n",
      "Finished loading model, total used 20 iterations\n"
     ]
    },
    {
     "name": "stderr",
     "output_type": "stream",
     "text": [
      "[flaml.automl: 08-20 10:42:34] {1361} INFO -  at 37.3s,\tbest lgbm's error=28432.4171,\tbest lgbm's error=28432.4171\n",
      "[flaml.automl: 08-20 10:42:34] {1210} INFO - iteration 151, current learner lgbm\n"
     ]
    },
    {
     "name": "stdout",
     "output_type": "stream",
     "text": [
      "Finished loading model, total used 41 iterations\n",
      "Finished loading model, total used 22 iterations\n"
     ]
    },
    {
     "name": "stderr",
     "output_type": "stream",
     "text": [
      "[flaml.automl: 08-20 10:42:34] {1361} INFO -  at 37.5s,\tbest lgbm's error=28432.4171,\tbest lgbm's error=28432.4171\n",
      "[flaml.automl: 08-20 10:42:34] {1210} INFO - iteration 152, current learner xgboost\n",
      "[flaml.automl: 08-20 10:42:34] {1361} INFO -  at 38.0s,\tbest xgboost's error=28717.2341,\tbest lgbm's error=28432.4171\n",
      "[flaml.automl: 08-20 10:42:34] {1210} INFO - iteration 153, current learner xgboost\n",
      "[flaml.automl: 08-20 10:42:35] {1361} INFO -  at 38.4s,\tbest xgboost's error=28717.2341,\tbest lgbm's error=28432.4171\n",
      "[flaml.automl: 08-20 10:42:35] {1210} INFO - iteration 154, current learner lgbm\n",
      "[flaml.automl: 08-20 10:42:35] {1361} INFO -  at 38.6s,\tbest lgbm's error=28432.4171,\tbest lgbm's error=28432.4171\n",
      "[flaml.automl: 08-20 10:42:35] {1210} INFO - iteration 155, current learner lgbm\n",
      "[flaml.automl: 08-20 10:42:35] {1361} INFO -  at 38.8s,\tbest lgbm's error=28432.4171,\tbest lgbm's error=28432.4171\n",
      "[flaml.automl: 08-20 10:42:35] {1210} INFO - iteration 156, current learner extra_tree\n"
     ]
    },
    {
     "name": "stdout",
     "output_type": "stream",
     "text": [
      "Finished loading model, total used 32 iterations\n",
      "Finished loading model, total used 28 iterations\n"
     ]
    },
    {
     "name": "stderr",
     "output_type": "stream",
     "text": [
      "[flaml.automl: 08-20 10:42:36] {1361} INFO -  at 39.4s,\tbest extra_tree's error=29449.3239,\tbest lgbm's error=28432.4171\n",
      "[flaml.automl: 08-20 10:42:36] {1210} INFO - iteration 157, current learner rf\n",
      "[flaml.automl: 08-20 10:42:37] {1361} INFO -  at 40.5s,\tbest rf's error=29704.8702,\tbest lgbm's error=28432.4171\n",
      "[flaml.automl: 08-20 10:42:37] {1210} INFO - iteration 158, current learner lgbm\n",
      "[flaml.automl: 08-20 10:42:37] {1361} INFO -  at 40.9s,\tbest lgbm's error=28432.4171,\tbest lgbm's error=28432.4171\n",
      "[flaml.automl: 08-20 10:42:37] {1210} INFO - iteration 159, current learner lgbm\n"
     ]
    },
    {
     "name": "stdout",
     "output_type": "stream",
     "text": [
      "Finished loading model, total used 44 iterations\n"
     ]
    },
    {
     "name": "stderr",
     "output_type": "stream",
     "text": [
      "[flaml.automl: 08-20 10:42:38] {1361} INFO -  at 41.2s,\tbest lgbm's error=28432.4171,\tbest lgbm's error=28432.4171\n",
      "[flaml.automl: 08-20 10:42:38] {1210} INFO - iteration 160, current learner xgboost\n"
     ]
    },
    {
     "name": "stdout",
     "output_type": "stream",
     "text": [
      "Finished loading model, total used 21 iterations\n"
     ]
    },
    {
     "name": "stderr",
     "output_type": "stream",
     "text": [
      "[flaml.automl: 08-20 10:42:38] {1361} INFO -  at 41.4s,\tbest xgboost's error=28717.2341,\tbest lgbm's error=28432.4171\n",
      "[flaml.automl: 08-20 10:42:38] {1210} INFO - iteration 161, current learner lgbm\n",
      "[flaml.automl: 08-20 10:42:38] {1361} INFO -  at 41.8s,\tbest lgbm's error=28432.4171,\tbest lgbm's error=28432.4171\n",
      "[flaml.automl: 08-20 10:42:38] {1210} INFO - iteration 162, current learner rf\n"
     ]
    },
    {
     "name": "stdout",
     "output_type": "stream",
     "text": [
      "Finished loading model, total used 49 iterations\n"
     ]
    },
    {
     "name": "stderr",
     "output_type": "stream",
     "text": [
      "[flaml.automl: 08-20 10:42:39] {1361} INFO -  at 42.5s,\tbest rf's error=29704.8702,\tbest lgbm's error=28432.4171\n",
      "[flaml.automl: 08-20 10:42:39] {1210} INFO - iteration 163, current learner extra_tree\n",
      "[flaml.automl: 08-20 10:42:39] {1361} INFO -  at 42.7s,\tbest extra_tree's error=29449.3239,\tbest lgbm's error=28432.4171\n",
      "[flaml.automl: 08-20 10:42:39] {1210} INFO - iteration 164, current learner xgboost\n",
      "[flaml.automl: 08-20 10:42:39] {1361} INFO -  at 43.0s,\tbest xgboost's error=28717.2341,\tbest lgbm's error=28432.4171\n",
      "[flaml.automl: 08-20 10:42:39] {1210} INFO - iteration 165, current learner lgbm\n",
      "[flaml.automl: 08-20 10:42:40] {1361} INFO -  at 43.2s,\tbest lgbm's error=28432.4171,\tbest lgbm's error=28432.4171\n",
      "[flaml.automl: 08-20 10:42:40] {1210} INFO - iteration 166, current learner rf\n"
     ]
    },
    {
     "name": "stdout",
     "output_type": "stream",
     "text": [
      "Finished loading model, total used 19 iterations\n"
     ]
    },
    {
     "name": "stderr",
     "output_type": "stream",
     "text": [
      "[flaml.automl: 08-20 10:42:42] {1361} INFO -  at 45.3s,\tbest rf's error=29704.8702,\tbest lgbm's error=28432.4171\n",
      "[flaml.automl: 08-20 10:42:42] {1210} INFO - iteration 167, current learner xgboost\n",
      "[flaml.automl: 08-20 10:42:42] {1361} INFO -  at 46.0s,\tbest xgboost's error=28455.4820,\tbest lgbm's error=28432.4171\n",
      "[flaml.automl: 08-20 10:42:42] {1210} INFO - iteration 168, current learner xgboost\n",
      "[flaml.automl: 08-20 10:42:43] {1361} INFO -  at 46.5s,\tbest xgboost's error=28455.4820,\tbest lgbm's error=28432.4171\n",
      "[flaml.automl: 08-20 10:42:43] {1210} INFO - iteration 169, current learner lgbm\n",
      "[flaml.automl: 08-20 10:42:43] {1361} INFO -  at 46.9s,\tbest lgbm's error=28034.4537,\tbest lgbm's error=28034.4537\n",
      "[flaml.automl: 08-20 10:42:43] {1210} INFO - iteration 170, current learner lgbm\n",
      "[flaml.automl: 08-20 10:42:43] {1361} INFO -  at 47.1s,\tbest lgbm's error=28034.4537,\tbest lgbm's error=28034.4537\n",
      "[flaml.automl: 08-20 10:42:43] {1210} INFO - iteration 171, current learner lgbm\n"
     ]
    },
    {
     "name": "stdout",
     "output_type": "stream",
     "text": [
      "Finished loading model, total used 44 iterations\n",
      "Finished loading model, total used 30 iterations\n"
     ]
    },
    {
     "name": "stderr",
     "output_type": "stream",
     "text": [
      "[flaml.automl: 08-20 10:42:44] {1361} INFO -  at 47.3s,\tbest lgbm's error=28034.4537,\tbest lgbm's error=28034.4537\n",
      "[flaml.automl: 08-20 10:42:44] {1210} INFO - iteration 172, current learner lgbm\n"
     ]
    },
    {
     "name": "stdout",
     "output_type": "stream",
     "text": [
      "Finished loading model, total used 23 iterations\n"
     ]
    },
    {
     "name": "stderr",
     "output_type": "stream",
     "text": [
      "[flaml.automl: 08-20 10:42:44] {1361} INFO -  at 47.7s,\tbest lgbm's error=28034.4537,\tbest lgbm's error=28034.4537\n",
      "[flaml.automl: 08-20 10:42:44] {1210} INFO - iteration 173, current learner rf\n"
     ]
    },
    {
     "name": "stdout",
     "output_type": "stream",
     "text": [
      "Finished loading model, total used 84 iterations\n"
     ]
    },
    {
     "name": "stderr",
     "output_type": "stream",
     "text": [
      "[flaml.automl: 08-20 10:42:45] {1361} INFO -  at 48.4s,\tbest rf's error=29684.5295,\tbest lgbm's error=28034.4537\n",
      "[flaml.automl: 08-20 10:42:45] {1210} INFO - iteration 174, current learner lgbm\n",
      "[flaml.automl: 08-20 10:42:45] {1361} INFO -  at 48.7s,\tbest lgbm's error=28034.4537,\tbest lgbm's error=28034.4537\n",
      "[flaml.automl: 08-20 10:42:45] {1210} INFO - iteration 175, current learner lgbm\n"
     ]
    },
    {
     "name": "stdout",
     "output_type": "stream",
     "text": [
      "Finished loading model, total used 69 iterations\n"
     ]
    },
    {
     "name": "stderr",
     "output_type": "stream",
     "text": [
      "[flaml.automl: 08-20 10:42:45] {1361} INFO -  at 49.0s,\tbest lgbm's error=28034.4537,\tbest lgbm's error=28034.4537\n",
      "[flaml.automl: 08-20 10:42:45] {1210} INFO - iteration 176, current learner extra_tree\n"
     ]
    },
    {
     "name": "stdout",
     "output_type": "stream",
     "text": [
      "Finished loading model, total used 28 iterations\n"
     ]
    },
    {
     "name": "stderr",
     "output_type": "stream",
     "text": [
      "[flaml.automl: 08-20 10:42:46] {1361} INFO -  at 49.7s,\tbest extra_tree's error=29449.3239,\tbest lgbm's error=28034.4537\n",
      "[flaml.automl: 08-20 10:42:46] {1210} INFO - iteration 177, current learner lgbm\n",
      "[flaml.automl: 08-20 10:42:46] {1361} INFO -  at 49.9s,\tbest lgbm's error=28034.4537,\tbest lgbm's error=28034.4537\n",
      "[flaml.automl: 08-20 10:42:46] {1210} INFO - iteration 178, current learner lgbm\n"
     ]
    },
    {
     "name": "stdout",
     "output_type": "stream",
     "text": [
      "Finished loading model, total used 49 iterations\n"
     ]
    },
    {
     "name": "stderr",
     "output_type": "stream",
     "text": [
      "[flaml.automl: 08-20 10:42:47] {1361} INFO -  at 50.3s,\tbest lgbm's error=28034.4537,\tbest lgbm's error=28034.4537\n",
      "[flaml.automl: 08-20 10:42:47] {1210} INFO - iteration 179, current learner lgbm\n"
     ]
    },
    {
     "name": "stdout",
     "output_type": "stream",
     "text": [
      "Finished loading model, total used 39 iterations\n"
     ]
    },
    {
     "name": "stderr",
     "output_type": "stream",
     "text": [
      "[flaml.automl: 08-20 10:42:47] {1361} INFO -  at 50.8s,\tbest lgbm's error=28034.4537,\tbest lgbm's error=28034.4537\n",
      "[flaml.automl: 08-20 10:42:47] {1210} INFO - iteration 180, current learner xgboost\n"
     ]
    },
    {
     "name": "stdout",
     "output_type": "stream",
     "text": [
      "Finished loading model, total used 67 iterations\n"
     ]
    },
    {
     "name": "stderr",
     "output_type": "stream",
     "text": [
      "[flaml.automl: 08-20 10:42:48] {1361} INFO -  at 51.3s,\tbest xgboost's error=28455.4820,\tbest lgbm's error=28034.4537\n",
      "[flaml.automl: 08-20 10:42:48] {1210} INFO - iteration 181, current learner rf\n",
      "[flaml.automl: 08-20 10:42:48] {1361} INFO -  at 51.8s,\tbest rf's error=29684.5295,\tbest lgbm's error=28034.4537\n",
      "[flaml.automl: 08-20 10:42:48] {1210} INFO - iteration 182, current learner lgbm\n",
      "[flaml.automl: 08-20 10:42:48] {1361} INFO -  at 52.0s,\tbest lgbm's error=28034.4537,\tbest lgbm's error=28034.4537\n",
      "[flaml.automl: 08-20 10:42:48] {1210} INFO - iteration 183, current learner lgbm\n"
     ]
    },
    {
     "name": "stdout",
     "output_type": "stream",
     "text": [
      "Finished loading model, total used 29 iterations\n"
     ]
    },
    {
     "name": "stderr",
     "output_type": "stream",
     "text": [
      "[flaml.automl: 08-20 10:42:49] {1361} INFO -  at 52.4s,\tbest lgbm's error=28034.4537,\tbest lgbm's error=28034.4537\n",
      "[flaml.automl: 08-20 10:42:49] {1210} INFO - iteration 184, current learner lgbm\n"
     ]
    },
    {
     "name": "stdout",
     "output_type": "stream",
     "text": [
      "Finished loading model, total used 67 iterations\n"
     ]
    },
    {
     "name": "stderr",
     "output_type": "stream",
     "text": [
      "[flaml.automl: 08-20 10:42:49] {1361} INFO -  at 52.6s,\tbest lgbm's error=28034.4537,\tbest lgbm's error=28034.4537\n",
      "[flaml.automl: 08-20 10:42:49] {1210} INFO - iteration 185, current learner lgbm\n"
     ]
    },
    {
     "name": "stdout",
     "output_type": "stream",
     "text": [
      "Finished loading model, total used 29 iterations\n"
     ]
    },
    {
     "name": "stderr",
     "output_type": "stream",
     "text": [
      "[flaml.automl: 08-20 10:42:49] {1361} INFO -  at 53.0s,\tbest lgbm's error=28034.4537,\tbest lgbm's error=28034.4537\n",
      "[flaml.automl: 08-20 10:42:49] {1210} INFO - iteration 186, current learner lgbm\n"
     ]
    },
    {
     "name": "stdout",
     "output_type": "stream",
     "text": [
      "Finished loading model, total used 42 iterations\n"
     ]
    },
    {
     "name": "stderr",
     "output_type": "stream",
     "text": [
      "[flaml.automl: 08-20 10:42:50] {1361} INFO -  at 53.3s,\tbest lgbm's error=28034.4537,\tbest lgbm's error=28034.4537\n",
      "[flaml.automl: 08-20 10:42:50] {1210} INFO - iteration 187, current learner xgboost\n"
     ]
    },
    {
     "name": "stdout",
     "output_type": "stream",
     "text": [
      "Finished loading model, total used 46 iterations\n"
     ]
    },
    {
     "name": "stderr",
     "output_type": "stream",
     "text": [
      "[flaml.automl: 08-20 10:42:50] {1361} INFO -  at 54.1s,\tbest xgboost's error=28455.4820,\tbest lgbm's error=28034.4537\n",
      "[flaml.automl: 08-20 10:42:50] {1210} INFO - iteration 188, current learner lgbm\n",
      "[flaml.automl: 08-20 10:42:51] {1361} INFO -  at 54.3s,\tbest lgbm's error=28034.4537,\tbest lgbm's error=28034.4537\n",
      "[flaml.automl: 08-20 10:42:51] {1210} INFO - iteration 189, current learner lgbm\n"
     ]
    },
    {
     "name": "stdout",
     "output_type": "stream",
     "text": [
      "Finished loading model, total used 30 iterations\n"
     ]
    },
    {
     "name": "stderr",
     "output_type": "stream",
     "text": [
      "[flaml.automl: 08-20 10:42:51] {1361} INFO -  at 54.7s,\tbest lgbm's error=28034.4537,\tbest lgbm's error=28034.4537\n",
      "[flaml.automl: 08-20 10:42:51] {1210} INFO - iteration 190, current learner xgboost\n"
     ]
    },
    {
     "name": "stdout",
     "output_type": "stream",
     "text": [
      "Finished loading model, total used 64 iterations\n"
     ]
    },
    {
     "name": "stderr",
     "output_type": "stream",
     "text": [
      "[flaml.automl: 08-20 10:42:52] {1361} INFO -  at 55.2s,\tbest xgboost's error=28455.4820,\tbest lgbm's error=28034.4537\n",
      "[flaml.automl: 08-20 10:42:52] {1210} INFO - iteration 191, current learner lgbm\n",
      "[flaml.automl: 08-20 10:42:53] {1361} INFO -  at 56.1s,\tbest lgbm's error=28034.4537,\tbest lgbm's error=28034.4537\n",
      "[flaml.automl: 08-20 10:42:53] {1210} INFO - iteration 192, current learner lgbm\n",
      "[flaml.automl: 08-20 10:42:53] {1361} INFO -  at 56.3s,\tbest lgbm's error=28034.4537,\tbest lgbm's error=28034.4537\n",
      "[flaml.automl: 08-20 10:42:53] {1210} INFO - iteration 193, current learner lgbm\n"
     ]
    },
    {
     "name": "stdout",
     "output_type": "stream",
     "text": [
      "Finished loading model, total used 96 iterations\n",
      "Finished loading model, total used 20 iterations\n"
     ]
    },
    {
     "name": "stderr",
     "output_type": "stream",
     "text": [
      "[flaml.automl: 08-20 10:42:53] {1361} INFO -  at 56.5s,\tbest lgbm's error=28034.4537,\tbest lgbm's error=28034.4537\n",
      "[flaml.automl: 08-20 10:42:53] {1210} INFO - iteration 194, current learner xgboost\n"
     ]
    },
    {
     "name": "stdout",
     "output_type": "stream",
     "text": [
      "Finished loading model, total used 35 iterations\n"
     ]
    },
    {
     "name": "stderr",
     "output_type": "stream",
     "text": [
      "[flaml.automl: 08-20 10:42:53] {1361} INFO -  at 57.0s,\tbest xgboost's error=28455.4820,\tbest lgbm's error=28034.4537\n",
      "[flaml.automl: 08-20 10:42:53] {1210} INFO - iteration 195, current learner lgbm\n",
      "[flaml.automl: 08-20 10:42:54] {1361} INFO -  at 57.4s,\tbest lgbm's error=27941.5119,\tbest lgbm's error=27941.5119\n",
      "[flaml.automl: 08-20 10:42:54] {1210} INFO - iteration 196, current learner lgbm\n"
     ]
    },
    {
     "name": "stdout",
     "output_type": "stream",
     "text": [
      "Finished loading model, total used 56 iterations\n"
     ]
    },
    {
     "name": "stderr",
     "output_type": "stream",
     "text": [
      "[flaml.automl: 08-20 10:42:54] {1361} INFO -  at 57.8s,\tbest lgbm's error=27365.0003,\tbest lgbm's error=27365.0003\n",
      "[flaml.automl: 08-20 10:42:54] {1210} INFO - iteration 197, current learner lgbm\n"
     ]
    },
    {
     "name": "stdout",
     "output_type": "stream",
     "text": [
      "Finished loading model, total used 129 iterations\n"
     ]
    },
    {
     "name": "stderr",
     "output_type": "stream",
     "text": [
      "[flaml.automl: 08-20 10:42:54] {1361} INFO -  at 58.0s,\tbest lgbm's error=27365.0003,\tbest lgbm's error=27365.0003\n",
      "[flaml.automl: 08-20 10:42:54] {1210} INFO - iteration 198, current learner lgbm\n"
     ]
    },
    {
     "name": "stdout",
     "output_type": "stream",
     "text": [
      "Finished loading model, total used 56 iterations\n"
     ]
    },
    {
     "name": "stderr",
     "output_type": "stream",
     "text": [
      "[flaml.automl: 08-20 10:42:55] {1361} INFO -  at 59.1s,\tbest lgbm's error=27274.8165,\tbest lgbm's error=27274.8165\n",
      "[flaml.automl: 08-20 10:42:55] {1210} INFO - iteration 199, current learner lgbm\n"
     ]
    },
    {
     "name": "stdout",
     "output_type": "stream",
     "text": [
      "Finished loading model, total used 232 iterations\n"
     ]
    },
    {
     "name": "stderr",
     "output_type": "stream",
     "text": [
      "[flaml.automl: 08-20 10:42:56] {1361} INFO -  at 59.4s,\tbest lgbm's error=27274.8165,\tbest lgbm's error=27274.8165\n",
      "[flaml.automl: 08-20 10:42:56] {1210} INFO - iteration 200, current learner lgbm\n"
     ]
    },
    {
     "name": "stdout",
     "output_type": "stream",
     "text": [
      "Finished loading model, total used 129 iterations\n"
     ]
    },
    {
     "name": "stderr",
     "output_type": "stream",
     "text": [
      "[flaml.automl: 08-20 10:42:57] {1361} INFO -  at 60.1s,\tbest lgbm's error=27274.8165,\tbest lgbm's error=27274.8165\n",
      "[flaml.automl: 08-20 10:42:57] {1210} INFO - iteration 201, current learner lgbm\n"
     ]
    },
    {
     "name": "stdout",
     "output_type": "stream",
     "text": [
      "Finished loading model, total used 233 iterations\n"
     ]
    },
    {
     "name": "stderr",
     "output_type": "stream",
     "text": [
      "[flaml.automl: 08-20 10:42:57] {1361} INFO -  at 60.8s,\tbest lgbm's error=27274.8165,\tbest lgbm's error=27274.8165\n",
      "[flaml.automl: 08-20 10:42:57] {1210} INFO - iteration 202, current learner lgbm\n"
     ]
    },
    {
     "name": "stdout",
     "output_type": "stream",
     "text": [
      "Finished loading model, total used 231 iterations\n"
     ]
    },
    {
     "name": "stderr",
     "output_type": "stream",
     "text": [
      "[flaml.automl: 08-20 10:42:58] {1361} INFO -  at 61.3s,\tbest lgbm's error=27274.8165,\tbest lgbm's error=27274.8165\n",
      "[flaml.automl: 08-20 10:42:58] {1210} INFO - iteration 203, current learner lgbm\n"
     ]
    },
    {
     "name": "stdout",
     "output_type": "stream",
     "text": [
      "Finished loading model, total used 174 iterations\n"
     ]
    },
    {
     "name": "stderr",
     "output_type": "stream",
     "text": [
      "[flaml.automl: 08-20 10:42:59] {1361} INFO -  at 62.3s,\tbest lgbm's error=27274.8165,\tbest lgbm's error=27274.8165\n",
      "[flaml.automl: 08-20 10:42:59] {1210} INFO - iteration 204, current learner xgboost\n"
     ]
    },
    {
     "name": "stdout",
     "output_type": "stream",
     "text": [
      "Finished loading model, total used 310 iterations\n"
     ]
    },
    {
     "name": "stderr",
     "output_type": "stream",
     "text": [
      "[flaml.automl: 08-20 10:42:59] {1361} INFO -  at 62.8s,\tbest xgboost's error=28455.4820,\tbest lgbm's error=27274.8165\n",
      "[flaml.automl: 08-20 10:42:59] {1210} INFO - iteration 205, current learner xgboost\n",
      "[flaml.automl: 08-20 10:43:00] {1361} INFO -  at 63.5s,\tbest xgboost's error=28326.9761,\tbest lgbm's error=27274.8165\n",
      "[flaml.automl: 08-20 10:43:00] {1210} INFO - iteration 206, current learner lgbm\n",
      "[flaml.automl: 08-20 10:43:00] {1361} INFO -  at 63.8s,\tbest lgbm's error=27274.8165,\tbest lgbm's error=27274.8165\n",
      "[flaml.automl: 08-20 10:43:00] {1210} INFO - iteration 207, current learner lgbm\n"
     ]
    },
    {
     "name": "stdout",
     "output_type": "stream",
     "text": [
      "Finished loading model, total used 206 iterations\n"
     ]
    },
    {
     "name": "stderr",
     "output_type": "stream",
     "text": [
      "[flaml.automl: 08-20 10:43:01] {1361} INFO -  at 64.6s,\tbest lgbm's error=27274.8165,\tbest lgbm's error=27274.8165\n",
      "[flaml.automl: 08-20 10:43:01] {1210} INFO - iteration 208, current learner lgbm\n"
     ]
    },
    {
     "name": "stdout",
     "output_type": "stream",
     "text": [
      "Finished loading model, total used 261 iterations\n"
     ]
    },
    {
     "name": "stderr",
     "output_type": "stream",
     "text": [
      "[flaml.automl: 08-20 10:43:02] {1361} INFO -  at 65.3s,\tbest lgbm's error=27274.8165,\tbest lgbm's error=27274.8165\n",
      "[flaml.automl: 08-20 10:43:02] {1210} INFO - iteration 209, current learner lgbm\n"
     ]
    },
    {
     "name": "stdout",
     "output_type": "stream",
     "text": [
      "Finished loading model, total used 167 iterations\n"
     ]
    },
    {
     "name": "stderr",
     "output_type": "stream",
     "text": [
      "[flaml.automl: 08-20 10:43:02] {1361} INFO -  at 66.0s,\tbest lgbm's error=27274.8165,\tbest lgbm's error=27274.8165\n",
      "[flaml.automl: 08-20 10:43:02] {1210} INFO - iteration 210, current learner lgbm\n"
     ]
    },
    {
     "name": "stdout",
     "output_type": "stream",
     "text": [
      "Finished loading model, total used 323 iterations\n"
     ]
    },
    {
     "name": "stderr",
     "output_type": "stream",
     "text": [
      "[flaml.automl: 08-20 10:43:03] {1361} INFO -  at 66.6s,\tbest lgbm's error=27274.8165,\tbest lgbm's error=27274.8165\n",
      "[flaml.automl: 08-20 10:43:03] {1210} INFO - iteration 211, current learner lgbm\n"
     ]
    },
    {
     "name": "stdout",
     "output_type": "stream",
     "text": [
      "Finished loading model, total used 76 iterations\n"
     ]
    },
    {
     "name": "stderr",
     "output_type": "stream",
     "text": [
      "[flaml.automl: 08-20 10:43:06] {1361} INFO -  at 69.3s,\tbest lgbm's error=27274.8165,\tbest lgbm's error=27274.8165\n",
      "[flaml.automl: 08-20 10:43:06] {1210} INFO - iteration 212, current learner lgbm\n"
     ]
    },
    {
     "name": "stdout",
     "output_type": "stream",
     "text": [
      "Finished loading model, total used 705 iterations\n"
     ]
    },
    {
     "name": "stderr",
     "output_type": "stream",
     "text": [
      "[flaml.automl: 08-20 10:43:08] {1361} INFO -  at 71.6s,\tbest lgbm's error=26647.7952,\tbest lgbm's error=26647.7952\n",
      "[flaml.automl: 08-20 10:43:08] {1210} INFO - iteration 213, current learner xgboost\n"
     ]
    },
    {
     "name": "stdout",
     "output_type": "stream",
     "text": [
      "Finished loading model, total used 781 iterations\n"
     ]
    },
    {
     "name": "stderr",
     "output_type": "stream",
     "text": [
      "[flaml.automl: 08-20 10:43:09] {1361} INFO -  at 72.4s,\tbest xgboost's error=28326.9761,\tbest lgbm's error=26647.7952\n",
      "[flaml.automl: 08-20 10:43:09] {1210} INFO - iteration 214, current learner xgboost\n",
      "[flaml.automl: 08-20 10:43:10] {1361} INFO -  at 73.6s,\tbest xgboost's error=27600.9220,\tbest lgbm's error=26647.7952\n",
      "[flaml.automl: 08-20 10:43:10] {1210} INFO - iteration 215, current learner xgboost\n",
      "[flaml.automl: 08-20 10:43:11] {1361} INFO -  at 74.4s,\tbest xgboost's error=27600.9220,\tbest lgbm's error=26647.7952\n",
      "[flaml.automl: 08-20 10:43:11] {1210} INFO - iteration 216, current learner xgboost\n",
      "[flaml.automl: 08-20 10:43:13] {1361} INFO -  at 76.2s,\tbest xgboost's error=27600.9220,\tbest lgbm's error=26647.7952\n",
      "[flaml.automl: 08-20 10:43:13] {1210} INFO - iteration 217, current learner lgbm\n",
      "[flaml.automl: 08-20 10:43:13] {1361} INFO -  at 76.7s,\tbest lgbm's error=26647.7952,\tbest lgbm's error=26647.7952\n",
      "[flaml.automl: 08-20 10:43:13] {1210} INFO - iteration 218, current learner lgbm\n"
     ]
    },
    {
     "name": "stdout",
     "output_type": "stream",
     "text": [
      "Finished loading model, total used 232 iterations\n"
     ]
    },
    {
     "name": "stderr",
     "output_type": "stream",
     "text": [
      "[flaml.automl: 08-20 10:43:14] {1361} INFO -  at 77.7s,\tbest lgbm's error=26647.7952,\tbest lgbm's error=26647.7952\n",
      "[flaml.automl: 08-20 10:43:14] {1210} INFO - iteration 219, current learner lgbm\n"
     ]
    },
    {
     "name": "stdout",
     "output_type": "stream",
     "text": [
      "Finished loading model, total used 464 iterations\n"
     ]
    },
    {
     "name": "stderr",
     "output_type": "stream",
     "text": [
      "[flaml.automl: 08-20 10:43:17] {1361} INFO -  at 80.2s,\tbest lgbm's error=26647.7952,\tbest lgbm's error=26647.7952\n",
      "[flaml.automl: 08-20 10:43:17] {1210} INFO - iteration 220, current learner xgboost\n"
     ]
    },
    {
     "name": "stdout",
     "output_type": "stream",
     "text": [
      "Finished loading model, total used 1022 iterations\n"
     ]
    },
    {
     "name": "stderr",
     "output_type": "stream",
     "text": [
      "[flaml.automl: 08-20 10:43:18] {1361} INFO -  at 81.4s,\tbest xgboost's error=26511.6953,\tbest xgboost's error=26511.6953\n",
      "[flaml.automl: 08-20 10:43:18] {1210} INFO - iteration 221, current learner lgbm\n",
      "[flaml.automl: 08-20 10:43:19] {1361} INFO -  at 82.6s,\tbest lgbm's error=26647.7952,\tbest xgboost's error=26511.6953\n",
      "[flaml.automl: 08-20 10:43:19] {1210} INFO - iteration 222, current learner xgboost\n"
     ]
    },
    {
     "name": "stdout",
     "output_type": "stream",
     "text": [
      "Finished loading model, total used 587 iterations\n"
     ]
    },
    {
     "name": "stderr",
     "output_type": "stream",
     "text": [
      "[flaml.automl: 08-20 10:43:20] {1361} INFO -  at 83.8s,\tbest xgboost's error=26511.6953,\tbest xgboost's error=26511.6953\n",
      "[flaml.automl: 08-20 10:43:20] {1210} INFO - iteration 223, current learner xgboost\n",
      "[flaml.automl: 08-20 10:43:21] {1361} INFO -  at 84.7s,\tbest xgboost's error=26511.6953,\tbest xgboost's error=26511.6953\n",
      "[flaml.automl: 08-20 10:43:21] {1210} INFO - iteration 224, current learner lgbm\n",
      "[flaml.automl: 08-20 10:43:23] {1361} INFO -  at 86.3s,\tbest lgbm's error=26647.7952,\tbest xgboost's error=26511.6953\n",
      "[flaml.automl: 08-20 10:43:23] {1210} INFO - iteration 225, current learner lgbm\n"
     ]
    },
    {
     "name": "stdout",
     "output_type": "stream",
     "text": [
      "Finished loading model, total used 1022 iterations\n"
     ]
    },
    {
     "name": "stderr",
     "output_type": "stream",
     "text": [
      "[flaml.automl: 08-20 10:43:24] {1361} INFO -  at 87.2s,\tbest lgbm's error=26647.7952,\tbest xgboost's error=26511.6953\n",
      "[flaml.automl: 08-20 10:43:24] {1210} INFO - iteration 226, current learner xgboost\n"
     ]
    },
    {
     "name": "stdout",
     "output_type": "stream",
     "text": [
      "Finished loading model, total used 297 iterations\n"
     ]
    },
    {
     "name": "stderr",
     "output_type": "stream",
     "text": [
      "[flaml.automl: 08-20 10:43:27] {1361} INFO -  at 90.2s,\tbest xgboost's error=26511.6953,\tbest xgboost's error=26511.6953\n",
      "[flaml.automl: 08-20 10:43:27] {1210} INFO - iteration 227, current learner lgbm\n",
      "[flaml.automl: 08-20 10:43:29] {1361} INFO -  at 92.2s,\tbest lgbm's error=26647.7952,\tbest xgboost's error=26511.6953\n",
      "[flaml.automl: 08-20 10:43:29] {1210} INFO - iteration 228, current learner xgboost\n"
     ]
    },
    {
     "name": "stdout",
     "output_type": "stream",
     "text": [
      "Finished loading model, total used 1022 iterations\n"
     ]
    },
    {
     "name": "stderr",
     "output_type": "stream",
     "text": [
      "[flaml.automl: 08-20 10:43:29] {1361} INFO -  at 92.8s,\tbest xgboost's error=26511.6953,\tbest xgboost's error=26511.6953\n",
      "[flaml.automl: 08-20 10:43:29] {1210} INFO - iteration 229, current learner xgboost\n",
      "[flaml.automl: 08-20 10:43:30] {1361} INFO -  at 93.4s,\tbest xgboost's error=26511.6953,\tbest xgboost's error=26511.6953\n",
      "[flaml.automl: 08-20 10:43:30] {1210} INFO - iteration 230, current learner xgboost\n",
      "[flaml.automl: 08-20 10:43:32] {1361} INFO -  at 95.2s,\tbest xgboost's error=26511.6953,\tbest xgboost's error=26511.6953\n",
      "[flaml.automl: 08-20 10:43:32] {1210} INFO - iteration 231, current learner xgboost\n",
      "[flaml.automl: 08-20 10:43:34] {1361} INFO -  at 97.3s,\tbest xgboost's error=26511.6953,\tbest xgboost's error=26511.6953\n",
      "[flaml.automl: 08-20 10:43:34] {1210} INFO - iteration 232, current learner xgboost\n",
      "[flaml.automl: 08-20 10:43:35] {1361} INFO -  at 98.6s,\tbest xgboost's error=26511.6953,\tbest xgboost's error=26511.6953\n",
      "[flaml.automl: 08-20 10:43:35] {1210} INFO - iteration 233, current learner xgboost\n",
      "[flaml.automl: 08-20 10:43:37] {1361} INFO -  at 100.6s,\tbest xgboost's error=26511.6953,\tbest xgboost's error=26511.6953\n",
      "[flaml.automl: 08-20 10:43:37] {1210} INFO - iteration 234, current learner xgboost\n",
      "[flaml.automl: 08-20 10:43:39] {1361} INFO -  at 102.3s,\tbest xgboost's error=26511.6953,\tbest xgboost's error=26511.6953\n",
      "[flaml.automl: 08-20 10:43:39] {1210} INFO - iteration 235, current learner lgbm\n",
      "[flaml.automl: 08-20 10:43:41] {1361} INFO -  at 104.8s,\tbest lgbm's error=26647.7952,\tbest xgboost's error=26511.6953\n",
      "[flaml.automl: 08-20 10:43:41] {1210} INFO - iteration 236, current learner xgboost\n"
     ]
    },
    {
     "name": "stdout",
     "output_type": "stream",
     "text": [
      "Finished loading model, total used 359 iterations\n"
     ]
    },
    {
     "name": "stderr",
     "output_type": "stream",
     "text": [
      "[flaml.automl: 08-20 10:43:42] {1361} INFO -  at 105.3s,\tbest xgboost's error=26511.6953,\tbest xgboost's error=26511.6953\n",
      "[flaml.automl: 08-20 10:43:42] {1210} INFO - iteration 237, current learner xgboost\n",
      "[flaml.automl: 08-20 10:43:48] {1361} INFO -  at 111.3s,\tbest xgboost's error=26324.4965,\tbest xgboost's error=26324.4965\n",
      "[flaml.automl: 08-20 10:43:48] {1210} INFO - iteration 238, current learner lgbm\n",
      "[flaml.automl: 08-20 10:43:50] {1361} INFO -  at 113.4s,\tbest lgbm's error=26647.7952,\tbest xgboost's error=26324.4965\n",
      "[flaml.automl: 08-20 10:43:50] {1210} INFO - iteration 239, current learner xgboost\n"
     ]
    },
    {
     "name": "stdout",
     "output_type": "stream",
     "text": [
      "Finished loading model, total used 1022 iterations\n"
     ]
    },
    {
     "name": "stderr",
     "output_type": "stream",
     "text": [
      "[flaml.automl: 08-20 10:43:56] {1361} INFO -  at 119.2s,\tbest xgboost's error=26324.4965,\tbest xgboost's error=26324.4965\n",
      "[flaml.automl: 08-20 10:43:56] {1210} INFO - iteration 240, current learner xgboost\n",
      "[flaml.automl: 08-20 10:43:59] {1361} INFO -  at 122.7s,\tbest xgboost's error=26324.4965,\tbest xgboost's error=26324.4965\n",
      "[flaml.automl: 08-20 10:43:59] {1210} INFO - iteration 241, current learner lgbm\n",
      "[flaml.automl: 08-20 10:44:01] {1361} INFO -  at 124.7s,\tbest lgbm's error=26647.7952,\tbest xgboost's error=26324.4965\n",
      "[flaml.automl: 08-20 10:44:01] {1210} INFO - iteration 242, current learner xgboost\n"
     ]
    },
    {
     "name": "stdout",
     "output_type": "stream",
     "text": [
      "Finished loading model, total used 649 iterations\n"
     ]
    },
    {
     "name": "stderr",
     "output_type": "stream",
     "text": [
      "[flaml.automl: 08-20 10:44:09] {1361} INFO -  at 133.0s,\tbest xgboost's error=26324.4965,\tbest xgboost's error=26324.4965\n",
      "[flaml.automl: 08-20 10:44:09] {1210} INFO - iteration 243, current learner xgboost\n",
      "[flaml.automl: 08-20 10:44:11] {1361} INFO -  at 134.3s,\tbest xgboost's error=26324.4965,\tbest xgboost's error=26324.4965\n",
      "[flaml.automl: 08-20 10:44:11] {1210} INFO - iteration 244, current learner xgboost\n",
      "[flaml.automl: 08-20 10:44:17] {1361} INFO -  at 140.9s,\tbest xgboost's error=26324.4965,\tbest xgboost's error=26324.4965\n",
      "[flaml.automl: 08-20 10:44:17] {1210} INFO - iteration 245, current learner lgbm\n",
      "[flaml.automl: 08-20 10:44:18] {1361} INFO -  at 141.9s,\tbest lgbm's error=26647.7952,\tbest xgboost's error=26324.4965\n",
      "[flaml.automl: 08-20 10:44:18] {1210} INFO - iteration 246, current learner xgboost\n"
     ]
    },
    {
     "name": "stdout",
     "output_type": "stream",
     "text": [
      "Finished loading model, total used 862 iterations\n"
     ]
    },
    {
     "name": "stderr",
     "output_type": "stream",
     "text": [
      "[flaml.automl: 08-20 10:44:23] {1361} INFO -  at 146.4s,\tbest xgboost's error=26225.7760,\tbest xgboost's error=26225.7760\n",
      "[flaml.automl: 08-20 10:44:23] {1210} INFO - iteration 247, current learner xgboost\n",
      "[flaml.automl: 08-20 10:44:28] {1361} INFO -  at 151.9s,\tbest xgboost's error=26225.7760,\tbest xgboost's error=26225.7760\n",
      "[flaml.automl: 08-20 10:44:28] {1210} INFO - iteration 248, current learner lgbm\n",
      "[flaml.automl: 08-20 10:44:30] {1361} INFO -  at 153.1s,\tbest lgbm's error=26647.7952,\tbest xgboost's error=26225.7760\n",
      "[flaml.automl: 08-20 10:44:30] {1210} INFO - iteration 249, current learner xgboost\n"
     ]
    },
    {
     "name": "stdout",
     "output_type": "stream",
     "text": [
      "Finished loading model, total used 356 iterations\n"
     ]
    },
    {
     "name": "stderr",
     "output_type": "stream",
     "text": [
      "[flaml.automl: 08-20 10:44:33] {1361} INFO -  at 156.8s,\tbest xgboost's error=26225.7760,\tbest xgboost's error=26225.7760\n",
      "[flaml.automl: 08-20 10:44:33] {1210} INFO - iteration 250, current learner xgboost\n",
      "[flaml.automl: 08-20 10:44:37] {1361} INFO -  at 160.8s,\tbest xgboost's error=26225.7760,\tbest xgboost's error=26225.7760\n",
      "[flaml.automl: 08-20 10:44:37] {1210} INFO - iteration 251, current learner lgbm\n",
      "[flaml.automl: 08-20 10:44:39] {1361} INFO -  at 162.4s,\tbest lgbm's error=26647.7952,\tbest xgboost's error=26225.7760\n",
      "[flaml.automl: 08-20 10:44:39] {1210} INFO - iteration 252, current learner xgboost\n"
     ]
    },
    {
     "name": "stdout",
     "output_type": "stream",
     "text": [
      "Finished loading model, total used 397 iterations\n"
     ]
    },
    {
     "name": "stderr",
     "output_type": "stream",
     "text": [
      "[flaml.automl: 08-20 10:44:45] {1361} INFO -  at 168.3s,\tbest xgboost's error=26225.7760,\tbest xgboost's error=26225.7760\n",
      "[flaml.automl: 08-20 10:44:45] {1210} INFO - iteration 253, current learner xgboost\n",
      "[flaml.automl: 08-20 10:44:50] {1361} INFO -  at 173.3s,\tbest xgboost's error=26225.7760,\tbest xgboost's error=26225.7760\n",
      "[flaml.automl: 08-20 10:44:50] {1210} INFO - iteration 254, current learner xgboost\n",
      "[flaml.automl: 08-20 10:44:53] {1361} INFO -  at 176.8s,\tbest xgboost's error=26225.7760,\tbest xgboost's error=26225.7760\n",
      "[flaml.automl: 08-20 10:44:53] {1210} INFO - iteration 255, current learner lgbm\n",
      "[flaml.automl: 08-20 10:44:55] {1361} INFO -  at 178.8s,\tbest lgbm's error=26647.7952,\tbest xgboost's error=26225.7760\n",
      "[flaml.automl: 08-20 10:44:55] {1210} INFO - iteration 256, current learner extra_tree\n"
     ]
    },
    {
     "name": "stdout",
     "output_type": "stream",
     "text": [
      "Finished loading model, total used 492 iterations\n"
     ]
    },
    {
     "name": "stderr",
     "output_type": "stream",
     "text": [
      "[flaml.automl: 08-20 10:44:56] {1361} INFO -  at 179.1s,\tbest extra_tree's error=29449.3239,\tbest xgboost's error=26225.7760\n",
      "[flaml.automl: 08-20 10:44:56] {1210} INFO - iteration 257, current learner lgbm\n",
      "[flaml.automl: 08-20 10:44:57] {1361} INFO -  at 180.4s,\tbest lgbm's error=26647.7952,\tbest xgboost's error=26225.7760\n",
      "[flaml.automl: 08-20 10:44:57] {1210} INFO - iteration 258, current learner extra_tree\n"
     ]
    },
    {
     "name": "stdout",
     "output_type": "stream",
     "text": [
      "Finished loading model, total used 226 iterations\n"
     ]
    },
    {
     "name": "stderr",
     "output_type": "stream",
     "text": [
      "[flaml.automl: 08-20 10:44:57] {1361} INFO -  at 180.8s,\tbest extra_tree's error=29449.3239,\tbest xgboost's error=26225.7760\n",
      "[flaml.automl: 08-20 10:44:57] {1210} INFO - iteration 259, current learner xgboost\n",
      "[flaml.automl: 08-20 10:45:03] {1361} INFO -  at 186.6s,\tbest xgboost's error=26225.7760,\tbest xgboost's error=26225.7760\n",
      "[flaml.automl: 08-20 10:45:03] {1210} INFO - iteration 260, current learner xgboost\n",
      "[flaml.automl: 08-20 10:45:09] {1361} INFO -  at 192.7s,\tbest xgboost's error=26225.7760,\tbest xgboost's error=26225.7760\n",
      "[flaml.automl: 08-20 10:45:09] {1210} INFO - iteration 261, current learner xgboost\n",
      "[flaml.automl: 08-20 10:45:15] {1361} INFO -  at 198.6s,\tbest xgboost's error=26225.7760,\tbest xgboost's error=26225.7760\n",
      "[flaml.automl: 08-20 10:45:15] {1210} INFO - iteration 262, current learner extra_tree\n",
      "[flaml.automl: 08-20 10:45:16] {1361} INFO -  at 199.4s,\tbest extra_tree's error=29145.9217,\tbest xgboost's error=26225.7760\n",
      "[flaml.automl: 08-20 10:45:16] {1407} INFO - selected model: <xgboost.core.Booster object at 0x7ff6476176a0>\n",
      "[flaml.automl: 08-20 10:45:16] {1161} INFO - fit succeeded\n"
     ]
    }
   ],
   "source": [
    "automl = AutoML()\n",
    "automl_settings = {\"time_budget\" : 200,\"metric\" :  'rmse', \"task\":'regression',\"eval_method\" : 'cv'}\n",
    "automl.fit(x_train,y_train,**automl_settings) "
   ]
  },
  {
   "cell_type": "code",
   "execution_count": 144,
   "metadata": {},
   "outputs": [
    {
     "data": {
      "application/javascript": [
       "\n",
       "        if (window._pyforest_update_imports_cell) { window._pyforest_update_imports_cell('import xgboost as xgb\\nimport numpy as np\\nimport pandas as pd\\nimport plotly.express as px\\nimport sklearn'); }\n",
       "    "
      ],
      "text/plain": [
       "<IPython.core.display.Javascript object>"
      ]
     },
     "metadata": {},
     "output_type": "display_data"
    },
    {
     "data": {
      "application/javascript": [
       "\n",
       "        if (window._pyforest_update_imports_cell) { window._pyforest_update_imports_cell('import xgboost as xgb\\nimport numpy as np\\nimport pandas as pd\\nimport plotly.express as px\\nimport sklearn'); }\n",
       "    "
      ],
      "text/plain": [
       "<IPython.core.display.Javascript object>"
      ]
     },
     "metadata": {},
     "output_type": "display_data"
    },
    {
     "name": "stdout",
     "output_type": "stream",
     "text": [
      "rmse  23651.94992296881\n",
      "mse  559414735.1586244\n",
      "mae  14516.623742508562\n",
      "explained_variance_score 0.9198886054499145\n",
      "r2 0.9198327287761575\n"
     ]
    }
   ],
   "source": [
    "y_pred = automl.predict(x_test)\n",
    "rmse = mean_squared_error(y_test,y_pred,squared=False)\n",
    "mse = mean_squared_error(y_test,y_pred,squared=True)\n",
    "mae = mean_absolute_error(y_test,y_pred)\n",
    "explained_variance_score = sklearn.metrics.explained_variance_score(y_test,y_pred)\n",
    "r2 = sklearn.metrics.r2_score(y_test,y_pred)\n",
    "print('rmse ', rmse)\n",
    "print('mse ', mse)\n",
    "print('mae ', mae)\n",
    "print('explained_variance_score',explained_variance_score)\n",
    "print('r2',r2)"
   ]
  },
  {
   "cell_type": "code",
   "execution_count": 145,
   "metadata": {},
   "outputs": [
    {
     "data": {
      "application/javascript": [
       "\n",
       "        if (window._pyforest_update_imports_cell) { window._pyforest_update_imports_cell('import xgboost as xgb\\nimport numpy as np\\nimport pandas as pd\\nimport plotly.express as px\\nimport sklearn'); }\n",
       "    "
      ],
      "text/plain": [
       "<IPython.core.display.Javascript object>"
      ]
     },
     "metadata": {},
     "output_type": "display_data"
    },
    {
     "data": {
      "application/javascript": [
       "\n",
       "        if (window._pyforest_update_imports_cell) { window._pyforest_update_imports_cell('import xgboost as xgb\\nimport numpy as np\\nimport pandas as pd\\nimport plotly.express as px\\nimport sklearn'); }\n",
       "    "
      ],
      "text/plain": [
       "<IPython.core.display.Javascript object>"
      ]
     },
     "metadata": {},
     "output_type": "display_data"
    },
    {
     "name": "stdout",
     "output_type": "stream",
     "text": [
      "rmse  5342.750383424786\n",
      "mse  28544981.659585703\n",
      "mae  4324.004036203522\n",
      "explained_variance_score 0.9952571864265594\n",
      "r2 0.9952571863870818\n"
     ]
    }
   ],
   "source": [
    "y_pred = automl.predict(x_train)\n",
    "rmse = mean_squared_error(y_train,y_pred,squared=False)\n",
    "mse = mean_squared_error(y_train,y_pred,squared=True)\n",
    "mae = mean_absolute_error(y_train,y_pred)\n",
    "explained_variance_score = sklearn.metrics.explained_variance_score(y_train,y_pred)\n",
    "r2 = sklearn.metrics.r2_score(y_train,y_pred)\n",
    "print('rmse ', rmse)\n",
    "print('mse ', mse)\n",
    "print('mae ', mae)\n",
    "print('explained_variance_score',explained_variance_score)\n",
    "print('r2',r2)"
   ]
  },
  {
   "cell_type": "code",
   "execution_count": 94,
   "metadata": {},
   "outputs": [
    {
     "data": {
      "text/plain": [
       "{'n_estimators': 241,\n",
       " 'max_leaves': 24,\n",
       " 'min_child_weight': 0.7130293574356446,\n",
       " 'learning_rate': 0.041688643084278026,\n",
       " 'subsample': 0.7025417777212305,\n",
       " 'colsample_bylevel': 0.7981550119871405,\n",
       " 'colsample_bytree': 0.4129632882571486,\n",
       " 'reg_alpha': 0.33064460645442645,\n",
       " 'reg_lambda': 0.017357546739781796}"
      ]
     },
     "execution_count": 94,
     "metadata": {},
     "output_type": "execute_result"
    }
   ],
   "source": [
    "automl.best_config"
   ]
  },
  {
   "cell_type": "code",
   "execution_count": 95,
   "metadata": {},
   "outputs": [
    {
     "data": {
      "text/plain": [
       "<xgboost.core.Booster at 0x7ff644c780d0>"
      ]
     },
     "execution_count": 95,
     "metadata": {},
     "output_type": "execute_result"
    }
   ],
   "source": [
    "automl.model.estimator"
   ]
  },
  {
   "cell_type": "code",
   "execution_count": 98,
   "metadata": {},
   "outputs": [
    {
     "data": {
      "application/javascript": [
       "\n",
       "        if (window._pyforest_update_imports_cell) { window._pyforest_update_imports_cell('import xgboost as xgb\\nimport numpy as np\\nimport pandas as pd\\nimport plotly.express as px\\nimport sklearn'); }\n",
       "    "
      ],
      "text/plain": [
       "<IPython.core.display.Javascript object>"
      ]
     },
     "metadata": {},
     "output_type": "display_data"
    },
    {
     "data": {
      "application/javascript": [
       "\n",
       "        if (window._pyforest_update_imports_cell) { window._pyforest_update_imports_cell('import xgboost as xgb\\nimport numpy as np\\nimport pandas as pd\\nimport plotly.express as px\\nimport sklearn'); }\n",
       "    "
      ],
      "text/plain": [
       "<IPython.core.display.Javascript object>"
      ]
     },
     "metadata": {},
     "output_type": "display_data"
    },
    {
     "name": "stdout",
     "output_type": "stream",
     "text": [
      "rmse  23246.83232886318\n",
      "mse  540415213.3262783\n",
      "mae  14572.812883490296\n",
      "explained_variance_score 0.9225642819008444\n",
      "r2 0.9225554668882044\n"
     ]
    }
   ],
   "source": [
    "cbr = XGBRegressor(**automl.best_config)\n",
    "cbr.fit(x_train,y_train)\n",
    "y_pred = cbr.predict(x_test)\n",
    "rmse = mean_squared_error(y_test,y_pred,squared=False)\n",
    "mse = mean_squared_error(y_test,y_pred,squared=True)\n",
    "mae = mean_absolute_error(y_test,y_pred)\n",
    "explained_variance_score = sklearn.metrics.explained_variance_score(y_test,y_pred)\n",
    "r2 = sklearn.metrics.r2_score(y_test,y_pred)\n",
    "print('rmse ', rmse)\n",
    "print('mse ', mse)\n",
    "print('mae ', mae)\n",
    "print('explained_variance_score',explained_variance_score)\n",
    "print('r2',r2)"
   ]
  },
  {
   "cell_type": "code",
   "execution_count": 99,
   "metadata": {},
   "outputs": [
    {
     "data": {
      "application/javascript": [
       "\n",
       "        if (window._pyforest_update_imports_cell) { window._pyforest_update_imports_cell('import xgboost as xgb\\nimport numpy as np\\nimport pandas as pd\\nimport plotly.express as px\\nimport sklearn'); }\n",
       "    "
      ],
      "text/plain": [
       "<IPython.core.display.Javascript object>"
      ]
     },
     "metadata": {},
     "output_type": "display_data"
    },
    {
     "data": {
      "text/html": [
       "<div>\n",
       "<style scoped>\n",
       "    .dataframe tbody tr th:only-of-type {\n",
       "        vertical-align: middle;\n",
       "    }\n",
       "\n",
       "    .dataframe tbody tr th {\n",
       "        vertical-align: top;\n",
       "    }\n",
       "\n",
       "    .dataframe thead th {\n",
       "        text-align: right;\n",
       "    }\n",
       "</style>\n",
       "<table border=\"1\" class=\"dataframe\">\n",
       "  <thead>\n",
       "    <tr style=\"text-align: right;\">\n",
       "      <th></th>\n",
       "      <th>feature_importance</th>\n",
       "      <th>column_name</th>\n",
       "    </tr>\n",
       "  </thead>\n",
       "  <tbody>\n",
       "    <tr>\n",
       "      <th>56</th>\n",
       "      <td>0.229091</td>\n",
       "      <td>ExterQual</td>\n",
       "    </tr>\n",
       "    <tr>\n",
       "      <th>24</th>\n",
       "      <td>0.092835</td>\n",
       "      <td>GarageCars</td>\n",
       "    </tr>\n",
       "    <tr>\n",
       "      <th>68</th>\n",
       "      <td>0.073603</td>\n",
       "      <td>KitchenQual</td>\n",
       "    </tr>\n",
       "    <tr>\n",
       "      <th>59</th>\n",
       "      <td>0.072160</td>\n",
       "      <td>BsmtQual</td>\n",
       "    </tr>\n",
       "    <tr>\n",
       "      <th>2</th>\n",
       "      <td>0.062185</td>\n",
       "      <td>OverallQual</td>\n",
       "    </tr>\n",
       "    <tr>\n",
       "      <th>46</th>\n",
       "      <td>0.050656</td>\n",
       "      <td>Neighborhood</td>\n",
       "    </tr>\n",
       "    <tr>\n",
       "      <th>17</th>\n",
       "      <td>0.028256</td>\n",
       "      <td>FullBath</td>\n",
       "    </tr>\n",
       "    <tr>\n",
       "      <th>14</th>\n",
       "      <td>0.025375</td>\n",
       "      <td>GrLivArea</td>\n",
       "    </tr>\n",
       "    <tr>\n",
       "      <th>70</th>\n",
       "      <td>0.024064</td>\n",
       "      <td>FireplaceQu</td>\n",
       "    </tr>\n",
       "    <tr>\n",
       "      <th>12</th>\n",
       "      <td>0.019423</td>\n",
       "      <td>2ndFlrSF</td>\n",
       "    </tr>\n",
       "    <tr>\n",
       "      <th>25</th>\n",
       "      <td>0.016080</td>\n",
       "      <td>GarageArea</td>\n",
       "    </tr>\n",
       "    <tr>\n",
       "      <th>21</th>\n",
       "      <td>0.015699</td>\n",
       "      <td>TotRmsAbvGrd</td>\n",
       "    </tr>\n",
       "    <tr>\n",
       "      <th>13</th>\n",
       "      <td>0.013559</td>\n",
       "      <td>LowQualFinSF</td>\n",
       "    </tr>\n",
       "    <tr>\n",
       "      <th>10</th>\n",
       "      <td>0.013376</td>\n",
       "      <td>TotalBsmtSF</td>\n",
       "    </tr>\n",
       "    <tr>\n",
       "      <th>31</th>\n",
       "      <td>0.012759</td>\n",
       "      <td>PoolArea</td>\n",
       "    </tr>\n",
       "    <tr>\n",
       "      <th>37</th>\n",
       "      <td>0.011405</td>\n",
       "      <td>MSSubClass</td>\n",
       "    </tr>\n",
       "    <tr>\n",
       "      <th>11</th>\n",
       "      <td>0.011175</td>\n",
       "      <td>1stFlrSF</td>\n",
       "    </tr>\n",
       "    <tr>\n",
       "      <th>49</th>\n",
       "      <td>0.011147</td>\n",
       "      <td>BldgType</td>\n",
       "    </tr>\n",
       "    <tr>\n",
       "      <th>22</th>\n",
       "      <td>0.011093</td>\n",
       "      <td>Fireplaces</td>\n",
       "    </tr>\n",
       "    <tr>\n",
       "      <th>66</th>\n",
       "      <td>0.009921</td>\n",
       "      <td>CentralAir</td>\n",
       "    </tr>\n",
       "  </tbody>\n",
       "</table>\n",
       "</div>"
      ],
      "text/plain": [
       "    feature_importance   column_name\n",
       "56            0.229091     ExterQual\n",
       "24            0.092835    GarageCars\n",
       "68            0.073603   KitchenQual\n",
       "59            0.072160      BsmtQual\n",
       "2             0.062185   OverallQual\n",
       "46            0.050656  Neighborhood\n",
       "17            0.028256      FullBath\n",
       "14            0.025375     GrLivArea\n",
       "70            0.024064   FireplaceQu\n",
       "12            0.019423      2ndFlrSF\n",
       "25            0.016080    GarageArea\n",
       "21            0.015699  TotRmsAbvGrd\n",
       "13            0.013559  LowQualFinSF\n",
       "10            0.013376   TotalBsmtSF\n",
       "31            0.012759      PoolArea\n",
       "37            0.011405    MSSubClass\n",
       "11            0.011175      1stFlrSF\n",
       "49            0.011147      BldgType\n",
       "22            0.011093    Fireplaces\n",
       "66            0.009921    CentralAir"
      ]
     },
     "execution_count": 99,
     "metadata": {},
     "output_type": "execute_result"
    }
   ],
   "source": [
    "ser = pd.DataFrame(cbr.feature_importances_)\n",
    "ser.columns  =['feature_importance']\n",
    "ser['column_name'] = x_test.columns\n",
    "ser = ser.sort_values('feature_importance',ascending=False)\n",
    "ser.head(20)"
   ]
  },
  {
   "cell_type": "code",
   "execution_count": 100,
   "metadata": {},
   "outputs": [],
   "source": [
    "def best_features(nl,col_count):\n",
    "    x_train_new = x_train[nl]\n",
    "    x_test_new = x_test[nl]\n",
    "    cbr = XGBRegressor(**automl.best_config)\n",
    "    cbr.fit(x_train_new,y_train)\n",
    "    y_pred = cbr.predict(x_test_new)\n",
    "    rmse = mean_squared_error(y_test,y_pred,squared=False)\n",
    "    mse = mean_squared_error(y_test,y_pred,squared=True)\n",
    "    mae = mean_absolute_error(y_test,y_pred)\n",
    "    explained_variance_score = sklearn.metrics.explained_variance_score(y_test,y_pred)\n",
    "    r2 = sklearn.metrics.r2_score(y_test,y_pred)\n",
    "    templist = []\n",
    "    templist.append(col_count)\n",
    "    templist.extend([rmse,mse,mae,explained_variance_score,r2])\n",
    "    return templist"
   ]
  },
  {
   "cell_type": "code",
   "execution_count": 42,
   "metadata": {},
   "outputs": [
    {
     "data": {
      "text/plain": [
       "82"
      ]
     },
     "execution_count": 42,
     "metadata": {},
     "output_type": "execute_result"
    }
   ],
   "source": [
    "x_train.shape[1]"
   ]
  },
  {
   "cell_type": "code",
   "execution_count": 101,
   "metadata": {},
   "outputs": [
    {
     "data": {
      "application/javascript": [
       "\n",
       "        if (window._pyforest_update_imports_cell) { window._pyforest_update_imports_cell('import xgboost as xgb\\nimport numpy as np\\nimport pandas as pd\\nimport plotly.express as px\\nimport sklearn'); }\n",
       "    "
      ],
      "text/plain": [
       "<IPython.core.display.Javascript object>"
      ]
     },
     "metadata": {},
     "output_type": "display_data"
    },
    {
     "data": {
      "application/javascript": [
       "\n",
       "        if (window._pyforest_update_imports_cell) { window._pyforest_update_imports_cell('import xgboost as xgb\\nimport numpy as np\\nimport pandas as pd\\nimport plotly.express as px\\nimport sklearn'); }\n",
       "    "
      ],
      "text/plain": [
       "<IPython.core.display.Javascript object>"
      ]
     },
     "metadata": {},
     "output_type": "display_data"
    },
    {
     "data": {
      "application/javascript": [
       "\n",
       "        if (window._pyforest_update_imports_cell) { window._pyforest_update_imports_cell('import xgboost as xgb\\nimport numpy as np\\nimport pandas as pd\\nimport plotly.express as px\\nimport sklearn'); }\n",
       "    "
      ],
      "text/plain": [
       "<IPython.core.display.Javascript object>"
      ]
     },
     "metadata": {},
     "output_type": "display_data"
    },
    {
     "data": {
      "application/javascript": [
       "\n",
       "        if (window._pyforest_update_imports_cell) { window._pyforest_update_imports_cell('import xgboost as xgb\\nimport numpy as np\\nimport pandas as pd\\nimport plotly.express as px\\nimport sklearn'); }\n",
       "    "
      ],
      "text/plain": [
       "<IPython.core.display.Javascript object>"
      ]
     },
     "metadata": {},
     "output_type": "display_data"
    },
    {
     "data": {
      "application/javascript": [
       "\n",
       "        if (window._pyforest_update_imports_cell) { window._pyforest_update_imports_cell('import xgboost as xgb\\nimport numpy as np\\nimport pandas as pd\\nimport plotly.express as px\\nimport sklearn'); }\n",
       "    "
      ],
      "text/plain": [
       "<IPython.core.display.Javascript object>"
      ]
     },
     "metadata": {},
     "output_type": "display_data"
    },
    {
     "data": {
      "application/javascript": [
       "\n",
       "        if (window._pyforest_update_imports_cell) { window._pyforest_update_imports_cell('import xgboost as xgb\\nimport numpy as np\\nimport pandas as pd\\nimport plotly.express as px\\nimport sklearn'); }\n",
       "    "
      ],
      "text/plain": [
       "<IPython.core.display.Javascript object>"
      ]
     },
     "metadata": {},
     "output_type": "display_data"
    },
    {
     "data": {
      "application/javascript": [
       "\n",
       "        if (window._pyforest_update_imports_cell) { window._pyforest_update_imports_cell('import xgboost as xgb\\nimport numpy as np\\nimport pandas as pd\\nimport plotly.express as px\\nimport sklearn'); }\n",
       "    "
      ],
      "text/plain": [
       "<IPython.core.display.Javascript object>"
      ]
     },
     "metadata": {},
     "output_type": "display_data"
    },
    {
     "data": {
      "application/javascript": [
       "\n",
       "        if (window._pyforest_update_imports_cell) { window._pyforest_update_imports_cell('import xgboost as xgb\\nimport numpy as np\\nimport pandas as pd\\nimport plotly.express as px\\nimport sklearn'); }\n",
       "    "
      ],
      "text/plain": [
       "<IPython.core.display.Javascript object>"
      ]
     },
     "metadata": {},
     "output_type": "display_data"
    },
    {
     "data": {
      "application/javascript": [
       "\n",
       "        if (window._pyforest_update_imports_cell) { window._pyforest_update_imports_cell('import xgboost as xgb\\nimport numpy as np\\nimport pandas as pd\\nimport plotly.express as px\\nimport sklearn'); }\n",
       "    "
      ],
      "text/plain": [
       "<IPython.core.display.Javascript object>"
      ]
     },
     "metadata": {},
     "output_type": "display_data"
    },
    {
     "data": {
      "application/javascript": [
       "\n",
       "        if (window._pyforest_update_imports_cell) { window._pyforest_update_imports_cell('import xgboost as xgb\\nimport numpy as np\\nimport pandas as pd\\nimport plotly.express as px\\nimport sklearn'); }\n",
       "    "
      ],
      "text/plain": [
       "<IPython.core.display.Javascript object>"
      ]
     },
     "metadata": {},
     "output_type": "display_data"
    },
    {
     "data": {
      "application/javascript": [
       "\n",
       "        if (window._pyforest_update_imports_cell) { window._pyforest_update_imports_cell('import xgboost as xgb\\nimport numpy as np\\nimport pandas as pd\\nimport plotly.express as px\\nimport sklearn'); }\n",
       "    "
      ],
      "text/plain": [
       "<IPython.core.display.Javascript object>"
      ]
     },
     "metadata": {},
     "output_type": "display_data"
    },
    {
     "data": {
      "application/javascript": [
       "\n",
       "        if (window._pyforest_update_imports_cell) { window._pyforest_update_imports_cell('import xgboost as xgb\\nimport numpy as np\\nimport pandas as pd\\nimport plotly.express as px\\nimport sklearn'); }\n",
       "    "
      ],
      "text/plain": [
       "<IPython.core.display.Javascript object>"
      ]
     },
     "metadata": {},
     "output_type": "display_data"
    },
    {
     "data": {
      "application/javascript": [
       "\n",
       "        if (window._pyforest_update_imports_cell) { window._pyforest_update_imports_cell('import xgboost as xgb\\nimport numpy as np\\nimport pandas as pd\\nimport plotly.express as px\\nimport sklearn'); }\n",
       "    "
      ],
      "text/plain": [
       "<IPython.core.display.Javascript object>"
      ]
     },
     "metadata": {},
     "output_type": "display_data"
    },
    {
     "data": {
      "application/javascript": [
       "\n",
       "        if (window._pyforest_update_imports_cell) { window._pyforest_update_imports_cell('import xgboost as xgb\\nimport numpy as np\\nimport pandas as pd\\nimport plotly.express as px\\nimport sklearn'); }\n",
       "    "
      ],
      "text/plain": [
       "<IPython.core.display.Javascript object>"
      ]
     },
     "metadata": {},
     "output_type": "display_data"
    },
    {
     "data": {
      "application/javascript": [
       "\n",
       "        if (window._pyforest_update_imports_cell) { window._pyforest_update_imports_cell('import xgboost as xgb\\nimport numpy as np\\nimport pandas as pd\\nimport plotly.express as px\\nimport sklearn'); }\n",
       "    "
      ],
      "text/plain": [
       "<IPython.core.display.Javascript object>"
      ]
     },
     "metadata": {},
     "output_type": "display_data"
    },
    {
     "data": {
      "application/javascript": [
       "\n",
       "        if (window._pyforest_update_imports_cell) { window._pyforest_update_imports_cell('import xgboost as xgb\\nimport numpy as np\\nimport pandas as pd\\nimport plotly.express as px\\nimport sklearn'); }\n",
       "    "
      ],
      "text/plain": [
       "<IPython.core.display.Javascript object>"
      ]
     },
     "metadata": {},
     "output_type": "display_data"
    },
    {
     "data": {
      "application/javascript": [
       "\n",
       "        if (window._pyforest_update_imports_cell) { window._pyforest_update_imports_cell('import xgboost as xgb\\nimport numpy as np\\nimport pandas as pd\\nimport plotly.express as px\\nimport sklearn'); }\n",
       "    "
      ],
      "text/plain": [
       "<IPython.core.display.Javascript object>"
      ]
     },
     "metadata": {},
     "output_type": "display_data"
    },
    {
     "data": {
      "application/javascript": [
       "\n",
       "        if (window._pyforest_update_imports_cell) { window._pyforest_update_imports_cell('import xgboost as xgb\\nimport numpy as np\\nimport pandas as pd\\nimport plotly.express as px\\nimport sklearn'); }\n",
       "    "
      ],
      "text/plain": [
       "<IPython.core.display.Javascript object>"
      ]
     },
     "metadata": {},
     "output_type": "display_data"
    },
    {
     "data": {
      "application/javascript": [
       "\n",
       "        if (window._pyforest_update_imports_cell) { window._pyforest_update_imports_cell('import xgboost as xgb\\nimport numpy as np\\nimport pandas as pd\\nimport plotly.express as px\\nimport sklearn'); }\n",
       "    "
      ],
      "text/plain": [
       "<IPython.core.display.Javascript object>"
      ]
     },
     "metadata": {},
     "output_type": "display_data"
    },
    {
     "data": {
      "application/javascript": [
       "\n",
       "        if (window._pyforest_update_imports_cell) { window._pyforest_update_imports_cell('import xgboost as xgb\\nimport numpy as np\\nimport pandas as pd\\nimport plotly.express as px\\nimport sklearn'); }\n",
       "    "
      ],
      "text/plain": [
       "<IPython.core.display.Javascript object>"
      ]
     },
     "metadata": {},
     "output_type": "display_data"
    },
    {
     "data": {
      "application/javascript": [
       "\n",
       "        if (window._pyforest_update_imports_cell) { window._pyforest_update_imports_cell('import xgboost as xgb\\nimport numpy as np\\nimport pandas as pd\\nimport plotly.express as px\\nimport sklearn'); }\n",
       "    "
      ],
      "text/plain": [
       "<IPython.core.display.Javascript object>"
      ]
     },
     "metadata": {},
     "output_type": "display_data"
    },
    {
     "data": {
      "application/javascript": [
       "\n",
       "        if (window._pyforest_update_imports_cell) { window._pyforest_update_imports_cell('import xgboost as xgb\\nimport numpy as np\\nimport pandas as pd\\nimport plotly.express as px\\nimport sklearn'); }\n",
       "    "
      ],
      "text/plain": [
       "<IPython.core.display.Javascript object>"
      ]
     },
     "metadata": {},
     "output_type": "display_data"
    },
    {
     "data": {
      "application/javascript": [
       "\n",
       "        if (window._pyforest_update_imports_cell) { window._pyforest_update_imports_cell('import xgboost as xgb\\nimport numpy as np\\nimport pandas as pd\\nimport plotly.express as px\\nimport sklearn'); }\n",
       "    "
      ],
      "text/plain": [
       "<IPython.core.display.Javascript object>"
      ]
     },
     "metadata": {},
     "output_type": "display_data"
    },
    {
     "data": {
      "application/javascript": [
       "\n",
       "        if (window._pyforest_update_imports_cell) { window._pyforest_update_imports_cell('import xgboost as xgb\\nimport numpy as np\\nimport pandas as pd\\nimport plotly.express as px\\nimport sklearn'); }\n",
       "    "
      ],
      "text/plain": [
       "<IPython.core.display.Javascript object>"
      ]
     },
     "metadata": {},
     "output_type": "display_data"
    },
    {
     "data": {
      "application/javascript": [
       "\n",
       "        if (window._pyforest_update_imports_cell) { window._pyforest_update_imports_cell('import xgboost as xgb\\nimport numpy as np\\nimport pandas as pd\\nimport plotly.express as px\\nimport sklearn'); }\n",
       "    "
      ],
      "text/plain": [
       "<IPython.core.display.Javascript object>"
      ]
     },
     "metadata": {},
     "output_type": "display_data"
    },
    {
     "data": {
      "application/javascript": [
       "\n",
       "        if (window._pyforest_update_imports_cell) { window._pyforest_update_imports_cell('import xgboost as xgb\\nimport numpy as np\\nimport pandas as pd\\nimport plotly.express as px\\nimport sklearn'); }\n",
       "    "
      ],
      "text/plain": [
       "<IPython.core.display.Javascript object>"
      ]
     },
     "metadata": {},
     "output_type": "display_data"
    },
    {
     "data": {
      "application/javascript": [
       "\n",
       "        if (window._pyforest_update_imports_cell) { window._pyforest_update_imports_cell('import xgboost as xgb\\nimport numpy as np\\nimport pandas as pd\\nimport plotly.express as px\\nimport sklearn'); }\n",
       "    "
      ],
      "text/plain": [
       "<IPython.core.display.Javascript object>"
      ]
     },
     "metadata": {},
     "output_type": "display_data"
    },
    {
     "data": {
      "application/javascript": [
       "\n",
       "        if (window._pyforest_update_imports_cell) { window._pyforest_update_imports_cell('import xgboost as xgb\\nimport numpy as np\\nimport pandas as pd\\nimport plotly.express as px\\nimport sklearn'); }\n",
       "    "
      ],
      "text/plain": [
       "<IPython.core.display.Javascript object>"
      ]
     },
     "metadata": {},
     "output_type": "display_data"
    },
    {
     "data": {
      "application/javascript": [
       "\n",
       "        if (window._pyforest_update_imports_cell) { window._pyforest_update_imports_cell('import xgboost as xgb\\nimport numpy as np\\nimport pandas as pd\\nimport plotly.express as px\\nimport sklearn'); }\n",
       "    "
      ],
      "text/plain": [
       "<IPython.core.display.Javascript object>"
      ]
     },
     "metadata": {},
     "output_type": "display_data"
    },
    {
     "data": {
      "application/javascript": [
       "\n",
       "        if (window._pyforest_update_imports_cell) { window._pyforest_update_imports_cell('import xgboost as xgb\\nimport numpy as np\\nimport pandas as pd\\nimport plotly.express as px\\nimport sklearn'); }\n",
       "    "
      ],
      "text/plain": [
       "<IPython.core.display.Javascript object>"
      ]
     },
     "metadata": {},
     "output_type": "display_data"
    },
    {
     "data": {
      "application/javascript": [
       "\n",
       "        if (window._pyforest_update_imports_cell) { window._pyforest_update_imports_cell('import xgboost as xgb\\nimport numpy as np\\nimport pandas as pd\\nimport plotly.express as px\\nimport sklearn'); }\n",
       "    "
      ],
      "text/plain": [
       "<IPython.core.display.Javascript object>"
      ]
     },
     "metadata": {},
     "output_type": "display_data"
    },
    {
     "data": {
      "application/javascript": [
       "\n",
       "        if (window._pyforest_update_imports_cell) { window._pyforest_update_imports_cell('import xgboost as xgb\\nimport numpy as np\\nimport pandas as pd\\nimport plotly.express as px\\nimport sklearn'); }\n",
       "    "
      ],
      "text/plain": [
       "<IPython.core.display.Javascript object>"
      ]
     },
     "metadata": {},
     "output_type": "display_data"
    },
    {
     "data": {
      "application/javascript": [
       "\n",
       "        if (window._pyforest_update_imports_cell) { window._pyforest_update_imports_cell('import xgboost as xgb\\nimport numpy as np\\nimport pandas as pd\\nimport plotly.express as px\\nimport sklearn'); }\n",
       "    "
      ],
      "text/plain": [
       "<IPython.core.display.Javascript object>"
      ]
     },
     "metadata": {},
     "output_type": "display_data"
    },
    {
     "data": {
      "application/javascript": [
       "\n",
       "        if (window._pyforest_update_imports_cell) { window._pyforest_update_imports_cell('import xgboost as xgb\\nimport numpy as np\\nimport pandas as pd\\nimport plotly.express as px\\nimport sklearn'); }\n",
       "    "
      ],
      "text/plain": [
       "<IPython.core.display.Javascript object>"
      ]
     },
     "metadata": {},
     "output_type": "display_data"
    },
    {
     "data": {
      "application/javascript": [
       "\n",
       "        if (window._pyforest_update_imports_cell) { window._pyforest_update_imports_cell('import xgboost as xgb\\nimport numpy as np\\nimport pandas as pd\\nimport plotly.express as px\\nimport sklearn'); }\n",
       "    "
      ],
      "text/plain": [
       "<IPython.core.display.Javascript object>"
      ]
     },
     "metadata": {},
     "output_type": "display_data"
    },
    {
     "data": {
      "application/javascript": [
       "\n",
       "        if (window._pyforest_update_imports_cell) { window._pyforest_update_imports_cell('import xgboost as xgb\\nimport numpy as np\\nimport pandas as pd\\nimport plotly.express as px\\nimport sklearn'); }\n",
       "    "
      ],
      "text/plain": [
       "<IPython.core.display.Javascript object>"
      ]
     },
     "metadata": {},
     "output_type": "display_data"
    },
    {
     "data": {
      "application/javascript": [
       "\n",
       "        if (window._pyforest_update_imports_cell) { window._pyforest_update_imports_cell('import xgboost as xgb\\nimport numpy as np\\nimport pandas as pd\\nimport plotly.express as px\\nimport sklearn'); }\n",
       "    "
      ],
      "text/plain": [
       "<IPython.core.display.Javascript object>"
      ]
     },
     "metadata": {},
     "output_type": "display_data"
    },
    {
     "data": {
      "application/javascript": [
       "\n",
       "        if (window._pyforest_update_imports_cell) { window._pyforest_update_imports_cell('import xgboost as xgb\\nimport numpy as np\\nimport pandas as pd\\nimport plotly.express as px\\nimport sklearn'); }\n",
       "    "
      ],
      "text/plain": [
       "<IPython.core.display.Javascript object>"
      ]
     },
     "metadata": {},
     "output_type": "display_data"
    },
    {
     "data": {
      "application/javascript": [
       "\n",
       "        if (window._pyforest_update_imports_cell) { window._pyforest_update_imports_cell('import xgboost as xgb\\nimport numpy as np\\nimport pandas as pd\\nimport plotly.express as px\\nimport sklearn'); }\n",
       "    "
      ],
      "text/plain": [
       "<IPython.core.display.Javascript object>"
      ]
     },
     "metadata": {},
     "output_type": "display_data"
    },
    {
     "data": {
      "application/javascript": [
       "\n",
       "        if (window._pyforest_update_imports_cell) { window._pyforest_update_imports_cell('import xgboost as xgb\\nimport numpy as np\\nimport pandas as pd\\nimport plotly.express as px\\nimport sklearn'); }\n",
       "    "
      ],
      "text/plain": [
       "<IPython.core.display.Javascript object>"
      ]
     },
     "metadata": {},
     "output_type": "display_data"
    },
    {
     "data": {
      "application/javascript": [
       "\n",
       "        if (window._pyforest_update_imports_cell) { window._pyforest_update_imports_cell('import xgboost as xgb\\nimport numpy as np\\nimport pandas as pd\\nimport plotly.express as px\\nimport sklearn'); }\n",
       "    "
      ],
      "text/plain": [
       "<IPython.core.display.Javascript object>"
      ]
     },
     "metadata": {},
     "output_type": "display_data"
    },
    {
     "data": {
      "application/javascript": [
       "\n",
       "        if (window._pyforest_update_imports_cell) { window._pyforest_update_imports_cell('import xgboost as xgb\\nimport numpy as np\\nimport pandas as pd\\nimport plotly.express as px\\nimport sklearn'); }\n",
       "    "
      ],
      "text/plain": [
       "<IPython.core.display.Javascript object>"
      ]
     },
     "metadata": {},
     "output_type": "display_data"
    },
    {
     "data": {
      "application/javascript": [
       "\n",
       "        if (window._pyforest_update_imports_cell) { window._pyforest_update_imports_cell('import xgboost as xgb\\nimport numpy as np\\nimport pandas as pd\\nimport plotly.express as px\\nimport sklearn'); }\n",
       "    "
      ],
      "text/plain": [
       "<IPython.core.display.Javascript object>"
      ]
     },
     "metadata": {},
     "output_type": "display_data"
    },
    {
     "data": {
      "application/javascript": [
       "\n",
       "        if (window._pyforest_update_imports_cell) { window._pyforest_update_imports_cell('import xgboost as xgb\\nimport numpy as np\\nimport pandas as pd\\nimport plotly.express as px\\nimport sklearn'); }\n",
       "    "
      ],
      "text/plain": [
       "<IPython.core.display.Javascript object>"
      ]
     },
     "metadata": {},
     "output_type": "display_data"
    },
    {
     "data": {
      "application/javascript": [
       "\n",
       "        if (window._pyforest_update_imports_cell) { window._pyforest_update_imports_cell('import xgboost as xgb\\nimport numpy as np\\nimport pandas as pd\\nimport plotly.express as px\\nimport sklearn'); }\n",
       "    "
      ],
      "text/plain": [
       "<IPython.core.display.Javascript object>"
      ]
     },
     "metadata": {},
     "output_type": "display_data"
    },
    {
     "data": {
      "application/javascript": [
       "\n",
       "        if (window._pyforest_update_imports_cell) { window._pyforest_update_imports_cell('import xgboost as xgb\\nimport numpy as np\\nimport pandas as pd\\nimport plotly.express as px\\nimport sklearn'); }\n",
       "    "
      ],
      "text/plain": [
       "<IPython.core.display.Javascript object>"
      ]
     },
     "metadata": {},
     "output_type": "display_data"
    },
    {
     "data": {
      "application/javascript": [
       "\n",
       "        if (window._pyforest_update_imports_cell) { window._pyforest_update_imports_cell('import xgboost as xgb\\nimport numpy as np\\nimport pandas as pd\\nimport plotly.express as px\\nimport sklearn'); }\n",
       "    "
      ],
      "text/plain": [
       "<IPython.core.display.Javascript object>"
      ]
     },
     "metadata": {},
     "output_type": "display_data"
    },
    {
     "data": {
      "application/javascript": [
       "\n",
       "        if (window._pyforest_update_imports_cell) { window._pyforest_update_imports_cell('import xgboost as xgb\\nimport numpy as np\\nimport pandas as pd\\nimport plotly.express as px\\nimport sklearn'); }\n",
       "    "
      ],
      "text/plain": [
       "<IPython.core.display.Javascript object>"
      ]
     },
     "metadata": {},
     "output_type": "display_data"
    },
    {
     "data": {
      "application/javascript": [
       "\n",
       "        if (window._pyforest_update_imports_cell) { window._pyforest_update_imports_cell('import xgboost as xgb\\nimport numpy as np\\nimport pandas as pd\\nimport plotly.express as px\\nimport sklearn'); }\n",
       "    "
      ],
      "text/plain": [
       "<IPython.core.display.Javascript object>"
      ]
     },
     "metadata": {},
     "output_type": "display_data"
    },
    {
     "data": {
      "application/javascript": [
       "\n",
       "        if (window._pyforest_update_imports_cell) { window._pyforest_update_imports_cell('import xgboost as xgb\\nimport numpy as np\\nimport pandas as pd\\nimport plotly.express as px\\nimport sklearn'); }\n",
       "    "
      ],
      "text/plain": [
       "<IPython.core.display.Javascript object>"
      ]
     },
     "metadata": {},
     "output_type": "display_data"
    },
    {
     "data": {
      "application/javascript": [
       "\n",
       "        if (window._pyforest_update_imports_cell) { window._pyforest_update_imports_cell('import xgboost as xgb\\nimport numpy as np\\nimport pandas as pd\\nimport plotly.express as px\\nimport sklearn'); }\n",
       "    "
      ],
      "text/plain": [
       "<IPython.core.display.Javascript object>"
      ]
     },
     "metadata": {},
     "output_type": "display_data"
    },
    {
     "data": {
      "application/javascript": [
       "\n",
       "        if (window._pyforest_update_imports_cell) { window._pyforest_update_imports_cell('import xgboost as xgb\\nimport numpy as np\\nimport pandas as pd\\nimport plotly.express as px\\nimport sklearn'); }\n",
       "    "
      ],
      "text/plain": [
       "<IPython.core.display.Javascript object>"
      ]
     },
     "metadata": {},
     "output_type": "display_data"
    },
    {
     "data": {
      "application/javascript": [
       "\n",
       "        if (window._pyforest_update_imports_cell) { window._pyforest_update_imports_cell('import xgboost as xgb\\nimport numpy as np\\nimport pandas as pd\\nimport plotly.express as px\\nimport sklearn'); }\n",
       "    "
      ],
      "text/plain": [
       "<IPython.core.display.Javascript object>"
      ]
     },
     "metadata": {},
     "output_type": "display_data"
    },
    {
     "data": {
      "application/javascript": [
       "\n",
       "        if (window._pyforest_update_imports_cell) { window._pyforest_update_imports_cell('import xgboost as xgb\\nimport numpy as np\\nimport pandas as pd\\nimport plotly.express as px\\nimport sklearn'); }\n",
       "    "
      ],
      "text/plain": [
       "<IPython.core.display.Javascript object>"
      ]
     },
     "metadata": {},
     "output_type": "display_data"
    },
    {
     "data": {
      "application/javascript": [
       "\n",
       "        if (window._pyforest_update_imports_cell) { window._pyforest_update_imports_cell('import xgboost as xgb\\nimport numpy as np\\nimport pandas as pd\\nimport plotly.express as px\\nimport sklearn'); }\n",
       "    "
      ],
      "text/plain": [
       "<IPython.core.display.Javascript object>"
      ]
     },
     "metadata": {},
     "output_type": "display_data"
    },
    {
     "data": {
      "application/javascript": [
       "\n",
       "        if (window._pyforest_update_imports_cell) { window._pyforest_update_imports_cell('import xgboost as xgb\\nimport numpy as np\\nimport pandas as pd\\nimport plotly.express as px\\nimport sklearn'); }\n",
       "    "
      ],
      "text/plain": [
       "<IPython.core.display.Javascript object>"
      ]
     },
     "metadata": {},
     "output_type": "display_data"
    },
    {
     "data": {
      "application/javascript": [
       "\n",
       "        if (window._pyforest_update_imports_cell) { window._pyforest_update_imports_cell('import xgboost as xgb\\nimport numpy as np\\nimport pandas as pd\\nimport plotly.express as px\\nimport sklearn'); }\n",
       "    "
      ],
      "text/plain": [
       "<IPython.core.display.Javascript object>"
      ]
     },
     "metadata": {},
     "output_type": "display_data"
    },
    {
     "data": {
      "application/javascript": [
       "\n",
       "        if (window._pyforest_update_imports_cell) { window._pyforest_update_imports_cell('import xgboost as xgb\\nimport numpy as np\\nimport pandas as pd\\nimport plotly.express as px\\nimport sklearn'); }\n",
       "    "
      ],
      "text/plain": [
       "<IPython.core.display.Javascript object>"
      ]
     },
     "metadata": {},
     "output_type": "display_data"
    },
    {
     "data": {
      "application/javascript": [
       "\n",
       "        if (window._pyforest_update_imports_cell) { window._pyforest_update_imports_cell('import xgboost as xgb\\nimport numpy as np\\nimport pandas as pd\\nimport plotly.express as px\\nimport sklearn'); }\n",
       "    "
      ],
      "text/plain": [
       "<IPython.core.display.Javascript object>"
      ]
     },
     "metadata": {},
     "output_type": "display_data"
    },
    {
     "data": {
      "application/javascript": [
       "\n",
       "        if (window._pyforest_update_imports_cell) { window._pyforest_update_imports_cell('import xgboost as xgb\\nimport numpy as np\\nimport pandas as pd\\nimport plotly.express as px\\nimport sklearn'); }\n",
       "    "
      ],
      "text/plain": [
       "<IPython.core.display.Javascript object>"
      ]
     },
     "metadata": {},
     "output_type": "display_data"
    },
    {
     "data": {
      "application/javascript": [
       "\n",
       "        if (window._pyforest_update_imports_cell) { window._pyforest_update_imports_cell('import xgboost as xgb\\nimport numpy as np\\nimport pandas as pd\\nimport plotly.express as px\\nimport sklearn'); }\n",
       "    "
      ],
      "text/plain": [
       "<IPython.core.display.Javascript object>"
      ]
     },
     "metadata": {},
     "output_type": "display_data"
    },
    {
     "data": {
      "application/javascript": [
       "\n",
       "        if (window._pyforest_update_imports_cell) { window._pyforest_update_imports_cell('import xgboost as xgb\\nimport numpy as np\\nimport pandas as pd\\nimport plotly.express as px\\nimport sklearn'); }\n",
       "    "
      ],
      "text/plain": [
       "<IPython.core.display.Javascript object>"
      ]
     },
     "metadata": {},
     "output_type": "display_data"
    },
    {
     "data": {
      "application/javascript": [
       "\n",
       "        if (window._pyforest_update_imports_cell) { window._pyforest_update_imports_cell('import xgboost as xgb\\nimport numpy as np\\nimport pandas as pd\\nimport plotly.express as px\\nimport sklearn'); }\n",
       "    "
      ],
      "text/plain": [
       "<IPython.core.display.Javascript object>"
      ]
     },
     "metadata": {},
     "output_type": "display_data"
    },
    {
     "data": {
      "application/javascript": [
       "\n",
       "        if (window._pyforest_update_imports_cell) { window._pyforest_update_imports_cell('import xgboost as xgb\\nimport numpy as np\\nimport pandas as pd\\nimport plotly.express as px\\nimport sklearn'); }\n",
       "    "
      ],
      "text/plain": [
       "<IPython.core.display.Javascript object>"
      ]
     },
     "metadata": {},
     "output_type": "display_data"
    },
    {
     "data": {
      "application/javascript": [
       "\n",
       "        if (window._pyforest_update_imports_cell) { window._pyforest_update_imports_cell('import xgboost as xgb\\nimport numpy as np\\nimport pandas as pd\\nimport plotly.express as px\\nimport sklearn'); }\n",
       "    "
      ],
      "text/plain": [
       "<IPython.core.display.Javascript object>"
      ]
     },
     "metadata": {},
     "output_type": "display_data"
    },
    {
     "data": {
      "application/javascript": [
       "\n",
       "        if (window._pyforest_update_imports_cell) { window._pyforest_update_imports_cell('import xgboost as xgb\\nimport numpy as np\\nimport pandas as pd\\nimport plotly.express as px\\nimport sklearn'); }\n",
       "    "
      ],
      "text/plain": [
       "<IPython.core.display.Javascript object>"
      ]
     },
     "metadata": {},
     "output_type": "display_data"
    },
    {
     "data": {
      "application/javascript": [
       "\n",
       "        if (window._pyforest_update_imports_cell) { window._pyforest_update_imports_cell('import xgboost as xgb\\nimport numpy as np\\nimport pandas as pd\\nimport plotly.express as px\\nimport sklearn'); }\n",
       "    "
      ],
      "text/plain": [
       "<IPython.core.display.Javascript object>"
      ]
     },
     "metadata": {},
     "output_type": "display_data"
    },
    {
     "data": {
      "application/javascript": [
       "\n",
       "        if (window._pyforest_update_imports_cell) { window._pyforest_update_imports_cell('import xgboost as xgb\\nimport numpy as np\\nimport pandas as pd\\nimport plotly.express as px\\nimport sklearn'); }\n",
       "    "
      ],
      "text/plain": [
       "<IPython.core.display.Javascript object>"
      ]
     },
     "metadata": {},
     "output_type": "display_data"
    },
    {
     "data": {
      "application/javascript": [
       "\n",
       "        if (window._pyforest_update_imports_cell) { window._pyforest_update_imports_cell('import xgboost as xgb\\nimport numpy as np\\nimport pandas as pd\\nimport plotly.express as px\\nimport sklearn'); }\n",
       "    "
      ],
      "text/plain": [
       "<IPython.core.display.Javascript object>"
      ]
     },
     "metadata": {},
     "output_type": "display_data"
    },
    {
     "data": {
      "application/javascript": [
       "\n",
       "        if (window._pyforest_update_imports_cell) { window._pyforest_update_imports_cell('import xgboost as xgb\\nimport numpy as np\\nimport pandas as pd\\nimport plotly.express as px\\nimport sklearn'); }\n",
       "    "
      ],
      "text/plain": [
       "<IPython.core.display.Javascript object>"
      ]
     },
     "metadata": {},
     "output_type": "display_data"
    },
    {
     "data": {
      "application/javascript": [
       "\n",
       "        if (window._pyforest_update_imports_cell) { window._pyforest_update_imports_cell('import xgboost as xgb\\nimport numpy as np\\nimport pandas as pd\\nimport plotly.express as px\\nimport sklearn'); }\n",
       "    "
      ],
      "text/plain": [
       "<IPython.core.display.Javascript object>"
      ]
     },
     "metadata": {},
     "output_type": "display_data"
    },
    {
     "data": {
      "application/javascript": [
       "\n",
       "        if (window._pyforest_update_imports_cell) { window._pyforest_update_imports_cell('import xgboost as xgb\\nimport numpy as np\\nimport pandas as pd\\nimport plotly.express as px\\nimport sklearn'); }\n",
       "    "
      ],
      "text/plain": [
       "<IPython.core.display.Javascript object>"
      ]
     },
     "metadata": {},
     "output_type": "display_data"
    },
    {
     "data": {
      "application/javascript": [
       "\n",
       "        if (window._pyforest_update_imports_cell) { window._pyforest_update_imports_cell('import xgboost as xgb\\nimport numpy as np\\nimport pandas as pd\\nimport plotly.express as px\\nimport sklearn'); }\n",
       "    "
      ],
      "text/plain": [
       "<IPython.core.display.Javascript object>"
      ]
     },
     "metadata": {},
     "output_type": "display_data"
    },
    {
     "data": {
      "application/javascript": [
       "\n",
       "        if (window._pyforest_update_imports_cell) { window._pyforest_update_imports_cell('import xgboost as xgb\\nimport numpy as np\\nimport pandas as pd\\nimport plotly.express as px\\nimport sklearn'); }\n",
       "    "
      ],
      "text/plain": [
       "<IPython.core.display.Javascript object>"
      ]
     },
     "metadata": {},
     "output_type": "display_data"
    },
    {
     "data": {
      "application/javascript": [
       "\n",
       "        if (window._pyforest_update_imports_cell) { window._pyforest_update_imports_cell('import xgboost as xgb\\nimport numpy as np\\nimport pandas as pd\\nimport plotly.express as px\\nimport sklearn'); }\n",
       "    "
      ],
      "text/plain": [
       "<IPython.core.display.Javascript object>"
      ]
     },
     "metadata": {},
     "output_type": "display_data"
    },
    {
     "data": {
      "application/javascript": [
       "\n",
       "        if (window._pyforest_update_imports_cell) { window._pyforest_update_imports_cell('import xgboost as xgb\\nimport numpy as np\\nimport pandas as pd\\nimport plotly.express as px\\nimport sklearn'); }\n",
       "    "
      ],
      "text/plain": [
       "<IPython.core.display.Javascript object>"
      ]
     },
     "metadata": {},
     "output_type": "display_data"
    },
    {
     "data": {
      "application/javascript": [
       "\n",
       "        if (window._pyforest_update_imports_cell) { window._pyforest_update_imports_cell('import xgboost as xgb\\nimport numpy as np\\nimport pandas as pd\\nimport plotly.express as px\\nimport sklearn'); }\n",
       "    "
      ],
      "text/plain": [
       "<IPython.core.display.Javascript object>"
      ]
     },
     "metadata": {},
     "output_type": "display_data"
    },
    {
     "data": {
      "application/javascript": [
       "\n",
       "        if (window._pyforest_update_imports_cell) { window._pyforest_update_imports_cell('import xgboost as xgb\\nimport numpy as np\\nimport pandas as pd\\nimport plotly.express as px\\nimport sklearn'); }\n",
       "    "
      ],
      "text/plain": [
       "<IPython.core.display.Javascript object>"
      ]
     },
     "metadata": {},
     "output_type": "display_data"
    },
    {
     "data": {
      "application/javascript": [
       "\n",
       "        if (window._pyforest_update_imports_cell) { window._pyforest_update_imports_cell('import xgboost as xgb\\nimport numpy as np\\nimport pandas as pd\\nimport plotly.express as px\\nimport sklearn'); }\n",
       "    "
      ],
      "text/plain": [
       "<IPython.core.display.Javascript object>"
      ]
     },
     "metadata": {},
     "output_type": "display_data"
    },
    {
     "data": {
      "application/javascript": [
       "\n",
       "        if (window._pyforest_update_imports_cell) { window._pyforest_update_imports_cell('import xgboost as xgb\\nimport numpy as np\\nimport pandas as pd\\nimport plotly.express as px\\nimport sklearn'); }\n",
       "    "
      ],
      "text/plain": [
       "<IPython.core.display.Javascript object>"
      ]
     },
     "metadata": {},
     "output_type": "display_data"
    },
    {
     "data": {
      "application/javascript": [
       "\n",
       "        if (window._pyforest_update_imports_cell) { window._pyforest_update_imports_cell('import xgboost as xgb\\nimport numpy as np\\nimport pandas as pd\\nimport plotly.express as px\\nimport sklearn'); }\n",
       "    "
      ],
      "text/plain": [
       "<IPython.core.display.Javascript object>"
      ]
     },
     "metadata": {},
     "output_type": "display_data"
    },
    {
     "data": {
      "application/javascript": [
       "\n",
       "        if (window._pyforest_update_imports_cell) { window._pyforest_update_imports_cell('import xgboost as xgb\\nimport numpy as np\\nimport pandas as pd\\nimport plotly.express as px\\nimport sklearn'); }\n",
       "    "
      ],
      "text/plain": [
       "<IPython.core.display.Javascript object>"
      ]
     },
     "metadata": {},
     "output_type": "display_data"
    },
    {
     "data": {
      "application/javascript": [
       "\n",
       "        if (window._pyforest_update_imports_cell) { window._pyforest_update_imports_cell('import xgboost as xgb\\nimport numpy as np\\nimport pandas as pd\\nimport plotly.express as px\\nimport sklearn'); }\n",
       "    "
      ],
      "text/plain": [
       "<IPython.core.display.Javascript object>"
      ]
     },
     "metadata": {},
     "output_type": "display_data"
    },
    {
     "data": {
      "application/javascript": [
       "\n",
       "        if (window._pyforest_update_imports_cell) { window._pyforest_update_imports_cell('import xgboost as xgb\\nimport numpy as np\\nimport pandas as pd\\nimport plotly.express as px\\nimport sklearn'); }\n",
       "    "
      ],
      "text/plain": [
       "<IPython.core.display.Javascript object>"
      ]
     },
     "metadata": {},
     "output_type": "display_data"
    },
    {
     "data": {
      "application/javascript": [
       "\n",
       "        if (window._pyforest_update_imports_cell) { window._pyforest_update_imports_cell('import xgboost as xgb\\nimport numpy as np\\nimport pandas as pd\\nimport plotly.express as px\\nimport sklearn'); }\n",
       "    "
      ],
      "text/plain": [
       "<IPython.core.display.Javascript object>"
      ]
     },
     "metadata": {},
     "output_type": "display_data"
    },
    {
     "data": {
      "application/javascript": [
       "\n",
       "        if (window._pyforest_update_imports_cell) { window._pyforest_update_imports_cell('import xgboost as xgb\\nimport numpy as np\\nimport pandas as pd\\nimport plotly.express as px\\nimport sklearn'); }\n",
       "    "
      ],
      "text/plain": [
       "<IPython.core.display.Javascript object>"
      ]
     },
     "metadata": {},
     "output_type": "display_data"
    },
    {
     "data": {
      "application/javascript": [
       "\n",
       "        if (window._pyforest_update_imports_cell) { window._pyforest_update_imports_cell('import xgboost as xgb\\nimport numpy as np\\nimport pandas as pd\\nimport plotly.express as px\\nimport sklearn'); }\n",
       "    "
      ],
      "text/plain": [
       "<IPython.core.display.Javascript object>"
      ]
     },
     "metadata": {},
     "output_type": "display_data"
    },
    {
     "data": {
      "application/javascript": [
       "\n",
       "        if (window._pyforest_update_imports_cell) { window._pyforest_update_imports_cell('import xgboost as xgb\\nimport numpy as np\\nimport pandas as pd\\nimport plotly.express as px\\nimport sklearn'); }\n",
       "    "
      ],
      "text/plain": [
       "<IPython.core.display.Javascript object>"
      ]
     },
     "metadata": {},
     "output_type": "display_data"
    },
    {
     "data": {
      "application/javascript": [
       "\n",
       "        if (window._pyforest_update_imports_cell) { window._pyforest_update_imports_cell('import xgboost as xgb\\nimport numpy as np\\nimport pandas as pd\\nimport plotly.express as px\\nimport sklearn'); }\n",
       "    "
      ],
      "text/plain": [
       "<IPython.core.display.Javascript object>"
      ]
     },
     "metadata": {},
     "output_type": "display_data"
    },
    {
     "data": {
      "application/javascript": [
       "\n",
       "        if (window._pyforest_update_imports_cell) { window._pyforest_update_imports_cell('import xgboost as xgb\\nimport numpy as np\\nimport pandas as pd\\nimport plotly.express as px\\nimport sklearn'); }\n",
       "    "
      ],
      "text/plain": [
       "<IPython.core.display.Javascript object>"
      ]
     },
     "metadata": {},
     "output_type": "display_data"
    },
    {
     "data": {
      "application/javascript": [
       "\n",
       "        if (window._pyforest_update_imports_cell) { window._pyforest_update_imports_cell('import xgboost as xgb\\nimport numpy as np\\nimport pandas as pd\\nimport plotly.express as px\\nimport sklearn'); }\n",
       "    "
      ],
      "text/plain": [
       "<IPython.core.display.Javascript object>"
      ]
     },
     "metadata": {},
     "output_type": "display_data"
    },
    {
     "data": {
      "application/javascript": [
       "\n",
       "        if (window._pyforest_update_imports_cell) { window._pyforest_update_imports_cell('import xgboost as xgb\\nimport numpy as np\\nimport pandas as pd\\nimport plotly.express as px\\nimport sklearn'); }\n",
       "    "
      ],
      "text/plain": [
       "<IPython.core.display.Javascript object>"
      ]
     },
     "metadata": {},
     "output_type": "display_data"
    },
    {
     "data": {
      "application/javascript": [
       "\n",
       "        if (window._pyforest_update_imports_cell) { window._pyforest_update_imports_cell('import xgboost as xgb\\nimport numpy as np\\nimport pandas as pd\\nimport plotly.express as px\\nimport sklearn'); }\n",
       "    "
      ],
      "text/plain": [
       "<IPython.core.display.Javascript object>"
      ]
     },
     "metadata": {},
     "output_type": "display_data"
    },
    {
     "data": {
      "application/javascript": [
       "\n",
       "        if (window._pyforest_update_imports_cell) { window._pyforest_update_imports_cell('import xgboost as xgb\\nimport numpy as np\\nimport pandas as pd\\nimport plotly.express as px\\nimport sklearn'); }\n",
       "    "
      ],
      "text/plain": [
       "<IPython.core.display.Javascript object>"
      ]
     },
     "metadata": {},
     "output_type": "display_data"
    },
    {
     "data": {
      "application/javascript": [
       "\n",
       "        if (window._pyforest_update_imports_cell) { window._pyforest_update_imports_cell('import xgboost as xgb\\nimport numpy as np\\nimport pandas as pd\\nimport plotly.express as px\\nimport sklearn'); }\n",
       "    "
      ],
      "text/plain": [
       "<IPython.core.display.Javascript object>"
      ]
     },
     "metadata": {},
     "output_type": "display_data"
    },
    {
     "data": {
      "application/javascript": [
       "\n",
       "        if (window._pyforest_update_imports_cell) { window._pyforest_update_imports_cell('import xgboost as xgb\\nimport numpy as np\\nimport pandas as pd\\nimport plotly.express as px\\nimport sklearn'); }\n",
       "    "
      ],
      "text/plain": [
       "<IPython.core.display.Javascript object>"
      ]
     },
     "metadata": {},
     "output_type": "display_data"
    },
    {
     "data": {
      "application/javascript": [
       "\n",
       "        if (window._pyforest_update_imports_cell) { window._pyforest_update_imports_cell('import xgboost as xgb\\nimport numpy as np\\nimport pandas as pd\\nimport plotly.express as px\\nimport sklearn'); }\n",
       "    "
      ],
      "text/plain": [
       "<IPython.core.display.Javascript object>"
      ]
     },
     "metadata": {},
     "output_type": "display_data"
    },
    {
     "data": {
      "application/javascript": [
       "\n",
       "        if (window._pyforest_update_imports_cell) { window._pyforest_update_imports_cell('import xgboost as xgb\\nimport numpy as np\\nimport pandas as pd\\nimport plotly.express as px\\nimport sklearn'); }\n",
       "    "
      ],
      "text/plain": [
       "<IPython.core.display.Javascript object>"
      ]
     },
     "metadata": {},
     "output_type": "display_data"
    },
    {
     "data": {
      "application/javascript": [
       "\n",
       "        if (window._pyforest_update_imports_cell) { window._pyforest_update_imports_cell('import xgboost as xgb\\nimport numpy as np\\nimport pandas as pd\\nimport plotly.express as px\\nimport sklearn'); }\n",
       "    "
      ],
      "text/plain": [
       "<IPython.core.display.Javascript object>"
      ]
     },
     "metadata": {},
     "output_type": "display_data"
    },
    {
     "data": {
      "application/javascript": [
       "\n",
       "        if (window._pyforest_update_imports_cell) { window._pyforest_update_imports_cell('import xgboost as xgb\\nimport numpy as np\\nimport pandas as pd\\nimport plotly.express as px\\nimport sklearn'); }\n",
       "    "
      ],
      "text/plain": [
       "<IPython.core.display.Javascript object>"
      ]
     },
     "metadata": {},
     "output_type": "display_data"
    },
    {
     "data": {
      "application/javascript": [
       "\n",
       "        if (window._pyforest_update_imports_cell) { window._pyforest_update_imports_cell('import xgboost as xgb\\nimport numpy as np\\nimport pandas as pd\\nimport plotly.express as px\\nimport sklearn'); }\n",
       "    "
      ],
      "text/plain": [
       "<IPython.core.display.Javascript object>"
      ]
     },
     "metadata": {},
     "output_type": "display_data"
    },
    {
     "data": {
      "application/javascript": [
       "\n",
       "        if (window._pyforest_update_imports_cell) { window._pyforest_update_imports_cell('import xgboost as xgb\\nimport numpy as np\\nimport pandas as pd\\nimport plotly.express as px\\nimport sklearn'); }\n",
       "    "
      ],
      "text/plain": [
       "<IPython.core.display.Javascript object>"
      ]
     },
     "metadata": {},
     "output_type": "display_data"
    },
    {
     "data": {
      "application/javascript": [
       "\n",
       "        if (window._pyforest_update_imports_cell) { window._pyforest_update_imports_cell('import xgboost as xgb\\nimport numpy as np\\nimport pandas as pd\\nimport plotly.express as px\\nimport sklearn'); }\n",
       "    "
      ],
      "text/plain": [
       "<IPython.core.display.Javascript object>"
      ]
     },
     "metadata": {},
     "output_type": "display_data"
    },
    {
     "data": {
      "application/javascript": [
       "\n",
       "        if (window._pyforest_update_imports_cell) { window._pyforest_update_imports_cell('import xgboost as xgb\\nimport numpy as np\\nimport pandas as pd\\nimport plotly.express as px\\nimport sklearn'); }\n",
       "    "
      ],
      "text/plain": [
       "<IPython.core.display.Javascript object>"
      ]
     },
     "metadata": {},
     "output_type": "display_data"
    },
    {
     "data": {
      "application/javascript": [
       "\n",
       "        if (window._pyforest_update_imports_cell) { window._pyforest_update_imports_cell('import xgboost as xgb\\nimport numpy as np\\nimport pandas as pd\\nimport plotly.express as px\\nimport sklearn'); }\n",
       "    "
      ],
      "text/plain": [
       "<IPython.core.display.Javascript object>"
      ]
     },
     "metadata": {},
     "output_type": "display_data"
    },
    {
     "data": {
      "application/javascript": [
       "\n",
       "        if (window._pyforest_update_imports_cell) { window._pyforest_update_imports_cell('import xgboost as xgb\\nimport numpy as np\\nimport pandas as pd\\nimport plotly.express as px\\nimport sklearn'); }\n",
       "    "
      ],
      "text/plain": [
       "<IPython.core.display.Javascript object>"
      ]
     },
     "metadata": {},
     "output_type": "display_data"
    },
    {
     "data": {
      "application/javascript": [
       "\n",
       "        if (window._pyforest_update_imports_cell) { window._pyforest_update_imports_cell('import xgboost as xgb\\nimport numpy as np\\nimport pandas as pd\\nimport plotly.express as px\\nimport sklearn'); }\n",
       "    "
      ],
      "text/plain": [
       "<IPython.core.display.Javascript object>"
      ]
     },
     "metadata": {},
     "output_type": "display_data"
    },
    {
     "data": {
      "application/javascript": [
       "\n",
       "        if (window._pyforest_update_imports_cell) { window._pyforest_update_imports_cell('import xgboost as xgb\\nimport numpy as np\\nimport pandas as pd\\nimport plotly.express as px\\nimport sklearn'); }\n",
       "    "
      ],
      "text/plain": [
       "<IPython.core.display.Javascript object>"
      ]
     },
     "metadata": {},
     "output_type": "display_data"
    },
    {
     "data": {
      "application/javascript": [
       "\n",
       "        if (window._pyforest_update_imports_cell) { window._pyforest_update_imports_cell('import xgboost as xgb\\nimport numpy as np\\nimport pandas as pd\\nimport plotly.express as px\\nimport sklearn'); }\n",
       "    "
      ],
      "text/plain": [
       "<IPython.core.display.Javascript object>"
      ]
     },
     "metadata": {},
     "output_type": "display_data"
    },
    {
     "data": {
      "application/javascript": [
       "\n",
       "        if (window._pyforest_update_imports_cell) { window._pyforest_update_imports_cell('import xgboost as xgb\\nimport numpy as np\\nimport pandas as pd\\nimport plotly.express as px\\nimport sklearn'); }\n",
       "    "
      ],
      "text/plain": [
       "<IPython.core.display.Javascript object>"
      ]
     },
     "metadata": {},
     "output_type": "display_data"
    },
    {
     "data": {
      "application/javascript": [
       "\n",
       "        if (window._pyforest_update_imports_cell) { window._pyforest_update_imports_cell('import xgboost as xgb\\nimport numpy as np\\nimport pandas as pd\\nimport plotly.express as px\\nimport sklearn'); }\n",
       "    "
      ],
      "text/plain": [
       "<IPython.core.display.Javascript object>"
      ]
     },
     "metadata": {},
     "output_type": "display_data"
    },
    {
     "data": {
      "application/javascript": [
       "\n",
       "        if (window._pyforest_update_imports_cell) { window._pyforest_update_imports_cell('import xgboost as xgb\\nimport numpy as np\\nimport pandas as pd\\nimport plotly.express as px\\nimport sklearn'); }\n",
       "    "
      ],
      "text/plain": [
       "<IPython.core.display.Javascript object>"
      ]
     },
     "metadata": {},
     "output_type": "display_data"
    },
    {
     "data": {
      "application/javascript": [
       "\n",
       "        if (window._pyforest_update_imports_cell) { window._pyforest_update_imports_cell('import xgboost as xgb\\nimport numpy as np\\nimport pandas as pd\\nimport plotly.express as px\\nimport sklearn'); }\n",
       "    "
      ],
      "text/plain": [
       "<IPython.core.display.Javascript object>"
      ]
     },
     "metadata": {},
     "output_type": "display_data"
    },
    {
     "data": {
      "application/javascript": [
       "\n",
       "        if (window._pyforest_update_imports_cell) { window._pyforest_update_imports_cell('import xgboost as xgb\\nimport numpy as np\\nimport pandas as pd\\nimport plotly.express as px\\nimport sklearn'); }\n",
       "    "
      ],
      "text/plain": [
       "<IPython.core.display.Javascript object>"
      ]
     },
     "metadata": {},
     "output_type": "display_data"
    },
    {
     "data": {
      "application/javascript": [
       "\n",
       "        if (window._pyforest_update_imports_cell) { window._pyforest_update_imports_cell('import xgboost as xgb\\nimport numpy as np\\nimport pandas as pd\\nimport plotly.express as px\\nimport sklearn'); }\n",
       "    "
      ],
      "text/plain": [
       "<IPython.core.display.Javascript object>"
      ]
     },
     "metadata": {},
     "output_type": "display_data"
    },
    {
     "data": {
      "application/javascript": [
       "\n",
       "        if (window._pyforest_update_imports_cell) { window._pyforest_update_imports_cell('import xgboost as xgb\\nimport numpy as np\\nimport pandas as pd\\nimport plotly.express as px\\nimport sklearn'); }\n",
       "    "
      ],
      "text/plain": [
       "<IPython.core.display.Javascript object>"
      ]
     },
     "metadata": {},
     "output_type": "display_data"
    },
    {
     "data": {
      "application/javascript": [
       "\n",
       "        if (window._pyforest_update_imports_cell) { window._pyforest_update_imports_cell('import xgboost as xgb\\nimport numpy as np\\nimport pandas as pd\\nimport plotly.express as px\\nimport sklearn'); }\n",
       "    "
      ],
      "text/plain": [
       "<IPython.core.display.Javascript object>"
      ]
     },
     "metadata": {},
     "output_type": "display_data"
    },
    {
     "data": {
      "application/javascript": [
       "\n",
       "        if (window._pyforest_update_imports_cell) { window._pyforest_update_imports_cell('import xgboost as xgb\\nimport numpy as np\\nimport pandas as pd\\nimport plotly.express as px\\nimport sklearn'); }\n",
       "    "
      ],
      "text/plain": [
       "<IPython.core.display.Javascript object>"
      ]
     },
     "metadata": {},
     "output_type": "display_data"
    },
    {
     "data": {
      "application/javascript": [
       "\n",
       "        if (window._pyforest_update_imports_cell) { window._pyforest_update_imports_cell('import xgboost as xgb\\nimport numpy as np\\nimport pandas as pd\\nimport plotly.express as px\\nimport sklearn'); }\n",
       "    "
      ],
      "text/plain": [
       "<IPython.core.display.Javascript object>"
      ]
     },
     "metadata": {},
     "output_type": "display_data"
    },
    {
     "data": {
      "application/javascript": [
       "\n",
       "        if (window._pyforest_update_imports_cell) { window._pyforest_update_imports_cell('import xgboost as xgb\\nimport numpy as np\\nimport pandas as pd\\nimport plotly.express as px\\nimport sklearn'); }\n",
       "    "
      ],
      "text/plain": [
       "<IPython.core.display.Javascript object>"
      ]
     },
     "metadata": {},
     "output_type": "display_data"
    },
    {
     "data": {
      "application/javascript": [
       "\n",
       "        if (window._pyforest_update_imports_cell) { window._pyforest_update_imports_cell('import xgboost as xgb\\nimport numpy as np\\nimport pandas as pd\\nimport plotly.express as px\\nimport sklearn'); }\n",
       "    "
      ],
      "text/plain": [
       "<IPython.core.display.Javascript object>"
      ]
     },
     "metadata": {},
     "output_type": "display_data"
    },
    {
     "data": {
      "application/javascript": [
       "\n",
       "        if (window._pyforest_update_imports_cell) { window._pyforest_update_imports_cell('import xgboost as xgb\\nimport numpy as np\\nimport pandas as pd\\nimport plotly.express as px\\nimport sklearn'); }\n",
       "    "
      ],
      "text/plain": [
       "<IPython.core.display.Javascript object>"
      ]
     },
     "metadata": {},
     "output_type": "display_data"
    },
    {
     "data": {
      "application/javascript": [
       "\n",
       "        if (window._pyforest_update_imports_cell) { window._pyforest_update_imports_cell('import xgboost as xgb\\nimport numpy as np\\nimport pandas as pd\\nimport plotly.express as px\\nimport sklearn'); }\n",
       "    "
      ],
      "text/plain": [
       "<IPython.core.display.Javascript object>"
      ]
     },
     "metadata": {},
     "output_type": "display_data"
    },
    {
     "data": {
      "application/javascript": [
       "\n",
       "        if (window._pyforest_update_imports_cell) { window._pyforest_update_imports_cell('import xgboost as xgb\\nimport numpy as np\\nimport pandas as pd\\nimport plotly.express as px\\nimport sklearn'); }\n",
       "    "
      ],
      "text/plain": [
       "<IPython.core.display.Javascript object>"
      ]
     },
     "metadata": {},
     "output_type": "display_data"
    },
    {
     "data": {
      "application/javascript": [
       "\n",
       "        if (window._pyforest_update_imports_cell) { window._pyforest_update_imports_cell('import xgboost as xgb\\nimport numpy as np\\nimport pandas as pd\\nimport plotly.express as px\\nimport sklearn'); }\n",
       "    "
      ],
      "text/plain": [
       "<IPython.core.display.Javascript object>"
      ]
     },
     "metadata": {},
     "output_type": "display_data"
    },
    {
     "data": {
      "application/javascript": [
       "\n",
       "        if (window._pyforest_update_imports_cell) { window._pyforest_update_imports_cell('import xgboost as xgb\\nimport numpy as np\\nimport pandas as pd\\nimport plotly.express as px\\nimport sklearn'); }\n",
       "    "
      ],
      "text/plain": [
       "<IPython.core.display.Javascript object>"
      ]
     },
     "metadata": {},
     "output_type": "display_data"
    },
    {
     "data": {
      "application/javascript": [
       "\n",
       "        if (window._pyforest_update_imports_cell) { window._pyforest_update_imports_cell('import xgboost as xgb\\nimport numpy as np\\nimport pandas as pd\\nimport plotly.express as px\\nimport sklearn'); }\n",
       "    "
      ],
      "text/plain": [
       "<IPython.core.display.Javascript object>"
      ]
     },
     "metadata": {},
     "output_type": "display_data"
    },
    {
     "data": {
      "application/javascript": [
       "\n",
       "        if (window._pyforest_update_imports_cell) { window._pyforest_update_imports_cell('import xgboost as xgb\\nimport numpy as np\\nimport pandas as pd\\nimport plotly.express as px\\nimport sklearn'); }\n",
       "    "
      ],
      "text/plain": [
       "<IPython.core.display.Javascript object>"
      ]
     },
     "metadata": {},
     "output_type": "display_data"
    },
    {
     "data": {
      "application/javascript": [
       "\n",
       "        if (window._pyforest_update_imports_cell) { window._pyforest_update_imports_cell('import xgboost as xgb\\nimport numpy as np\\nimport pandas as pd\\nimport plotly.express as px\\nimport sklearn'); }\n",
       "    "
      ],
      "text/plain": [
       "<IPython.core.display.Javascript object>"
      ]
     },
     "metadata": {},
     "output_type": "display_data"
    },
    {
     "data": {
      "application/javascript": [
       "\n",
       "        if (window._pyforest_update_imports_cell) { window._pyforest_update_imports_cell('import xgboost as xgb\\nimport numpy as np\\nimport pandas as pd\\nimport plotly.express as px\\nimport sklearn'); }\n",
       "    "
      ],
      "text/plain": [
       "<IPython.core.display.Javascript object>"
      ]
     },
     "metadata": {},
     "output_type": "display_data"
    },
    {
     "data": {
      "application/javascript": [
       "\n",
       "        if (window._pyforest_update_imports_cell) { window._pyforest_update_imports_cell('import xgboost as xgb\\nimport numpy as np\\nimport pandas as pd\\nimport plotly.express as px\\nimport sklearn'); }\n",
       "    "
      ],
      "text/plain": [
       "<IPython.core.display.Javascript object>"
      ]
     },
     "metadata": {},
     "output_type": "display_data"
    },
    {
     "data": {
      "application/javascript": [
       "\n",
       "        if (window._pyforest_update_imports_cell) { window._pyforest_update_imports_cell('import xgboost as xgb\\nimport numpy as np\\nimport pandas as pd\\nimport plotly.express as px\\nimport sklearn'); }\n",
       "    "
      ],
      "text/plain": [
       "<IPython.core.display.Javascript object>"
      ]
     },
     "metadata": {},
     "output_type": "display_data"
    },
    {
     "data": {
      "application/javascript": [
       "\n",
       "        if (window._pyforest_update_imports_cell) { window._pyforest_update_imports_cell('import xgboost as xgb\\nimport numpy as np\\nimport pandas as pd\\nimport plotly.express as px\\nimport sklearn'); }\n",
       "    "
      ],
      "text/plain": [
       "<IPython.core.display.Javascript object>"
      ]
     },
     "metadata": {},
     "output_type": "display_data"
    },
    {
     "data": {
      "application/javascript": [
       "\n",
       "        if (window._pyforest_update_imports_cell) { window._pyforest_update_imports_cell('import xgboost as xgb\\nimport numpy as np\\nimport pandas as pd\\nimport plotly.express as px\\nimport sklearn'); }\n",
       "    "
      ],
      "text/plain": [
       "<IPython.core.display.Javascript object>"
      ]
     },
     "metadata": {},
     "output_type": "display_data"
    },
    {
     "data": {
      "application/javascript": [
       "\n",
       "        if (window._pyforest_update_imports_cell) { window._pyforest_update_imports_cell('import xgboost as xgb\\nimport numpy as np\\nimport pandas as pd\\nimport plotly.express as px\\nimport sklearn'); }\n",
       "    "
      ],
      "text/plain": [
       "<IPython.core.display.Javascript object>"
      ]
     },
     "metadata": {},
     "output_type": "display_data"
    },
    {
     "data": {
      "application/javascript": [
       "\n",
       "        if (window._pyforest_update_imports_cell) { window._pyforest_update_imports_cell('import xgboost as xgb\\nimport numpy as np\\nimport pandas as pd\\nimport plotly.express as px\\nimport sklearn'); }\n",
       "    "
      ],
      "text/plain": [
       "<IPython.core.display.Javascript object>"
      ]
     },
     "metadata": {},
     "output_type": "display_data"
    },
    {
     "data": {
      "application/javascript": [
       "\n",
       "        if (window._pyforest_update_imports_cell) { window._pyforest_update_imports_cell('import xgboost as xgb\\nimport numpy as np\\nimport pandas as pd\\nimport plotly.express as px\\nimport sklearn'); }\n",
       "    "
      ],
      "text/plain": [
       "<IPython.core.display.Javascript object>"
      ]
     },
     "metadata": {},
     "output_type": "display_data"
    },
    {
     "data": {
      "application/javascript": [
       "\n",
       "        if (window._pyforest_update_imports_cell) { window._pyforest_update_imports_cell('import xgboost as xgb\\nimport numpy as np\\nimport pandas as pd\\nimport plotly.express as px\\nimport sklearn'); }\n",
       "    "
      ],
      "text/plain": [
       "<IPython.core.display.Javascript object>"
      ]
     },
     "metadata": {},
     "output_type": "display_data"
    },
    {
     "data": {
      "application/javascript": [
       "\n",
       "        if (window._pyforest_update_imports_cell) { window._pyforest_update_imports_cell('import xgboost as xgb\\nimport numpy as np\\nimport pandas as pd\\nimport plotly.express as px\\nimport sklearn'); }\n",
       "    "
      ],
      "text/plain": [
       "<IPython.core.display.Javascript object>"
      ]
     },
     "metadata": {},
     "output_type": "display_data"
    },
    {
     "data": {
      "application/javascript": [
       "\n",
       "        if (window._pyforest_update_imports_cell) { window._pyforest_update_imports_cell('import xgboost as xgb\\nimport numpy as np\\nimport pandas as pd\\nimport plotly.express as px\\nimport sklearn'); }\n",
       "    "
      ],
      "text/plain": [
       "<IPython.core.display.Javascript object>"
      ]
     },
     "metadata": {},
     "output_type": "display_data"
    },
    {
     "data": {
      "application/javascript": [
       "\n",
       "        if (window._pyforest_update_imports_cell) { window._pyforest_update_imports_cell('import xgboost as xgb\\nimport numpy as np\\nimport pandas as pd\\nimport plotly.express as px\\nimport sklearn'); }\n",
       "    "
      ],
      "text/plain": [
       "<IPython.core.display.Javascript object>"
      ]
     },
     "metadata": {},
     "output_type": "display_data"
    },
    {
     "data": {
      "application/javascript": [
       "\n",
       "        if (window._pyforest_update_imports_cell) { window._pyforest_update_imports_cell('import xgboost as xgb\\nimport numpy as np\\nimport pandas as pd\\nimport plotly.express as px\\nimport sklearn'); }\n",
       "    "
      ],
      "text/plain": [
       "<IPython.core.display.Javascript object>"
      ]
     },
     "metadata": {},
     "output_type": "display_data"
    },
    {
     "data": {
      "application/javascript": [
       "\n",
       "        if (window._pyforest_update_imports_cell) { window._pyforest_update_imports_cell('import xgboost as xgb\\nimport numpy as np\\nimport pandas as pd\\nimport plotly.express as px\\nimport sklearn'); }\n",
       "    "
      ],
      "text/plain": [
       "<IPython.core.display.Javascript object>"
      ]
     },
     "metadata": {},
     "output_type": "display_data"
    },
    {
     "data": {
      "application/javascript": [
       "\n",
       "        if (window._pyforest_update_imports_cell) { window._pyforest_update_imports_cell('import xgboost as xgb\\nimport numpy as np\\nimport pandas as pd\\nimport plotly.express as px\\nimport sklearn'); }\n",
       "    "
      ],
      "text/plain": [
       "<IPython.core.display.Javascript object>"
      ]
     },
     "metadata": {},
     "output_type": "display_data"
    },
    {
     "data": {
      "application/javascript": [
       "\n",
       "        if (window._pyforest_update_imports_cell) { window._pyforest_update_imports_cell('import xgboost as xgb\\nimport numpy as np\\nimport pandas as pd\\nimport plotly.express as px\\nimport sklearn'); }\n",
       "    "
      ],
      "text/plain": [
       "<IPython.core.display.Javascript object>"
      ]
     },
     "metadata": {},
     "output_type": "display_data"
    },
    {
     "data": {
      "application/javascript": [
       "\n",
       "        if (window._pyforest_update_imports_cell) { window._pyforest_update_imports_cell('import xgboost as xgb\\nimport numpy as np\\nimport pandas as pd\\nimport plotly.express as px\\nimport sklearn'); }\n",
       "    "
      ],
      "text/plain": [
       "<IPython.core.display.Javascript object>"
      ]
     },
     "metadata": {},
     "output_type": "display_data"
    },
    {
     "data": {
      "application/javascript": [
       "\n",
       "        if (window._pyforest_update_imports_cell) { window._pyforest_update_imports_cell('import xgboost as xgb\\nimport numpy as np\\nimport pandas as pd\\nimport plotly.express as px\\nimport sklearn'); }\n",
       "    "
      ],
      "text/plain": [
       "<IPython.core.display.Javascript object>"
      ]
     },
     "metadata": {},
     "output_type": "display_data"
    },
    {
     "data": {
      "application/javascript": [
       "\n",
       "        if (window._pyforest_update_imports_cell) { window._pyforest_update_imports_cell('import xgboost as xgb\\nimport numpy as np\\nimport pandas as pd\\nimport plotly.express as px\\nimport sklearn'); }\n",
       "    "
      ],
      "text/plain": [
       "<IPython.core.display.Javascript object>"
      ]
     },
     "metadata": {},
     "output_type": "display_data"
    },
    {
     "data": {
      "application/javascript": [
       "\n",
       "        if (window._pyforest_update_imports_cell) { window._pyforest_update_imports_cell('import xgboost as xgb\\nimport numpy as np\\nimport pandas as pd\\nimport plotly.express as px\\nimport sklearn'); }\n",
       "    "
      ],
      "text/plain": [
       "<IPython.core.display.Javascript object>"
      ]
     },
     "metadata": {},
     "output_type": "display_data"
    },
    {
     "data": {
      "application/javascript": [
       "\n",
       "        if (window._pyforest_update_imports_cell) { window._pyforest_update_imports_cell('import xgboost as xgb\\nimport numpy as np\\nimport pandas as pd\\nimport plotly.express as px\\nimport sklearn'); }\n",
       "    "
      ],
      "text/plain": [
       "<IPython.core.display.Javascript object>"
      ]
     },
     "metadata": {},
     "output_type": "display_data"
    },
    {
     "data": {
      "application/javascript": [
       "\n",
       "        if (window._pyforest_update_imports_cell) { window._pyforest_update_imports_cell('import xgboost as xgb\\nimport numpy as np\\nimport pandas as pd\\nimport plotly.express as px\\nimport sklearn'); }\n",
       "    "
      ],
      "text/plain": [
       "<IPython.core.display.Javascript object>"
      ]
     },
     "metadata": {},
     "output_type": "display_data"
    },
    {
     "data": {
      "application/javascript": [
       "\n",
       "        if (window._pyforest_update_imports_cell) { window._pyforest_update_imports_cell('import xgboost as xgb\\nimport numpy as np\\nimport pandas as pd\\nimport plotly.express as px\\nimport sklearn'); }\n",
       "    "
      ],
      "text/plain": [
       "<IPython.core.display.Javascript object>"
      ]
     },
     "metadata": {},
     "output_type": "display_data"
    },
    {
     "data": {
      "application/javascript": [
       "\n",
       "        if (window._pyforest_update_imports_cell) { window._pyforest_update_imports_cell('import xgboost as xgb\\nimport numpy as np\\nimport pandas as pd\\nimport plotly.express as px\\nimport sklearn'); }\n",
       "    "
      ],
      "text/plain": [
       "<IPython.core.display.Javascript object>"
      ]
     },
     "metadata": {},
     "output_type": "display_data"
    },
    {
     "data": {
      "application/javascript": [
       "\n",
       "        if (window._pyforest_update_imports_cell) { window._pyforest_update_imports_cell('import xgboost as xgb\\nimport numpy as np\\nimport pandas as pd\\nimport plotly.express as px\\nimport sklearn'); }\n",
       "    "
      ],
      "text/plain": [
       "<IPython.core.display.Javascript object>"
      ]
     },
     "metadata": {},
     "output_type": "display_data"
    },
    {
     "data": {
      "application/javascript": [
       "\n",
       "        if (window._pyforest_update_imports_cell) { window._pyforest_update_imports_cell('import xgboost as xgb\\nimport numpy as np\\nimport pandas as pd\\nimport plotly.express as px\\nimport sklearn'); }\n",
       "    "
      ],
      "text/plain": [
       "<IPython.core.display.Javascript object>"
      ]
     },
     "metadata": {},
     "output_type": "display_data"
    },
    {
     "data": {
      "application/javascript": [
       "\n",
       "        if (window._pyforest_update_imports_cell) { window._pyforest_update_imports_cell('import xgboost as xgb\\nimport numpy as np\\nimport pandas as pd\\nimport plotly.express as px\\nimport sklearn'); }\n",
       "    "
      ],
      "text/plain": [
       "<IPython.core.display.Javascript object>"
      ]
     },
     "metadata": {},
     "output_type": "display_data"
    },
    {
     "data": {
      "application/javascript": [
       "\n",
       "        if (window._pyforest_update_imports_cell) { window._pyforest_update_imports_cell('import xgboost as xgb\\nimport numpy as np\\nimport pandas as pd\\nimport plotly.express as px\\nimport sklearn'); }\n",
       "    "
      ],
      "text/plain": [
       "<IPython.core.display.Javascript object>"
      ]
     },
     "metadata": {},
     "output_type": "display_data"
    },
    {
     "data": {
      "application/javascript": [
       "\n",
       "        if (window._pyforest_update_imports_cell) { window._pyforest_update_imports_cell('import xgboost as xgb\\nimport numpy as np\\nimport pandas as pd\\nimport plotly.express as px\\nimport sklearn'); }\n",
       "    "
      ],
      "text/plain": [
       "<IPython.core.display.Javascript object>"
      ]
     },
     "metadata": {},
     "output_type": "display_data"
    },
    {
     "data": {
      "application/javascript": [
       "\n",
       "        if (window._pyforest_update_imports_cell) { window._pyforest_update_imports_cell('import xgboost as xgb\\nimport numpy as np\\nimport pandas as pd\\nimport plotly.express as px\\nimport sklearn'); }\n",
       "    "
      ],
      "text/plain": [
       "<IPython.core.display.Javascript object>"
      ]
     },
     "metadata": {},
     "output_type": "display_data"
    },
    {
     "data": {
      "application/javascript": [
       "\n",
       "        if (window._pyforest_update_imports_cell) { window._pyforest_update_imports_cell('import xgboost as xgb\\nimport numpy as np\\nimport pandas as pd\\nimport plotly.express as px\\nimport sklearn'); }\n",
       "    "
      ],
      "text/plain": [
       "<IPython.core.display.Javascript object>"
      ]
     },
     "metadata": {},
     "output_type": "display_data"
    }
   ],
   "source": [
    "analysis_list = []\n",
    "for i in range(1,x_train.shape[1],1):\n",
    "    nl = list(ser.head(i)['column_name'])\n",
    "    analysis_list.append(best_features(nl,i))"
   ]
  },
  {
   "cell_type": "code",
   "execution_count": 102,
   "metadata": {},
   "outputs": [
    {
     "data": {
      "application/javascript": [
       "\n",
       "        if (window._pyforest_update_imports_cell) { window._pyforest_update_imports_cell('import xgboost as xgb\\nimport numpy as np\\nimport pandas as pd\\nimport plotly.express as px\\nimport sklearn'); }\n",
       "    "
      ],
      "text/plain": [
       "<IPython.core.display.Javascript object>"
      ]
     },
     "metadata": {},
     "output_type": "display_data"
    },
    {
     "data": {
      "text/html": [
       "<div>\n",
       "<style scoped>\n",
       "    .dataframe tbody tr th:only-of-type {\n",
       "        vertical-align: middle;\n",
       "    }\n",
       "\n",
       "    .dataframe tbody tr th {\n",
       "        vertical-align: top;\n",
       "    }\n",
       "\n",
       "    .dataframe thead th {\n",
       "        text-align: right;\n",
       "    }\n",
       "</style>\n",
       "<table border=\"1\" class=\"dataframe\">\n",
       "  <thead>\n",
       "    <tr style=\"text-align: right;\">\n",
       "      <th></th>\n",
       "      <th>no_of_features</th>\n",
       "      <th>rmse</th>\n",
       "      <th>mse</th>\n",
       "      <th>mae</th>\n",
       "      <th>explained_variance_score</th>\n",
       "      <th>r2</th>\n",
       "    </tr>\n",
       "  </thead>\n",
       "  <tbody>\n",
       "    <tr>\n",
       "      <th>0</th>\n",
       "      <td>1</td>\n",
       "      <td>56336.471240</td>\n",
       "      <td>3.173798e+09</td>\n",
       "      <td>39214.366260</td>\n",
       "      <td>0.546114</td>\n",
       "      <td>0.545177</td>\n",
       "    </tr>\n",
       "    <tr>\n",
       "      <th>1</th>\n",
       "      <td>2</td>\n",
       "      <td>48129.052146</td>\n",
       "      <td>2.316406e+09</td>\n",
       "      <td>33059.120594</td>\n",
       "      <td>0.668052</td>\n",
       "      <td>0.668046</td>\n",
       "    </tr>\n",
       "    <tr>\n",
       "      <th>2</th>\n",
       "      <td>3</td>\n",
       "      <td>46224.947170</td>\n",
       "      <td>2.136746e+09</td>\n",
       "      <td>31739.386273</td>\n",
       "      <td>0.693914</td>\n",
       "      <td>0.693792</td>\n",
       "    </tr>\n",
       "    <tr>\n",
       "      <th>3</th>\n",
       "      <td>4</td>\n",
       "      <td>45504.554636</td>\n",
       "      <td>2.070664e+09</td>\n",
       "      <td>31194.911993</td>\n",
       "      <td>0.703420</td>\n",
       "      <td>0.703262</td>\n",
       "    </tr>\n",
       "    <tr>\n",
       "      <th>4</th>\n",
       "      <td>5</td>\n",
       "      <td>41037.784404</td>\n",
       "      <td>1.684100e+09</td>\n",
       "      <td>27837.790008</td>\n",
       "      <td>0.758729</td>\n",
       "      <td>0.758659</td>\n",
       "    </tr>\n",
       "  </tbody>\n",
       "</table>\n",
       "</div>"
      ],
      "text/plain": [
       "   no_of_features          rmse           mse           mae  \\\n",
       "0               1  56336.471240  3.173798e+09  39214.366260   \n",
       "1               2  48129.052146  2.316406e+09  33059.120594   \n",
       "2               3  46224.947170  2.136746e+09  31739.386273   \n",
       "3               4  45504.554636  2.070664e+09  31194.911993   \n",
       "4               5  41037.784404  1.684100e+09  27837.790008   \n",
       "\n",
       "   explained_variance_score        r2  \n",
       "0                  0.546114  0.545177  \n",
       "1                  0.668052  0.668046  \n",
       "2                  0.693914  0.693792  \n",
       "3                  0.703420  0.703262  \n",
       "4                  0.758729  0.758659  "
      ]
     },
     "execution_count": 102,
     "metadata": {},
     "output_type": "execute_result"
    }
   ],
   "source": [
    "an_df = pd.DataFrame(analysis_list)\n",
    "an_df.columns = ['no_of_features','rmse','mse','mae','explained_variance_score','r2']\n",
    "an_df.head()"
   ]
  },
  {
   "cell_type": "code",
   "execution_count": 103,
   "metadata": {},
   "outputs": [],
   "source": [
    "an_df = an_df[an_df['r2']>0.9]"
   ]
  },
  {
   "cell_type": "code",
   "execution_count": 104,
   "metadata": {},
   "outputs": [
    {
     "data": {
      "application/javascript": [
       "\n",
       "        if (window._pyforest_update_imports_cell) { window._pyforest_update_imports_cell('import xgboost as xgb\\nimport numpy as np\\nimport pandas as pd\\nimport plotly.express as px\\nimport sklearn'); }\n",
       "    "
      ],
      "text/plain": [
       "<IPython.core.display.Javascript object>"
      ]
     },
     "metadata": {},
     "output_type": "display_data"
    },
    {
     "data": {
      "application/vnd.plotly.v1+json": {
       "config": {
        "plotlyServerURL": "https://plot.ly"
       },
       "data": [
        {
         "hovertemplate": "no_of_features=%{x}<br>r2=%{y}<extra></extra>",
         "legendgroup": "",
         "marker": {
          "color": "#636efa",
          "symbol": "circle"
         },
         "mode": "markers",
         "name": "",
         "orientation": "v",
         "showlegend": false,
         "type": "scatter",
         "x": [
          15,
          16,
          17,
          18,
          20,
          21,
          23,
          24,
          25,
          26,
          27,
          28,
          29,
          30,
          31,
          32,
          33,
          34,
          35,
          36,
          37,
          38,
          39,
          40,
          41,
          42,
          43,
          44,
          45,
          46,
          47,
          48,
          49,
          50,
          51,
          52,
          53,
          54,
          55,
          56,
          57,
          58,
          59,
          60,
          61,
          62,
          63,
          64,
          65,
          66,
          67,
          68,
          69,
          70,
          71,
          72,
          73,
          74,
          75,
          76,
          77,
          78,
          79,
          80
         ],
         "xaxis": "x",
         "y": [
          0.9003300106469736,
          0.9006420731888443,
          0.9010064456289975,
          0.9062290867528435,
          0.9098029570644741,
          0.9048879515159284,
          0.9024200210772741,
          0.9099416483080354,
          0.9095286302524627,
          0.9080156054319684,
          0.914913346947629,
          0.9069713460447792,
          0.9071269208916993,
          0.9121047581250157,
          0.9138563367073256,
          0.9074232802569729,
          0.9073138962767183,
          0.9163858430547666,
          0.9136195501956921,
          0.9197301838285388,
          0.9165812331806672,
          0.9211497607524024,
          0.911965561363685,
          0.9170278126317047,
          0.9210952409591213,
          0.9135578298461006,
          0.9200382984091551,
          0.9187704486652949,
          0.9154821549320891,
          0.9193612816408215,
          0.9217088855973821,
          0.9184580661052687,
          0.9148794154212152,
          0.9196572083869724,
          0.918969475615596,
          0.916376307156312,
          0.9135259131032291,
          0.9184315721948955,
          0.9155348237965557,
          0.9201608182746208,
          0.9230740059747365,
          0.9253111568844398,
          0.9289647024815595,
          0.9248014945822948,
          0.9243102692956542,
          0.9220119818610717,
          0.9264930459852248,
          0.9285252526007566,
          0.9236163288882353,
          0.9264320559546898,
          0.9282346836949827,
          0.9292685364168537,
          0.9210154552726535,
          0.92485487424814,
          0.9258131492301152,
          0.9213869842035611,
          0.9250016080897776,
          0.9256830598134479,
          0.9230274355833396,
          0.925982903525729,
          0.9272472483241018,
          0.9274199444269867,
          0.9270041900486024,
          0.9256165147620131
         ],
         "yaxis": "y"
        }
       ],
       "layout": {
        "legend": {
         "tracegroupgap": 0
        },
        "margin": {
         "t": 60
        },
        "template": {
         "data": {
          "bar": [
           {
            "error_x": {
             "color": "#2a3f5f"
            },
            "error_y": {
             "color": "#2a3f5f"
            },
            "marker": {
             "line": {
              "color": "#E5ECF6",
              "width": 0.5
             }
            },
            "type": "bar"
           }
          ],
          "barpolar": [
           {
            "marker": {
             "line": {
              "color": "#E5ECF6",
              "width": 0.5
             }
            },
            "type": "barpolar"
           }
          ],
          "carpet": [
           {
            "aaxis": {
             "endlinecolor": "#2a3f5f",
             "gridcolor": "white",
             "linecolor": "white",
             "minorgridcolor": "white",
             "startlinecolor": "#2a3f5f"
            },
            "baxis": {
             "endlinecolor": "#2a3f5f",
             "gridcolor": "white",
             "linecolor": "white",
             "minorgridcolor": "white",
             "startlinecolor": "#2a3f5f"
            },
            "type": "carpet"
           }
          ],
          "choropleth": [
           {
            "colorbar": {
             "outlinewidth": 0,
             "ticks": ""
            },
            "type": "choropleth"
           }
          ],
          "contour": [
           {
            "colorbar": {
             "outlinewidth": 0,
             "ticks": ""
            },
            "colorscale": [
             [
              0,
              "#0d0887"
             ],
             [
              0.1111111111111111,
              "#46039f"
             ],
             [
              0.2222222222222222,
              "#7201a8"
             ],
             [
              0.3333333333333333,
              "#9c179e"
             ],
             [
              0.4444444444444444,
              "#bd3786"
             ],
             [
              0.5555555555555556,
              "#d8576b"
             ],
             [
              0.6666666666666666,
              "#ed7953"
             ],
             [
              0.7777777777777778,
              "#fb9f3a"
             ],
             [
              0.8888888888888888,
              "#fdca26"
             ],
             [
              1,
              "#f0f921"
             ]
            ],
            "type": "contour"
           }
          ],
          "contourcarpet": [
           {
            "colorbar": {
             "outlinewidth": 0,
             "ticks": ""
            },
            "type": "contourcarpet"
           }
          ],
          "heatmap": [
           {
            "colorbar": {
             "outlinewidth": 0,
             "ticks": ""
            },
            "colorscale": [
             [
              0,
              "#0d0887"
             ],
             [
              0.1111111111111111,
              "#46039f"
             ],
             [
              0.2222222222222222,
              "#7201a8"
             ],
             [
              0.3333333333333333,
              "#9c179e"
             ],
             [
              0.4444444444444444,
              "#bd3786"
             ],
             [
              0.5555555555555556,
              "#d8576b"
             ],
             [
              0.6666666666666666,
              "#ed7953"
             ],
             [
              0.7777777777777778,
              "#fb9f3a"
             ],
             [
              0.8888888888888888,
              "#fdca26"
             ],
             [
              1,
              "#f0f921"
             ]
            ],
            "type": "heatmap"
           }
          ],
          "heatmapgl": [
           {
            "colorbar": {
             "outlinewidth": 0,
             "ticks": ""
            },
            "colorscale": [
             [
              0,
              "#0d0887"
             ],
             [
              0.1111111111111111,
              "#46039f"
             ],
             [
              0.2222222222222222,
              "#7201a8"
             ],
             [
              0.3333333333333333,
              "#9c179e"
             ],
             [
              0.4444444444444444,
              "#bd3786"
             ],
             [
              0.5555555555555556,
              "#d8576b"
             ],
             [
              0.6666666666666666,
              "#ed7953"
             ],
             [
              0.7777777777777778,
              "#fb9f3a"
             ],
             [
              0.8888888888888888,
              "#fdca26"
             ],
             [
              1,
              "#f0f921"
             ]
            ],
            "type": "heatmapgl"
           }
          ],
          "histogram": [
           {
            "marker": {
             "colorbar": {
              "outlinewidth": 0,
              "ticks": ""
             }
            },
            "type": "histogram"
           }
          ],
          "histogram2d": [
           {
            "colorbar": {
             "outlinewidth": 0,
             "ticks": ""
            },
            "colorscale": [
             [
              0,
              "#0d0887"
             ],
             [
              0.1111111111111111,
              "#46039f"
             ],
             [
              0.2222222222222222,
              "#7201a8"
             ],
             [
              0.3333333333333333,
              "#9c179e"
             ],
             [
              0.4444444444444444,
              "#bd3786"
             ],
             [
              0.5555555555555556,
              "#d8576b"
             ],
             [
              0.6666666666666666,
              "#ed7953"
             ],
             [
              0.7777777777777778,
              "#fb9f3a"
             ],
             [
              0.8888888888888888,
              "#fdca26"
             ],
             [
              1,
              "#f0f921"
             ]
            ],
            "type": "histogram2d"
           }
          ],
          "histogram2dcontour": [
           {
            "colorbar": {
             "outlinewidth": 0,
             "ticks": ""
            },
            "colorscale": [
             [
              0,
              "#0d0887"
             ],
             [
              0.1111111111111111,
              "#46039f"
             ],
             [
              0.2222222222222222,
              "#7201a8"
             ],
             [
              0.3333333333333333,
              "#9c179e"
             ],
             [
              0.4444444444444444,
              "#bd3786"
             ],
             [
              0.5555555555555556,
              "#d8576b"
             ],
             [
              0.6666666666666666,
              "#ed7953"
             ],
             [
              0.7777777777777778,
              "#fb9f3a"
             ],
             [
              0.8888888888888888,
              "#fdca26"
             ],
             [
              1,
              "#f0f921"
             ]
            ],
            "type": "histogram2dcontour"
           }
          ],
          "mesh3d": [
           {
            "colorbar": {
             "outlinewidth": 0,
             "ticks": ""
            },
            "type": "mesh3d"
           }
          ],
          "parcoords": [
           {
            "line": {
             "colorbar": {
              "outlinewidth": 0,
              "ticks": ""
             }
            },
            "type": "parcoords"
           }
          ],
          "pie": [
           {
            "automargin": true,
            "type": "pie"
           }
          ],
          "scatter": [
           {
            "marker": {
             "colorbar": {
              "outlinewidth": 0,
              "ticks": ""
             }
            },
            "type": "scatter"
           }
          ],
          "scatter3d": [
           {
            "line": {
             "colorbar": {
              "outlinewidth": 0,
              "ticks": ""
             }
            },
            "marker": {
             "colorbar": {
              "outlinewidth": 0,
              "ticks": ""
             }
            },
            "type": "scatter3d"
           }
          ],
          "scattercarpet": [
           {
            "marker": {
             "colorbar": {
              "outlinewidth": 0,
              "ticks": ""
             }
            },
            "type": "scattercarpet"
           }
          ],
          "scattergeo": [
           {
            "marker": {
             "colorbar": {
              "outlinewidth": 0,
              "ticks": ""
             }
            },
            "type": "scattergeo"
           }
          ],
          "scattergl": [
           {
            "marker": {
             "colorbar": {
              "outlinewidth": 0,
              "ticks": ""
             }
            },
            "type": "scattergl"
           }
          ],
          "scattermapbox": [
           {
            "marker": {
             "colorbar": {
              "outlinewidth": 0,
              "ticks": ""
             }
            },
            "type": "scattermapbox"
           }
          ],
          "scatterpolar": [
           {
            "marker": {
             "colorbar": {
              "outlinewidth": 0,
              "ticks": ""
             }
            },
            "type": "scatterpolar"
           }
          ],
          "scatterpolargl": [
           {
            "marker": {
             "colorbar": {
              "outlinewidth": 0,
              "ticks": ""
             }
            },
            "type": "scatterpolargl"
           }
          ],
          "scatterternary": [
           {
            "marker": {
             "colorbar": {
              "outlinewidth": 0,
              "ticks": ""
             }
            },
            "type": "scatterternary"
           }
          ],
          "surface": [
           {
            "colorbar": {
             "outlinewidth": 0,
             "ticks": ""
            },
            "colorscale": [
             [
              0,
              "#0d0887"
             ],
             [
              0.1111111111111111,
              "#46039f"
             ],
             [
              0.2222222222222222,
              "#7201a8"
             ],
             [
              0.3333333333333333,
              "#9c179e"
             ],
             [
              0.4444444444444444,
              "#bd3786"
             ],
             [
              0.5555555555555556,
              "#d8576b"
             ],
             [
              0.6666666666666666,
              "#ed7953"
             ],
             [
              0.7777777777777778,
              "#fb9f3a"
             ],
             [
              0.8888888888888888,
              "#fdca26"
             ],
             [
              1,
              "#f0f921"
             ]
            ],
            "type": "surface"
           }
          ],
          "table": [
           {
            "cells": {
             "fill": {
              "color": "#EBF0F8"
             },
             "line": {
              "color": "white"
             }
            },
            "header": {
             "fill": {
              "color": "#C8D4E3"
             },
             "line": {
              "color": "white"
             }
            },
            "type": "table"
           }
          ]
         },
         "layout": {
          "annotationdefaults": {
           "arrowcolor": "#2a3f5f",
           "arrowhead": 0,
           "arrowwidth": 1
          },
          "autotypenumbers": "strict",
          "coloraxis": {
           "colorbar": {
            "outlinewidth": 0,
            "ticks": ""
           }
          },
          "colorscale": {
           "diverging": [
            [
             0,
             "#8e0152"
            ],
            [
             0.1,
             "#c51b7d"
            ],
            [
             0.2,
             "#de77ae"
            ],
            [
             0.3,
             "#f1b6da"
            ],
            [
             0.4,
             "#fde0ef"
            ],
            [
             0.5,
             "#f7f7f7"
            ],
            [
             0.6,
             "#e6f5d0"
            ],
            [
             0.7,
             "#b8e186"
            ],
            [
             0.8,
             "#7fbc41"
            ],
            [
             0.9,
             "#4d9221"
            ],
            [
             1,
             "#276419"
            ]
           ],
           "sequential": [
            [
             0,
             "#0d0887"
            ],
            [
             0.1111111111111111,
             "#46039f"
            ],
            [
             0.2222222222222222,
             "#7201a8"
            ],
            [
             0.3333333333333333,
             "#9c179e"
            ],
            [
             0.4444444444444444,
             "#bd3786"
            ],
            [
             0.5555555555555556,
             "#d8576b"
            ],
            [
             0.6666666666666666,
             "#ed7953"
            ],
            [
             0.7777777777777778,
             "#fb9f3a"
            ],
            [
             0.8888888888888888,
             "#fdca26"
            ],
            [
             1,
             "#f0f921"
            ]
           ],
           "sequentialminus": [
            [
             0,
             "#0d0887"
            ],
            [
             0.1111111111111111,
             "#46039f"
            ],
            [
             0.2222222222222222,
             "#7201a8"
            ],
            [
             0.3333333333333333,
             "#9c179e"
            ],
            [
             0.4444444444444444,
             "#bd3786"
            ],
            [
             0.5555555555555556,
             "#d8576b"
            ],
            [
             0.6666666666666666,
             "#ed7953"
            ],
            [
             0.7777777777777778,
             "#fb9f3a"
            ],
            [
             0.8888888888888888,
             "#fdca26"
            ],
            [
             1,
             "#f0f921"
            ]
           ]
          },
          "colorway": [
           "#636efa",
           "#EF553B",
           "#00cc96",
           "#ab63fa",
           "#FFA15A",
           "#19d3f3",
           "#FF6692",
           "#B6E880",
           "#FF97FF",
           "#FECB52"
          ],
          "font": {
           "color": "#2a3f5f"
          },
          "geo": {
           "bgcolor": "white",
           "lakecolor": "white",
           "landcolor": "#E5ECF6",
           "showlakes": true,
           "showland": true,
           "subunitcolor": "white"
          },
          "hoverlabel": {
           "align": "left"
          },
          "hovermode": "closest",
          "mapbox": {
           "style": "light"
          },
          "paper_bgcolor": "white",
          "plot_bgcolor": "#E5ECF6",
          "polar": {
           "angularaxis": {
            "gridcolor": "white",
            "linecolor": "white",
            "ticks": ""
           },
           "bgcolor": "#E5ECF6",
           "radialaxis": {
            "gridcolor": "white",
            "linecolor": "white",
            "ticks": ""
           }
          },
          "scene": {
           "xaxis": {
            "backgroundcolor": "#E5ECF6",
            "gridcolor": "white",
            "gridwidth": 2,
            "linecolor": "white",
            "showbackground": true,
            "ticks": "",
            "zerolinecolor": "white"
           },
           "yaxis": {
            "backgroundcolor": "#E5ECF6",
            "gridcolor": "white",
            "gridwidth": 2,
            "linecolor": "white",
            "showbackground": true,
            "ticks": "",
            "zerolinecolor": "white"
           },
           "zaxis": {
            "backgroundcolor": "#E5ECF6",
            "gridcolor": "white",
            "gridwidth": 2,
            "linecolor": "white",
            "showbackground": true,
            "ticks": "",
            "zerolinecolor": "white"
           }
          },
          "shapedefaults": {
           "line": {
            "color": "#2a3f5f"
           }
          },
          "ternary": {
           "aaxis": {
            "gridcolor": "white",
            "linecolor": "white",
            "ticks": ""
           },
           "baxis": {
            "gridcolor": "white",
            "linecolor": "white",
            "ticks": ""
           },
           "bgcolor": "#E5ECF6",
           "caxis": {
            "gridcolor": "white",
            "linecolor": "white",
            "ticks": ""
           }
          },
          "title": {
           "x": 0.05
          },
          "xaxis": {
           "automargin": true,
           "gridcolor": "white",
           "linecolor": "white",
           "ticks": "",
           "title": {
            "standoff": 15
           },
           "zerolinecolor": "white",
           "zerolinewidth": 2
          },
          "yaxis": {
           "automargin": true,
           "gridcolor": "white",
           "linecolor": "white",
           "ticks": "",
           "title": {
            "standoff": 15
           },
           "zerolinecolor": "white",
           "zerolinewidth": 2
          }
         }
        },
        "xaxis": {
         "anchor": "y",
         "domain": [
          0,
          1
         ],
         "title": {
          "text": "no_of_features"
         }
        },
        "yaxis": {
         "anchor": "x",
         "domain": [
          0,
          1
         ],
         "title": {
          "text": "r2"
         }
        }
       }
      },
      "text/html": [
       "<div>                            <div id=\"ecffecc3-d096-4fae-b6aa-12c425805d77\" class=\"plotly-graph-div\" style=\"height:525px; width:100%;\"></div>            <script type=\"text/javascript\">                require([\"plotly\"], function(Plotly) {                    window.PLOTLYENV=window.PLOTLYENV || {};                                    if (document.getElementById(\"ecffecc3-d096-4fae-b6aa-12c425805d77\")) {                    Plotly.newPlot(                        \"ecffecc3-d096-4fae-b6aa-12c425805d77\",                        [{\"hovertemplate\": \"no_of_features=%{x}<br>r2=%{y}<extra></extra>\", \"legendgroup\": \"\", \"marker\": {\"color\": \"#636efa\", \"symbol\": \"circle\"}, \"mode\": \"markers\", \"name\": \"\", \"orientation\": \"v\", \"showlegend\": false, \"type\": \"scatter\", \"x\": [15, 16, 17, 18, 20, 21, 23, 24, 25, 26, 27, 28, 29, 30, 31, 32, 33, 34, 35, 36, 37, 38, 39, 40, 41, 42, 43, 44, 45, 46, 47, 48, 49, 50, 51, 52, 53, 54, 55, 56, 57, 58, 59, 60, 61, 62, 63, 64, 65, 66, 67, 68, 69, 70, 71, 72, 73, 74, 75, 76, 77, 78, 79, 80], \"xaxis\": \"x\", \"y\": [0.9003300106469736, 0.9006420731888443, 0.9010064456289975, 0.9062290867528435, 0.9098029570644741, 0.9048879515159284, 0.9024200210772741, 0.9099416483080354, 0.9095286302524627, 0.9080156054319684, 0.914913346947629, 0.9069713460447792, 0.9071269208916993, 0.9121047581250157, 0.9138563367073256, 0.9074232802569729, 0.9073138962767183, 0.9163858430547666, 0.9136195501956921, 0.9197301838285388, 0.9165812331806672, 0.9211497607524024, 0.911965561363685, 0.9170278126317047, 0.9210952409591213, 0.9135578298461006, 0.9200382984091551, 0.9187704486652949, 0.9154821549320891, 0.9193612816408215, 0.9217088855973821, 0.9184580661052687, 0.9148794154212152, 0.9196572083869724, 0.918969475615596, 0.916376307156312, 0.9135259131032291, 0.9184315721948955, 0.9155348237965557, 0.9201608182746208, 0.9230740059747365, 0.9253111568844398, 0.9289647024815595, 0.9248014945822948, 0.9243102692956542, 0.9220119818610717, 0.9264930459852248, 0.9285252526007566, 0.9236163288882353, 0.9264320559546898, 0.9282346836949827, 0.9292685364168537, 0.9210154552726535, 0.92485487424814, 0.9258131492301152, 0.9213869842035611, 0.9250016080897776, 0.9256830598134479, 0.9230274355833396, 0.925982903525729, 0.9272472483241018, 0.9274199444269867, 0.9270041900486024, 0.9256165147620131], \"yaxis\": \"y\"}],                        {\"legend\": {\"tracegroupgap\": 0}, \"margin\": {\"t\": 60}, \"template\": {\"data\": {\"bar\": [{\"error_x\": {\"color\": \"#2a3f5f\"}, \"error_y\": {\"color\": \"#2a3f5f\"}, \"marker\": {\"line\": {\"color\": \"#E5ECF6\", \"width\": 0.5}}, \"type\": \"bar\"}], \"barpolar\": [{\"marker\": {\"line\": {\"color\": \"#E5ECF6\", \"width\": 0.5}}, \"type\": \"barpolar\"}], \"carpet\": [{\"aaxis\": {\"endlinecolor\": \"#2a3f5f\", \"gridcolor\": \"white\", \"linecolor\": \"white\", \"minorgridcolor\": \"white\", \"startlinecolor\": \"#2a3f5f\"}, \"baxis\": {\"endlinecolor\": \"#2a3f5f\", \"gridcolor\": \"white\", \"linecolor\": \"white\", \"minorgridcolor\": \"white\", \"startlinecolor\": \"#2a3f5f\"}, \"type\": \"carpet\"}], \"choropleth\": [{\"colorbar\": {\"outlinewidth\": 0, \"ticks\": \"\"}, \"type\": \"choropleth\"}], \"contour\": [{\"colorbar\": {\"outlinewidth\": 0, \"ticks\": \"\"}, \"colorscale\": [[0.0, \"#0d0887\"], [0.1111111111111111, \"#46039f\"], [0.2222222222222222, \"#7201a8\"], [0.3333333333333333, \"#9c179e\"], [0.4444444444444444, \"#bd3786\"], [0.5555555555555556, \"#d8576b\"], [0.6666666666666666, \"#ed7953\"], [0.7777777777777778, \"#fb9f3a\"], [0.8888888888888888, \"#fdca26\"], [1.0, \"#f0f921\"]], \"type\": \"contour\"}], \"contourcarpet\": [{\"colorbar\": {\"outlinewidth\": 0, \"ticks\": \"\"}, \"type\": \"contourcarpet\"}], \"heatmap\": [{\"colorbar\": {\"outlinewidth\": 0, \"ticks\": \"\"}, \"colorscale\": [[0.0, \"#0d0887\"], [0.1111111111111111, \"#46039f\"], [0.2222222222222222, \"#7201a8\"], [0.3333333333333333, \"#9c179e\"], [0.4444444444444444, \"#bd3786\"], [0.5555555555555556, \"#d8576b\"], [0.6666666666666666, \"#ed7953\"], [0.7777777777777778, \"#fb9f3a\"], [0.8888888888888888, \"#fdca26\"], [1.0, \"#f0f921\"]], \"type\": \"heatmap\"}], \"heatmapgl\": [{\"colorbar\": {\"outlinewidth\": 0, \"ticks\": \"\"}, \"colorscale\": [[0.0, \"#0d0887\"], [0.1111111111111111, \"#46039f\"], [0.2222222222222222, \"#7201a8\"], [0.3333333333333333, \"#9c179e\"], [0.4444444444444444, \"#bd3786\"], [0.5555555555555556, \"#d8576b\"], [0.6666666666666666, \"#ed7953\"], [0.7777777777777778, \"#fb9f3a\"], [0.8888888888888888, \"#fdca26\"], [1.0, \"#f0f921\"]], \"type\": \"heatmapgl\"}], \"histogram\": [{\"marker\": {\"colorbar\": {\"outlinewidth\": 0, \"ticks\": \"\"}}, \"type\": \"histogram\"}], \"histogram2d\": [{\"colorbar\": {\"outlinewidth\": 0, \"ticks\": \"\"}, \"colorscale\": [[0.0, \"#0d0887\"], [0.1111111111111111, \"#46039f\"], [0.2222222222222222, \"#7201a8\"], [0.3333333333333333, \"#9c179e\"], [0.4444444444444444, \"#bd3786\"], [0.5555555555555556, \"#d8576b\"], [0.6666666666666666, \"#ed7953\"], [0.7777777777777778, \"#fb9f3a\"], [0.8888888888888888, \"#fdca26\"], [1.0, \"#f0f921\"]], \"type\": \"histogram2d\"}], \"histogram2dcontour\": [{\"colorbar\": {\"outlinewidth\": 0, \"ticks\": \"\"}, \"colorscale\": [[0.0, \"#0d0887\"], [0.1111111111111111, \"#46039f\"], [0.2222222222222222, \"#7201a8\"], [0.3333333333333333, \"#9c179e\"], [0.4444444444444444, \"#bd3786\"], [0.5555555555555556, \"#d8576b\"], [0.6666666666666666, \"#ed7953\"], [0.7777777777777778, \"#fb9f3a\"], [0.8888888888888888, \"#fdca26\"], [1.0, \"#f0f921\"]], \"type\": \"histogram2dcontour\"}], \"mesh3d\": [{\"colorbar\": {\"outlinewidth\": 0, \"ticks\": \"\"}, \"type\": \"mesh3d\"}], \"parcoords\": [{\"line\": {\"colorbar\": {\"outlinewidth\": 0, \"ticks\": \"\"}}, \"type\": \"parcoords\"}], \"pie\": [{\"automargin\": true, \"type\": \"pie\"}], \"scatter\": [{\"marker\": {\"colorbar\": {\"outlinewidth\": 0, \"ticks\": \"\"}}, \"type\": \"scatter\"}], \"scatter3d\": [{\"line\": {\"colorbar\": {\"outlinewidth\": 0, \"ticks\": \"\"}}, \"marker\": {\"colorbar\": {\"outlinewidth\": 0, \"ticks\": \"\"}}, \"type\": \"scatter3d\"}], \"scattercarpet\": [{\"marker\": {\"colorbar\": {\"outlinewidth\": 0, \"ticks\": \"\"}}, \"type\": \"scattercarpet\"}], \"scattergeo\": [{\"marker\": {\"colorbar\": {\"outlinewidth\": 0, \"ticks\": \"\"}}, \"type\": \"scattergeo\"}], \"scattergl\": [{\"marker\": {\"colorbar\": {\"outlinewidth\": 0, \"ticks\": \"\"}}, \"type\": \"scattergl\"}], \"scattermapbox\": [{\"marker\": {\"colorbar\": {\"outlinewidth\": 0, \"ticks\": \"\"}}, \"type\": \"scattermapbox\"}], \"scatterpolar\": [{\"marker\": {\"colorbar\": {\"outlinewidth\": 0, \"ticks\": \"\"}}, \"type\": \"scatterpolar\"}], \"scatterpolargl\": [{\"marker\": {\"colorbar\": {\"outlinewidth\": 0, \"ticks\": \"\"}}, \"type\": \"scatterpolargl\"}], \"scatterternary\": [{\"marker\": {\"colorbar\": {\"outlinewidth\": 0, \"ticks\": \"\"}}, \"type\": \"scatterternary\"}], \"surface\": [{\"colorbar\": {\"outlinewidth\": 0, \"ticks\": \"\"}, \"colorscale\": [[0.0, \"#0d0887\"], [0.1111111111111111, \"#46039f\"], [0.2222222222222222, \"#7201a8\"], [0.3333333333333333, \"#9c179e\"], [0.4444444444444444, \"#bd3786\"], [0.5555555555555556, \"#d8576b\"], [0.6666666666666666, \"#ed7953\"], [0.7777777777777778, \"#fb9f3a\"], [0.8888888888888888, \"#fdca26\"], [1.0, \"#f0f921\"]], \"type\": \"surface\"}], \"table\": [{\"cells\": {\"fill\": {\"color\": \"#EBF0F8\"}, \"line\": {\"color\": \"white\"}}, \"header\": {\"fill\": {\"color\": \"#C8D4E3\"}, \"line\": {\"color\": \"white\"}}, \"type\": \"table\"}]}, \"layout\": {\"annotationdefaults\": {\"arrowcolor\": \"#2a3f5f\", \"arrowhead\": 0, \"arrowwidth\": 1}, \"autotypenumbers\": \"strict\", \"coloraxis\": {\"colorbar\": {\"outlinewidth\": 0, \"ticks\": \"\"}}, \"colorscale\": {\"diverging\": [[0, \"#8e0152\"], [0.1, \"#c51b7d\"], [0.2, \"#de77ae\"], [0.3, \"#f1b6da\"], [0.4, \"#fde0ef\"], [0.5, \"#f7f7f7\"], [0.6, \"#e6f5d0\"], [0.7, \"#b8e186\"], [0.8, \"#7fbc41\"], [0.9, \"#4d9221\"], [1, \"#276419\"]], \"sequential\": [[0.0, \"#0d0887\"], [0.1111111111111111, \"#46039f\"], [0.2222222222222222, \"#7201a8\"], [0.3333333333333333, \"#9c179e\"], [0.4444444444444444, \"#bd3786\"], [0.5555555555555556, \"#d8576b\"], [0.6666666666666666, \"#ed7953\"], [0.7777777777777778, \"#fb9f3a\"], [0.8888888888888888, \"#fdca26\"], [1.0, \"#f0f921\"]], \"sequentialminus\": [[0.0, \"#0d0887\"], [0.1111111111111111, \"#46039f\"], [0.2222222222222222, \"#7201a8\"], [0.3333333333333333, \"#9c179e\"], [0.4444444444444444, \"#bd3786\"], [0.5555555555555556, \"#d8576b\"], [0.6666666666666666, \"#ed7953\"], [0.7777777777777778, \"#fb9f3a\"], [0.8888888888888888, \"#fdca26\"], [1.0, \"#f0f921\"]]}, \"colorway\": [\"#636efa\", \"#EF553B\", \"#00cc96\", \"#ab63fa\", \"#FFA15A\", \"#19d3f3\", \"#FF6692\", \"#B6E880\", \"#FF97FF\", \"#FECB52\"], \"font\": {\"color\": \"#2a3f5f\"}, \"geo\": {\"bgcolor\": \"white\", \"lakecolor\": \"white\", \"landcolor\": \"#E5ECF6\", \"showlakes\": true, \"showland\": true, \"subunitcolor\": \"white\"}, \"hoverlabel\": {\"align\": \"left\"}, \"hovermode\": \"closest\", \"mapbox\": {\"style\": \"light\"}, \"paper_bgcolor\": \"white\", \"plot_bgcolor\": \"#E5ECF6\", \"polar\": {\"angularaxis\": {\"gridcolor\": \"white\", \"linecolor\": \"white\", \"ticks\": \"\"}, \"bgcolor\": \"#E5ECF6\", \"radialaxis\": {\"gridcolor\": \"white\", \"linecolor\": \"white\", \"ticks\": \"\"}}, \"scene\": {\"xaxis\": {\"backgroundcolor\": \"#E5ECF6\", \"gridcolor\": \"white\", \"gridwidth\": 2, \"linecolor\": \"white\", \"showbackground\": true, \"ticks\": \"\", \"zerolinecolor\": \"white\"}, \"yaxis\": {\"backgroundcolor\": \"#E5ECF6\", \"gridcolor\": \"white\", \"gridwidth\": 2, \"linecolor\": \"white\", \"showbackground\": true, \"ticks\": \"\", \"zerolinecolor\": \"white\"}, \"zaxis\": {\"backgroundcolor\": \"#E5ECF6\", \"gridcolor\": \"white\", \"gridwidth\": 2, \"linecolor\": \"white\", \"showbackground\": true, \"ticks\": \"\", \"zerolinecolor\": \"white\"}}, \"shapedefaults\": {\"line\": {\"color\": \"#2a3f5f\"}}, \"ternary\": {\"aaxis\": {\"gridcolor\": \"white\", \"linecolor\": \"white\", \"ticks\": \"\"}, \"baxis\": {\"gridcolor\": \"white\", \"linecolor\": \"white\", \"ticks\": \"\"}, \"bgcolor\": \"#E5ECF6\", \"caxis\": {\"gridcolor\": \"white\", \"linecolor\": \"white\", \"ticks\": \"\"}}, \"title\": {\"x\": 0.05}, \"xaxis\": {\"automargin\": true, \"gridcolor\": \"white\", \"linecolor\": \"white\", \"ticks\": \"\", \"title\": {\"standoff\": 15}, \"zerolinecolor\": \"white\", \"zerolinewidth\": 2}, \"yaxis\": {\"automargin\": true, \"gridcolor\": \"white\", \"linecolor\": \"white\", \"ticks\": \"\", \"title\": {\"standoff\": 15}, \"zerolinecolor\": \"white\", \"zerolinewidth\": 2}}}, \"xaxis\": {\"anchor\": \"y\", \"domain\": [0.0, 1.0], \"title\": {\"text\": \"no_of_features\"}}, \"yaxis\": {\"anchor\": \"x\", \"domain\": [0.0, 1.0], \"title\": {\"text\": \"r2\"}}},                        {\"responsive\": true}                    ).then(function(){\n",
       "                            \n",
       "var gd = document.getElementById('ecffecc3-d096-4fae-b6aa-12c425805d77');\n",
       "var x = new MutationObserver(function (mutations, observer) {{\n",
       "        var display = window.getComputedStyle(gd).display;\n",
       "        if (!display || display === 'none') {{\n",
       "            console.log([gd, 'removed!']);\n",
       "            Plotly.purge(gd);\n",
       "            observer.disconnect();\n",
       "        }}\n",
       "}});\n",
       "\n",
       "// Listen for the removal of the full notebook cells\n",
       "var notebookContainer = gd.closest('#notebook-container');\n",
       "if (notebookContainer) {{\n",
       "    x.observe(notebookContainer, {childList: true});\n",
       "}}\n",
       "\n",
       "// Listen for the clearing of the current output cell\n",
       "var outputEl = gd.closest('.output');\n",
       "if (outputEl) {{\n",
       "    x.observe(outputEl, {childList: true});\n",
       "}}\n",
       "\n",
       "                        })                };                });            </script>        </div>"
      ]
     },
     "metadata": {},
     "output_type": "display_data"
    }
   ],
   "source": [
    "px.scatter(an_df,x='no_of_features',y='r2')"
   ]
  },
  {
   "cell_type": "code",
   "execution_count": 105,
   "metadata": {},
   "outputs": [
    {
     "data": {
      "text/plain": [
       "['ExterQual',\n",
       " 'GarageCars',\n",
       " 'KitchenQual',\n",
       " 'BsmtQual',\n",
       " 'OverallQual',\n",
       " 'Neighborhood',\n",
       " 'FullBath',\n",
       " 'GrLivArea',\n",
       " 'FireplaceQu',\n",
       " '2ndFlrSF',\n",
       " 'GarageArea',\n",
       " 'TotRmsAbvGrd',\n",
       " 'LowQualFinSF',\n",
       " 'TotalBsmtSF',\n",
       " 'PoolArea',\n",
       " 'MSSubClass',\n",
       " '1stFlrSF',\n",
       " 'BldgType',\n",
       " 'Fireplaces',\n",
       " 'CentralAir',\n",
       " 'GarageFinish',\n",
       " 'MasVnrType',\n",
       " 'LandSlope',\n",
       " 'BsmtFinSF1',\n",
       " 'ScreenPorch',\n",
       " 'BedroomAbvGr',\n",
       " 'BsmtFullBath',\n",
       " 'BsmtFinType1',\n",
       " 'LandContour',\n",
       " 'YearBuilt',\n",
       " 'HalfBath',\n",
       " 'PoolQC',\n",
       " 'BsmtExposure',\n",
       " 'Age_of_house',\n",
       " 'LotArea',\n",
       " 'GarageQual',\n",
       " 'years_since_remodelled',\n",
       " 'LotShape',\n",
       " 'Foundation',\n",
       " 'Condition1',\n",
       " 'GarageType',\n",
       " 'KitchenAbvGr',\n",
       " 'Exterior1st',\n",
       " 'SaleType',\n",
       " 'MSZoning',\n",
       " 'HouseStyle',\n",
       " 'GarageYrBlt',\n",
       " 'WoodDeckSF',\n",
       " 'YearRemodAdd',\n",
       " 'OpenPorchSF',\n",
       " 'ExterCond',\n",
       " 'Exterior2nd',\n",
       " 'RoofStyle',\n",
       " '3SsnPorch',\n",
       " 'MasVnrArea',\n",
       " 'BsmtUnfSF',\n",
       " 'OverallCond',\n",
       " 'MiscVal',\n",
       " 'Functional',\n",
       " 'SaleCondition',\n",
       " 'BsmtCond',\n",
       " 'EnclosedPorch',\n",
       " 'LotFrontage',\n",
       " 'RoofMatl',\n",
       " 'HeatingQC',\n",
       " 'MoSold',\n",
       " 'BsmtFinSF2',\n",
       " 'Heating']"
      ]
     },
     "execution_count": 105,
     "metadata": {},
     "output_type": "execute_result"
    }
   ],
   "source": [
    "list(ser.head(68)['column_name'])"
   ]
  },
  {
   "cell_type": "code",
   "execution_count": 70,
   "metadata": {},
   "outputs": [
    {
     "data": {
      "application/javascript": [
       "\n",
       "        if (window._pyforest_update_imports_cell) { window._pyforest_update_imports_cell('import pandas as pd\\nimport plotly.express as px\\nimport sklearn'); }\n",
       "    "
      ],
      "text/plain": [
       "<IPython.core.display.Javascript object>"
      ]
     },
     "metadata": {},
     "output_type": "display_data"
    },
    {
     "data": {
      "application/javascript": [
       "\n",
       "        if (window._pyforest_update_imports_cell) { window._pyforest_update_imports_cell('import pandas as pd\\nimport plotly.express as px\\nimport sklearn'); }\n",
       "    "
      ],
      "text/plain": [
       "<IPython.core.display.Javascript object>"
      ]
     },
     "metadata": {},
     "output_type": "display_data"
    },
    {
     "name": "stdout",
     "output_type": "stream",
     "text": [
      "rmse  27387.96219002552\n",
      "mse  750100472.9222673\n",
      "mae  16144.498501712329\n",
      "explained_variance_score 0.8929251158976506\n",
      "r2 0.89292399988095\n"
     ]
    }
   ],
   "source": [
    "y_pred = automl.predict(x_test)\n",
    "rmse = mean_squared_error(y_test,y_pred,squared=False)\n",
    "mse = mean_squared_error(y_test,y_pred,squared=True)\n",
    "mae = mean_absolute_error(y_test,y_pred)\n",
    "explained_variance_score = sklearn.metrics.explained_variance_score(y_test,y_pred)\n",
    "r2 = sklearn.metrics.r2_score(y_test,y_pred)\n",
    "print('rmse ', rmse)\n",
    "print('mse ', mse)\n",
    "print('mae ', mae)\n",
    "print('explained_variance_score',explained_variance_score)\n",
    "print('r2',r2)"
   ]
  },
  {
   "cell_type": "code",
   "execution_count": 67,
   "metadata": {},
   "outputs": [
    {
     "data": {
      "application/javascript": [
       "\n",
       "        if (window._pyforest_update_imports_cell) { window._pyforest_update_imports_cell('import pandas as pd\\nimport plotly.express as px\\nimport sklearn'); }\n",
       "    "
      ],
      "text/plain": [
       "<IPython.core.display.Javascript object>"
      ]
     },
     "metadata": {},
     "output_type": "display_data"
    },
    {
     "data": {
      "text/html": [
       "<div>\n",
       "<style scoped>\n",
       "    .dataframe tbody tr th:only-of-type {\n",
       "        vertical-align: middle;\n",
       "    }\n",
       "\n",
       "    .dataframe tbody tr th {\n",
       "        vertical-align: top;\n",
       "    }\n",
       "\n",
       "    .dataframe thead th {\n",
       "        text-align: right;\n",
       "    }\n",
       "</style>\n",
       "<table border=\"1\" class=\"dataframe\">\n",
       "  <thead>\n",
       "    <tr style=\"text-align: right;\">\n",
       "      <th></th>\n",
       "      <th>feature_importance</th>\n",
       "      <th>column_name</th>\n",
       "    </tr>\n",
       "  </thead>\n",
       "  <tbody>\n",
       "    <tr>\n",
       "      <th>76</th>\n",
       "      <td>0.000000</td>\n",
       "      <td>PoolQC</td>\n",
       "    </tr>\n",
       "    <tr>\n",
       "      <th>13</th>\n",
       "      <td>0.000000</td>\n",
       "      <td>LowQualFinSF</td>\n",
       "    </tr>\n",
       "    <tr>\n",
       "      <th>39</th>\n",
       "      <td>0.000000</td>\n",
       "      <td>Street</td>\n",
       "    </tr>\n",
       "    <tr>\n",
       "      <th>48</th>\n",
       "      <td>0.000000</td>\n",
       "      <td>Condition2</td>\n",
       "    </tr>\n",
       "    <tr>\n",
       "      <th>52</th>\n",
       "      <td>0.000003</td>\n",
       "      <td>RoofMatl</td>\n",
       "    </tr>\n",
       "    <tr>\n",
       "      <th>73</th>\n",
       "      <td>0.000014</td>\n",
       "      <td>GarageQual</td>\n",
       "    </tr>\n",
       "    <tr>\n",
       "      <th>32</th>\n",
       "      <td>0.000024</td>\n",
       "      <td>MiscVal</td>\n",
       "    </tr>\n",
       "    <tr>\n",
       "      <th>50</th>\n",
       "      <td>0.000107</td>\n",
       "      <td>HouseStyle</td>\n",
       "    </tr>\n",
       "    <tr>\n",
       "      <th>56</th>\n",
       "      <td>0.000109</td>\n",
       "      <td>ExterQual</td>\n",
       "    </tr>\n",
       "    <tr>\n",
       "      <th>16</th>\n",
       "      <td>0.000150</td>\n",
       "      <td>BsmtHalfBath</td>\n",
       "    </tr>\n",
       "    <tr>\n",
       "      <th>49</th>\n",
       "      <td>0.000189</td>\n",
       "      <td>BldgType</td>\n",
       "    </tr>\n",
       "    <tr>\n",
       "      <th>63</th>\n",
       "      <td>0.000236</td>\n",
       "      <td>BsmtFinType2</td>\n",
       "    </tr>\n",
       "    <tr>\n",
       "      <th>40</th>\n",
       "      <td>0.000266</td>\n",
       "      <td>Alley</td>\n",
       "    </tr>\n",
       "    <tr>\n",
       "      <th>77</th>\n",
       "      <td>0.000320</td>\n",
       "      <td>Fence</td>\n",
       "    </tr>\n",
       "    <tr>\n",
       "      <th>74</th>\n",
       "      <td>0.000357</td>\n",
       "      <td>GarageCond</td>\n",
       "    </tr>\n",
       "    <tr>\n",
       "      <th>34</th>\n",
       "      <td>0.000421</td>\n",
       "      <td>YrSold</td>\n",
       "    </tr>\n",
       "    <tr>\n",
       "      <th>21</th>\n",
       "      <td>0.000471</td>\n",
       "      <td>TotRmsAbvGrd</td>\n",
       "    </tr>\n",
       "    <tr>\n",
       "      <th>17</th>\n",
       "      <td>0.000502</td>\n",
       "      <td>FullBath</td>\n",
       "    </tr>\n",
       "    <tr>\n",
       "      <th>78</th>\n",
       "      <td>0.000507</td>\n",
       "      <td>MiscFeature</td>\n",
       "    </tr>\n",
       "    <tr>\n",
       "      <th>0</th>\n",
       "      <td>0.000604</td>\n",
       "      <td>LotFrontage</td>\n",
       "    </tr>\n",
       "  </tbody>\n",
       "</table>\n",
       "</div>"
      ],
      "text/plain": [
       "    feature_importance   column_name\n",
       "76            0.000000        PoolQC\n",
       "13            0.000000  LowQualFinSF\n",
       "39            0.000000        Street\n",
       "48            0.000000    Condition2\n",
       "52            0.000003      RoofMatl\n",
       "73            0.000014    GarageQual\n",
       "32            0.000024       MiscVal\n",
       "50            0.000107    HouseStyle\n",
       "56            0.000109     ExterQual\n",
       "16            0.000150  BsmtHalfBath\n",
       "49            0.000189      BldgType\n",
       "63            0.000236  BsmtFinType2\n",
       "40            0.000266         Alley\n",
       "77            0.000320         Fence\n",
       "74            0.000357    GarageCond\n",
       "34            0.000421        YrSold\n",
       "21            0.000471  TotRmsAbvGrd\n",
       "17            0.000502      FullBath\n",
       "78            0.000507   MiscFeature\n",
       "0             0.000604   LotFrontage"
      ]
     },
     "execution_count": 67,
     "metadata": {},
     "output_type": "execute_result"
    }
   ],
   "source": [
    "ser = pd.DataFrame(xgbr.feature_importances_)\n",
    "ser.columns  =['feature_importance']\n",
    "ser['column_name'] = x_test.columns\n",
    "ser.sort_values('feature_importance',ascending=True).head(20)"
   ]
  },
  {
   "cell_type": "code",
   "execution_count": 68,
   "metadata": {},
   "outputs": [
    {
     "data": {
      "text/html": [
       "<div>\n",
       "<style scoped>\n",
       "    .dataframe tbody tr th:only-of-type {\n",
       "        vertical-align: middle;\n",
       "    }\n",
       "\n",
       "    .dataframe tbody tr th {\n",
       "        vertical-align: top;\n",
       "    }\n",
       "\n",
       "    .dataframe thead th {\n",
       "        text-align: right;\n",
       "    }\n",
       "</style>\n",
       "<table border=\"1\" class=\"dataframe\">\n",
       "  <thead>\n",
       "    <tr style=\"text-align: right;\">\n",
       "      <th></th>\n",
       "      <th>feature_importance</th>\n",
       "      <th>column_name</th>\n",
       "    </tr>\n",
       "  </thead>\n",
       "  <tbody>\n",
       "    <tr>\n",
       "      <th>2</th>\n",
       "      <td>0.391704</td>\n",
       "      <td>OverallQual</td>\n",
       "    </tr>\n",
       "    <tr>\n",
       "      <th>46</th>\n",
       "      <td>0.128850</td>\n",
       "      <td>Neighborhood</td>\n",
       "    </tr>\n",
       "    <tr>\n",
       "      <th>24</th>\n",
       "      <td>0.080949</td>\n",
       "      <td>GarageCars</td>\n",
       "    </tr>\n",
       "    <tr>\n",
       "      <th>59</th>\n",
       "      <td>0.064212</td>\n",
       "      <td>BsmtQual</td>\n",
       "    </tr>\n",
       "    <tr>\n",
       "      <th>14</th>\n",
       "      <td>0.046078</td>\n",
       "      <td>GrLivArea</td>\n",
       "    </tr>\n",
       "    <tr>\n",
       "      <th>68</th>\n",
       "      <td>0.038338</td>\n",
       "      <td>KitchenQual</td>\n",
       "    </tr>\n",
       "    <tr>\n",
       "      <th>31</th>\n",
       "      <td>0.023444</td>\n",
       "      <td>PoolArea</td>\n",
       "    </tr>\n",
       "    <tr>\n",
       "      <th>7</th>\n",
       "      <td>0.020478</td>\n",
       "      <td>BsmtFinSF1</td>\n",
       "    </tr>\n",
       "    <tr>\n",
       "      <th>70</th>\n",
       "      <td>0.020132</td>\n",
       "      <td>FireplaceQu</td>\n",
       "    </tr>\n",
       "    <tr>\n",
       "      <th>11</th>\n",
       "      <td>0.019833</td>\n",
       "      <td>1stFlrSF</td>\n",
       "    </tr>\n",
       "    <tr>\n",
       "      <th>72</th>\n",
       "      <td>0.013837</td>\n",
       "      <td>GarageFinish</td>\n",
       "    </tr>\n",
       "    <tr>\n",
       "      <th>45</th>\n",
       "      <td>0.012503</td>\n",
       "      <td>LandSlope</td>\n",
       "    </tr>\n",
       "    <tr>\n",
       "      <th>12</th>\n",
       "      <td>0.008551</td>\n",
       "      <td>2ndFlrSF</td>\n",
       "    </tr>\n",
       "    <tr>\n",
       "      <th>43</th>\n",
       "      <td>0.007812</td>\n",
       "      <td>Utilities</td>\n",
       "    </tr>\n",
       "    <tr>\n",
       "      <th>66</th>\n",
       "      <td>0.007730</td>\n",
       "      <td>CentralAir</td>\n",
       "    </tr>\n",
       "    <tr>\n",
       "      <th>75</th>\n",
       "      <td>0.006408</td>\n",
       "      <td>PavedDrive</td>\n",
       "    </tr>\n",
       "    <tr>\n",
       "      <th>42</th>\n",
       "      <td>0.005509</td>\n",
       "      <td>LandContour</td>\n",
       "    </tr>\n",
       "    <tr>\n",
       "      <th>10</th>\n",
       "      <td>0.005033</td>\n",
       "      <td>TotalBsmtSF</td>\n",
       "    </tr>\n",
       "    <tr>\n",
       "      <th>37</th>\n",
       "      <td>0.005026</td>\n",
       "      <td>MSSubClass</td>\n",
       "    </tr>\n",
       "    <tr>\n",
       "      <th>61</th>\n",
       "      <td>0.004922</td>\n",
       "      <td>BsmtExposure</td>\n",
       "    </tr>\n",
       "  </tbody>\n",
       "</table>\n",
       "</div>"
      ],
      "text/plain": [
       "    feature_importance   column_name\n",
       "2             0.391704   OverallQual\n",
       "46            0.128850  Neighborhood\n",
       "24            0.080949    GarageCars\n",
       "59            0.064212      BsmtQual\n",
       "14            0.046078     GrLivArea\n",
       "68            0.038338   KitchenQual\n",
       "31            0.023444      PoolArea\n",
       "7             0.020478    BsmtFinSF1\n",
       "70            0.020132   FireplaceQu\n",
       "11            0.019833      1stFlrSF\n",
       "72            0.013837  GarageFinish\n",
       "45            0.012503     LandSlope\n",
       "12            0.008551      2ndFlrSF\n",
       "43            0.007812     Utilities\n",
       "66            0.007730    CentralAir\n",
       "75            0.006408    PavedDrive\n",
       "42            0.005509   LandContour\n",
       "10            0.005033   TotalBsmtSF\n",
       "37            0.005026    MSSubClass\n",
       "61            0.004922  BsmtExposure"
      ]
     },
     "execution_count": 68,
     "metadata": {},
     "output_type": "execute_result"
    }
   ],
   "source": [
    "ser.sort_values('feature_importance',ascending=False).head(20)"
   ]
  },
  {
   "cell_type": "code",
   "execution_count": null,
   "metadata": {},
   "outputs": [],
   "source": []
  }
 ],
 "metadata": {
  "kernelspec": {
   "display_name": "Python 3",
   "language": "python",
   "name": "python3"
  },
  "language_info": {
   "codemirror_mode": {
    "name": "ipython",
    "version": 3
   },
   "file_extension": ".py",
   "mimetype": "text/x-python",
   "name": "python",
   "nbconvert_exporter": "python",
   "pygments_lexer": "ipython3",
   "version": "3.8.3"
  }
 },
 "nbformat": 4,
 "nbformat_minor": 4
}
